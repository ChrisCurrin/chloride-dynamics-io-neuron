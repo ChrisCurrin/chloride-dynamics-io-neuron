{
 "cells": [
  {
   "cell_type": "markdown",
   "metadata": {},
   "source": [
    "# Chloride dynamics alter the input-output properties of neurons"
   ]
  },
  {
   "cell_type": "markdown",
   "metadata": {},
   "source": [
    "## imports and settings"
   ]
  },
  {
   "cell_type": "code",
   "execution_count": null,
   "metadata": {},
   "outputs": [],
   "source": [
    "import numpy as np\n",
    "import matplotlib.pyplot as plt\n",
    "import seaborn as sns\n",
    "\n",
    "from src.config import shared\n",
    "from neuron import h\n",
    "\n",
    "shared.INIT_NEURON(reinit=True)"
   ]
  },
  {
   "cell_type": "markdown",
   "metadata": {},
   "source": [
    "# Figure 2"
   ]
  },
  {
   "cell_type": "code",
   "execution_count": null,
   "metadata": {},
   "outputs": [],
   "source": [
    "from src.traces import figure_cli_distribution, figure_cli_heatmaps, figure_v_traces\n",
    "# options\n",
    "_distal_balanced_synapses = [(200, 30), (220, 90), (230, 140), (240, 200), (250, 260), (250, 300), (260, 400),\n",
    "                             (270, 500), (280, 600), (290, 700), (300, 800)]\n",
    "_proximal_balanced_synapses = [(260, 30), (290, 60), (330, 90), (370, 120), (430, 150), (490, 180), (530, 210),\n",
    "                               (600, 240), (660, 270), (720, 300), (780, 330)]\n",
    "# chosen\n",
    "distal_balanced_synapses = [(200, 30), (230, 140), (250, 300), (270, 500), (300, 800)]\n",
    "proximal_balanced_synapses = [(260, 30), (290, 60), (330, 90), (490, 180), (780, 330)]\n",
    "mid_d = len(distal_balanced_synapses)//2\n",
    "mid_p = len(proximal_balanced_synapses)//2\n",
    "distal = [distal_balanced_synapses[0], distal_balanced_synapses[mid_d], distal_balanced_synapses[-1]]\n",
    "proximal = [proximal_balanced_synapses[0], proximal_balanced_synapses[mid_p], proximal_balanced_synapses[-1]]\n"
   ]
  },
  {
   "cell_type": "markdown",
   "metadata": {},
   "source": [
    "## Shape plot for $[Cl^-]_i$ along neuron (Figure 2A, 2D)"
   ]
  },
  {
   "cell_type": "code",
   "execution_count": null,
   "metadata": {},
   "outputs": [],
   "source": [
    "figure_cli_distribution(distal[1], proximal[1])"
   ]
  },
  {
   "cell_type": "markdown",
   "metadata": {},
   "source": [
    "## Heatmaps for output firing rate given 5 Hz balanced input\n",
    "vary:\n",
    "- number of $GABA_A$ synapses\n",
    "- number of $NMDA+AMPA$ synapses\n",
    "\n",
    "> if firing rate is above 15, skip further trials for this E:I combo and for larger E values (same I)\n",
    "\n",
    "\n"
   ]
  },
  {
   "cell_type": "code",
   "execution_count": null,
   "metadata": {},
   "outputs": [],
   "source": [
    "from src.balanced_heatmap import run_NEURON, run_analysis"
   ]
  },
  {
   "cell_type": "code",
   "execution_count": null,
   "metadata": {},
   "outputs": [],
   "source": [
    "# A geometric increase heatmap doesn't really work for a heatmap, which expects categorical data (pcolormesh is more suitable). \n",
    "geom_range = np.append(np.geomspace(10,100,2, dtype=int, endpoint=False), np.geomspace(100,1000,11, dtype=int))\n",
    "# Use a consistent step for the heatmap.\n",
    "exc_syn_list = inh_syn_list = np.arange(100, 600, 100) # narrow range\n",
    "# default (from paper) is exc_syn_list = inh_syn_list = np.arange(0, 800 + 10, 10)\n",
    "exc_syn_list"
   ]
  },
  {
   "cell_type": "code",
   "execution_count": null,
   "metadata": {},
   "outputs": [],
   "source": [
    "result_files = run_NEURON(exc_syn_list=exc_syn_list, inh_syn_list=inh_syn_list, num_runs=2, max_num_runs=5)"
   ]
  },
  {
   "cell_type": "code",
   "execution_count": null,
   "metadata": {},
   "outputs": [],
   "source": [
    "run_analysis(result_files)"
   ]
  },
  {
   "cell_type": "markdown",
   "metadata": {},
   "source": [
    "![](results_balanced_heatmap/distal_KCC2_detail.png)\n",
    "![](results_balanced_heatmap/proximal_KCC2_detail.png)"
   ]
  },
  {
   "cell_type": "markdown",
   "metadata": {},
   "source": [
    "## Heatmaps for $[Cl^-]_i$ at different input frequencies (Figure 2C, 2F)"
   ]
  },
  {
   "cell_type": "code",
   "execution_count": null,
   "metadata": {},
   "outputs": [],
   "source": [
    "figure_cli_heatmaps(distal, proximal, show_fr=True, savefig=True)"
   ]
  },
  {
   "cell_type": "markdown",
   "metadata": {},
   "source": []
  },
  {
   "cell_type": "markdown",
   "metadata": {},
   "source": [
    "### Voltage traces for 5 Hz balanced input (Dynamic $Cl^-$)"
   ]
  },
  {
   "cell_type": "code",
   "execution_count": null,
   "metadata": {},
   "outputs": [],
   "source": [
    "figure_v_traces(inh_region=\"distal\", synapse_numbers=distal, \n",
    "                hz={'in': 5, 'ex': 5}, show_cli=True)\n",
    "figure_v_traces(inh_region=\"proximal\", synapse_numbers=proximal, \n",
    "                hz={'in': 5, 'ex': 5}, show_cli=True)"
   ]
  },
  {
   "cell_type": "code",
   "execution_count": null,
   "metadata": {},
   "outputs": [],
   "source": []
  },
  {
   "cell_type": "markdown",
   "metadata": {},
   "source": [
    "# Figure 3 "
   ]
  },
  {
   "cell_type": "markdown",
   "metadata": {},
   "source": [
    "## Figure 3 voltage traces"
   ]
  },
  {
   "cell_type": "markdown",
   "metadata": {},
   "source": [
    "### Voltage traces for 20 Hz balanced input (Dynamic $Cl^-$)"
   ]
  },
  {
   "cell_type": "code",
   "execution_count": null,
   "metadata": {},
   "outputs": [],
   "source": [
    "from neuron import h\n",
    "figure_v_traces(inh_region=\"distal\", synapse_numbers=distal_balanced_synapses,\n",
    "                hz={'in': 20, 'ex': 20}, show_cli=True)\n",
    "figure_v_traces(inh_region=\"proximal\", synapse_numbers=proximal_balanced_synapses,\n",
    "                hz={'in': 20, 'ex': 20}, show_cli=True)"
   ]
  },
  {
   "cell_type": "markdown",
   "metadata": {},
   "source": [
    "### Voltage traces for 20 Hz balanced input (Static $Cl^-$)"
   ]
  },
  {
   "cell_type": "code",
   "execution_count": null,
   "metadata": {},
   "outputs": [],
   "source": [
    "# examples for static chloride\n",
    "figure_v_traces(inh_region=\"distal\", KCC2=False, synapse_numbers=distal_balanced_synapses,\n",
    "                hz={'in': 20, 'ex': 20})\n",
    "figure_v_traces(inh_region=\"proximal\", KCC2=False, synapse_numbers=proximal_balanced_synapses,\n",
    "                hz={'in': 20, 'ex': 20})"
   ]
  },
  {
   "cell_type": "markdown",
   "metadata": {},
   "source": [
    "# Figure 5"
   ]
  },
  {
   "cell_type": "code",
   "execution_count": null,
   "metadata": {},
   "outputs": [],
   "source": [
    "ifr_windowsize = 0.02  # in seconds\n",
    "time_points = [int(ifr_windowsize*1000), 100, 500, 1000, 10000]\n",
    "save_formats = ['png', 'eps']\n",
    "common_args = dict(file_name=\"distal\",\n",
    "                   plot=False,\n",
    "                   ifr_windowsize=ifr_windowsize,\n",
    "                   synapse_type=1,  # 1 for persistent\n",
    "                   synapse_numbers=(100, 100),\n",
    "                   diam={'ldend': 1},\n",
    "                   trials=1,\n",
    "                   save=True)\n",
    "static_runs, kcc2_runs = run_dynamic(0, 20, 0, 20, mid='half', fr_diff=10, **common_args)\n",
    "static_runs_keys = static_runs.keys()\n",
    "static_runs_keys = []\n",
    "for static_name in static_runs_keys:\n",
    "    file_name = \"{save_location}traces_{result_name}.{format}\".format(save_location=save_location,\n",
    "                                                                      result_name=static_name, format=\"eps\")\n",
    "    if os.path.exists(file_name):\n",
    "        continue\n",
    "    static_run = static_runs[static_name]\n",
    "    underscore = static_name.find(\"_\")\n",
    "    kcc2_run = kcc2_runs[static_name[:underscore] + \"_KCC2\" + static_name[underscore:]]\n",
    "    f, axes = plot_compare_dcl(static_name, (static_run, kcc2_run),\n",
    "                               ifr_windowsize=ifr_windowsize, combine=False, time_points=time_points)\n",
    "    f.savefig(file_name)\n",
    "\n",
    "f, axes = io_curve([static_runs, kcc2_runs], ifr_windowsize=ifr_windowsize, combine=True, heatmap=True, fill=True,\n",
    "                   time_points=time_points, show_cli=True,\n",
    "                   save_args=dict(fig_name=\"dynamic\", formats=save_formats))"
   ]
  },
  {
   "cell_type": "markdown",
   "metadata": {},
   "source": [
    "## Figure 5 voltage trace\n",
    "- distal inhibition\n",
    "- persistent synapses (synapse type 1)"
   ]
  },
  {
   "cell_type": "code",
   "execution_count": null,
   "metadata": {},
   "outputs": [],
   "source": [
    "# trace for fig 5 heatmap\n",
    "vm, cli = figure_v_traces(inh_region=\"distal\", KCC2=True, show_cli=True, synapse_type=1,\n",
    "                          synapse_numbers=[(100, 100)]*10, hz={'in': 4, 'ex': 12},\n",
    "                          mean=False)\n"
   ]
  },
  {
   "cell_type": "markdown",
   "metadata": {},
   "source": [
    "# Figure 3, 4, & 6 were done as follows:\n",
    "1. run `python protocols.py <argument> <protocol>...`\n",
    "    \n",
    "    where `<argument>` is one of\n",
    "    - `balanced` **for Figure 3**\n",
    "    \n",
    "    - `synapses` **for Figure 4**\n",
    "    \n",
    "    - `persistence` **for Figure 6A** \n",
    "        \n",
    "        if `<protocol>` is provided, it can be any of\n",
    "        - `pkcc2_homo` - **Figure 6D**\n",
    "        - `duration` - **Figure 6D**\n",
    "        - `dynamic_K` - **Figure 6D**\n",
    "        - `pas` - **Figure 6D**\n",
    "        - `diam`    - **Figure 6C**\n",
    "        - `pkcc2`   - **Figure 6B**\n",
    "        - `pcl` - *from earlier version - untested*\n",
    "        - `cli` - *from earlier version - untested*\n",
    "        \n",
    "    \n",
    "1. analysis using `ioAnalysis.m` (sorry)\n",
    "    \n",
    "    see `ioAnalysis` function for more details\n",
    "    \n",
    "**Figure 3A & B** input-output curves can also be plotted using python with the `balanced_iocurves.py` file"
   ]
  },
  {
   "cell_type": "code",
   "execution_count": null,
   "metadata": {},
   "outputs": [],
   "source": []
  }
 ],
 "metadata": {
  "kernelspec": {
   "display_name": "chloride-dynamics-io-neuron",
   "language": "python",
   "name": "chloride-dynamics-io-neuron"
  },
  "language_info": {
   "codemirror_mode": {
    "name": "ipython",
    "version": 3
   },
   "file_extension": ".py",
   "mimetype": "text/x-python",
   "name": "python",
   "nbconvert_exporter": "python",
   "pygments_lexer": "ipython3",
   "version": "3.6.10"
  }
 },
 "nbformat": 4,
 "nbformat_minor": 2
}
