{
 "cells": [
  {
   "cell_type": "markdown",
   "metadata": {},
   "source": [
    "# Chloride dynamics alter the input-output properties of neurons"
   ]
  },
  {
   "cell_type": "markdown",
   "metadata": {},
   "source": [
    "## imports and settings"
   ]
  },
  {
   "cell_type": "code",
   "execution_count": null,
   "metadata": {},
   "outputs": [],
   "source": [
    "import numpy as np\n",
    "import matplotlib.pyplot as plt\n",
    "import seaborn as sns\n",
    "\n",
    "from src.config import shared\n",
    "from neuron import h\n",
    "\n",
    "shared.INIT_NEURON(reinit=True)"
   ]
  },
  {
   "cell_type": "markdown",
   "metadata": {},
   "source": [
    "# Figure 2"
   ]
  },
  {
   "cell_type": "code",
   "execution_count": 1,
   "metadata": {},
   "outputs": [
    {
     "name": "stderr",
     "output_type": "stream",
     "text": [
      "05-07 15:29:26 settings   [settings.py:  75] DEBUG    \t imported style C:\\Users\\Chris\\dev\\chloride-dynamics-io-neuron\\src\\config\\article.mplstyle\n"
     ]
    },
    {
     "name": "stdout",
     "output_type": "stream",
     "text": [
      "\t1 \n",
      "\t1 \n",
      "\t0 \n",
      "******************************************************************************\n",
      "                         'usefulFns.hoc' loaded!                              \n",
      "******************************************************************************\n"
     ]
    },
    {
     "name": "stderr",
     "output_type": "stream",
     "text": [
      "05-07 15:29:26 shared     [shared.py :  59] INFO     \t celsius=37.0 and v_init=-65.0\n"
     ]
    }
   ],
   "source": [
    "from src.traces import figure_cli_distribution, figure_cli_heatmaps, figure_v_traces\n",
    "# options\n",
    "_distal_balanced_synapses = [(200, 30), (220, 90), (230, 140), (240, 200), (250, 260), (250, 300), (260, 400),\n",
    "                             (270, 500), (280, 600), (290, 700), (300, 800)]\n",
    "_proximal_balanced_synapses = [(260, 30), (290, 60), (330, 90), (370, 120), (430, 150), (490, 180), (530, 210),\n",
    "                               (600, 240), (660, 270), (720, 300), (780, 330)]\n",
    "# chosen\n",
    "distal_balanced_synapses = [(200, 30), (230, 140), (250, 300), (270, 500), (300, 800)]\n",
    "proximal_balanced_synapses = [(260, 30), (290, 60), (330, 90), (490, 180), (780, 330)]\n",
    "mid_d = len(distal_balanced_synapses)//2\n",
    "mid_p = len(proximal_balanced_synapses)//2\n",
    "distal = [distal_balanced_synapses[0], distal_balanced_synapses[mid_d], distal_balanced_synapses[-1]]\n",
    "proximal = [proximal_balanced_synapses[0], proximal_balanced_synapses[mid_p], proximal_balanced_synapses[-1]]\n"
   ]
  },
  {
   "cell_type": "markdown",
   "metadata": {},
   "source": [
    "## Shape plot for $[Cl^-]_i$ along neuron (Figure 2A, 2D)"
   ]
  },
  {
   "cell_type": "code",
   "execution_count": 4,
   "metadata": {},
   "outputs": [
    {
     "name": "stderr",
     "output_type": "stream",
     "text": [
      "05-07 12:11:12 trace      [traces.py : 237] INFO     \t figure_cli_distribution(syn_n_dist=(250, 300), syn_n_prox=(330, 90))\n",
      "05-07 12:11:13 nrnpy      [nrnpy.py  :  89] DEBUG    \t finding steady-state vm and cli for distal_KCC2\n"
     ]
    },
    {
     "name": "stdout",
     "output_type": "stream",
     "text": [
      "\t1 \n",
      "going with the default optimal weights...\n",
      "inhibWeight_config: 1 \n",
      "exciteWeight_config: 1 \n",
      "\t1 \n",
      "\t1 \n",
      "\t1 \n",
      "\t1 \n",
      "\t1 \n",
      "\t1 \n",
      "\t1 \n",
      "\t1 \n",
      "\t1 \n",
      "\t1 \n",
      "\t1 \n",
      "\t1 \n",
      "\t1 \n",
      "******************************************************************************\n",
      "                         'usefulFns.hoc' loaded!                              \n",
      "******************************************************************************\n",
      "\t1 \n",
      "\t1 \n",
      "\t1 \n",
      "InhDendDistalRatio:1 \t ExcDendDistalRatio:1\n",
      "\t44 \n",
      "ninhL:1 \t ninhB:0 \t nexcL:1 \t nexcB:0 \n",
      "\t39 \n",
      "1 distal inhibitory synapses of type GABAa[0]\n",
      "1 distal excitatory synapses of type ProbAMPANMDA3_RATIO[0]\n",
      "synapses loaded \n",
      "\t17 \n",
      "\t1 \n",
      "\t1 \n",
      "\t1 \n",
      "\t1 \n",
      "\t1 \n",
      "\t1 \n",
      "\t1 \n"
     ]
    },
    {
     "name": "stderr",
     "output_type": "stream",
     "text": [
      "05-07 12:11:13 nrnpy      [nrnpy.py  :  22] INFO     \t opened: distal_KCC2.hoc \t reloaded=True\n",
      "05-07 12:11:13 nrnpy      [nrnpy.py  : 137] INFO     \t steady state [Cl]_i 4.252750918384002\n",
      "05-07 12:11:13 nrnpy      [nrnpy.py  : 138] INFO     \t steady state Vm -71.0201910092589\n",
      "05-07 12:11:13 nrnpy      [nrnpy.py  : 139] INFO     \t took 50000 ms (simulation time)\n"
     ]
    },
    {
     "name": "stdout",
     "output_type": "stream",
     "text": [
      "\t1 \n",
      "\t1 \n",
      "\t1 \n",
      "\t1 \n",
      "\t1 \n",
      "\t1 \n",
      "\t1 \n",
      "\t1 \n",
      "\t1 \n",
      "\t1 \n",
      "\t1 \n",
      "\t1 \n",
      "\t1 \n",
      "InhDendDistalRatio:1 \t ExcDendDistalRatio:1\n",
      "\t44 \n",
      "ninhL:1 \t ninhB:0 \t nexcL:1 \t nexcB:0 \n",
      "\t39 \n",
      "1 distal inhibitory synapses of type GABAa[0]\n",
      "1 distal excitatory synapses of type ProbAMPANMDA3_RATIO[0]\n",
      "synapses loaded \n",
      "\t17 \n",
      "\t1 \n",
      "\t1 \n",
      "\t1 \n",
      "\t1 \n",
      "\t1 \n",
      "\t1 \n",
      "\t1 \n"
     ]
    },
    {
     "name": "stderr",
     "output_type": "stream",
     "text": [
      "05-07 12:11:13 nrnpy      [nrnpy.py  :  22] INFO     \t opened: distal_KCC2.hoc \t reloaded=True\n"
     ]
    },
    {
     "name": "stdout",
     "output_type": "stream",
     "text": [
      "persistentSynapses changed to 0\n",
      "\t1 \n",
      "InhDendDistalRatio:1 \t ExcDendDistalRatio:1\n",
      "\t44 \n",
      "ninhL:1 \t ninhB:0 \t nexcL:1 \t nexcB:0 \n",
      "\t39 \n",
      "1 distal inhibitory synapses of type GABAa[0]\n",
      "1 distal excitatory synapses of type ProbAMPANMDA3_RATIO[0]\n",
      "synapses loaded \n",
      "\t17 \n",
      "\t1 \n",
      "\t1 \n",
      "InhDendDistalRatio:1 \t ExcDendDistalRatio:1\n",
      "\t44 \n",
      "ninhL:300 \t ninhB:0 \t nexcL:250 \t nexcB:0 \n",
      "\t43 \n",
      "300 distal inhibitory synapses of type GABAa[0]\n",
      "250 distal excitatory synapses of type ProbAMPANMDA3_RATIO[0]\n",
      "synapses loaded \n",
      "\t17 \n",
      "\t1 \n"
     ]
    },
    {
     "name": "stderr",
     "output_type": "stream",
     "text": [
      "05-07 12:11:13 trace      [traces.py :  98] INFO     \t running distal_KCC2...\n",
      "05-07 12:11:30 trace      [traces.py : 110] INFO     \t time taken: 16339ms\n",
      "05-07 12:11:30 trace      [traces.py : 111] INFO     \t no. spikes = 0.0\n"
     ]
    },
    {
     "name": "stdout",
     "output_type": "stream",
     "text": [
      "\t1 \n",
      "\t1 \n",
      "\t1 \n",
      "\t1 \n",
      "\t1 \n",
      "\t1 \n",
      "\t1 \n",
      "\t1 \n",
      "\t1 \n",
      "\t1 \n",
      "\t1 \n",
      "\t1 \n",
      "\t1 \n",
      "InhDendDistalRatio:1 \t ExcDendDistalRatio:1\n",
      "\t44 \n",
      "ninhL:300 \t ninhB:0 \t nexcL:250 \t nexcB:0 \n",
      "\t43 \n",
      "300 distal inhibitory synapses of type GABAa[0]\n",
      "250 distal excitatory synapses of type ProbAMPANMDA3_RATIO[0]\n",
      "synapses loaded \n",
      "\t17 \n",
      "\t1 \n",
      "\t1 \n",
      "\t1 \n",
      "\t1 \n",
      "\t1 \n",
      "\t1 \n",
      "\t1 \n"
     ]
    },
    {
     "name": "stderr",
     "output_type": "stream",
     "text": [
      "05-07 12:11:30 nrnpy      [nrnpy.py  :  22] INFO     \t opened: distal_KCC2.hoc \t reloaded=True\n"
     ]
    },
    {
     "name": "stdout",
     "output_type": "stream",
     "text": [
      "persistentSynapses changed to 0\n",
      "\t1 \n",
      "InhDendDistalRatio:1 \t ExcDendDistalRatio:1\n",
      "\t44 \n",
      "ninhL:300 \t ninhB:0 \t nexcL:250 \t nexcB:0 \n",
      "\t43 \n",
      "300 distal inhibitory synapses of type GABAa[0]\n",
      "250 distal excitatory synapses of type ProbAMPANMDA3_RATIO[0]\n",
      "synapses loaded \n",
      "\t17 \n",
      "\t1 \n",
      "\t1 \n",
      "InhDendDistalRatio:1 \t ExcDendDistalRatio:1\n",
      "\t44 \n",
      "ninhL:300 \t ninhB:0 \t nexcL:250 \t nexcB:0 \n",
      "\t43 \n",
      "300 distal inhibitory synapses of type GABAa[0]\n",
      "250 distal excitatory synapses of type ProbAMPANMDA3_RATIO[0]\n",
      "synapses loaded \n",
      "\t17 \n",
      "\t1 \n"
     ]
    },
    {
     "name": "stderr",
     "output_type": "stream",
     "text": [
      "05-07 12:11:30 trace      [traces.py :  98] INFO     \t running distal_KCC2...\n",
      "05-07 12:11:45 trace      [traces.py : 110] INFO     \t time taken: 15303ms\n",
      "05-07 12:11:45 trace      [traces.py : 111] INFO     \t no. spikes = 15.0\n"
     ]
    },
    {
     "name": "stdout",
     "output_type": "stream",
     "text": [
      "\t1 \n",
      "\t1 \n",
      "\t1 \n",
      "\t1 \n",
      "\t1 \n",
      "\t1 \n",
      "\t1 \n",
      "\t1 \n",
      "\t1 \n",
      "\t1 \n",
      "\t1 \n",
      "\t1 \n",
      "\t1 \n",
      "InhDendDistalRatio:1 \t ExcDendDistalRatio:1\n",
      "\t44 \n",
      "ninhL:300 \t ninhB:0 \t nexcL:250 \t nexcB:0 \n",
      "\t43 \n",
      "300 distal inhibitory synapses of type GABAa[0]\n",
      "250 distal excitatory synapses of type ProbAMPANMDA3_RATIO[0]\n",
      "synapses loaded \n",
      "\t17 \n",
      "\t1 \n",
      "\t1 \n",
      "\t1 \n",
      "\t1 \n",
      "\t1 \n",
      "\t1 \n",
      "\t1 \n"
     ]
    },
    {
     "name": "stderr",
     "output_type": "stream",
     "text": [
      "05-07 12:11:46 nrnpy      [nrnpy.py  :  22] INFO     \t opened: distal_KCC2.hoc \t reloaded=True\n"
     ]
    },
    {
     "name": "stdout",
     "output_type": "stream",
     "text": [
      "persistentSynapses changed to 0\n",
      "\t1 \n",
      "InhDendDistalRatio:1 \t ExcDendDistalRatio:1\n",
      "\t44 \n",
      "ninhL:300 \t ninhB:0 \t nexcL:250 \t nexcB:0 \n",
      "\t43 \n",
      "300 distal inhibitory synapses of type GABAa[0]\n",
      "250 distal excitatory synapses of type ProbAMPANMDA3_RATIO[0]\n",
      "synapses loaded \n",
      "\t17 \n",
      "\t1 \n",
      "\t1 \n",
      "InhDendDistalRatio:1 \t ExcDendDistalRatio:1\n",
      "\t44 \n",
      "ninhL:300 \t ninhB:0 \t nexcL:250 \t nexcB:0 \n",
      "\t43 \n",
      "300 distal inhibitory synapses of type GABAa[0]\n",
      "250 distal excitatory synapses of type ProbAMPANMDA3_RATIO[0]\n",
      "synapses loaded \n",
      "\t17 \n",
      "\t1 \n"
     ]
    },
    {
     "name": "stderr",
     "output_type": "stream",
     "text": [
      "05-07 12:11:46 trace      [traces.py :  98] INFO     \t running distal_KCC2...\n",
      "05-07 12:12:01 trace      [traces.py : 110] INFO     \t time taken: 15352ms\n",
      "05-07 12:12:01 trace      [traces.py : 111] INFO     \t no. spikes = 5.0\n",
      "05-07 12:12:01 trace      [traces.py : 253] INFO     \t space plot distal_KCC2\n",
      "05-07 12:12:01 nrnpy      [nrnpy.py  :  89] DEBUG    \t finding steady-state vm and cli for proximal_KCC2\n"
     ]
    },
    {
     "name": "stdout",
     "output_type": "stream",
     "text": [
      "\t1 \n",
      "\t1 \n",
      "\t1 \n",
      "\t1 \n",
      "\t1 \n",
      "\t1 \n",
      "\t1 \n",
      "\t1 \n",
      "\t1 \n",
      "\t1 \n",
      "\t1 \n",
      "\t1 \n",
      "\t1 \n",
      "InhDendDistalRatio:0 \t ExcDendDistalRatio:1\n",
      "\t44 \n",
      "ninhL:0 \t ninhB:300 \t nexcL:250 \t nexcB:0 \n",
      "\t43 \n",
      "300 proximal inhibitory synapses of type GABAa[0]\n",
      "250 distal excitatory synapses of type ProbAMPANMDA3_RATIO[0]\n",
      "synapses loaded \n",
      "\t17 \n",
      "\t1 \n",
      "\t1 \n",
      "\t1 \n",
      "\t1 \n",
      "\t1 \n",
      "\t1 \n",
      "\t1 \n"
     ]
    },
    {
     "name": "stderr",
     "output_type": "stream",
     "text": [
      "05-07 12:12:01 nrnpy      [nrnpy.py  :  22] INFO     \t opened: proximal_KCC2.hoc \t reloaded=True\n",
      "05-07 12:12:01 nrnpy      [nrnpy.py  : 137] INFO     \t steady state [Cl]_i 4.253194938574926\n",
      "05-07 12:12:01 nrnpy      [nrnpy.py  : 138] INFO     \t steady state Vm -71.01900058972599\n",
      "05-07 12:12:01 nrnpy      [nrnpy.py  : 139] INFO     \t took 60000 ms (simulation time)\n"
     ]
    },
    {
     "name": "stdout",
     "output_type": "stream",
     "text": [
      "\t1 \n",
      "\t1 \n",
      "\t1 \n",
      "\t1 \n",
      "\t1 \n",
      "\t1 \n",
      "\t1 \n",
      "\t1 \n",
      "\t1 \n",
      "\t1 \n",
      "\t1 \n",
      "\t1 \n",
      "\t1 \n",
      "InhDendDistalRatio:0 \t ExcDendDistalRatio:1\n",
      "\t44 \n",
      "ninhL:0 \t ninhB:300 \t nexcL:250 \t nexcB:0 \n",
      "\t43 \n",
      "300 proximal inhibitory synapses of type GABAa[0]\n",
      "250 distal excitatory synapses of type ProbAMPANMDA3_RATIO[0]\n",
      "synapses loaded \n",
      "\t17 \n",
      "\t1 \n",
      "\t1 \n",
      "\t1 \n",
      "\t1 \n",
      "\t1 \n",
      "\t1 \n",
      "\t1 \n"
     ]
    },
    {
     "name": "stderr",
     "output_type": "stream",
     "text": [
      "05-07 12:12:01 nrnpy      [nrnpy.py  :  22] INFO     \t opened: proximal_KCC2.hoc \t reloaded=True\n"
     ]
    },
    {
     "name": "stdout",
     "output_type": "stream",
     "text": [
      "persistentSynapses changed to 0\n",
      "\t1 \n",
      "InhDendDistalRatio:0 \t ExcDendDistalRatio:1\n",
      "\t44 \n",
      "ninhL:0 \t ninhB:300 \t nexcL:250 \t nexcB:0 \n",
      "\t43 \n",
      "300 proximal inhibitory synapses of type GABAa[0]\n",
      "250 distal excitatory synapses of type ProbAMPANMDA3_RATIO[0]\n",
      "synapses loaded \n",
      "\t17 \n",
      "\t1 \n",
      "\t1 \n",
      "InhDendDistalRatio:0 \t ExcDendDistalRatio:1\n",
      "\t44 \n",
      "ninhL:0 \t ninhB:90 \t nexcL:330 \t nexcB:0 \n",
      "\t42 \n",
      "90 proximal inhibitory synapses of type GABAa[0]\n",
      "330 distal excitatory synapses of type ProbAMPANMDA3_RATIO[0]\n",
      "synapses loaded \n",
      "\t17 \n",
      "\t1 \n"
     ]
    },
    {
     "name": "stderr",
     "output_type": "stream",
     "text": [
      "05-07 12:12:02 trace      [traces.py :  98] INFO     \t running proximal_KCC2...\n",
      "05-07 12:12:15 trace      [traces.py : 110] INFO     \t time taken: 13963ms\n",
      "05-07 12:12:15 trace      [traces.py : 111] INFO     \t no. spikes = 0.0\n"
     ]
    },
    {
     "name": "stdout",
     "output_type": "stream",
     "text": [
      "\t1 \n",
      "\t1 \n",
      "\t1 \n",
      "\t1 \n",
      "\t1 \n",
      "\t1 \n",
      "\t1 \n",
      "\t1 \n",
      "\t1 \n",
      "\t1 \n",
      "\t1 \n",
      "\t1 \n",
      "\t1 \n",
      "InhDendDistalRatio:0 \t ExcDendDistalRatio:1\n",
      "\t44 \n",
      "ninhL:0 \t ninhB:90 \t nexcL:330 \t nexcB:0 \n",
      "\t42 \n",
      "90 proximal inhibitory synapses of type GABAa[0]\n",
      "330 distal excitatory synapses of type ProbAMPANMDA3_RATIO[0]\n",
      "synapses loaded \n",
      "\t17 \n",
      "\t1 \n",
      "\t1 \n",
      "\t1 \n",
      "\t1 \n",
      "\t1 \n",
      "\t1 \n",
      "\t1 \n"
     ]
    },
    {
     "name": "stderr",
     "output_type": "stream",
     "text": [
      "05-07 12:12:16 nrnpy      [nrnpy.py  :  22] INFO     \t opened: proximal_KCC2.hoc \t reloaded=True\n"
     ]
    },
    {
     "name": "stdout",
     "output_type": "stream",
     "text": [
      "persistentSynapses changed to 0\n",
      "\t1 \n",
      "InhDendDistalRatio:0 \t ExcDendDistalRatio:1\n",
      "\t44 \n",
      "ninhL:0 \t ninhB:90 \t nexcL:330 \t nexcB:0 \n",
      "\t42 \n",
      "90 proximal inhibitory synapses of type GABAa[0]\n",
      "330 distal excitatory synapses of type ProbAMPANMDA3_RATIO[0]\n",
      "synapses loaded \n",
      "\t17 \n",
      "\t1 \n",
      "\t1 \n",
      "InhDendDistalRatio:0 \t ExcDendDistalRatio:1\n",
      "\t44 \n",
      "ninhL:0 \t ninhB:90 \t nexcL:330 \t nexcB:0 \n",
      "\t42 \n",
      "90 proximal inhibitory synapses of type GABAa[0]\n",
      "330 distal excitatory synapses of type ProbAMPANMDA3_RATIO[0]\n",
      "synapses loaded \n",
      "\t17 \n",
      "\t1 \n"
     ]
    },
    {
     "name": "stderr",
     "output_type": "stream",
     "text": [
      "05-07 12:12:16 trace      [traces.py :  98] INFO     \t running proximal_KCC2...\n",
      "05-07 12:12:31 trace      [traces.py : 110] INFO     \t time taken: 14828ms\n",
      "05-07 12:12:31 trace      [traces.py : 111] INFO     \t no. spikes = 31.0\n"
     ]
    },
    {
     "name": "stdout",
     "output_type": "stream",
     "text": [
      "\t1 \n",
      "\t1 \n",
      "\t1 \n",
      "\t1 \n",
      "\t1 \n",
      "\t1 \n",
      "\t1 \n",
      "\t1 \n",
      "\t1 \n",
      "\t1 \n",
      "\t1 \n",
      "\t1 \n",
      "\t1 \n",
      "InhDendDistalRatio:0 \t ExcDendDistalRatio:1\n",
      "\t44 \n",
      "ninhL:0 \t ninhB:90 \t nexcL:330 \t nexcB:0 \n",
      "\t42 \n",
      "90 proximal inhibitory synapses of type GABAa[0]\n",
      "330 distal excitatory synapses of type ProbAMPANMDA3_RATIO[0]\n",
      "synapses loaded \n",
      "\t17 \n",
      "\t1 \n",
      "\t1 \n",
      "\t1 \n",
      "\t1 \n",
      "\t1 \n",
      "\t1 \n",
      "\t1 \n"
     ]
    },
    {
     "name": "stderr",
     "output_type": "stream",
     "text": [
      "05-07 12:12:31 nrnpy      [nrnpy.py  :  22] INFO     \t opened: proximal_KCC2.hoc \t reloaded=True\n"
     ]
    },
    {
     "name": "stdout",
     "output_type": "stream",
     "text": [
      "persistentSynapses changed to 0\n",
      "\t1 \n",
      "InhDendDistalRatio:0 \t ExcDendDistalRatio:1\n",
      "\t44 \n",
      "ninhL:0 \t ninhB:90 \t nexcL:330 \t nexcB:0 \n",
      "\t42 \n",
      "90 proximal inhibitory synapses of type GABAa[0]\n",
      "330 distal excitatory synapses of type ProbAMPANMDA3_RATIO[0]\n",
      "synapses loaded \n",
      "\t17 \n",
      "\t1 \n",
      "\t1 \n",
      "InhDendDistalRatio:0 \t ExcDendDistalRatio:1\n",
      "\t44 \n",
      "ninhL:0 \t ninhB:90 \t nexcL:330 \t nexcB:0 \n",
      "\t42 \n",
      "90 proximal inhibitory synapses of type GABAa[0]\n",
      "330 distal excitatory synapses of type ProbAMPANMDA3_RATIO[0]\n",
      "synapses loaded \n",
      "\t17 \n",
      "\t1 \n"
     ]
    },
    {
     "name": "stderr",
     "output_type": "stream",
     "text": [
      "05-07 12:12:31 trace      [traces.py :  98] INFO     \t running proximal_KCC2...\n",
      "05-07 12:12:46 trace      [traces.py : 110] INFO     \t time taken: 15058ms\n",
      "05-07 12:12:46 trace      [traces.py : 111] INFO     \t no. spikes = 4.0\n",
      "05-07 12:12:46 trace      [traces.py : 253] INFO     \t space plot proximal_KCC2\n"
     ]
    },
    {
     "data": {
      "image/png": "[encoded data removed]",
      "text/plain": [
       "<Figure size 1600x700 with 2 Axes>"
      ]
     },
     "metadata": {
      "needs_background": "light"
     },
     "output_type": "display_data"
    }
   ],
   "source": [
    "figure_cli_distribution(distal[1], proximal[1])"
   ]
  },
  {
   "cell_type": "markdown",
   "metadata": {},
   "source": [
    "## Heatmaps for output firing rate given 5 Hz balanced input\n",
    "vary:\n",
    "- number of $GABA_A$ synapses\n",
    "- number of $NMDA+AMPA$ synapses\n",
    "\n",
    "> if firing rate is above 15, skip further trials for this E:I combo and for larger E values (same I)\n",
    "\n",
    "\n"
   ]
  },
  {
   "cell_type": "code",
   "execution_count": 5,
   "metadata": {},
   "outputs": [],
   "source": [
    "from src.balanced_heatmap import run_NEURON, run_analysis"
   ]
  },
  {
   "cell_type": "code",
   "execution_count": 6,
   "metadata": {},
   "outputs": [
    {
     "data": {
      "text/plain": [
       "[0, 10, 21, 46, 100, 125, 158, 199, 251, 316, 398, 501, 630, 794, 1000]"
      ]
     },
     "execution_count": 6,
     "metadata": {},
     "output_type": "execute_result"
    }
   ],
   "source": [
    "# A geometric increase heatmap doesn't really work for a heatmap, which expects categorical data (pcolormesh is more suitable). \n",
    "geom_range = np.append(np.geomspace(10,100,2, dtype=int, endpoint=False), np.geomspace(100,1000,11, dtype=int))\n",
    "# Use a consistent step for the heatmap.\n",
    "exc_syn_list = inh_syn_list = np.arange(100, 600, 100) # narrow range\n",
    "# default (from paper) is exc_syn_list = inh_syn_list = np.arange(0, 800 + 10, 10)\n",
    "exc_syn_list"
   ]
  },
  {
   "cell_type": "code",
   "execution_count": 7,
   "metadata": {},
   "outputs": [
    {
     "name": "stderr",
     "output_type": "stream",
     "text": [
      "05-07 12:21:27 io heatmap [balanced_heatmap.py:  66] INFO     \t ====================results_balanced_heatmap\\distal_KCC2.txt====================\n",
      "05-07 12:21:27 io heatmap [balanced_heatmap.py:  70] INFO     \t best weights = E:1, I:1\n"
     ]
    },
    {
     "name": "stdout",
     "output_type": "stream",
     "text": [
      "\t1 \n",
      "\t1 \n",
      "\t1 \n",
      "\t1 \n",
      "\t1 \n",
      "\t1 \n",
      "\t1 \n",
      "\t1 \n",
      "\t1 \n",
      "\t1 \n",
      "\t1 \n",
      "\t1 \n",
      "\t1 \n",
      "InhDendDistalRatio:1 \t ExcDendDistalRatio:1\n",
      "\t44 \n",
      "ninhL:90 \t ninhB:0 \t nexcL:330 \t nexcB:0 \n",
      "\t42 \n",
      "90 distal inhibitory synapses of type GABAa[0]\n",
      "330 distal excitatory synapses of type ProbAMPANMDA3_RATIO[0]\n",
      "synapses loaded \n",
      "\t17 \n",
      "\t1 \n",
      "\t1 \n",
      "\t1 \n",
      "\t1 \n",
      "\t1 \n",
      "\t1 \n",
      "\t1 \n"
     ]
    },
    {
     "name": "stderr",
     "output_type": "stream",
     "text": [
      "05-07 12:21:27 nrnpy      [nrnpy.py  :  22] INFO     \t opened: distal_KCC2.hoc \t reloaded=True\n"
     ]
    },
    {
     "name": "stdout",
     "output_type": "stream",
     "text": [
      "\t1 \n",
      "\t1 \n",
      "\t1 \n",
      "\t1 \n",
      "\t1 \n",
      "\t1 \n",
      "\t1 \n",
      "\t1 \n",
      "\t1 \n",
      "\t1 \n",
      "\t1 \n",
      "\t1 \n",
      "\t1 \n",
      "InhDendDistalRatio:1 \t ExcDendDistalRatio:1\n",
      "\t44 \n",
      "ninhL:90 \t ninhB:0 \t nexcL:330 \t nexcB:0 \n",
      "\t42 \n",
      "90 distal inhibitory synapses of type GABAa[0]\n",
      "330 distal excitatory synapses of type ProbAMPANMDA3_RATIO[0]\n",
      "synapses loaded \n",
      "\t17 \n",
      "\t1 \n",
      "\t1 \n",
      "\t1 \n",
      "\t1 \n",
      "\t1 \n",
      "\t1 \n",
      "\t1 \n"
     ]
    },
    {
     "name": "stderr",
     "output_type": "stream",
     "text": [
      "05-07 12:21:28 nrnpy      [nrnpy.py  :  22] INFO     \t opened: distal_KCC2.hoc \t reloaded=True\n",
      "05-07 12:21:28 balanced input [synapses_weights.py:  59] INFO     \t exc_syn: 0 (1)\t inh_syn: 0 (1)\n",
      "\n"
     ]
    },
    {
     "name": "stdout",
     "output_type": "stream",
     "text": [
      "1 excitatory synapse\n",
      "1 inhibitory synapse\n",
      "\t1 \n",
      "InhDendDistalRatio:1 \t ExcDendDistalRatio:1\n",
      "\t44 \n",
      "ninhL:1 \t ninhB:0 \t nexcL:1 \t nexcB:0 \n",
      "\t39 \n",
      "1 distal inhibitory synapses of type GABAa[0]\n",
      "1 distal excitatory synapses of type ProbAMPANMDA3_RATIO[0]\n",
      "synapses loaded \n",
      "\t17 \n",
      "\t1 \n"
     ]
    },
    {
     "name": "stderr",
     "output_type": "stream",
     "text": [
      "05-07 12:21:28 balanced input [synapses_weights.py:  79] INFO     \t \t spikes 0.0\n",
      "05-07 12:21:28 balanced input [synapses_weights.py:  83] INFO     \t break from too many 0's\n",
      "05-07 12:21:28 balanced input [synapses_weights.py:  97] INFO     \t 0.0 +- 0.0 (n=1)\n",
      "\n",
      "05-07 12:21:28 balanced input [synapses_weights.py:  59] INFO     \t exc_syn: 10 (1)\t inh_syn: 0 (1)\n",
      "\n"
     ]
    },
    {
     "name": "stdout",
     "output_type": "stream",
     "text": [
      "1 inhibitory synapse\n",
      "\t1 \n",
      "InhDendDistalRatio:1 \t ExcDendDistalRatio:1\n",
      "\t44 \n",
      "ninhL:1 \t ninhB:0 \t nexcL:10 \t nexcB:0 \n",
      "\t40 \n",
      "1 distal inhibitory synapses of type GABAa[0]\n",
      "10 distal excitatory synapses of type ProbAMPANMDA3_RATIO[0]\n",
      "synapses loaded \n",
      "\t17 \n",
      "\t1 \n"
     ]
    },
    {
     "name": "stderr",
     "output_type": "stream",
     "text": [
      "05-07 12:21:29 balanced input [synapses_weights.py:  79] INFO     \t \t spikes 0.0\n",
      "05-07 12:21:29 balanced input [synapses_weights.py:  83] INFO     \t break from too many 0's\n",
      "05-07 12:21:29 balanced input [synapses_weights.py:  97] INFO     \t 0.0 +- 0.0 (n=1)\n",
      "\n",
      "05-07 12:21:29 balanced input [synapses_weights.py:  59] INFO     \t exc_syn: 21 (1)\t inh_syn: 0 (1)\n",
      "\n"
     ]
    },
    {
     "name": "stdout",
     "output_type": "stream",
     "text": [
      "1 inhibitory synapse\n",
      "\t1 \n",
      "InhDendDistalRatio:1 \t ExcDendDistalRatio:1\n",
      "\t44 \n",
      "ninhL:1 \t ninhB:0 \t nexcL:21 \t nexcB:0 \n",
      "\t40 \n",
      "1 distal inhibitory synapses of type GABAa[0]\n",
      "21 distal excitatory synapses of type ProbAMPANMDA3_RATIO[0]\n",
      "synapses loaded \n",
      "\t17 \n",
      "\t1 \n"
     ]
    },
    {
     "name": "stderr",
     "output_type": "stream",
     "text": [
      "05-07 12:21:31 balanced input [synapses_weights.py:  79] INFO     \t \t spikes 0.0\n",
      "05-07 12:21:31 balanced input [synapses_weights.py:  83] INFO     \t break from too many 0's\n",
      "05-07 12:21:31 balanced input [synapses_weights.py:  97] INFO     \t 0.0 +- 0.0 (n=1)\n",
      "\n",
      "05-07 12:21:31 balanced input [synapses_weights.py:  59] INFO     \t exc_syn: 46 (1)\t inh_syn: 0 (1)\n",
      "\n"
     ]
    },
    {
     "name": "stdout",
     "output_type": "stream",
     "text": [
      "1 inhibitory synapse\n",
      "\t1 \n",
      "InhDendDistalRatio:1 \t ExcDendDistalRatio:1\n",
      "\t44 \n",
      "ninhL:1 \t ninhB:0 \t nexcL:46 \t nexcB:0 \n",
      "\t40 \n",
      "1 distal inhibitory synapses of type GABAa[0]\n",
      "46 distal excitatory synapses of type ProbAMPANMDA3_RATIO[0]\n",
      "synapses loaded \n",
      "\t17 \n",
      "\t1 \n"
     ]
    },
    {
     "name": "stderr",
     "output_type": "stream",
     "text": [
      "05-07 12:21:34 balanced input [synapses_weights.py:  79] INFO     \t \t spikes 0.0\n",
      "05-07 12:21:34 balanced input [synapses_weights.py:  83] INFO     \t break from too many 0's\n",
      "05-07 12:21:34 balanced input [synapses_weights.py:  97] INFO     \t 0.0 +- 0.0 (n=1)\n",
      "\n",
      "05-07 12:21:34 balanced input [synapses_weights.py:  59] INFO     \t exc_syn: 100 (1)\t inh_syn: 0 (1)\n",
      "\n"
     ]
    },
    {
     "name": "stdout",
     "output_type": "stream",
     "text": [
      "1 inhibitory synapse\n",
      "\t1 \n",
      "InhDendDistalRatio:1 \t ExcDendDistalRatio:1\n",
      "\t44 \n",
      "ninhL:1 \t ninhB:0 \t nexcL:100 \t nexcB:0 \n",
      "\t41 \n",
      "1 distal inhibitory synapses of type GABAa[0]\n",
      "100 distal excitatory synapses of type ProbAMPANMDA3_RATIO[0]\n",
      "synapses loaded \n",
      "\t17 \n",
      "\t1 \n"
     ]
    },
    {
     "name": "stderr",
     "output_type": "stream",
     "text": [
      "05-07 12:21:38 balanced input [synapses_weights.py:  79] INFO     \t \t spikes 1.0\n",
      "05-07 12:21:38 balanced input [synapses_weights.py:  97] INFO     \t 1.0 +- 0.0 (n=1)\n",
      "\n",
      "05-07 12:21:38 balanced input [synapses_weights.py:  59] INFO     \t exc_syn: 125 (1)\t inh_syn: 0 (1)\n",
      "\n"
     ]
    },
    {
     "name": "stdout",
     "output_type": "stream",
     "text": [
      "1 inhibitory synapse\n",
      "\t1 \n",
      "InhDendDistalRatio:1 \t ExcDendDistalRatio:1\n",
      "\t44 \n",
      "ninhL:1 \t ninhB:0 \t nexcL:125 \t nexcB:0 \n",
      "\t41 \n",
      "1 distal inhibitory synapses of type GABAa[0]\n",
      "125 distal excitatory synapses of type ProbAMPANMDA3_RATIO[0]\n",
      "synapses loaded \n",
      "\t17 \n",
      "\t1 \n"
     ]
    },
    {
     "name": "stderr",
     "output_type": "stream",
     "text": [
      "05-07 12:21:45 balanced input [synapses_weights.py:  79] INFO     \t \t spikes 1.0\n",
      "05-07 12:21:45 balanced input [synapses_weights.py:  97] INFO     \t 1.0 +- 0.0 (n=1)\n",
      "\n",
      "05-07 12:21:45 balanced input [synapses_weights.py:  59] INFO     \t exc_syn: 158 (1)\t inh_syn: 0 (1)\n",
      "\n"
     ]
    },
    {
     "name": "stdout",
     "output_type": "stream",
     "text": [
      "1 inhibitory synapse\n",
      "\t1 \n",
      "InhDendDistalRatio:1 \t ExcDendDistalRatio:1\n",
      "\t44 \n",
      "ninhL:1 \t ninhB:0 \t nexcL:158 \t nexcB:0 \n",
      "\t41 \n",
      "1 distal inhibitory synapses of type GABAa[0]\n",
      "158 distal excitatory synapses of type ProbAMPANMDA3_RATIO[0]\n",
      "synapses loaded \n",
      "\t17 \n",
      "\t1 \n"
     ]
    },
    {
     "name": "stderr",
     "output_type": "stream",
     "text": [
      "05-07 12:21:52 balanced input [synapses_weights.py:  79] INFO     \t \t spikes 2.0\n",
      "05-07 12:21:52 balanced input [synapses_weights.py:  97] INFO     \t 2.0 +- 0.0 (n=1)\n",
      "\n",
      "05-07 12:21:52 balanced input [synapses_weights.py:  59] INFO     \t exc_syn: 199 (1)\t inh_syn: 0 (1)\n",
      "\n"
     ]
    },
    {
     "name": "stdout",
     "output_type": "stream",
     "text": [
      "1 inhibitory synapse\n",
      "\t1 \n",
      "InhDendDistalRatio:1 \t ExcDendDistalRatio:1\n",
      "\t44 \n",
      "ninhL:1 \t ninhB:0 \t nexcL:199 \t nexcB:0 \n",
      "\t41 \n",
      "1 distal inhibitory synapses of type GABAa[0]\n",
      "199 distal excitatory synapses of type ProbAMPANMDA3_RATIO[0]\n",
      "synapses loaded \n",
      "\t17 \n",
      "\t1 \n"
     ]
    },
    {
     "name": "stderr",
     "output_type": "stream",
     "text": [
      "05-07 12:22:01 balanced input [synapses_weights.py:  79] INFO     \t \t spikes 4.0\n",
      "05-07 12:22:01 balanced input [synapses_weights.py:  97] INFO     \t 4.0 +- 0.0 (n=1)\n",
      "\n",
      "05-07 12:22:01 balanced input [synapses_weights.py:  59] INFO     \t exc_syn: 251 (1)\t inh_syn: 0 (1)\n",
      "\n"
     ]
    },
    {
     "name": "stdout",
     "output_type": "stream",
     "text": [
      "1 inhibitory synapse\n",
      "\t1 \n",
      "InhDendDistalRatio:1 \t ExcDendDistalRatio:1\n",
      "\t44 \n",
      "ninhL:1 \t ninhB:0 \t nexcL:251 \t nexcB:0 \n",
      "\t41 \n",
      "1 distal inhibitory synapses of type GABAa[0]\n",
      "251 distal excitatory synapses of type ProbAMPANMDA3_RATIO[0]\n",
      "synapses loaded \n",
      "\t17 \n",
      "\t1 \n"
     ]
    },
    {
     "name": "stderr",
     "output_type": "stream",
     "text": [
      "05-07 12:22:15 balanced input [synapses_weights.py:  79] INFO     \t \t spikes 13.0\n",
      "05-07 12:22:15 balanced input [synapses_weights.py:  97] INFO     \t 13.0 +- 0.0 (n=1)\n",
      "\n",
      "05-07 12:22:15 balanced input [synapses_weights.py:  59] INFO     \t exc_syn: 316 (1)\t inh_syn: 0 (1)\n",
      "\n"
     ]
    },
    {
     "name": "stdout",
     "output_type": "stream",
     "text": [
      "1 inhibitory synapse\n",
      "\t1 \n",
      "InhDendDistalRatio:1 \t ExcDendDistalRatio:1\n",
      "\t44 \n",
      "ninhL:1 \t ninhB:0 \t nexcL:316 \t nexcB:0 \n",
      "\t41 \n",
      "1 distal inhibitory synapses of type GABAa[0]\n",
      "316 distal excitatory synapses of type ProbAMPANMDA3_RATIO[0]\n",
      "synapses loaded \n",
      "\t17 \n",
      "\t1 \n"
     ]
    },
    {
     "name": "stderr",
     "output_type": "stream",
     "text": [
      "05-07 12:22:40 balanced input [synapses_weights.py:  79] INFO     \t \t spikes 30.0\n",
      "05-07 12:22:40 balanced input [synapses_weights.py:  90] INFO     \t break from above 15\n",
      "05-07 12:22:40 balanced input [synapses_weights.py:  97] INFO     \t 30.0 +- 0.0 (n=1)\n",
      "\n",
      "05-07 12:22:40 balanced input [synapses_weights.py:  59] INFO     \t exc_syn: 398 (1)\t inh_syn: 0 (1)\n",
      "\n",
      "05-07 12:22:40 balanced input [synapses_weights.py:  64] INFO     \t 16 +- 0 (n=0)\n",
      "\n",
      "05-07 12:22:40 balanced input [synapses_weights.py:  59] INFO     \t exc_syn: 501 (1)\t inh_syn: 0 (1)\n",
      "\n",
      "05-07 12:22:40 balanced input [synapses_weights.py:  64] INFO     \t 16 +- 0 (n=0)\n",
      "\n",
      "05-07 12:22:40 balanced input [synapses_weights.py:  59] INFO     \t exc_syn: 630 (1)\t inh_syn: 0 (1)\n",
      "\n",
      "05-07 12:22:40 balanced input [synapses_weights.py:  64] INFO     \t 16 +- 0 (n=0)\n",
      "\n",
      "05-07 12:22:40 balanced input [synapses_weights.py:  59] INFO     \t exc_syn: 794 (1)\t inh_syn: 0 (1)\n",
      "\n",
      "05-07 12:22:40 balanced input [synapses_weights.py:  64] INFO     \t 16 +- 0 (n=0)\n",
      "\n",
      "05-07 12:22:40 balanced input [synapses_weights.py:  59] INFO     \t exc_syn: 1000 (1)\t inh_syn: 0 (1)\n",
      "\n",
      "05-07 12:22:40 balanced input [synapses_weights.py:  64] INFO     \t 16 +- 0 (n=0)\n",
      "\n",
      "05-07 12:22:40 balanced input [synapses_weights.py:  59] INFO     \t exc_syn: 0 (1)\t inh_syn: 10 (1)\n",
      "\n"
     ]
    },
    {
     "name": "stdout",
     "output_type": "stream",
     "text": [
      "1 excitatory synapse\n",
      "\t1 \n",
      "InhDendDistalRatio:1 \t ExcDendDistalRatio:1\n",
      "\t44 \n",
      "ninhL:10 \t ninhB:0 \t nexcL:1 \t nexcB:0 \n",
      "\t40 \n",
      "10 distal inhibitory synapses of type GABAa[0]\n",
      "1 distal excitatory synapses of type ProbAMPANMDA3_RATIO[0]\n",
      "synapses loaded \n",
      "\t17 \n",
      "\t1 \n"
     ]
    },
    {
     "name": "stderr",
     "output_type": "stream",
     "text": [
      "05-07 12:22:41 balanced input [synapses_weights.py:  79] INFO     \t \t spikes 0.0\n",
      "05-07 12:22:41 balanced input [synapses_weights.py:  83] INFO     \t break from too many 0's\n",
      "05-07 12:22:41 balanced input [synapses_weights.py:  97] INFO     \t 0.0 +- 0.0 (n=1)\n",
      "\n",
      "05-07 12:22:41 balanced input [synapses_weights.py:  59] INFO     \t exc_syn: 10 (1)\t inh_syn: 10 (1)\n",
      "\n"
     ]
    },
    {
     "name": "stdout",
     "output_type": "stream",
     "text": [
      "\t1 \n",
      "InhDendDistalRatio:1 \t ExcDendDistalRatio:1\n",
      "\t44 \n",
      "ninhL:10 \t ninhB:0 \t nexcL:10 \t nexcB:0 \n",
      "\t41 \n",
      "10 distal inhibitory synapses of type GABAa[0]\n",
      "10 distal excitatory synapses of type ProbAMPANMDA3_RATIO[0]\n",
      "synapses loaded \n",
      "\t17 \n",
      "\t1 \n"
     ]
    },
    {
     "name": "stderr",
     "output_type": "stream",
     "text": [
      "05-07 12:22:42 balanced input [synapses_weights.py:  79] INFO     \t \t spikes 0.0\n",
      "05-07 12:22:42 balanced input [synapses_weights.py:  83] INFO     \t break from too many 0's\n",
      "05-07 12:22:42 balanced input [synapses_weights.py:  97] INFO     \t 0.0 +- 0.0 (n=1)\n",
      "\n",
      "05-07 12:22:42 balanced input [synapses_weights.py:  59] INFO     \t exc_syn: 21 (1)\t inh_syn: 10 (1)\n",
      "\n"
     ]
    },
    {
     "name": "stdout",
     "output_type": "stream",
     "text": [
      "\t1 \n",
      "InhDendDistalRatio:1 \t ExcDendDistalRatio:1\n",
      "\t44 \n",
      "ninhL:10 \t ninhB:0 \t nexcL:21 \t nexcB:0 \n",
      "\t41 \n",
      "10 distal inhibitory synapses of type GABAa[0]\n",
      "21 distal excitatory synapses of type ProbAMPANMDA3_RATIO[0]\n",
      "synapses loaded \n",
      "\t17 \n",
      "\t1 \n"
     ]
    },
    {
     "name": "stderr",
     "output_type": "stream",
     "text": [
      "05-07 12:22:44 balanced input [synapses_weights.py:  79] INFO     \t \t spikes 0.0\n",
      "05-07 12:22:44 balanced input [synapses_weights.py:  83] INFO     \t break from too many 0's\n",
      "05-07 12:22:44 balanced input [synapses_weights.py:  97] INFO     \t 0.0 +- 0.0 (n=1)\n",
      "\n",
      "05-07 12:22:44 balanced input [synapses_weights.py:  59] INFO     \t exc_syn: 46 (1)\t inh_syn: 10 (1)\n",
      "\n"
     ]
    },
    {
     "name": "stdout",
     "output_type": "stream",
     "text": [
      "\t1 \n",
      "InhDendDistalRatio:1 \t ExcDendDistalRatio:1\n",
      "\t44 \n",
      "ninhL:10 \t ninhB:0 \t nexcL:46 \t nexcB:0 \n",
      "\t41 \n",
      "10 distal inhibitory synapses of type GABAa[0]\n",
      "46 distal excitatory synapses of type ProbAMPANMDA3_RATIO[0]\n",
      "synapses loaded \n",
      "\t17 \n",
      "\t1 \n"
     ]
    },
    {
     "name": "stderr",
     "output_type": "stream",
     "text": [
      "05-07 12:22:47 balanced input [synapses_weights.py:  79] INFO     \t \t spikes 0.0\n",
      "05-07 12:22:47 balanced input [synapses_weights.py:  83] INFO     \t break from too many 0's\n",
      "05-07 12:22:47 balanced input [synapses_weights.py:  97] INFO     \t 0.0 +- 0.0 (n=1)\n",
      "\n",
      "05-07 12:22:47 balanced input [synapses_weights.py:  59] INFO     \t exc_syn: 100 (1)\t inh_syn: 10 (1)\n",
      "\n"
     ]
    },
    {
     "name": "stdout",
     "output_type": "stream",
     "text": [
      "\t1 \n",
      "InhDendDistalRatio:1 \t ExcDendDistalRatio:1\n",
      "\t44 \n",
      "ninhL:10 \t ninhB:0 \t nexcL:100 \t nexcB:0 \n",
      "\t42 \n",
      "10 distal inhibitory synapses of type GABAa[0]\n",
      "100 distal excitatory synapses of type ProbAMPANMDA3_RATIO[0]\n",
      "synapses loaded \n",
      "\t17 \n",
      "\t1 \n"
     ]
    },
    {
     "name": "stderr",
     "output_type": "stream",
     "text": [
      "05-07 12:22:52 balanced input [synapses_weights.py:  79] INFO     \t \t spikes 1.0\n",
      "05-07 12:22:52 balanced input [synapses_weights.py:  97] INFO     \t 1.0 +- 0.0 (n=1)\n",
      "\n",
      "05-07 12:22:52 balanced input [synapses_weights.py:  59] INFO     \t exc_syn: 125 (1)\t inh_syn: 10 (1)\n",
      "\n"
     ]
    },
    {
     "name": "stdout",
     "output_type": "stream",
     "text": [
      "\t1 \n",
      "InhDendDistalRatio:1 \t ExcDendDistalRatio:1\n",
      "\t44 \n",
      "ninhL:10 \t ninhB:0 \t nexcL:125 \t nexcB:0 \n",
      "\t42 \n",
      "10 distal inhibitory synapses of type GABAa[0]\n",
      "125 distal excitatory synapses of type ProbAMPANMDA3_RATIO[0]\n",
      "synapses loaded \n",
      "\t17 \n",
      "\t1 \n"
     ]
    },
    {
     "name": "stderr",
     "output_type": "stream",
     "text": [
      "05-07 12:22:58 balanced input [synapses_weights.py:  79] INFO     \t \t spikes 1.0\n",
      "05-07 12:22:58 balanced input [synapses_weights.py:  97] INFO     \t 1.0 +- 0.0 (n=1)\n",
      "\n",
      "05-07 12:22:58 balanced input [synapses_weights.py:  59] INFO     \t exc_syn: 158 (1)\t inh_syn: 10 (1)\n",
      "\n"
     ]
    },
    {
     "name": "stdout",
     "output_type": "stream",
     "text": [
      "\t1 \n",
      "InhDendDistalRatio:1 \t ExcDendDistalRatio:1\n",
      "\t44 \n",
      "ninhL:10 \t ninhB:0 \t nexcL:158 \t nexcB:0 \n",
      "\t42 \n",
      "10 distal inhibitory synapses of type GABAa[0]\n",
      "158 distal excitatory synapses of type ProbAMPANMDA3_RATIO[0]\n",
      "synapses loaded \n",
      "\t17 \n",
      "\t1 \n"
     ]
    },
    {
     "name": "stderr",
     "output_type": "stream",
     "text": [
      "05-07 12:23:05 balanced input [synapses_weights.py:  79] INFO     \t \t spikes 2.0\n",
      "05-07 12:23:05 balanced input [synapses_weights.py:  97] INFO     \t 2.0 +- 0.0 (n=1)\n",
      "\n",
      "05-07 12:23:05 balanced input [synapses_weights.py:  59] INFO     \t exc_syn: 199 (1)\t inh_syn: 10 (1)\n",
      "\n"
     ]
    },
    {
     "name": "stdout",
     "output_type": "stream",
     "text": [
      "\t1 \n",
      "InhDendDistalRatio:1 \t ExcDendDistalRatio:1\n",
      "\t44 \n",
      "ninhL:10 \t ninhB:0 \t nexcL:199 \t nexcB:0 \n",
      "\t42 \n",
      "10 distal inhibitory synapses of type GABAa[0]\n",
      "199 distal excitatory synapses of type ProbAMPANMDA3_RATIO[0]\n",
      "synapses loaded \n",
      "\t17 \n",
      "\t1 \n"
     ]
    },
    {
     "name": "stderr",
     "output_type": "stream",
     "text": [
      "05-07 12:23:14 balanced input [synapses_weights.py:  79] INFO     \t \t spikes 4.0\n",
      "05-07 12:23:14 balanced input [synapses_weights.py:  97] INFO     \t 4.0 +- 0.0 (n=1)\n",
      "\n",
      "05-07 12:23:14 balanced input [synapses_weights.py:  59] INFO     \t exc_syn: 251 (1)\t inh_syn: 10 (1)\n",
      "\n"
     ]
    },
    {
     "name": "stdout",
     "output_type": "stream",
     "text": [
      "\t1 \n",
      "InhDendDistalRatio:1 \t ExcDendDistalRatio:1\n",
      "\t44 \n",
      "ninhL:10 \t ninhB:0 \t nexcL:251 \t nexcB:0 \n",
      "\t42 \n",
      "10 distal inhibitory synapses of type GABAa[0]\n",
      "251 distal excitatory synapses of type ProbAMPANMDA3_RATIO[0]\n",
      "synapses loaded \n",
      "\t17 \n",
      "\t1 \n"
     ]
    },
    {
     "name": "stderr",
     "output_type": "stream",
     "text": [
      "05-07 12:23:30 balanced input [synapses_weights.py:  79] INFO     \t \t spikes 12.0\n",
      "05-07 12:23:30 balanced input [synapses_weights.py:  97] INFO     \t 12.0 +- 0.0 (n=1)\n",
      "\n",
      "05-07 12:23:30 balanced input [synapses_weights.py:  59] INFO     \t exc_syn: 316 (1)\t inh_syn: 10 (1)\n",
      "\n"
     ]
    },
    {
     "name": "stdout",
     "output_type": "stream",
     "text": [
      "\t1 \n",
      "InhDendDistalRatio:1 \t ExcDendDistalRatio:1\n",
      "\t44 \n",
      "ninhL:10 \t ninhB:0 \t nexcL:316 \t nexcB:0 \n",
      "\t42 \n",
      "10 distal inhibitory synapses of type GABAa[0]\n",
      "316 distal excitatory synapses of type ProbAMPANMDA3_RATIO[0]\n",
      "synapses loaded \n",
      "\t17 \n",
      "\t1 \n"
     ]
    },
    {
     "name": "stderr",
     "output_type": "stream",
     "text": [
      "05-07 12:23:55 balanced input [synapses_weights.py:  79] INFO     \t \t spikes 29.0\n",
      "05-07 12:23:55 balanced input [synapses_weights.py:  90] INFO     \t break from above 15\n",
      "05-07 12:23:55 balanced input [synapses_weights.py:  97] INFO     \t 29.0 +- 0.0 (n=1)\n",
      "\n",
      "05-07 12:23:55 balanced input [synapses_weights.py:  59] INFO     \t exc_syn: 398 (1)\t inh_syn: 10 (1)\n",
      "\n",
      "05-07 12:23:55 balanced input [synapses_weights.py:  64] INFO     \t 16 +- 0 (n=0)\n",
      "\n",
      "05-07 12:23:55 balanced input [synapses_weights.py:  59] INFO     \t exc_syn: 501 (1)\t inh_syn: 10 (1)\n",
      "\n",
      "05-07 12:23:55 balanced input [synapses_weights.py:  64] INFO     \t 16 +- 0 (n=0)\n",
      "\n",
      "05-07 12:23:55 balanced input [synapses_weights.py:  59] INFO     \t exc_syn: 630 (1)\t inh_syn: 10 (1)\n",
      "\n",
      "05-07 12:23:55 balanced input [synapses_weights.py:  64] INFO     \t 16 +- 0 (n=0)\n",
      "\n",
      "05-07 12:23:55 balanced input [synapses_weights.py:  59] INFO     \t exc_syn: 794 (1)\t inh_syn: 10 (1)\n",
      "\n",
      "05-07 12:23:55 balanced input [synapses_weights.py:  64] INFO     \t 16 +- 0 (n=0)\n",
      "\n",
      "05-07 12:23:55 balanced input [synapses_weights.py:  59] INFO     \t exc_syn: 1000 (1)\t inh_syn: 10 (1)\n",
      "\n",
      "05-07 12:23:55 balanced input [synapses_weights.py:  64] INFO     \t 16 +- 0 (n=0)\n",
      "\n",
      "05-07 12:23:55 balanced input [synapses_weights.py:  59] INFO     \t exc_syn: 0 (1)\t inh_syn: 21 (1)\n",
      "\n"
     ]
    },
    {
     "name": "stdout",
     "output_type": "stream",
     "text": [
      "1 excitatory synapse\n",
      "\t1 \n",
      "InhDendDistalRatio:1 \t ExcDendDistalRatio:1\n",
      "\t44 \n",
      "ninhL:21 \t ninhB:0 \t nexcL:1 \t nexcB:0 \n",
      "\t40 \n",
      "21 distal inhibitory synapses of type GABAa[0]\n",
      "1 distal excitatory synapses of type ProbAMPANMDA3_RATIO[0]\n",
      "synapses loaded \n",
      "\t17 \n",
      "\t1 \n"
     ]
    },
    {
     "name": "stderr",
     "output_type": "stream",
     "text": [
      "05-07 12:23:57 balanced input [synapses_weights.py:  79] INFO     \t \t spikes 0.0\n",
      "05-07 12:23:57 balanced input [synapses_weights.py:  83] INFO     \t break from too many 0's\n",
      "05-07 12:23:57 balanced input [synapses_weights.py:  97] INFO     \t 0.0 +- 0.0 (n=1)\n",
      "\n",
      "05-07 12:23:57 balanced input [synapses_weights.py:  59] INFO     \t exc_syn: 10 (1)\t inh_syn: 21 (1)\n",
      "\n"
     ]
    },
    {
     "name": "stdout",
     "output_type": "stream",
     "text": [
      "\t1 \n",
      "InhDendDistalRatio:1 \t ExcDendDistalRatio:1\n",
      "\t44 \n",
      "ninhL:21 \t ninhB:0 \t nexcL:10 \t nexcB:0 \n",
      "\t41 \n",
      "21 distal inhibitory synapses of type GABAa[0]\n",
      "10 distal excitatory synapses of type ProbAMPANMDA3_RATIO[0]\n",
      "synapses loaded \n",
      "\t17 \n",
      "\t1 \n"
     ]
    },
    {
     "name": "stderr",
     "output_type": "stream",
     "text": [
      "05-07 12:23:58 balanced input [synapses_weights.py:  79] INFO     \t \t spikes 0.0\n",
      "05-07 12:23:58 balanced input [synapses_weights.py:  83] INFO     \t break from too many 0's\n",
      "05-07 12:23:58 balanced input [synapses_weights.py:  97] INFO     \t 0.0 +- 0.0 (n=1)\n",
      "\n",
      "05-07 12:23:58 balanced input [synapses_weights.py:  59] INFO     \t exc_syn: 21 (1)\t inh_syn: 21 (1)\n",
      "\n"
     ]
    },
    {
     "name": "stdout",
     "output_type": "stream",
     "text": [
      "\t1 \n",
      "InhDendDistalRatio:1 \t ExcDendDistalRatio:1\n",
      "\t44 \n",
      "ninhL:21 \t ninhB:0 \t nexcL:21 \t nexcB:0 \n",
      "\t41 \n",
      "21 distal inhibitory synapses of type GABAa[0]\n",
      "21 distal excitatory synapses of type ProbAMPANMDA3_RATIO[0]\n",
      "synapses loaded \n",
      "\t17 \n",
      "\t1 \n"
     ]
    },
    {
     "name": "stderr",
     "output_type": "stream",
     "text": [
      "05-07 12:24:01 balanced input [synapses_weights.py:  79] INFO     \t \t spikes 0.0\n",
      "05-07 12:24:01 balanced input [synapses_weights.py:  83] INFO     \t break from too many 0's\n",
      "05-07 12:24:01 balanced input [synapses_weights.py:  97] INFO     \t 0.0 +- 0.0 (n=1)\n",
      "\n",
      "05-07 12:24:01 balanced input [synapses_weights.py:  59] INFO     \t exc_syn: 46 (1)\t inh_syn: 21 (1)\n",
      "\n"
     ]
    },
    {
     "name": "stdout",
     "output_type": "stream",
     "text": [
      "\t1 \n",
      "InhDendDistalRatio:1 \t ExcDendDistalRatio:1\n",
      "\t44 \n",
      "ninhL:21 \t ninhB:0 \t nexcL:46 \t nexcB:0 \n",
      "\t41 \n",
      "21 distal inhibitory synapses of type GABAa[0]\n",
      "46 distal excitatory synapses of type ProbAMPANMDA3_RATIO[0]\n",
      "synapses loaded \n",
      "\t17 \n",
      "\t1 \n"
     ]
    },
    {
     "name": "stderr",
     "output_type": "stream",
     "text": [
      "05-07 12:24:05 balanced input [synapses_weights.py:  79] INFO     \t \t spikes 0.0\n",
      "05-07 12:24:05 balanced input [synapses_weights.py:  83] INFO     \t break from too many 0's\n",
      "05-07 12:24:05 balanced input [synapses_weights.py:  97] INFO     \t 0.0 +- 0.0 (n=1)\n",
      "\n",
      "05-07 12:24:05 balanced input [synapses_weights.py:  59] INFO     \t exc_syn: 100 (1)\t inh_syn: 21 (1)\n",
      "\n"
     ]
    },
    {
     "name": "stdout",
     "output_type": "stream",
     "text": [
      "\t1 \n",
      "InhDendDistalRatio:1 \t ExcDendDistalRatio:1\n",
      "\t44 \n",
      "ninhL:21 \t ninhB:0 \t nexcL:100 \t nexcB:0 \n",
      "\t42 \n",
      "21 distal inhibitory synapses of type GABAa[0]\n",
      "100 distal excitatory synapses of type ProbAMPANMDA3_RATIO[0]\n",
      "synapses loaded \n",
      "\t17 \n",
      "\t1 \n"
     ]
    },
    {
     "name": "stderr",
     "output_type": "stream",
     "text": [
      "05-07 12:24:10 balanced input [synapses_weights.py:  79] INFO     \t \t spikes 1.0\n",
      "05-07 12:24:10 balanced input [synapses_weights.py:  97] INFO     \t 1.0 +- 0.0 (n=1)\n",
      "\n",
      "05-07 12:24:10 balanced input [synapses_weights.py:  59] INFO     \t exc_syn: 125 (1)\t inh_syn: 21 (1)\n",
      "\n"
     ]
    },
    {
     "name": "stdout",
     "output_type": "stream",
     "text": [
      "\t1 \n",
      "InhDendDistalRatio:1 \t ExcDendDistalRatio:1\n",
      "\t44 \n",
      "ninhL:21 \t ninhB:0 \t nexcL:125 \t nexcB:0 \n",
      "\t42 \n",
      "21 distal inhibitory synapses of type GABAa[0]\n",
      "125 distal excitatory synapses of type ProbAMPANMDA3_RATIO[0]\n",
      "synapses loaded \n",
      "\t17 \n",
      "\t1 \n"
     ]
    },
    {
     "name": "stderr",
     "output_type": "stream",
     "text": [
      "05-07 12:24:18 balanced input [synapses_weights.py:  79] INFO     \t \t spikes 1.0\n",
      "05-07 12:24:18 balanced input [synapses_weights.py:  97] INFO     \t 1.0 +- 0.0 (n=1)\n",
      "\n",
      "05-07 12:24:18 balanced input [synapses_weights.py:  59] INFO     \t exc_syn: 158 (1)\t inh_syn: 21 (1)\n",
      "\n"
     ]
    },
    {
     "name": "stdout",
     "output_type": "stream",
     "text": [
      "\t1 \n",
      "InhDendDistalRatio:1 \t ExcDendDistalRatio:1\n",
      "\t44 \n",
      "ninhL:21 \t ninhB:0 \t nexcL:158 \t nexcB:0 \n",
      "\t42 \n",
      "21 distal inhibitory synapses of type GABAa[0]\n",
      "158 distal excitatory synapses of type ProbAMPANMDA3_RATIO[0]\n",
      "synapses loaded \n",
      "\t17 \n",
      "\t1 \n"
     ]
    },
    {
     "name": "stderr",
     "output_type": "stream",
     "text": [
      "05-07 12:24:25 balanced input [synapses_weights.py:  79] INFO     \t \t spikes 2.0\n",
      "05-07 12:24:25 balanced input [synapses_weights.py:  97] INFO     \t 2.0 +- 0.0 (n=1)\n",
      "\n",
      "05-07 12:24:25 balanced input [synapses_weights.py:  59] INFO     \t exc_syn: 199 (1)\t inh_syn: 21 (1)\n",
      "\n"
     ]
    },
    {
     "name": "stdout",
     "output_type": "stream",
     "text": [
      "\t1 \n",
      "InhDendDistalRatio:1 \t ExcDendDistalRatio:1\n",
      "\t44 \n",
      "ninhL:21 \t ninhB:0 \t nexcL:199 \t nexcB:0 \n",
      "\t42 \n",
      "21 distal inhibitory synapses of type GABAa[0]\n",
      "199 distal excitatory synapses of type ProbAMPANMDA3_RATIO[0]\n",
      "synapses loaded \n",
      "\t17 \n",
      "\t1 \n"
     ]
    },
    {
     "name": "stderr",
     "output_type": "stream",
     "text": [
      "05-07 12:24:34 balanced input [synapses_weights.py:  79] INFO     \t \t spikes 3.0\n",
      "05-07 12:24:34 balanced input [synapses_weights.py:  97] INFO     \t 3.0 +- 0.0 (n=1)\n",
      "\n",
      "05-07 12:24:34 balanced input [synapses_weights.py:  59] INFO     \t exc_syn: 251 (1)\t inh_syn: 21 (1)\n",
      "\n"
     ]
    },
    {
     "name": "stdout",
     "output_type": "stream",
     "text": [
      "\t1 \n",
      "InhDendDistalRatio:1 \t ExcDendDistalRatio:1\n",
      "\t44 \n",
      "ninhL:21 \t ninhB:0 \t nexcL:251 \t nexcB:0 \n",
      "\t42 \n",
      "21 distal inhibitory synapses of type GABAa[0]\n",
      "251 distal excitatory synapses of type ProbAMPANMDA3_RATIO[0]\n",
      "synapses loaded \n",
      "\t17 \n",
      "\t1 \n"
     ]
    },
    {
     "name": "stderr",
     "output_type": "stream",
     "text": [
      "05-07 12:24:48 balanced input [synapses_weights.py:  79] INFO     \t \t spikes 10.0\n",
      "05-07 12:24:48 balanced input [synapses_weights.py:  97] INFO     \t 10.0 +- 0.0 (n=1)\n",
      "\n",
      "05-07 12:24:48 balanced input [synapses_weights.py:  59] INFO     \t exc_syn: 316 (1)\t inh_syn: 21 (1)\n",
      "\n"
     ]
    },
    {
     "name": "stdout",
     "output_type": "stream",
     "text": [
      "\t1 \n",
      "InhDendDistalRatio:1 \t ExcDendDistalRatio:1\n",
      "\t44 \n",
      "ninhL:21 \t ninhB:0 \t nexcL:316 \t nexcB:0 \n",
      "\t42 \n",
      "21 distal inhibitory synapses of type GABAa[0]\n",
      "316 distal excitatory synapses of type ProbAMPANMDA3_RATIO[0]\n",
      "synapses loaded \n",
      "\t17 \n",
      "\t1 \n"
     ]
    },
    {
     "name": "stderr",
     "output_type": "stream",
     "text": [
      "05-07 12:25:13 balanced input [synapses_weights.py:  79] INFO     \t \t spikes 28.0\n",
      "05-07 12:25:13 balanced input [synapses_weights.py:  90] INFO     \t break from above 15\n",
      "05-07 12:25:13 balanced input [synapses_weights.py:  97] INFO     \t 28.0 +- 0.0 (n=1)\n",
      "\n",
      "05-07 12:25:13 balanced input [synapses_weights.py:  59] INFO     \t exc_syn: 398 (1)\t inh_syn: 21 (1)\n",
      "\n",
      "05-07 12:25:13 balanced input [synapses_weights.py:  64] INFO     \t 16 +- 0 (n=0)\n",
      "\n",
      "05-07 12:25:13 balanced input [synapses_weights.py:  59] INFO     \t exc_syn: 501 (1)\t inh_syn: 21 (1)\n",
      "\n",
      "05-07 12:25:13 balanced input [synapses_weights.py:  64] INFO     \t 16 +- 0 (n=0)\n",
      "\n",
      "05-07 12:25:13 balanced input [synapses_weights.py:  59] INFO     \t exc_syn: 630 (1)\t inh_syn: 21 (1)\n",
      "\n",
      "05-07 12:25:13 balanced input [synapses_weights.py:  64] INFO     \t 16 +- 0 (n=0)\n",
      "\n",
      "05-07 12:25:13 balanced input [synapses_weights.py:  59] INFO     \t exc_syn: 794 (1)\t inh_syn: 21 (1)\n",
      "\n",
      "05-07 12:25:13 balanced input [synapses_weights.py:  64] INFO     \t 16 +- 0 (n=0)\n",
      "\n",
      "05-07 12:25:13 balanced input [synapses_weights.py:  59] INFO     \t exc_syn: 1000 (1)\t inh_syn: 21 (1)\n",
      "\n",
      "05-07 12:25:13 balanced input [synapses_weights.py:  64] INFO     \t 16 +- 0 (n=0)\n",
      "\n",
      "05-07 12:25:13 balanced input [synapses_weights.py:  59] INFO     \t exc_syn: 0 (1)\t inh_syn: 46 (1)\n",
      "\n"
     ]
    },
    {
     "name": "stdout",
     "output_type": "stream",
     "text": [
      "1 excitatory synapse\n",
      "\t1 \n",
      "InhDendDistalRatio:1 \t ExcDendDistalRatio:1\n",
      "\t44 \n",
      "ninhL:46 \t ninhB:0 \t nexcL:1 \t nexcB:0 \n",
      "\t40 \n",
      "46 distal inhibitory synapses of type GABAa[0]\n",
      "1 distal excitatory synapses of type ProbAMPANMDA3_RATIO[0]\n",
      "synapses loaded \n",
      "\t17 \n",
      "\t1 \n"
     ]
    },
    {
     "name": "stderr",
     "output_type": "stream",
     "text": [
      "05-07 12:25:15 balanced input [synapses_weights.py:  79] INFO     \t \t spikes 0.0\n",
      "05-07 12:25:15 balanced input [synapses_weights.py:  83] INFO     \t break from too many 0's\n",
      "05-07 12:25:15 balanced input [synapses_weights.py:  97] INFO     \t 0.0 +- 0.0 (n=1)\n",
      "\n",
      "05-07 12:25:15 balanced input [synapses_weights.py:  59] INFO     \t exc_syn: 10 (1)\t inh_syn: 46 (1)\n",
      "\n"
     ]
    },
    {
     "name": "stdout",
     "output_type": "stream",
     "text": [
      "\t1 \n",
      "InhDendDistalRatio:1 \t ExcDendDistalRatio:1\n",
      "\t44 \n",
      "ninhL:46 \t ninhB:0 \t nexcL:10 \t nexcB:0 \n",
      "\t41 \n",
      "46 distal inhibitory synapses of type GABAa[0]\n",
      "10 distal excitatory synapses of type ProbAMPANMDA3_RATIO[0]\n",
      "synapses loaded \n",
      "\t17 \n",
      "\t1 \n"
     ]
    },
    {
     "name": "stderr",
     "output_type": "stream",
     "text": [
      "05-07 12:25:18 balanced input [synapses_weights.py:  79] INFO     \t \t spikes 0.0\n",
      "05-07 12:25:18 balanced input [synapses_weights.py:  83] INFO     \t break from too many 0's\n",
      "05-07 12:25:18 balanced input [synapses_weights.py:  97] INFO     \t 0.0 +- 0.0 (n=1)\n",
      "\n",
      "05-07 12:25:18 balanced input [synapses_weights.py:  59] INFO     \t exc_syn: 21 (1)\t inh_syn: 46 (1)\n",
      "\n"
     ]
    },
    {
     "name": "stdout",
     "output_type": "stream",
     "text": [
      "\t1 \n",
      "InhDendDistalRatio:1 \t ExcDendDistalRatio:1\n",
      "\t44 \n",
      "ninhL:46 \t ninhB:0 \t nexcL:21 \t nexcB:0 \n",
      "\t41 \n",
      "46 distal inhibitory synapses of type GABAa[0]\n",
      "21 distal excitatory synapses of type ProbAMPANMDA3_RATIO[0]\n",
      "synapses loaded \n",
      "\t17 \n",
      "\t1 \n"
     ]
    },
    {
     "name": "stderr",
     "output_type": "stream",
     "text": [
      "05-07 12:25:21 balanced input [synapses_weights.py:  79] INFO     \t \t spikes 0.0\n",
      "05-07 12:25:21 balanced input [synapses_weights.py:  83] INFO     \t break from too many 0's\n",
      "05-07 12:25:21 balanced input [synapses_weights.py:  97] INFO     \t 0.0 +- 0.0 (n=1)\n",
      "\n",
      "05-07 12:25:21 balanced input [synapses_weights.py:  59] INFO     \t exc_syn: 46 (1)\t inh_syn: 46 (1)\n",
      "\n"
     ]
    },
    {
     "name": "stdout",
     "output_type": "stream",
     "text": [
      "\t1 \n",
      "InhDendDistalRatio:1 \t ExcDendDistalRatio:1\n",
      "\t44 \n",
      "ninhL:46 \t ninhB:0 \t nexcL:46 \t nexcB:0 \n",
      "\t41 \n",
      "46 distal inhibitory synapses of type GABAa[0]\n",
      "46 distal excitatory synapses of type ProbAMPANMDA3_RATIO[0]\n",
      "synapses loaded \n",
      "\t17 \n",
      "\t1 \n"
     ]
    },
    {
     "name": "stderr",
     "output_type": "stream",
     "text": [
      "05-07 12:25:24 balanced input [synapses_weights.py:  79] INFO     \t \t spikes 0.0\n",
      "05-07 12:25:24 balanced input [synapses_weights.py:  83] INFO     \t break from too many 0's\n",
      "05-07 12:25:24 balanced input [synapses_weights.py:  97] INFO     \t 0.0 +- 0.0 (n=1)\n",
      "\n",
      "05-07 12:25:24 balanced input [synapses_weights.py:  59] INFO     \t exc_syn: 100 (1)\t inh_syn: 46 (1)\n",
      "\n"
     ]
    },
    {
     "name": "stdout",
     "output_type": "stream",
     "text": [
      "\t1 \n",
      "InhDendDistalRatio:1 \t ExcDendDistalRatio:1\n",
      "\t44 \n",
      "ninhL:46 \t ninhB:0 \t nexcL:100 \t nexcB:0 \n",
      "\t42 \n",
      "46 distal inhibitory synapses of type GABAa[0]\n",
      "100 distal excitatory synapses of type ProbAMPANMDA3_RATIO[0]\n",
      "synapses loaded \n",
      "\t17 \n",
      "\t1 \n"
     ]
    },
    {
     "name": "stderr",
     "output_type": "stream",
     "text": [
      "05-07 12:25:30 balanced input [synapses_weights.py:  79] INFO     \t \t spikes 1.0\n",
      "05-07 12:25:30 balanced input [synapses_weights.py:  97] INFO     \t 1.0 +- 0.0 (n=1)\n",
      "\n",
      "05-07 12:25:30 balanced input [synapses_weights.py:  59] INFO     \t exc_syn: 125 (1)\t inh_syn: 46 (1)\n",
      "\n"
     ]
    },
    {
     "name": "stdout",
     "output_type": "stream",
     "text": [
      "\t1 \n",
      "InhDendDistalRatio:1 \t ExcDendDistalRatio:1\n",
      "\t44 \n",
      "ninhL:46 \t ninhB:0 \t nexcL:125 \t nexcB:0 \n",
      "\t42 \n",
      "46 distal inhibitory synapses of type GABAa[0]\n",
      "125 distal excitatory synapses of type ProbAMPANMDA3_RATIO[0]\n",
      "synapses loaded \n",
      "\t17 \n",
      "\t1 \n"
     ]
    },
    {
     "name": "stderr",
     "output_type": "stream",
     "text": [
      "05-07 12:25:37 balanced input [synapses_weights.py:  79] INFO     \t \t spikes 1.0\n",
      "05-07 12:25:37 balanced input [synapses_weights.py:  97] INFO     \t 1.0 +- 0.0 (n=1)\n",
      "\n",
      "05-07 12:25:37 balanced input [synapses_weights.py:  59] INFO     \t exc_syn: 158 (1)\t inh_syn: 46 (1)\n",
      "\n"
     ]
    },
    {
     "name": "stdout",
     "output_type": "stream",
     "text": [
      "\t1 \n",
      "InhDendDistalRatio:1 \t ExcDendDistalRatio:1\n",
      "\t44 \n",
      "ninhL:46 \t ninhB:0 \t nexcL:158 \t nexcB:0 \n",
      "\t42 \n",
      "46 distal inhibitory synapses of type GABAa[0]\n",
      "158 distal excitatory synapses of type ProbAMPANMDA3_RATIO[0]\n",
      "synapses loaded \n",
      "\t17 \n",
      "\t1 \n"
     ]
    },
    {
     "name": "stderr",
     "output_type": "stream",
     "text": [
      "05-07 12:25:45 balanced input [synapses_weights.py:  79] INFO     \t \t spikes 1.0\n",
      "05-07 12:25:45 balanced input [synapses_weights.py:  97] INFO     \t 1.0 +- 0.0 (n=1)\n",
      "\n",
      "05-07 12:25:45 balanced input [synapses_weights.py:  59] INFO     \t exc_syn: 199 (1)\t inh_syn: 46 (1)\n",
      "\n"
     ]
    },
    {
     "name": "stdout",
     "output_type": "stream",
     "text": [
      "\t1 \n",
      "InhDendDistalRatio:1 \t ExcDendDistalRatio:1\n",
      "\t44 \n",
      "ninhL:46 \t ninhB:0 \t nexcL:199 \t nexcB:0 \n",
      "\t42 \n",
      "46 distal inhibitory synapses of type GABAa[0]\n",
      "199 distal excitatory synapses of type ProbAMPANMDA3_RATIO[0]\n",
      "synapses loaded \n",
      "\t17 \n",
      "\t1 \n"
     ]
    },
    {
     "name": "stderr",
     "output_type": "stream",
     "text": [
      "05-07 12:25:54 balanced input [synapses_weights.py:  79] INFO     \t \t spikes 3.0\n",
      "05-07 12:25:54 balanced input [synapses_weights.py:  97] INFO     \t 3.0 +- 0.0 (n=1)\n",
      "\n",
      "05-07 12:25:54 balanced input [synapses_weights.py:  59] INFO     \t exc_syn: 251 (1)\t inh_syn: 46 (1)\n",
      "\n"
     ]
    },
    {
     "name": "stdout",
     "output_type": "stream",
     "text": [
      "\t1 \n",
      "InhDendDistalRatio:1 \t ExcDendDistalRatio:1\n",
      "\t44 \n",
      "ninhL:46 \t ninhB:0 \t nexcL:251 \t nexcB:0 \n",
      "\t42 \n",
      "46 distal inhibitory synapses of type GABAa[0]\n",
      "251 distal excitatory synapses of type ProbAMPANMDA3_RATIO[0]\n",
      "synapses loaded \n",
      "\t17 \n",
      "\t1 \n"
     ]
    },
    {
     "name": "stderr",
     "output_type": "stream",
     "text": [
      "05-07 12:26:08 balanced input [synapses_weights.py:  79] INFO     \t \t spikes 8.0\n",
      "05-07 12:26:08 balanced input [synapses_weights.py:  97] INFO     \t 8.0 +- 0.0 (n=1)\n",
      "\n",
      "05-07 12:26:08 balanced input [synapses_weights.py:  59] INFO     \t exc_syn: 316 (1)\t inh_syn: 46 (1)\n",
      "\n"
     ]
    },
    {
     "name": "stdout",
     "output_type": "stream",
     "text": [
      "\t1 \n",
      "InhDendDistalRatio:1 \t ExcDendDistalRatio:1\n",
      "\t44 \n",
      "ninhL:46 \t ninhB:0 \t nexcL:316 \t nexcB:0 \n",
      "\t42 \n",
      "46 distal inhibitory synapses of type GABAa[0]\n",
      "316 distal excitatory synapses of type ProbAMPANMDA3_RATIO[0]\n",
      "synapses loaded \n",
      "\t17 \n",
      "\t1 \n"
     ]
    },
    {
     "name": "stderr",
     "output_type": "stream",
     "text": [
      "05-07 12:26:33 balanced input [synapses_weights.py:  79] INFO     \t \t spikes 26.0\n",
      "05-07 12:26:33 balanced input [synapses_weights.py:  90] INFO     \t break from above 15\n",
      "05-07 12:26:33 balanced input [synapses_weights.py:  97] INFO     \t 26.0 +- 0.0 (n=1)\n",
      "\n",
      "05-07 12:26:33 balanced input [synapses_weights.py:  59] INFO     \t exc_syn: 398 (1)\t inh_syn: 46 (1)\n",
      "\n",
      "05-07 12:26:33 balanced input [synapses_weights.py:  64] INFO     \t 16 +- 0 (n=0)\n",
      "\n",
      "05-07 12:26:33 balanced input [synapses_weights.py:  59] INFO     \t exc_syn: 501 (1)\t inh_syn: 46 (1)\n",
      "\n",
      "05-07 12:26:33 balanced input [synapses_weights.py:  64] INFO     \t 16 +- 0 (n=0)\n",
      "\n",
      "05-07 12:26:33 balanced input [synapses_weights.py:  59] INFO     \t exc_syn: 630 (1)\t inh_syn: 46 (1)\n",
      "\n",
      "05-07 12:26:33 balanced input [synapses_weights.py:  64] INFO     \t 16 +- 0 (n=0)\n",
      "\n",
      "05-07 12:26:33 balanced input [synapses_weights.py:  59] INFO     \t exc_syn: 794 (1)\t inh_syn: 46 (1)\n",
      "\n",
      "05-07 12:26:33 balanced input [synapses_weights.py:  64] INFO     \t 16 +- 0 (n=0)\n",
      "\n",
      "05-07 12:26:33 balanced input [synapses_weights.py:  59] INFO     \t exc_syn: 1000 (1)\t inh_syn: 46 (1)\n",
      "\n",
      "05-07 12:26:33 balanced input [synapses_weights.py:  64] INFO     \t 16 +- 0 (n=0)\n",
      "\n",
      "05-07 12:26:33 balanced input [synapses_weights.py:  59] INFO     \t exc_syn: 0 (1)\t inh_syn: 100 (1)\n",
      "\n"
     ]
    },
    {
     "name": "stdout",
     "output_type": "stream",
     "text": [
      "1 excitatory synapse\n",
      "\t1 \n",
      "InhDendDistalRatio:1 \t ExcDendDistalRatio:1\n",
      "\t44 \n",
      "ninhL:100 \t ninhB:0 \t nexcL:1 \t nexcB:0 \n",
      "\t41 \n",
      "100 distal inhibitory synapses of type GABAa[0]\n",
      "1 distal excitatory synapses of type ProbAMPANMDA3_RATIO[0]\n",
      "synapses loaded \n",
      "\t17 \n",
      "\t1 \n"
     ]
    },
    {
     "name": "stderr",
     "output_type": "stream",
     "text": [
      "05-07 12:26:38 balanced input [synapses_weights.py:  79] INFO     \t \t spikes 0.0\n",
      "05-07 12:26:38 balanced input [synapses_weights.py:  83] INFO     \t break from too many 0's\n",
      "05-07 12:26:38 balanced input [synapses_weights.py:  97] INFO     \t 0.0 +- 0.0 (n=1)\n",
      "\n",
      "05-07 12:26:38 balanced input [synapses_weights.py:  59] INFO     \t exc_syn: 10 (1)\t inh_syn: 100 (1)\n",
      "\n"
     ]
    },
    {
     "name": "stdout",
     "output_type": "stream",
     "text": [
      "\t1 \n",
      "InhDendDistalRatio:1 \t ExcDendDistalRatio:1\n",
      "\t44 \n",
      "ninhL:100 \t ninhB:0 \t nexcL:10 \t nexcB:0 \n",
      "\t42 \n",
      "100 distal inhibitory synapses of type GABAa[0]\n",
      "10 distal excitatory synapses of type ProbAMPANMDA3_RATIO[0]\n",
      "synapses loaded \n",
      "\t17 \n",
      "\t1 \n"
     ]
    },
    {
     "name": "stderr",
     "output_type": "stream",
     "text": [
      "05-07 12:26:42 balanced input [synapses_weights.py:  79] INFO     \t \t spikes 0.0\n",
      "05-07 12:26:42 balanced input [synapses_weights.py:  83] INFO     \t break from too many 0's\n",
      "05-07 12:26:42 balanced input [synapses_weights.py:  97] INFO     \t 0.0 +- 0.0 (n=1)\n",
      "\n",
      "05-07 12:26:42 balanced input [synapses_weights.py:  59] INFO     \t exc_syn: 21 (1)\t inh_syn: 100 (1)\n",
      "\n"
     ]
    },
    {
     "name": "stdout",
     "output_type": "stream",
     "text": [
      "\t1 \n",
      "InhDendDistalRatio:1 \t ExcDendDistalRatio:1\n",
      "\t44 \n",
      "ninhL:100 \t ninhB:0 \t nexcL:21 \t nexcB:0 \n",
      "\t42 \n",
      "100 distal inhibitory synapses of type GABAa[0]\n",
      "21 distal excitatory synapses of type ProbAMPANMDA3_RATIO[0]\n",
      "synapses loaded \n",
      "\t17 \n",
      "\t1 \n"
     ]
    },
    {
     "name": "stderr",
     "output_type": "stream",
     "text": [
      "05-07 12:26:47 balanced input [synapses_weights.py:  79] INFO     \t \t spikes 0.0\n",
      "05-07 12:26:47 balanced input [synapses_weights.py:  83] INFO     \t break from too many 0's\n",
      "05-07 12:26:47 balanced input [synapses_weights.py:  97] INFO     \t 0.0 +- 0.0 (n=1)\n",
      "\n",
      "05-07 12:26:47 balanced input [synapses_weights.py:  59] INFO     \t exc_syn: 46 (1)\t inh_syn: 100 (1)\n",
      "\n"
     ]
    },
    {
     "name": "stdout",
     "output_type": "stream",
     "text": [
      "\t1 \n",
      "InhDendDistalRatio:1 \t ExcDendDistalRatio:1\n",
      "\t44 \n",
      "ninhL:100 \t ninhB:0 \t nexcL:46 \t nexcB:0 \n",
      "\t42 \n",
      "100 distal inhibitory synapses of type GABAa[0]\n",
      "46 distal excitatory synapses of type ProbAMPANMDA3_RATIO[0]\n",
      "synapses loaded \n",
      "\t17 \n",
      "\t1 \n"
     ]
    },
    {
     "name": "stderr",
     "output_type": "stream",
     "text": [
      "05-07 12:26:53 balanced input [synapses_weights.py:  79] INFO     \t \t spikes 0.0\n",
      "05-07 12:26:53 balanced input [synapses_weights.py:  83] INFO     \t break from too many 0's\n",
      "05-07 12:26:53 balanced input [synapses_weights.py:  97] INFO     \t 0.0 +- 0.0 (n=1)\n",
      "\n",
      "05-07 12:26:53 balanced input [synapses_weights.py:  59] INFO     \t exc_syn: 100 (1)\t inh_syn: 100 (1)\n",
      "\n"
     ]
    },
    {
     "name": "stdout",
     "output_type": "stream",
     "text": [
      "\t1 \n",
      "InhDendDistalRatio:1 \t ExcDendDistalRatio:1\n",
      "\t44 \n",
      "ninhL:100 \t ninhB:0 \t nexcL:100 \t nexcB:0 \n",
      "\t43 \n",
      "100 distal inhibitory synapses of type GABAa[0]\n",
      "100 distal excitatory synapses of type ProbAMPANMDA3_RATIO[0]\n",
      "synapses loaded \n",
      "\t17 \n",
      "\t1 \n"
     ]
    },
    {
     "name": "stderr",
     "output_type": "stream",
     "text": [
      "05-07 12:27:00 balanced input [synapses_weights.py:  79] INFO     \t \t spikes 1.0\n",
      "05-07 12:27:00 balanced input [synapses_weights.py:  97] INFO     \t 1.0 +- 0.0 (n=1)\n",
      "\n",
      "05-07 12:27:00 balanced input [synapses_weights.py:  59] INFO     \t exc_syn: 125 (1)\t inh_syn: 100 (1)\n",
      "\n"
     ]
    },
    {
     "name": "stdout",
     "output_type": "stream",
     "text": [
      "\t1 \n",
      "InhDendDistalRatio:1 \t ExcDendDistalRatio:1\n",
      "\t44 \n",
      "ninhL:100 \t ninhB:0 \t nexcL:125 \t nexcB:0 \n",
      "\t43 \n",
      "100 distal inhibitory synapses of type GABAa[0]\n",
      "125 distal excitatory synapses of type ProbAMPANMDA3_RATIO[0]\n",
      "synapses loaded \n",
      "\t17 \n",
      "\t1 \n"
     ]
    },
    {
     "name": "stderr",
     "output_type": "stream",
     "text": [
      "05-07 12:27:08 balanced input [synapses_weights.py:  79] INFO     \t \t spikes 1.0\n",
      "05-07 12:27:08 balanced input [synapses_weights.py:  97] INFO     \t 1.0 +- 0.0 (n=1)\n",
      "\n",
      "05-07 12:27:08 balanced input [synapses_weights.py:  59] INFO     \t exc_syn: 158 (1)\t inh_syn: 100 (1)\n",
      "\n"
     ]
    },
    {
     "name": "stdout",
     "output_type": "stream",
     "text": [
      "\t1 \n",
      "InhDendDistalRatio:1 \t ExcDendDistalRatio:1\n",
      "\t44 \n",
      "ninhL:100 \t ninhB:0 \t nexcL:158 \t nexcB:0 \n",
      "\t43 \n",
      "100 distal inhibitory synapses of type GABAa[0]\n",
      "158 distal excitatory synapses of type ProbAMPANMDA3_RATIO[0]\n",
      "synapses loaded \n",
      "\t17 \n",
      "\t1 \n"
     ]
    },
    {
     "name": "stderr",
     "output_type": "stream",
     "text": [
      "05-07 12:27:17 balanced input [synapses_weights.py:  79] INFO     \t \t spikes 1.0\n",
      "05-07 12:27:17 balanced input [synapses_weights.py:  97] INFO     \t 1.0 +- 0.0 (n=1)\n",
      "\n",
      "05-07 12:27:17 balanced input [synapses_weights.py:  59] INFO     \t exc_syn: 199 (1)\t inh_syn: 100 (1)\n",
      "\n"
     ]
    },
    {
     "name": "stdout",
     "output_type": "stream",
     "text": [
      "\t1 \n",
      "InhDendDistalRatio:1 \t ExcDendDistalRatio:1\n",
      "\t44 \n",
      "ninhL:100 \t ninhB:0 \t nexcL:199 \t nexcB:0 \n",
      "\t43 \n",
      "100 distal inhibitory synapses of type GABAa[0]\n",
      "199 distal excitatory synapses of type ProbAMPANMDA3_RATIO[0]\n",
      "synapses loaded \n",
      "\t17 \n",
      "\t1 \n"
     ]
    },
    {
     "name": "stderr",
     "output_type": "stream",
     "text": [
      "05-07 12:27:29 balanced input [synapses_weights.py:  79] INFO     \t \t spikes 2.0\n",
      "05-07 12:27:29 balanced input [synapses_weights.py:  97] INFO     \t 2.0 +- 0.0 (n=1)\n",
      "\n",
      "05-07 12:27:29 balanced input [synapses_weights.py:  59] INFO     \t exc_syn: 251 (1)\t inh_syn: 100 (1)\n",
      "\n"
     ]
    },
    {
     "name": "stdout",
     "output_type": "stream",
     "text": [
      "\t1 \n",
      "InhDendDistalRatio:1 \t ExcDendDistalRatio:1\n",
      "\t44 \n",
      "ninhL:100 \t ninhB:0 \t nexcL:251 \t nexcB:0 \n",
      "\t43 \n",
      "100 distal inhibitory synapses of type GABAa[0]\n",
      "251 distal excitatory synapses of type ProbAMPANMDA3_RATIO[0]\n",
      "synapses loaded \n",
      "\t17 \n",
      "\t1 \n"
     ]
    },
    {
     "name": "stderr",
     "output_type": "stream",
     "text": [
      "05-07 12:27:43 balanced input [synapses_weights.py:  79] INFO     \t \t spikes 6.0\n",
      "05-07 12:27:43 balanced input [synapses_weights.py:  97] INFO     \t 6.0 +- 0.0 (n=1)\n",
      "\n",
      "05-07 12:27:43 balanced input [synapses_weights.py:  59] INFO     \t exc_syn: 316 (1)\t inh_syn: 100 (1)\n",
      "\n"
     ]
    },
    {
     "name": "stdout",
     "output_type": "stream",
     "text": [
      "\t1 \n",
      "InhDendDistalRatio:1 \t ExcDendDistalRatio:1\n",
      "\t44 \n",
      "ninhL:100 \t ninhB:0 \t nexcL:316 \t nexcB:0 \n",
      "\t43 \n",
      "100 distal inhibitory synapses of type GABAa[0]\n",
      "316 distal excitatory synapses of type ProbAMPANMDA3_RATIO[0]\n",
      "synapses loaded \n",
      "\t17 \n",
      "\t1 \n"
     ]
    },
    {
     "name": "stderr",
     "output_type": "stream",
     "text": [
      "05-07 12:28:09 balanced input [synapses_weights.py:  79] INFO     \t \t spikes 21.0\n",
      "05-07 12:28:09 balanced input [synapses_weights.py:  90] INFO     \t break from above 15\n",
      "05-07 12:28:09 balanced input [synapses_weights.py:  97] INFO     \t 21.0 +- 0.0 (n=1)\n",
      "\n",
      "05-07 12:28:09 balanced input [synapses_weights.py:  59] INFO     \t exc_syn: 398 (1)\t inh_syn: 100 (1)\n",
      "\n",
      "05-07 12:28:09 balanced input [synapses_weights.py:  64] INFO     \t 16 +- 0 (n=0)\n",
      "\n",
      "05-07 12:28:09 balanced input [synapses_weights.py:  59] INFO     \t exc_syn: 501 (1)\t inh_syn: 100 (1)\n",
      "\n",
      "05-07 12:28:09 balanced input [synapses_weights.py:  64] INFO     \t 16 +- 0 (n=0)\n",
      "\n",
      "05-07 12:28:09 balanced input [synapses_weights.py:  59] INFO     \t exc_syn: 630 (1)\t inh_syn: 100 (1)\n",
      "\n",
      "05-07 12:28:09 balanced input [synapses_weights.py:  64] INFO     \t 16 +- 0 (n=0)\n",
      "\n",
      "05-07 12:28:09 balanced input [synapses_weights.py:  59] INFO     \t exc_syn: 794 (1)\t inh_syn: 100 (1)\n",
      "\n",
      "05-07 12:28:09 balanced input [synapses_weights.py:  64] INFO     \t 16 +- 0 (n=0)\n",
      "\n",
      "05-07 12:28:09 balanced input [synapses_weights.py:  59] INFO     \t exc_syn: 1000 (1)\t inh_syn: 100 (1)\n",
      "\n",
      "05-07 12:28:09 balanced input [synapses_weights.py:  64] INFO     \t 16 +- 0 (n=0)\n",
      "\n",
      "05-07 12:28:09 balanced input [synapses_weights.py:  59] INFO     \t exc_syn: 0 (1)\t inh_syn: 125 (1)\n",
      "\n"
     ]
    },
    {
     "name": "stdout",
     "output_type": "stream",
     "text": [
      "1 excitatory synapse\n",
      "\t1 \n",
      "InhDendDistalRatio:1 \t ExcDendDistalRatio:1\n",
      "\t44 \n",
      "ninhL:125 \t ninhB:0 \t nexcL:1 \t nexcB:0 \n",
      "\t41 \n",
      "125 distal inhibitory synapses of type GABAa[0]\n",
      "1 distal excitatory synapses of type ProbAMPANMDA3_RATIO[0]\n",
      "synapses loaded \n",
      "\t17 \n",
      "\t1 \n"
     ]
    },
    {
     "name": "stderr",
     "output_type": "stream",
     "text": [
      "05-07 12:28:13 balanced input [synapses_weights.py:  79] INFO     \t \t spikes 0.0\n",
      "05-07 12:28:13 balanced input [synapses_weights.py:  83] INFO     \t break from too many 0's\n",
      "05-07 12:28:13 balanced input [synapses_weights.py:  97] INFO     \t 0.0 +- 0.0 (n=1)\n",
      "\n",
      "05-07 12:28:13 balanced input [synapses_weights.py:  59] INFO     \t exc_syn: 10 (1)\t inh_syn: 125 (1)\n",
      "\n"
     ]
    },
    {
     "name": "stdout",
     "output_type": "stream",
     "text": [
      "\t1 \n",
      "InhDendDistalRatio:1 \t ExcDendDistalRatio:1\n",
      "\t44 \n",
      "ninhL:125 \t ninhB:0 \t nexcL:10 \t nexcB:0 \n",
      "\t42 \n",
      "125 distal inhibitory synapses of type GABAa[0]\n",
      "10 distal excitatory synapses of type ProbAMPANMDA3_RATIO[0]\n",
      "synapses loaded \n",
      "\t17 \n",
      "\t1 \n"
     ]
    },
    {
     "name": "stderr",
     "output_type": "stream",
     "text": [
      "05-07 12:28:20 balanced input [synapses_weights.py:  79] INFO     \t \t spikes 0.0\n",
      "05-07 12:28:20 balanced input [synapses_weights.py:  83] INFO     \t break from too many 0's\n",
      "05-07 12:28:20 balanced input [synapses_weights.py:  97] INFO     \t 0.0 +- 0.0 (n=1)\n",
      "\n",
      "05-07 12:28:20 balanced input [synapses_weights.py:  59] INFO     \t exc_syn: 21 (1)\t inh_syn: 125 (1)\n",
      "\n"
     ]
    },
    {
     "name": "stdout",
     "output_type": "stream",
     "text": [
      "\t1 \n",
      "InhDendDistalRatio:1 \t ExcDendDistalRatio:1\n",
      "\t44 \n",
      "ninhL:125 \t ninhB:0 \t nexcL:21 \t nexcB:0 \n",
      "\t42 \n",
      "125 distal inhibitory synapses of type GABAa[0]\n",
      "21 distal excitatory synapses of type ProbAMPANMDA3_RATIO[0]\n",
      "synapses loaded \n",
      "\t17 \n",
      "\t1 \n"
     ]
    },
    {
     "name": "stderr",
     "output_type": "stream",
     "text": [
      "05-07 12:28:26 balanced input [synapses_weights.py:  79] INFO     \t \t spikes 0.0\n",
      "05-07 12:28:26 balanced input [synapses_weights.py:  83] INFO     \t break from too many 0's\n",
      "05-07 12:28:26 balanced input [synapses_weights.py:  97] INFO     \t 0.0 +- 0.0 (n=1)\n",
      "\n",
      "05-07 12:28:26 balanced input [synapses_weights.py:  59] INFO     \t exc_syn: 46 (1)\t inh_syn: 125 (1)\n",
      "\n"
     ]
    },
    {
     "name": "stdout",
     "output_type": "stream",
     "text": [
      "\t1 \n",
      "InhDendDistalRatio:1 \t ExcDendDistalRatio:1\n",
      "\t44 \n",
      "ninhL:125 \t ninhB:0 \t nexcL:46 \t nexcB:0 \n",
      "\t42 \n",
      "125 distal inhibitory synapses of type GABAa[0]\n",
      "46 distal excitatory synapses of type ProbAMPANMDA3_RATIO[0]\n",
      "synapses loaded \n",
      "\t17 \n",
      "\t1 \n"
     ]
    },
    {
     "name": "stderr",
     "output_type": "stream",
     "text": [
      "05-07 12:28:34 balanced input [synapses_weights.py:  79] INFO     \t \t spikes 0.0\n",
      "05-07 12:28:34 balanced input [synapses_weights.py:  83] INFO     \t break from too many 0's\n",
      "05-07 12:28:34 balanced input [synapses_weights.py:  97] INFO     \t 0.0 +- 0.0 (n=1)\n",
      "\n",
      "05-07 12:28:34 balanced input [synapses_weights.py:  59] INFO     \t exc_syn: 100 (1)\t inh_syn: 125 (1)\n",
      "\n"
     ]
    },
    {
     "name": "stdout",
     "output_type": "stream",
     "text": [
      "\t1 \n",
      "InhDendDistalRatio:1 \t ExcDendDistalRatio:1\n",
      "\t44 \n",
      "ninhL:125 \t ninhB:0 \t nexcL:100 \t nexcB:0 \n",
      "\t43 \n",
      "125 distal inhibitory synapses of type GABAa[0]\n",
      "100 distal excitatory synapses of type ProbAMPANMDA3_RATIO[0]\n",
      "synapses loaded \n",
      "\t17 \n",
      "\t1 \n"
     ]
    },
    {
     "name": "stderr",
     "output_type": "stream",
     "text": [
      "05-07 12:28:43 balanced input [synapses_weights.py:  79] INFO     \t \t spikes 1.0\n",
      "05-07 12:28:43 balanced input [synapses_weights.py:  97] INFO     \t 1.0 +- 0.0 (n=1)\n",
      "\n",
      "05-07 12:28:43 balanced input [synapses_weights.py:  59] INFO     \t exc_syn: 125 (1)\t inh_syn: 125 (1)\n",
      "\n"
     ]
    },
    {
     "name": "stdout",
     "output_type": "stream",
     "text": [
      "\t1 \n",
      "InhDendDistalRatio:1 \t ExcDendDistalRatio:1\n",
      "\t44 \n",
      "ninhL:125 \t ninhB:0 \t nexcL:125 \t nexcB:0 \n",
      "\t43 \n",
      "125 distal inhibitory synapses of type GABAa[0]\n",
      "125 distal excitatory synapses of type ProbAMPANMDA3_RATIO[0]\n",
      "synapses loaded \n",
      "\t17 \n",
      "\t1 \n"
     ]
    },
    {
     "name": "stderr",
     "output_type": "stream",
     "text": [
      "05-07 12:28:52 balanced input [synapses_weights.py:  79] INFO     \t \t spikes 1.0\n",
      "05-07 12:28:52 balanced input [synapses_weights.py:  97] INFO     \t 1.0 +- 0.0 (n=1)\n",
      "\n",
      "05-07 12:28:52 balanced input [synapses_weights.py:  59] INFO     \t exc_syn: 158 (1)\t inh_syn: 125 (1)\n",
      "\n"
     ]
    },
    {
     "name": "stdout",
     "output_type": "stream",
     "text": [
      "\t1 \n",
      "InhDendDistalRatio:1 \t ExcDendDistalRatio:1\n",
      "\t44 \n",
      "ninhL:125 \t ninhB:0 \t nexcL:158 \t nexcB:0 \n",
      "\t43 \n",
      "125 distal inhibitory synapses of type GABAa[0]\n",
      "158 distal excitatory synapses of type ProbAMPANMDA3_RATIO[0]\n",
      "synapses loaded \n",
      "\t17 \n",
      "\t1 \n"
     ]
    },
    {
     "name": "stderr",
     "output_type": "stream",
     "text": [
      "05-07 12:29:02 balanced input [synapses_weights.py:  79] INFO     \t \t spikes 1.0\n",
      "05-07 12:29:02 balanced input [synapses_weights.py:  97] INFO     \t 1.0 +- 0.0 (n=1)\n",
      "\n",
      "05-07 12:29:02 balanced input [synapses_weights.py:  59] INFO     \t exc_syn: 199 (1)\t inh_syn: 125 (1)\n",
      "\n"
     ]
    },
    {
     "name": "stdout",
     "output_type": "stream",
     "text": [
      "\t1 \n",
      "InhDendDistalRatio:1 \t ExcDendDistalRatio:1\n",
      "\t44 \n",
      "ninhL:125 \t ninhB:0 \t nexcL:199 \t nexcB:0 \n",
      "\t43 \n",
      "125 distal inhibitory synapses of type GABAa[0]\n",
      "199 distal excitatory synapses of type ProbAMPANMDA3_RATIO[0]\n",
      "synapses loaded \n",
      "\t17 \n",
      "\t1 \n"
     ]
    },
    {
     "name": "stderr",
     "output_type": "stream",
     "text": [
      "05-07 12:29:15 balanced input [synapses_weights.py:  79] INFO     \t \t spikes 2.0\n",
      "05-07 12:29:15 balanced input [synapses_weights.py:  97] INFO     \t 2.0 +- 0.0 (n=1)\n",
      "\n",
      "05-07 12:29:15 balanced input [synapses_weights.py:  59] INFO     \t exc_syn: 251 (1)\t inh_syn: 125 (1)\n",
      "\n"
     ]
    },
    {
     "name": "stdout",
     "output_type": "stream",
     "text": [
      "\t1 \n",
      "InhDendDistalRatio:1 \t ExcDendDistalRatio:1\n",
      "\t44 \n",
      "ninhL:125 \t ninhB:0 \t nexcL:251 \t nexcB:0 \n",
      "\t43 \n",
      "125 distal inhibitory synapses of type GABAa[0]\n",
      "251 distal excitatory synapses of type ProbAMPANMDA3_RATIO[0]\n",
      "synapses loaded \n",
      "\t17 \n",
      "\t1 \n"
     ]
    },
    {
     "name": "stderr",
     "output_type": "stream",
     "text": [
      "05-07 12:29:30 balanced input [synapses_weights.py:  79] INFO     \t \t spikes 5.0\n",
      "05-07 12:29:30 balanced input [synapses_weights.py:  97] INFO     \t 5.0 +- 0.0 (n=1)\n",
      "\n",
      "05-07 12:29:30 balanced input [synapses_weights.py:  59] INFO     \t exc_syn: 316 (1)\t inh_syn: 125 (1)\n",
      "\n"
     ]
    },
    {
     "name": "stdout",
     "output_type": "stream",
     "text": [
      "\t1 \n",
      "InhDendDistalRatio:1 \t ExcDendDistalRatio:1\n",
      "\t44 \n",
      "ninhL:125 \t ninhB:0 \t nexcL:316 \t nexcB:0 \n",
      "\t43 \n",
      "125 distal inhibitory synapses of type GABAa[0]\n",
      "316 distal excitatory synapses of type ProbAMPANMDA3_RATIO[0]\n",
      "synapses loaded \n",
      "\t17 \n",
      "\t1 \n"
     ]
    },
    {
     "name": "stderr",
     "output_type": "stream",
     "text": [
      "05-07 12:29:56 balanced input [synapses_weights.py:  79] INFO     \t \t spikes 19.0\n",
      "05-07 12:29:56 balanced input [synapses_weights.py:  90] INFO     \t break from above 15\n",
      "05-07 12:29:56 balanced input [synapses_weights.py:  97] INFO     \t 19.0 +- 0.0 (n=1)\n",
      "\n",
      "05-07 12:29:56 balanced input [synapses_weights.py:  59] INFO     \t exc_syn: 398 (1)\t inh_syn: 125 (1)\n",
      "\n",
      "05-07 12:29:56 balanced input [synapses_weights.py:  64] INFO     \t 16 +- 0 (n=0)\n",
      "\n",
      "05-07 12:29:56 balanced input [synapses_weights.py:  59] INFO     \t exc_syn: 501 (1)\t inh_syn: 125 (1)\n",
      "\n",
      "05-07 12:29:56 balanced input [synapses_weights.py:  64] INFO     \t 16 +- 0 (n=0)\n",
      "\n",
      "05-07 12:29:56 balanced input [synapses_weights.py:  59] INFO     \t exc_syn: 630 (1)\t inh_syn: 125 (1)\n",
      "\n",
      "05-07 12:29:56 balanced input [synapses_weights.py:  64] INFO     \t 16 +- 0 (n=0)\n",
      "\n",
      "05-07 12:29:56 balanced input [synapses_weights.py:  59] INFO     \t exc_syn: 794 (1)\t inh_syn: 125 (1)\n",
      "\n",
      "05-07 12:29:56 balanced input [synapses_weights.py:  64] INFO     \t 16 +- 0 (n=0)\n",
      "\n",
      "05-07 12:29:56 balanced input [synapses_weights.py:  59] INFO     \t exc_syn: 1000 (1)\t inh_syn: 125 (1)\n",
      "\n",
      "05-07 12:29:56 balanced input [synapses_weights.py:  64] INFO     \t 16 +- 0 (n=0)\n",
      "\n",
      "05-07 12:29:56 balanced input [synapses_weights.py:  59] INFO     \t exc_syn: 0 (1)\t inh_syn: 158 (1)\n",
      "\n"
     ]
    },
    {
     "name": "stdout",
     "output_type": "stream",
     "text": [
      "1 excitatory synapse\n",
      "\t1 \n",
      "InhDendDistalRatio:1 \t ExcDendDistalRatio:1\n",
      "\t44 \n",
      "ninhL:158 \t ninhB:0 \t nexcL:1 \t nexcB:0 \n",
      "\t41 \n",
      "158 distal inhibitory synapses of type GABAa[0]\n",
      "1 distal excitatory synapses of type ProbAMPANMDA3_RATIO[0]\n",
      "synapses loaded \n",
      "\t17 \n",
      "\t1 \n"
     ]
    },
    {
     "name": "stderr",
     "output_type": "stream",
     "text": [
      "05-07 12:30:02 balanced input [synapses_weights.py:  79] INFO     \t \t spikes 0.0\n",
      "05-07 12:30:02 balanced input [synapses_weights.py:  83] INFO     \t break from too many 0's\n",
      "05-07 12:30:02 balanced input [synapses_weights.py:  97] INFO     \t 0.0 +- 0.0 (n=1)\n",
      "\n",
      "05-07 12:30:02 balanced input [synapses_weights.py:  59] INFO     \t exc_syn: 10 (1)\t inh_syn: 158 (1)\n",
      "\n"
     ]
    },
    {
     "name": "stdout",
     "output_type": "stream",
     "text": [
      "\t1 \n",
      "InhDendDistalRatio:1 \t ExcDendDistalRatio:1\n",
      "\t44 \n",
      "ninhL:158 \t ninhB:0 \t nexcL:10 \t nexcB:0 \n",
      "\t42 \n",
      "158 distal inhibitory synapses of type GABAa[0]\n",
      "10 distal excitatory synapses of type ProbAMPANMDA3_RATIO[0]\n",
      "synapses loaded \n",
      "\t17 \n",
      "\t1 \n"
     ]
    },
    {
     "name": "stderr",
     "output_type": "stream",
     "text": [
      "05-07 12:30:09 balanced input [synapses_weights.py:  79] INFO     \t \t spikes 0.0\n",
      "05-07 12:30:09 balanced input [synapses_weights.py:  83] INFO     \t break from too many 0's\n",
      "05-07 12:30:09 balanced input [synapses_weights.py:  97] INFO     \t 0.0 +- 0.0 (n=1)\n",
      "\n",
      "05-07 12:30:09 balanced input [synapses_weights.py:  59] INFO     \t exc_syn: 21 (1)\t inh_syn: 158 (1)\n",
      "\n"
     ]
    },
    {
     "name": "stdout",
     "output_type": "stream",
     "text": [
      "\t1 \n",
      "InhDendDistalRatio:1 \t ExcDendDistalRatio:1\n",
      "\t44 \n",
      "ninhL:158 \t ninhB:0 \t nexcL:21 \t nexcB:0 \n",
      "\t42 \n",
      "158 distal inhibitory synapses of type GABAa[0]\n",
      "21 distal excitatory synapses of type ProbAMPANMDA3_RATIO[0]\n",
      "synapses loaded \n",
      "\t17 \n",
      "\t1 \n"
     ]
    },
    {
     "name": "stderr",
     "output_type": "stream",
     "text": [
      "05-07 12:30:16 balanced input [synapses_weights.py:  79] INFO     \t \t spikes 0.0\n",
      "05-07 12:30:16 balanced input [synapses_weights.py:  83] INFO     \t break from too many 0's\n",
      "05-07 12:30:16 balanced input [synapses_weights.py:  97] INFO     \t 0.0 +- 0.0 (n=1)\n",
      "\n",
      "05-07 12:30:16 balanced input [synapses_weights.py:  59] INFO     \t exc_syn: 46 (1)\t inh_syn: 158 (1)\n",
      "\n"
     ]
    },
    {
     "name": "stdout",
     "output_type": "stream",
     "text": [
      "\t1 \n",
      "InhDendDistalRatio:1 \t ExcDendDistalRatio:1\n",
      "\t44 \n",
      "ninhL:158 \t ninhB:0 \t nexcL:46 \t nexcB:0 \n",
      "\t42 \n",
      "158 distal inhibitory synapses of type GABAa[0]\n",
      "46 distal excitatory synapses of type ProbAMPANMDA3_RATIO[0]\n",
      "synapses loaded \n",
      "\t17 \n",
      "\t1 \n"
     ]
    },
    {
     "name": "stderr",
     "output_type": "stream",
     "text": [
      "05-07 12:30:25 balanced input [synapses_weights.py:  79] INFO     \t \t spikes 0.0\n",
      "05-07 12:30:25 balanced input [synapses_weights.py:  83] INFO     \t break from too many 0's\n",
      "05-07 12:30:25 balanced input [synapses_weights.py:  97] INFO     \t 0.0 +- 0.0 (n=1)\n",
      "\n",
      "05-07 12:30:25 balanced input [synapses_weights.py:  59] INFO     \t exc_syn: 100 (1)\t inh_syn: 158 (1)\n",
      "\n"
     ]
    },
    {
     "name": "stdout",
     "output_type": "stream",
     "text": [
      "\t1 \n",
      "InhDendDistalRatio:1 \t ExcDendDistalRatio:1\n",
      "\t44 \n",
      "ninhL:158 \t ninhB:0 \t nexcL:100 \t nexcB:0 \n",
      "\t43 \n",
      "158 distal inhibitory synapses of type GABAa[0]\n",
      "100 distal excitatory synapses of type ProbAMPANMDA3_RATIO[0]\n",
      "synapses loaded \n",
      "\t17 \n",
      "\t1 \n"
     ]
    },
    {
     "name": "stderr",
     "output_type": "stream",
     "text": [
      "05-07 12:30:35 balanced input [synapses_weights.py:  79] INFO     \t \t spikes 1.0\n",
      "05-07 12:30:35 balanced input [synapses_weights.py:  97] INFO     \t 1.0 +- 0.0 (n=1)\n",
      "\n",
      "05-07 12:30:35 balanced input [synapses_weights.py:  59] INFO     \t exc_syn: 125 (1)\t inh_syn: 158 (1)\n",
      "\n"
     ]
    },
    {
     "name": "stdout",
     "output_type": "stream",
     "text": [
      "\t1 \n",
      "InhDendDistalRatio:1 \t ExcDendDistalRatio:1\n",
      "\t44 \n",
      "ninhL:158 \t ninhB:0 \t nexcL:125 \t nexcB:0 \n",
      "\t43 \n",
      "158 distal inhibitory synapses of type GABAa[0]\n",
      "125 distal excitatory synapses of type ProbAMPANMDA3_RATIO[0]\n",
      "synapses loaded \n",
      "\t17 \n",
      "\t1 \n"
     ]
    },
    {
     "name": "stderr",
     "output_type": "stream",
     "text": [
      "05-07 12:30:45 balanced input [synapses_weights.py:  79] INFO     \t \t spikes 1.0\n",
      "05-07 12:30:45 balanced input [synapses_weights.py:  97] INFO     \t 1.0 +- 0.0 (n=1)\n",
      "\n",
      "05-07 12:30:45 balanced input [synapses_weights.py:  59] INFO     \t exc_syn: 158 (1)\t inh_syn: 158 (1)\n",
      "\n"
     ]
    },
    {
     "name": "stdout",
     "output_type": "stream",
     "text": [
      "\t1 \n",
      "InhDendDistalRatio:1 \t ExcDendDistalRatio:1\n",
      "\t44 \n",
      "ninhL:158 \t ninhB:0 \t nexcL:158 \t nexcB:0 \n",
      "\t43 \n",
      "158 distal inhibitory synapses of type GABAa[0]\n",
      "158 distal excitatory synapses of type ProbAMPANMDA3_RATIO[0]\n",
      "synapses loaded \n",
      "\t17 \n",
      "\t1 \n"
     ]
    },
    {
     "name": "stderr",
     "output_type": "stream",
     "text": [
      "05-07 12:30:57 balanced input [synapses_weights.py:  79] INFO     \t \t spikes 1.0\n",
      "05-07 12:30:57 balanced input [synapses_weights.py:  97] INFO     \t 1.0 +- 0.0 (n=1)\n",
      "\n",
      "05-07 12:30:57 balanced input [synapses_weights.py:  59] INFO     \t exc_syn: 199 (1)\t inh_syn: 158 (1)\n",
      "\n"
     ]
    },
    {
     "name": "stdout",
     "output_type": "stream",
     "text": [
      "\t1 \n",
      "InhDendDistalRatio:1 \t ExcDendDistalRatio:1\n",
      "\t44 \n",
      "ninhL:158 \t ninhB:0 \t nexcL:199 \t nexcB:0 \n",
      "\t43 \n",
      "158 distal inhibitory synapses of type GABAa[0]\n",
      "199 distal excitatory synapses of type ProbAMPANMDA3_RATIO[0]\n",
      "synapses loaded \n",
      "\t17 \n",
      "\t1 \n"
     ]
    },
    {
     "name": "stderr",
     "output_type": "stream",
     "text": [
      "05-07 12:31:10 balanced input [synapses_weights.py:  79] INFO     \t \t spikes 2.0\n",
      "05-07 12:31:10 balanced input [synapses_weights.py:  97] INFO     \t 2.0 +- 0.0 (n=1)\n",
      "\n",
      "05-07 12:31:10 balanced input [synapses_weights.py:  59] INFO     \t exc_syn: 251 (1)\t inh_syn: 158 (1)\n",
      "\n"
     ]
    },
    {
     "name": "stdout",
     "output_type": "stream",
     "text": [
      "\t1 \n",
      "InhDendDistalRatio:1 \t ExcDendDistalRatio:1\n",
      "\t44 \n",
      "ninhL:158 \t ninhB:0 \t nexcL:251 \t nexcB:0 \n",
      "\t43 \n",
      "158 distal inhibitory synapses of type GABAa[0]\n",
      "251 distal excitatory synapses of type ProbAMPANMDA3_RATIO[0]\n",
      "synapses loaded \n",
      "\t17 \n",
      "\t1 \n"
     ]
    },
    {
     "name": "stderr",
     "output_type": "stream",
     "text": [
      "05-07 12:31:26 balanced input [synapses_weights.py:  79] INFO     \t \t spikes 4.0\n",
      "05-07 12:31:26 balanced input [synapses_weights.py:  97] INFO     \t 4.0 +- 0.0 (n=1)\n",
      "\n",
      "05-07 12:31:26 balanced input [synapses_weights.py:  59] INFO     \t exc_syn: 316 (1)\t inh_syn: 158 (1)\n",
      "\n"
     ]
    },
    {
     "name": "stdout",
     "output_type": "stream",
     "text": [
      "\t1 \n",
      "InhDendDistalRatio:1 \t ExcDendDistalRatio:1\n",
      "\t44 \n",
      "ninhL:158 \t ninhB:0 \t nexcL:316 \t nexcB:0 \n",
      "\t43 \n",
      "158 distal inhibitory synapses of type GABAa[0]\n",
      "316 distal excitatory synapses of type ProbAMPANMDA3_RATIO[0]\n",
      "synapses loaded \n",
      "\t17 \n",
      "\t1 \n"
     ]
    },
    {
     "name": "stderr",
     "output_type": "stream",
     "text": [
      "05-07 12:31:53 balanced input [synapses_weights.py:  79] INFO     \t \t spikes 17.0\n",
      "05-07 12:31:53 balanced input [synapses_weights.py:  90] INFO     \t break from above 15\n",
      "05-07 12:31:53 balanced input [synapses_weights.py:  97] INFO     \t 17.0 +- 0.0 (n=1)\n",
      "\n",
      "05-07 12:31:53 balanced input [synapses_weights.py:  59] INFO     \t exc_syn: 398 (1)\t inh_syn: 158 (1)\n",
      "\n",
      "05-07 12:31:53 balanced input [synapses_weights.py:  64] INFO     \t 16 +- 0 (n=0)\n",
      "\n",
      "05-07 12:31:53 balanced input [synapses_weights.py:  59] INFO     \t exc_syn: 501 (1)\t inh_syn: 158 (1)\n",
      "\n",
      "05-07 12:31:53 balanced input [synapses_weights.py:  64] INFO     \t 16 +- 0 (n=0)\n",
      "\n",
      "05-07 12:31:53 balanced input [synapses_weights.py:  59] INFO     \t exc_syn: 630 (1)\t inh_syn: 158 (1)\n",
      "\n",
      "05-07 12:31:53 balanced input [synapses_weights.py:  64] INFO     \t 16 +- 0 (n=0)\n",
      "\n",
      "05-07 12:31:53 balanced input [synapses_weights.py:  59] INFO     \t exc_syn: 794 (1)\t inh_syn: 158 (1)\n",
      "\n",
      "05-07 12:31:53 balanced input [synapses_weights.py:  64] INFO     \t 16 +- 0 (n=0)\n",
      "\n",
      "05-07 12:31:53 balanced input [synapses_weights.py:  59] INFO     \t exc_syn: 1000 (1)\t inh_syn: 158 (1)\n",
      "\n",
      "05-07 12:31:53 balanced input [synapses_weights.py:  64] INFO     \t 16 +- 0 (n=0)\n",
      "\n",
      "05-07 12:31:53 balanced input [synapses_weights.py:  59] INFO     \t exc_syn: 0 (1)\t inh_syn: 199 (1)\n",
      "\n"
     ]
    },
    {
     "name": "stdout",
     "output_type": "stream",
     "text": [
      "1 excitatory synapse\n",
      "\t1 \n",
      "InhDendDistalRatio:1 \t ExcDendDistalRatio:1\n",
      "\t44 \n",
      "ninhL:199 \t ninhB:0 \t nexcL:1 \t nexcB:0 \n",
      "\t41 \n",
      "199 distal inhibitory synapses of type GABAa[0]\n",
      "1 distal excitatory synapses of type ProbAMPANMDA3_RATIO[0]\n",
      "synapses loaded \n",
      "\t17 \n",
      "\t1 \n"
     ]
    },
    {
     "name": "stderr",
     "output_type": "stream",
     "text": [
      "05-07 12:32:00 balanced input [synapses_weights.py:  79] INFO     \t \t spikes 0.0\n",
      "05-07 12:32:00 balanced input [synapses_weights.py:  83] INFO     \t break from too many 0's\n",
      "05-07 12:32:00 balanced input [synapses_weights.py:  97] INFO     \t 0.0 +- 0.0 (n=1)\n",
      "\n",
      "05-07 12:32:00 balanced input [synapses_weights.py:  59] INFO     \t exc_syn: 10 (1)\t inh_syn: 199 (1)\n",
      "\n"
     ]
    },
    {
     "name": "stdout",
     "output_type": "stream",
     "text": [
      "\t1 \n",
      "InhDendDistalRatio:1 \t ExcDendDistalRatio:1\n",
      "\t44 \n",
      "ninhL:199 \t ninhB:0 \t nexcL:10 \t nexcB:0 \n",
      "\t42 \n",
      "199 distal inhibitory synapses of type GABAa[0]\n",
      "10 distal excitatory synapses of type ProbAMPANMDA3_RATIO[0]\n",
      "synapses loaded \n",
      "\t17 \n",
      "\t1 \n"
     ]
    },
    {
     "name": "stderr",
     "output_type": "stream",
     "text": [
      "05-07 12:32:07 balanced input [synapses_weights.py:  79] INFO     \t \t spikes 0.0\n",
      "05-07 12:32:07 balanced input [synapses_weights.py:  83] INFO     \t break from too many 0's\n",
      "05-07 12:32:07 balanced input [synapses_weights.py:  97] INFO     \t 0.0 +- 0.0 (n=1)\n",
      "\n",
      "05-07 12:32:07 balanced input [synapses_weights.py:  59] INFO     \t exc_syn: 21 (1)\t inh_syn: 199 (1)\n",
      "\n"
     ]
    },
    {
     "name": "stdout",
     "output_type": "stream",
     "text": [
      "\t1 \n",
      "InhDendDistalRatio:1 \t ExcDendDistalRatio:1\n",
      "\t44 \n",
      "ninhL:199 \t ninhB:0 \t nexcL:21 \t nexcB:0 \n",
      "\t42 \n",
      "199 distal inhibitory synapses of type GABAa[0]\n",
      "21 distal excitatory synapses of type ProbAMPANMDA3_RATIO[0]\n",
      "synapses loaded \n",
      "\t17 \n",
      "\t1 \n"
     ]
    },
    {
     "name": "stderr",
     "output_type": "stream",
     "text": [
      "05-07 12:32:15 balanced input [synapses_weights.py:  79] INFO     \t \t spikes 0.0\n",
      "05-07 12:32:15 balanced input [synapses_weights.py:  83] INFO     \t break from too many 0's\n",
      "05-07 12:32:15 balanced input [synapses_weights.py:  97] INFO     \t 0.0 +- 0.0 (n=1)\n",
      "\n",
      "05-07 12:32:15 balanced input [synapses_weights.py:  59] INFO     \t exc_syn: 46 (1)\t inh_syn: 199 (1)\n",
      "\n"
     ]
    },
    {
     "name": "stdout",
     "output_type": "stream",
     "text": [
      "\t1 \n",
      "InhDendDistalRatio:1 \t ExcDendDistalRatio:1\n",
      "\t44 \n",
      "ninhL:199 \t ninhB:0 \t nexcL:46 \t nexcB:0 \n",
      "\t42 \n",
      "199 distal inhibitory synapses of type GABAa[0]\n",
      "46 distal excitatory synapses of type ProbAMPANMDA3_RATIO[0]\n",
      "synapses loaded \n",
      "\t17 \n",
      "\t1 \n"
     ]
    },
    {
     "name": "stderr",
     "output_type": "stream",
     "text": [
      "05-07 12:32:25 balanced input [synapses_weights.py:  79] INFO     \t \t spikes 0.0\n",
      "05-07 12:32:25 balanced input [synapses_weights.py:  83] INFO     \t break from too many 0's\n",
      "05-07 12:32:25 balanced input [synapses_weights.py:  97] INFO     \t 0.0 +- 0.0 (n=1)\n",
      "\n",
      "05-07 12:32:25 balanced input [synapses_weights.py:  59] INFO     \t exc_syn: 100 (1)\t inh_syn: 199 (1)\n",
      "\n"
     ]
    },
    {
     "name": "stdout",
     "output_type": "stream",
     "text": [
      "\t1 \n",
      "InhDendDistalRatio:1 \t ExcDendDistalRatio:1\n",
      "\t44 \n",
      "ninhL:199 \t ninhB:0 \t nexcL:100 \t nexcB:0 \n",
      "\t43 \n",
      "199 distal inhibitory synapses of type GABAa[0]\n",
      "100 distal excitatory synapses of type ProbAMPANMDA3_RATIO[0]\n",
      "synapses loaded \n",
      "\t17 \n",
      "\t1 \n"
     ]
    },
    {
     "name": "stderr",
     "output_type": "stream",
     "text": [
      "05-07 12:32:38 balanced input [synapses_weights.py:  79] INFO     \t \t spikes 1.0\n",
      "05-07 12:32:38 balanced input [synapses_weights.py:  97] INFO     \t 1.0 +- 0.0 (n=1)\n",
      "\n",
      "05-07 12:32:38 balanced input [synapses_weights.py:  59] INFO     \t exc_syn: 125 (1)\t inh_syn: 199 (1)\n",
      "\n"
     ]
    },
    {
     "name": "stdout",
     "output_type": "stream",
     "text": [
      "\t1 \n",
      "InhDendDistalRatio:1 \t ExcDendDistalRatio:1\n",
      "\t44 \n",
      "ninhL:199 \t ninhB:0 \t nexcL:125 \t nexcB:0 \n",
      "\t43 \n",
      "199 distal inhibitory synapses of type GABAa[0]\n",
      "125 distal excitatory synapses of type ProbAMPANMDA3_RATIO[0]\n",
      "synapses loaded \n",
      "\t17 \n",
      "\t1 \n"
     ]
    },
    {
     "name": "stderr",
     "output_type": "stream",
     "text": [
      "05-07 12:32:51 balanced input [synapses_weights.py:  79] INFO     \t \t spikes 1.0\n",
      "05-07 12:32:51 balanced input [synapses_weights.py:  97] INFO     \t 1.0 +- 0.0 (n=1)\n",
      "\n",
      "05-07 12:32:51 balanced input [synapses_weights.py:  59] INFO     \t exc_syn: 158 (1)\t inh_syn: 199 (1)\n",
      "\n"
     ]
    },
    {
     "name": "stdout",
     "output_type": "stream",
     "text": [
      "\t1 \n",
      "InhDendDistalRatio:1 \t ExcDendDistalRatio:1\n",
      "\t44 \n",
      "ninhL:199 \t ninhB:0 \t nexcL:158 \t nexcB:0 \n",
      "\t43 \n",
      "199 distal inhibitory synapses of type GABAa[0]\n",
      "158 distal excitatory synapses of type ProbAMPANMDA3_RATIO[0]\n",
      "synapses loaded \n",
      "\t17 \n",
      "\t1 \n"
     ]
    },
    {
     "name": "stderr",
     "output_type": "stream",
     "text": [
      "05-07 12:33:05 balanced input [synapses_weights.py:  79] INFO     \t \t spikes 1.0\n",
      "05-07 12:33:05 balanced input [synapses_weights.py:  97] INFO     \t 1.0 +- 0.0 (n=1)\n",
      "\n",
      "05-07 12:33:05 balanced input [synapses_weights.py:  59] INFO     \t exc_syn: 199 (1)\t inh_syn: 199 (1)\n",
      "\n"
     ]
    },
    {
     "name": "stdout",
     "output_type": "stream",
     "text": [
      "\t1 \n",
      "InhDendDistalRatio:1 \t ExcDendDistalRatio:1\n",
      "\t44 \n",
      "ninhL:199 \t ninhB:0 \t nexcL:199 \t nexcB:0 \n",
      "\t43 \n",
      "199 distal inhibitory synapses of type GABAa[0]\n",
      "199 distal excitatory synapses of type ProbAMPANMDA3_RATIO[0]\n",
      "synapses loaded \n",
      "\t17 \n",
      "\t1 \n"
     ]
    },
    {
     "name": "stderr",
     "output_type": "stream",
     "text": [
      "05-07 12:33:19 balanced input [synapses_weights.py:  79] INFO     \t \t spikes 2.0\n",
      "05-07 12:33:19 balanced input [synapses_weights.py:  97] INFO     \t 2.0 +- 0.0 (n=1)\n",
      "\n",
      "05-07 12:33:19 balanced input [synapses_weights.py:  59] INFO     \t exc_syn: 251 (1)\t inh_syn: 199 (1)\n",
      "\n"
     ]
    },
    {
     "name": "stdout",
     "output_type": "stream",
     "text": [
      "\t1 \n",
      "InhDendDistalRatio:1 \t ExcDendDistalRatio:1\n",
      "\t44 \n",
      "ninhL:199 \t ninhB:0 \t nexcL:251 \t nexcB:0 \n",
      "\t43 \n",
      "199 distal inhibitory synapses of type GABAa[0]\n",
      "251 distal excitatory synapses of type ProbAMPANMDA3_RATIO[0]\n",
      "synapses loaded \n",
      "\t17 \n",
      "\t1 \n"
     ]
    },
    {
     "name": "stderr",
     "output_type": "stream",
     "text": [
      "05-07 12:33:37 balanced input [synapses_weights.py:  79] INFO     \t \t spikes 4.0\n",
      "05-07 12:33:37 balanced input [synapses_weights.py:  97] INFO     \t 4.0 +- 0.0 (n=1)\n",
      "\n",
      "05-07 12:33:38 balanced input [synapses_weights.py:  59] INFO     \t exc_syn: 316 (1)\t inh_syn: 199 (1)\n",
      "\n"
     ]
    },
    {
     "name": "stdout",
     "output_type": "stream",
     "text": [
      "\t1 \n",
      "InhDendDistalRatio:1 \t ExcDendDistalRatio:1\n",
      "\t44 \n",
      "ninhL:199 \t ninhB:0 \t nexcL:316 \t nexcB:0 \n",
      "\t43 \n",
      "199 distal inhibitory synapses of type GABAa[0]\n",
      "316 distal excitatory synapses of type ProbAMPANMDA3_RATIO[0]\n",
      "synapses loaded \n",
      "\t17 \n",
      "\t1 \n"
     ]
    },
    {
     "name": "stderr",
     "output_type": "stream",
     "text": [
      "05-07 12:34:05 balanced input [synapses_weights.py:  79] INFO     \t \t spikes 16.0\n",
      "05-07 12:34:05 balanced input [synapses_weights.py:  90] INFO     \t break from above 15\n",
      "05-07 12:34:05 balanced input [synapses_weights.py:  97] INFO     \t 16.0 +- 0.0 (n=1)\n",
      "\n",
      "05-07 12:34:05 balanced input [synapses_weights.py:  59] INFO     \t exc_syn: 398 (1)\t inh_syn: 199 (1)\n",
      "\n",
      "05-07 12:34:05 balanced input [synapses_weights.py:  64] INFO     \t 16 +- 0 (n=0)\n",
      "\n",
      "05-07 12:34:05 balanced input [synapses_weights.py:  59] INFO     \t exc_syn: 501 (1)\t inh_syn: 199 (1)\n",
      "\n",
      "05-07 12:34:05 balanced input [synapses_weights.py:  64] INFO     \t 16 +- 0 (n=0)\n",
      "\n",
      "05-07 12:34:05 balanced input [synapses_weights.py:  59] INFO     \t exc_syn: 630 (1)\t inh_syn: 199 (1)\n",
      "\n",
      "05-07 12:34:05 balanced input [synapses_weights.py:  64] INFO     \t 16 +- 0 (n=0)\n",
      "\n",
      "05-07 12:34:05 balanced input [synapses_weights.py:  59] INFO     \t exc_syn: 794 (1)\t inh_syn: 199 (1)\n",
      "\n",
      "05-07 12:34:05 balanced input [synapses_weights.py:  64] INFO     \t 16 +- 0 (n=0)\n",
      "\n",
      "05-07 12:34:05 balanced input [synapses_weights.py:  59] INFO     \t exc_syn: 1000 (1)\t inh_syn: 199 (1)\n",
      "\n",
      "05-07 12:34:05 balanced input [synapses_weights.py:  64] INFO     \t 16 +- 0 (n=0)\n",
      "\n",
      "05-07 12:34:05 balanced input [synapses_weights.py:  59] INFO     \t exc_syn: 0 (1)\t inh_syn: 251 (1)\n",
      "\n"
     ]
    },
    {
     "name": "stdout",
     "output_type": "stream",
     "text": [
      "1 excitatory synapse\n",
      "\t1 \n",
      "InhDendDistalRatio:1 \t ExcDendDistalRatio:1\n",
      "\t44 \n",
      "ninhL:251 \t ninhB:0 \t nexcL:1 \t nexcB:0 \n",
      "\t41 \n",
      "251 distal inhibitory synapses of type GABAa[0]\n",
      "1 distal excitatory synapses of type ProbAMPANMDA3_RATIO[0]\n",
      "synapses loaded \n",
      "\t17 \n",
      "\t1 \n"
     ]
    },
    {
     "name": "stderr",
     "output_type": "stream",
     "text": [
      "05-07 12:34:16 balanced input [synapses_weights.py:  79] INFO     \t \t spikes 0.0\n",
      "05-07 12:34:16 balanced input [synapses_weights.py:  83] INFO     \t break from too many 0's\n",
      "05-07 12:34:16 balanced input [synapses_weights.py:  97] INFO     \t 0.0 +- 0.0 (n=1)\n",
      "\n",
      "05-07 12:34:16 balanced input [synapses_weights.py:  59] INFO     \t exc_syn: 10 (1)\t inh_syn: 251 (1)\n",
      "\n"
     ]
    },
    {
     "name": "stdout",
     "output_type": "stream",
     "text": [
      "\t1 \n",
      "InhDendDistalRatio:1 \t ExcDendDistalRatio:1\n",
      "\t44 \n",
      "ninhL:251 \t ninhB:0 \t nexcL:10 \t nexcB:0 \n",
      "\t42 \n",
      "251 distal inhibitory synapses of type GABAa[0]\n",
      "10 distal excitatory synapses of type ProbAMPANMDA3_RATIO[0]\n",
      "synapses loaded \n",
      "\t17 \n",
      "\t1 \n"
     ]
    },
    {
     "name": "stderr",
     "output_type": "stream",
     "text": [
      "05-07 12:34:30 balanced input [synapses_weights.py:  79] INFO     \t \t spikes 0.0\n",
      "05-07 12:34:30 balanced input [synapses_weights.py:  83] INFO     \t break from too many 0's\n",
      "05-07 12:34:30 balanced input [synapses_weights.py:  97] INFO     \t 0.0 +- 0.0 (n=1)\n",
      "\n",
      "05-07 12:34:30 balanced input [synapses_weights.py:  59] INFO     \t exc_syn: 21 (1)\t inh_syn: 251 (1)\n",
      "\n"
     ]
    },
    {
     "name": "stdout",
     "output_type": "stream",
     "text": [
      "\t1 \n",
      "InhDendDistalRatio:1 \t ExcDendDistalRatio:1\n",
      "\t44 \n",
      "ninhL:251 \t ninhB:0 \t nexcL:21 \t nexcB:0 \n",
      "\t42 \n",
      "251 distal inhibitory synapses of type GABAa[0]\n",
      "21 distal excitatory synapses of type ProbAMPANMDA3_RATIO[0]\n",
      "synapses loaded \n",
      "\t17 \n",
      "\t1 \n"
     ]
    },
    {
     "name": "stderr",
     "output_type": "stream",
     "text": [
      "05-07 12:34:46 balanced input [synapses_weights.py:  79] INFO     \t \t spikes 0.0\n",
      "05-07 12:34:46 balanced input [synapses_weights.py:  83] INFO     \t break from too many 0's\n",
      "05-07 12:34:46 balanced input [synapses_weights.py:  97] INFO     \t 0.0 +- 0.0 (n=1)\n",
      "\n",
      "05-07 12:34:46 balanced input [synapses_weights.py:  59] INFO     \t exc_syn: 46 (1)\t inh_syn: 251 (1)\n",
      "\n"
     ]
    },
    {
     "name": "stdout",
     "output_type": "stream",
     "text": [
      "\t1 \n",
      "InhDendDistalRatio:1 \t ExcDendDistalRatio:1\n",
      "\t44 \n",
      "ninhL:251 \t ninhB:0 \t nexcL:46 \t nexcB:0 \n",
      "\t42 \n",
      "251 distal inhibitory synapses of type GABAa[0]\n",
      "46 distal excitatory synapses of type ProbAMPANMDA3_RATIO[0]\n",
      "synapses loaded \n",
      "\t17 \n",
      "\t1 \n"
     ]
    },
    {
     "name": "stderr",
     "output_type": "stream",
     "text": [
      "05-07 12:35:05 balanced input [synapses_weights.py:  79] INFO     \t \t spikes 0.0\n",
      "05-07 12:35:05 balanced input [synapses_weights.py:  83] INFO     \t break from too many 0's\n",
      "05-07 12:35:05 balanced input [synapses_weights.py:  97] INFO     \t 0.0 +- 0.0 (n=1)\n",
      "\n",
      "05-07 12:35:05 balanced input [synapses_weights.py:  59] INFO     \t exc_syn: 100 (1)\t inh_syn: 251 (1)\n",
      "\n"
     ]
    },
    {
     "name": "stdout",
     "output_type": "stream",
     "text": [
      "\t1 \n",
      "InhDendDistalRatio:1 \t ExcDendDistalRatio:1\n",
      "\t44 \n",
      "ninhL:251 \t ninhB:0 \t nexcL:100 \t nexcB:0 \n",
      "\t43 \n",
      "251 distal inhibitory synapses of type GABAa[0]\n",
      "100 distal excitatory synapses of type ProbAMPANMDA3_RATIO[0]\n",
      "synapses loaded \n",
      "\t17 \n",
      "\t1 \n"
     ]
    },
    {
     "name": "stderr",
     "output_type": "stream",
     "text": [
      "05-07 12:35:21 balanced input [synapses_weights.py:  79] INFO     \t \t spikes 1.0\n",
      "05-07 12:35:21 balanced input [synapses_weights.py:  97] INFO     \t 1.0 +- 0.0 (n=1)\n",
      "\n",
      "05-07 12:35:21 balanced input [synapses_weights.py:  59] INFO     \t exc_syn: 125 (1)\t inh_syn: 251 (1)\n",
      "\n"
     ]
    },
    {
     "name": "stdout",
     "output_type": "stream",
     "text": [
      "\t1 \n",
      "InhDendDistalRatio:1 \t ExcDendDistalRatio:1\n",
      "\t44 \n",
      "ninhL:251 \t ninhB:0 \t nexcL:125 \t nexcB:0 \n",
      "\t43 \n",
      "251 distal inhibitory synapses of type GABAa[0]\n",
      "125 distal excitatory synapses of type ProbAMPANMDA3_RATIO[0]\n",
      "synapses loaded \n",
      "\t17 \n",
      "\t1 \n"
     ]
    },
    {
     "name": "stderr",
     "output_type": "stream",
     "text": [
      "05-07 12:35:38 balanced input [synapses_weights.py:  79] INFO     \t \t spikes 1.0\n",
      "05-07 12:35:38 balanced input [synapses_weights.py:  97] INFO     \t 1.0 +- 0.0 (n=1)\n",
      "\n",
      "05-07 12:35:38 balanced input [synapses_weights.py:  59] INFO     \t exc_syn: 158 (1)\t inh_syn: 251 (1)\n",
      "\n"
     ]
    },
    {
     "name": "stdout",
     "output_type": "stream",
     "text": [
      "\t1 \n",
      "InhDendDistalRatio:1 \t ExcDendDistalRatio:1\n",
      "\t44 \n",
      "ninhL:251 \t ninhB:0 \t nexcL:158 \t nexcB:0 \n",
      "\t43 \n",
      "251 distal inhibitory synapses of type GABAa[0]\n",
      "158 distal excitatory synapses of type ProbAMPANMDA3_RATIO[0]\n",
      "synapses loaded \n",
      "\t17 \n",
      "\t1 \n"
     ]
    },
    {
     "name": "stderr",
     "output_type": "stream",
     "text": [
      "05-07 12:35:56 balanced input [synapses_weights.py:  79] INFO     \t \t spikes 1.0\n",
      "05-07 12:35:56 balanced input [synapses_weights.py:  97] INFO     \t 1.0 +- 0.0 (n=1)\n",
      "\n",
      "05-07 12:35:56 balanced input [synapses_weights.py:  59] INFO     \t exc_syn: 199 (1)\t inh_syn: 251 (1)\n",
      "\n"
     ]
    },
    {
     "name": "stdout",
     "output_type": "stream",
     "text": [
      "\t1 \n",
      "InhDendDistalRatio:1 \t ExcDendDistalRatio:1\n",
      "\t44 \n",
      "ninhL:251 \t ninhB:0 \t nexcL:199 \t nexcB:0 \n",
      "\t43 \n",
      "251 distal inhibitory synapses of type GABAa[0]\n",
      "199 distal excitatory synapses of type ProbAMPANMDA3_RATIO[0]\n",
      "synapses loaded \n",
      "\t17 \n",
      "\t1 \n"
     ]
    },
    {
     "name": "stderr",
     "output_type": "stream",
     "text": [
      "05-07 12:36:15 balanced input [synapses_weights.py:  79] INFO     \t \t spikes 2.0\n",
      "05-07 12:36:15 balanced input [synapses_weights.py:  97] INFO     \t 2.0 +- 0.0 (n=1)\n",
      "\n",
      "05-07 12:36:15 balanced input [synapses_weights.py:  59] INFO     \t exc_syn: 251 (1)\t inh_syn: 251 (1)\n",
      "\n"
     ]
    },
    {
     "name": "stdout",
     "output_type": "stream",
     "text": [
      "\t1 \n",
      "InhDendDistalRatio:1 \t ExcDendDistalRatio:1\n",
      "\t44 \n",
      "ninhL:251 \t ninhB:0 \t nexcL:251 \t nexcB:0 \n",
      "\t43 \n",
      "251 distal inhibitory synapses of type GABAa[0]\n",
      "251 distal excitatory synapses of type ProbAMPANMDA3_RATIO[0]\n",
      "synapses loaded \n",
      "\t17 \n",
      "\t1 \n"
     ]
    },
    {
     "name": "stderr",
     "output_type": "stream",
     "text": [
      "05-07 12:36:35 balanced input [synapses_weights.py:  79] INFO     \t \t spikes 4.0\n",
      "05-07 12:36:35 balanced input [synapses_weights.py:  97] INFO     \t 4.0 +- 0.0 (n=1)\n",
      "\n",
      "05-07 12:36:35 balanced input [synapses_weights.py:  59] INFO     \t exc_syn: 316 (1)\t inh_syn: 251 (1)\n",
      "\n"
     ]
    },
    {
     "name": "stdout",
     "output_type": "stream",
     "text": [
      "\t1 \n",
      "InhDendDistalRatio:1 \t ExcDendDistalRatio:1\n",
      "\t44 \n",
      "ninhL:251 \t ninhB:0 \t nexcL:316 \t nexcB:0 \n",
      "\t43 \n",
      "251 distal inhibitory synapses of type GABAa[0]\n",
      "316 distal excitatory synapses of type ProbAMPANMDA3_RATIO[0]\n",
      "synapses loaded \n",
      "\t17 \n",
      "\t1 \n"
     ]
    },
    {
     "name": "stderr",
     "output_type": "stream",
     "text": [
      "05-07 12:37:10 balanced input [synapses_weights.py:  79] INFO     \t \t spikes 13.0\n",
      "05-07 12:37:10 balanced input [synapses_weights.py:  97] INFO     \t 13.0 +- 0.0 (n=1)\n",
      "\n",
      "05-07 12:37:10 balanced input [synapses_weights.py:  59] INFO     \t exc_syn: 398 (1)\t inh_syn: 251 (1)\n",
      "\n"
     ]
    },
    {
     "name": "stdout",
     "output_type": "stream",
     "text": [
      "\t1 \n",
      "InhDendDistalRatio:1 \t ExcDendDistalRatio:1\n",
      "\t44 \n",
      "ninhL:251 \t ninhB:0 \t nexcL:398 \t nexcB:0 \n",
      "\t43 \n",
      "251 distal inhibitory synapses of type GABAa[0]\n",
      "398 distal excitatory synapses of type ProbAMPANMDA3_RATIO[0]\n",
      "synapses loaded \n",
      "\t17 \n",
      "\t1 \n"
     ]
    },
    {
     "name": "stderr",
     "output_type": "stream",
     "text": [
      "05-07 12:38:01 balanced input [synapses_weights.py:  79] INFO     \t \t spikes 35.0\n",
      "05-07 12:38:01 balanced input [synapses_weights.py:  90] INFO     \t break from above 15\n",
      "05-07 12:38:01 balanced input [synapses_weights.py:  97] INFO     \t 35.0 +- 0.0 (n=1)\n",
      "\n",
      "05-07 12:38:01 balanced input [synapses_weights.py:  59] INFO     \t exc_syn: 501 (1)\t inh_syn: 251 (1)\n",
      "\n",
      "05-07 12:38:01 balanced input [synapses_weights.py:  64] INFO     \t 16 +- 0 (n=0)\n",
      "\n",
      "05-07 12:38:01 balanced input [synapses_weights.py:  59] INFO     \t exc_syn: 630 (1)\t inh_syn: 251 (1)\n",
      "\n",
      "05-07 12:38:01 balanced input [synapses_weights.py:  64] INFO     \t 16 +- 0 (n=0)\n",
      "\n",
      "05-07 12:38:01 balanced input [synapses_weights.py:  59] INFO     \t exc_syn: 794 (1)\t inh_syn: 251 (1)\n",
      "\n",
      "05-07 12:38:01 balanced input [synapses_weights.py:  64] INFO     \t 16 +- 0 (n=0)\n",
      "\n",
      "05-07 12:38:01 balanced input [synapses_weights.py:  59] INFO     \t exc_syn: 1000 (1)\t inh_syn: 251 (1)\n",
      "\n",
      "05-07 12:38:01 balanced input [synapses_weights.py:  64] INFO     \t 16 +- 0 (n=0)\n",
      "\n",
      "05-07 12:38:01 balanced input [synapses_weights.py:  59] INFO     \t exc_syn: 0 (1)\t inh_syn: 316 (1)\n",
      "\n"
     ]
    },
    {
     "name": "stdout",
     "output_type": "stream",
     "text": [
      "1 excitatory synapse\n",
      "\t1 \n",
      "InhDendDistalRatio:1 \t ExcDendDistalRatio:1\n",
      "\t44 \n",
      "ninhL:316 \t ninhB:0 \t nexcL:1 \t nexcB:0 \n",
      "\t41 \n",
      "316 distal inhibitory synapses of type GABAa[0]\n",
      "1 distal excitatory synapses of type ProbAMPANMDA3_RATIO[0]\n",
      "synapses loaded \n",
      "\t17 \n",
      "\t1 \n"
     ]
    },
    {
     "name": "stderr",
     "output_type": "stream",
     "text": [
      "05-07 12:38:12 balanced input [synapses_weights.py:  79] INFO     \t \t spikes 0.0\n",
      "05-07 12:38:12 balanced input [synapses_weights.py:  83] INFO     \t break from too many 0's\n",
      "05-07 12:38:12 balanced input [synapses_weights.py:  97] INFO     \t 0.0 +- 0.0 (n=1)\n",
      "\n",
      "05-07 12:38:12 balanced input [synapses_weights.py:  59] INFO     \t exc_syn: 10 (1)\t inh_syn: 316 (1)\n",
      "\n"
     ]
    },
    {
     "name": "stdout",
     "output_type": "stream",
     "text": [
      "\t1 \n",
      "InhDendDistalRatio:1 \t ExcDendDistalRatio:1\n",
      "\t44 \n",
      "ninhL:316 \t ninhB:0 \t nexcL:10 \t nexcB:0 \n",
      "\t42 \n",
      "316 distal inhibitory synapses of type GABAa[0]\n",
      "10 distal excitatory synapses of type ProbAMPANMDA3_RATIO[0]\n",
      "synapses loaded \n",
      "\t17 \n",
      "\t1 \n"
     ]
    },
    {
     "name": "stderr",
     "output_type": "stream",
     "text": [
      "05-07 12:38:26 balanced input [synapses_weights.py:  79] INFO     \t \t spikes 0.0\n",
      "05-07 12:38:26 balanced input [synapses_weights.py:  83] INFO     \t break from too many 0's\n",
      "05-07 12:38:26 balanced input [synapses_weights.py:  97] INFO     \t 0.0 +- 0.0 (n=1)\n",
      "\n",
      "05-07 12:38:26 balanced input [synapses_weights.py:  59] INFO     \t exc_syn: 21 (1)\t inh_syn: 316 (1)\n",
      "\n"
     ]
    },
    {
     "name": "stdout",
     "output_type": "stream",
     "text": [
      "\t1 \n",
      "InhDendDistalRatio:1 \t ExcDendDistalRatio:1\n",
      "\t44 \n",
      "ninhL:316 \t ninhB:0 \t nexcL:21 \t nexcB:0 \n",
      "\t42 \n",
      "316 distal inhibitory synapses of type GABAa[0]\n",
      "21 distal excitatory synapses of type ProbAMPANMDA3_RATIO[0]\n",
      "synapses loaded \n",
      "\t17 \n",
      "\t1 \n"
     ]
    },
    {
     "name": "stderr",
     "output_type": "stream",
     "text": [
      "05-07 12:38:41 balanced input [synapses_weights.py:  79] INFO     \t \t spikes 0.0\n",
      "05-07 12:38:41 balanced input [synapses_weights.py:  83] INFO     \t break from too many 0's\n",
      "05-07 12:38:41 balanced input [synapses_weights.py:  97] INFO     \t 0.0 +- 0.0 (n=1)\n",
      "\n",
      "05-07 12:38:41 balanced input [synapses_weights.py:  59] INFO     \t exc_syn: 46 (1)\t inh_syn: 316 (1)\n",
      "\n"
     ]
    },
    {
     "name": "stdout",
     "output_type": "stream",
     "text": [
      "\t1 \n",
      "InhDendDistalRatio:1 \t ExcDendDistalRatio:1\n",
      "\t44 \n",
      "ninhL:316 \t ninhB:0 \t nexcL:46 \t nexcB:0 \n",
      "\t42 \n",
      "316 distal inhibitory synapses of type GABAa[0]\n",
      "46 distal excitatory synapses of type ProbAMPANMDA3_RATIO[0]\n",
      "synapses loaded \n",
      "\t17 \n",
      "\t1 \n"
     ]
    },
    {
     "name": "stderr",
     "output_type": "stream",
     "text": [
      "05-07 12:38:57 balanced input [synapses_weights.py:  79] INFO     \t \t spikes 0.0\n",
      "05-07 12:38:57 balanced input [synapses_weights.py:  83] INFO     \t break from too many 0's\n",
      "05-07 12:38:57 balanced input [synapses_weights.py:  97] INFO     \t 0.0 +- 0.0 (n=1)\n",
      "\n",
      "05-07 12:38:57 balanced input [synapses_weights.py:  59] INFO     \t exc_syn: 100 (1)\t inh_syn: 316 (1)\n",
      "\n"
     ]
    },
    {
     "name": "stdout",
     "output_type": "stream",
     "text": [
      "\t1 \n",
      "InhDendDistalRatio:1 \t ExcDendDistalRatio:1\n",
      "\t44 \n",
      "ninhL:316 \t ninhB:0 \t nexcL:100 \t nexcB:0 \n",
      "\t43 \n",
      "316 distal inhibitory synapses of type GABAa[0]\n",
      "100 distal excitatory synapses of type ProbAMPANMDA3_RATIO[0]\n",
      "synapses loaded \n",
      "\t17 \n",
      "\t1 \n"
     ]
    },
    {
     "name": "stderr",
     "output_type": "stream",
     "text": [
      "05-07 12:39:17 balanced input [synapses_weights.py:  79] INFO     \t \t spikes 1.0\n",
      "05-07 12:39:17 balanced input [synapses_weights.py:  97] INFO     \t 1.0 +- 0.0 (n=1)\n",
      "\n",
      "05-07 12:39:17 balanced input [synapses_weights.py:  59] INFO     \t exc_syn: 125 (1)\t inh_syn: 316 (1)\n",
      "\n"
     ]
    },
    {
     "name": "stdout",
     "output_type": "stream",
     "text": [
      "\t1 \n",
      "InhDendDistalRatio:1 \t ExcDendDistalRatio:1\n",
      "\t44 \n",
      "ninhL:316 \t ninhB:0 \t nexcL:125 \t nexcB:0 \n",
      "\t43 \n",
      "316 distal inhibitory synapses of type GABAa[0]\n",
      "125 distal excitatory synapses of type ProbAMPANMDA3_RATIO[0]\n",
      "synapses loaded \n",
      "\t17 \n",
      "\t1 \n"
     ]
    },
    {
     "name": "stderr",
     "output_type": "stream",
     "text": [
      "05-07 12:39:40 balanced input [synapses_weights.py:  79] INFO     \t \t spikes 1.0\n",
      "05-07 12:39:40 balanced input [synapses_weights.py:  97] INFO     \t 1.0 +- 0.0 (n=1)\n",
      "\n",
      "05-07 12:39:40 balanced input [synapses_weights.py:  59] INFO     \t exc_syn: 158 (1)\t inh_syn: 316 (1)\n",
      "\n"
     ]
    },
    {
     "name": "stdout",
     "output_type": "stream",
     "text": [
      "\t1 \n",
      "InhDendDistalRatio:1 \t ExcDendDistalRatio:1\n",
      "\t44 \n",
      "ninhL:316 \t ninhB:0 \t nexcL:158 \t nexcB:0 \n",
      "\t43 \n",
      "316 distal inhibitory synapses of type GABAa[0]\n",
      "158 distal excitatory synapses of type ProbAMPANMDA3_RATIO[0]\n",
      "synapses loaded \n",
      "\t17 \n",
      "\t1 \n"
     ]
    },
    {
     "name": "stderr",
     "output_type": "stream",
     "text": [
      "05-07 12:40:03 balanced input [synapses_weights.py:  79] INFO     \t \t spikes 1.0\n",
      "05-07 12:40:03 balanced input [synapses_weights.py:  97] INFO     \t 1.0 +- 0.0 (n=1)\n",
      "\n",
      "05-07 12:40:03 balanced input [synapses_weights.py:  59] INFO     \t exc_syn: 199 (1)\t inh_syn: 316 (1)\n",
      "\n"
     ]
    },
    {
     "name": "stdout",
     "output_type": "stream",
     "text": [
      "\t1 \n",
      "InhDendDistalRatio:1 \t ExcDendDistalRatio:1\n",
      "\t44 \n",
      "ninhL:316 \t ninhB:0 \t nexcL:199 \t nexcB:0 \n",
      "\t43 \n",
      "316 distal inhibitory synapses of type GABAa[0]\n",
      "199 distal excitatory synapses of type ProbAMPANMDA3_RATIO[0]\n",
      "synapses loaded \n",
      "\t17 \n",
      "\t1 \n"
     ]
    },
    {
     "name": "stderr",
     "output_type": "stream",
     "text": [
      "05-07 12:40:25 balanced input [synapses_weights.py:  79] INFO     \t \t spikes 2.0\n",
      "05-07 12:40:25 balanced input [synapses_weights.py:  97] INFO     \t 2.0 +- 0.0 (n=1)\n",
      "\n",
      "05-07 12:40:25 balanced input [synapses_weights.py:  59] INFO     \t exc_syn: 251 (1)\t inh_syn: 316 (1)\n",
      "\n"
     ]
    },
    {
     "name": "stdout",
     "output_type": "stream",
     "text": [
      "\t1 \n",
      "InhDendDistalRatio:1 \t ExcDendDistalRatio:1\n",
      "\t44 \n",
      "ninhL:316 \t ninhB:0 \t nexcL:251 \t nexcB:0 \n",
      "\t43 \n",
      "316 distal inhibitory synapses of type GABAa[0]\n",
      "251 distal excitatory synapses of type ProbAMPANMDA3_RATIO[0]\n",
      "synapses loaded \n",
      "\t17 \n",
      "\t1 \n"
     ]
    },
    {
     "name": "stderr",
     "output_type": "stream",
     "text": [
      "05-07 12:40:50 balanced input [synapses_weights.py:  79] INFO     \t \t spikes 3.0\n",
      "05-07 12:40:50 balanced input [synapses_weights.py:  97] INFO     \t 3.0 +- 0.0 (n=1)\n",
      "\n",
      "05-07 12:40:50 balanced input [synapses_weights.py:  59] INFO     \t exc_syn: 316 (1)\t inh_syn: 316 (1)\n",
      "\n"
     ]
    },
    {
     "name": "stdout",
     "output_type": "stream",
     "text": [
      "\t1 \n",
      "InhDendDistalRatio:1 \t ExcDendDistalRatio:1\n",
      "\t44 \n",
      "ninhL:316 \t ninhB:0 \t nexcL:316 \t nexcB:0 \n",
      "\t43 \n",
      "316 distal inhibitory synapses of type GABAa[0]\n",
      "316 distal excitatory synapses of type ProbAMPANMDA3_RATIO[0]\n",
      "synapses loaded \n",
      "\t17 \n",
      "\t1 \n"
     ]
    },
    {
     "name": "stderr",
     "output_type": "stream",
     "text": [
      "05-07 12:41:20 balanced input [synapses_weights.py:  79] INFO     \t \t spikes 12.0\n",
      "05-07 12:41:20 balanced input [synapses_weights.py:  97] INFO     \t 12.0 +- 0.0 (n=1)\n",
      "\n",
      "05-07 12:41:20 balanced input [synapses_weights.py:  59] INFO     \t exc_syn: 398 (1)\t inh_syn: 316 (1)\n",
      "\n"
     ]
    },
    {
     "name": "stdout",
     "output_type": "stream",
     "text": [
      "\t1 \n",
      "InhDendDistalRatio:1 \t ExcDendDistalRatio:1\n",
      "\t44 \n",
      "ninhL:316 \t ninhB:0 \t nexcL:398 \t nexcB:0 \n",
      "\t43 \n",
      "316 distal inhibitory synapses of type GABAa[0]\n",
      "398 distal excitatory synapses of type ProbAMPANMDA3_RATIO[0]\n",
      "synapses loaded \n",
      "\t17 \n",
      "\t1 \n"
     ]
    },
    {
     "name": "stderr",
     "output_type": "stream",
     "text": [
      "05-07 12:42:11 balanced input [synapses_weights.py:  79] INFO     \t \t spikes 32.0\n",
      "05-07 12:42:11 balanced input [synapses_weights.py:  90] INFO     \t break from above 15\n",
      "05-07 12:42:11 balanced input [synapses_weights.py:  97] INFO     \t 32.0 +- 0.0 (n=1)\n",
      "\n",
      "05-07 12:42:11 balanced input [synapses_weights.py:  59] INFO     \t exc_syn: 501 (1)\t inh_syn: 316 (1)\n",
      "\n",
      "05-07 12:42:11 balanced input [synapses_weights.py:  64] INFO     \t 16 +- 0 (n=0)\n",
      "\n",
      "05-07 12:42:11 balanced input [synapses_weights.py:  59] INFO     \t exc_syn: 630 (1)\t inh_syn: 316 (1)\n",
      "\n",
      "05-07 12:42:11 balanced input [synapses_weights.py:  64] INFO     \t 16 +- 0 (n=0)\n",
      "\n",
      "05-07 12:42:11 balanced input [synapses_weights.py:  59] INFO     \t exc_syn: 794 (1)\t inh_syn: 316 (1)\n",
      "\n",
      "05-07 12:42:11 balanced input [synapses_weights.py:  64] INFO     \t 16 +- 0 (n=0)\n",
      "\n",
      "05-07 12:42:11 balanced input [synapses_weights.py:  59] INFO     \t exc_syn: 1000 (1)\t inh_syn: 316 (1)\n",
      "\n",
      "05-07 12:42:11 balanced input [synapses_weights.py:  64] INFO     \t 16 +- 0 (n=0)\n",
      "\n",
      "05-07 12:42:11 balanced input [synapses_weights.py:  59] INFO     \t exc_syn: 0 (1)\t inh_syn: 398 (1)\n",
      "\n"
     ]
    },
    {
     "name": "stdout",
     "output_type": "stream",
     "text": [
      "1 excitatory synapse\n",
      "\t1 \n",
      "InhDendDistalRatio:1 \t ExcDendDistalRatio:1\n",
      "\t44 \n",
      "ninhL:398 \t ninhB:0 \t nexcL:1 \t nexcB:0 \n",
      "\t41 \n",
      "398 distal inhibitory synapses of type GABAa[0]\n",
      "1 distal excitatory synapses of type ProbAMPANMDA3_RATIO[0]\n",
      "synapses loaded \n",
      "\t17 \n",
      "\t1 \n"
     ]
    },
    {
     "name": "stderr",
     "output_type": "stream",
     "text": [
      "05-07 12:42:24 balanced input [synapses_weights.py:  79] INFO     \t \t spikes 0.0\n",
      "05-07 12:42:24 balanced input [synapses_weights.py:  83] INFO     \t break from too many 0's\n",
      "05-07 12:42:24 balanced input [synapses_weights.py:  97] INFO     \t 0.0 +- 0.0 (n=1)\n",
      "\n",
      "05-07 12:42:24 balanced input [synapses_weights.py:  59] INFO     \t exc_syn: 10 (1)\t inh_syn: 398 (1)\n",
      "\n"
     ]
    },
    {
     "name": "stdout",
     "output_type": "stream",
     "text": [
      "\t1 \n",
      "InhDendDistalRatio:1 \t ExcDendDistalRatio:1\n",
      "\t44 \n",
      "ninhL:398 \t ninhB:0 \t nexcL:10 \t nexcB:0 \n",
      "\t42 \n",
      "398 distal inhibitory synapses of type GABAa[0]\n",
      "10 distal excitatory synapses of type ProbAMPANMDA3_RATIO[0]\n",
      "synapses loaded \n",
      "\t17 \n",
      "\t1 \n"
     ]
    },
    {
     "name": "stderr",
     "output_type": "stream",
     "text": [
      "05-07 12:42:38 balanced input [synapses_weights.py:  79] INFO     \t \t spikes 0.0\n",
      "05-07 12:42:38 balanced input [synapses_weights.py:  83] INFO     \t break from too many 0's\n",
      "05-07 12:42:38 balanced input [synapses_weights.py:  97] INFO     \t 0.0 +- 0.0 (n=1)\n",
      "\n",
      "05-07 12:42:38 balanced input [synapses_weights.py:  59] INFO     \t exc_syn: 21 (1)\t inh_syn: 398 (1)\n",
      "\n"
     ]
    },
    {
     "name": "stdout",
     "output_type": "stream",
     "text": [
      "\t1 \n",
      "InhDendDistalRatio:1 \t ExcDendDistalRatio:1\n",
      "\t44 \n",
      "ninhL:398 \t ninhB:0 \t nexcL:21 \t nexcB:0 \n",
      "\t42 \n",
      "398 distal inhibitory synapses of type GABAa[0]\n",
      "21 distal excitatory synapses of type ProbAMPANMDA3_RATIO[0]\n",
      "synapses loaded \n",
      "\t17 \n",
      "\t1 \n"
     ]
    },
    {
     "name": "stderr",
     "output_type": "stream",
     "text": [
      "05-07 12:42:53 balanced input [synapses_weights.py:  79] INFO     \t \t spikes 0.0\n",
      "05-07 12:42:53 balanced input [synapses_weights.py:  83] INFO     \t break from too many 0's\n",
      "05-07 12:42:53 balanced input [synapses_weights.py:  97] INFO     \t 0.0 +- 0.0 (n=1)\n",
      "\n",
      "05-07 12:42:53 balanced input [synapses_weights.py:  59] INFO     \t exc_syn: 46 (1)\t inh_syn: 398 (1)\n",
      "\n"
     ]
    },
    {
     "name": "stdout",
     "output_type": "stream",
     "text": [
      "\t1 \n",
      "InhDendDistalRatio:1 \t ExcDendDistalRatio:1\n",
      "\t44 \n",
      "ninhL:398 \t ninhB:0 \t nexcL:46 \t nexcB:0 \n",
      "\t42 \n",
      "398 distal inhibitory synapses of type GABAa[0]\n",
      "46 distal excitatory synapses of type ProbAMPANMDA3_RATIO[0]\n",
      "synapses loaded \n",
      "\t17 \n",
      "\t1 \n"
     ]
    },
    {
     "name": "stderr",
     "output_type": "stream",
     "text": [
      "05-07 12:43:11 balanced input [synapses_weights.py:  79] INFO     \t \t spikes 0.0\n",
      "05-07 12:43:11 balanced input [synapses_weights.py:  83] INFO     \t break from too many 0's\n",
      "05-07 12:43:11 balanced input [synapses_weights.py:  97] INFO     \t 0.0 +- 0.0 (n=1)\n",
      "\n",
      "05-07 12:43:11 balanced input [synapses_weights.py:  59] INFO     \t exc_syn: 100 (1)\t inh_syn: 398 (1)\n",
      "\n"
     ]
    },
    {
     "name": "stdout",
     "output_type": "stream",
     "text": [
      "\t1 \n",
      "InhDendDistalRatio:1 \t ExcDendDistalRatio:1\n",
      "\t44 \n",
      "ninhL:398 \t ninhB:0 \t nexcL:100 \t nexcB:0 \n",
      "\t43 \n",
      "398 distal inhibitory synapses of type GABAa[0]\n",
      "100 distal excitatory synapses of type ProbAMPANMDA3_RATIO[0]\n",
      "synapses loaded \n",
      "\t17 \n",
      "\t1 \n"
     ]
    },
    {
     "name": "stderr",
     "output_type": "stream",
     "text": [
      "05-07 12:43:34 balanced input [synapses_weights.py:  79] INFO     \t \t spikes 1.0\n",
      "05-07 12:43:34 balanced input [synapses_weights.py:  97] INFO     \t 1.0 +- 0.0 (n=1)\n",
      "\n",
      "05-07 12:43:34 balanced input [synapses_weights.py:  59] INFO     \t exc_syn: 125 (1)\t inh_syn: 398 (1)\n",
      "\n"
     ]
    },
    {
     "name": "stdout",
     "output_type": "stream",
     "text": [
      "\t1 \n",
      "InhDendDistalRatio:1 \t ExcDendDistalRatio:1\n",
      "\t44 \n",
      "ninhL:398 \t ninhB:0 \t nexcL:125 \t nexcB:0 \n",
      "\t43 \n",
      "398 distal inhibitory synapses of type GABAa[0]\n",
      "125 distal excitatory synapses of type ProbAMPANMDA3_RATIO[0]\n",
      "synapses loaded \n",
      "\t17 \n",
      "\t1 \n"
     ]
    },
    {
     "name": "stderr",
     "output_type": "stream",
     "text": [
      "05-07 12:44:00 balanced input [synapses_weights.py:  79] INFO     \t \t spikes 1.0\n",
      "05-07 12:44:00 balanced input [synapses_weights.py:  97] INFO     \t 1.0 +- 0.0 (n=1)\n",
      "\n",
      "05-07 12:44:00 balanced input [synapses_weights.py:  59] INFO     \t exc_syn: 158 (1)\t inh_syn: 398 (1)\n",
      "\n"
     ]
    },
    {
     "name": "stdout",
     "output_type": "stream",
     "text": [
      "\t1 \n",
      "InhDendDistalRatio:1 \t ExcDendDistalRatio:1\n",
      "\t44 \n",
      "ninhL:398 \t ninhB:0 \t nexcL:158 \t nexcB:0 \n",
      "\t43 \n",
      "398 distal inhibitory synapses of type GABAa[0]\n",
      "158 distal excitatory synapses of type ProbAMPANMDA3_RATIO[0]\n",
      "synapses loaded \n",
      "\t17 \n",
      "\t1 \n"
     ]
    },
    {
     "name": "stderr",
     "output_type": "stream",
     "text": [
      "05-07 12:44:26 balanced input [synapses_weights.py:  79] INFO     \t \t spikes 1.0\n",
      "05-07 12:44:26 balanced input [synapses_weights.py:  97] INFO     \t 1.0 +- 0.0 (n=1)\n",
      "\n",
      "05-07 12:44:26 balanced input [synapses_weights.py:  59] INFO     \t exc_syn: 199 (1)\t inh_syn: 398 (1)\n",
      "\n"
     ]
    },
    {
     "name": "stdout",
     "output_type": "stream",
     "text": [
      "\t1 \n",
      "InhDendDistalRatio:1 \t ExcDendDistalRatio:1\n",
      "\t44 \n",
      "ninhL:398 \t ninhB:0 \t nexcL:199 \t nexcB:0 \n",
      "\t43 \n",
      "398 distal inhibitory synapses of type GABAa[0]\n",
      "199 distal excitatory synapses of type ProbAMPANMDA3_RATIO[0]\n",
      "synapses loaded \n",
      "\t17 \n",
      "\t1 \n"
     ]
    },
    {
     "name": "stderr",
     "output_type": "stream",
     "text": [
      "05-07 12:44:53 balanced input [synapses_weights.py:  79] INFO     \t \t spikes 1.0\n",
      "05-07 12:44:53 balanced input [synapses_weights.py:  97] INFO     \t 1.0 +- 0.0 (n=1)\n",
      "\n",
      "05-07 12:44:53 balanced input [synapses_weights.py:  59] INFO     \t exc_syn: 251 (1)\t inh_syn: 398 (1)\n",
      "\n"
     ]
    },
    {
     "name": "stdout",
     "output_type": "stream",
     "text": [
      "\t1 \n",
      "InhDendDistalRatio:1 \t ExcDendDistalRatio:1\n",
      "\t44 \n",
      "ninhL:398 \t ninhB:0 \t nexcL:251 \t nexcB:0 \n",
      "\t43 \n",
      "398 distal inhibitory synapses of type GABAa[0]\n",
      "251 distal excitatory synapses of type ProbAMPANMDA3_RATIO[0]\n",
      "synapses loaded \n",
      "\t17 \n",
      "\t1 \n"
     ]
    },
    {
     "name": "stderr",
     "output_type": "stream",
     "text": [
      "05-07 12:45:23 balanced input [synapses_weights.py:  79] INFO     \t \t spikes 3.0\n",
      "05-07 12:45:23 balanced input [synapses_weights.py:  97] INFO     \t 3.0 +- 0.0 (n=1)\n",
      "\n",
      "05-07 12:45:23 balanced input [synapses_weights.py:  59] INFO     \t exc_syn: 316 (1)\t inh_syn: 398 (1)\n",
      "\n"
     ]
    },
    {
     "name": "stdout",
     "output_type": "stream",
     "text": [
      "\t1 \n",
      "InhDendDistalRatio:1 \t ExcDendDistalRatio:1\n",
      "\t44 \n",
      "ninhL:398 \t ninhB:0 \t nexcL:316 \t nexcB:0 \n",
      "\t43 \n",
      "398 distal inhibitory synapses of type GABAa[0]\n",
      "316 distal excitatory synapses of type ProbAMPANMDA3_RATIO[0]\n",
      "synapses loaded \n",
      "\t17 \n",
      "\t1 \n"
     ]
    },
    {
     "name": "stderr",
     "output_type": "stream",
     "text": [
      "05-07 12:45:59 balanced input [synapses_weights.py:  79] INFO     \t \t spikes 10.0\n",
      "05-07 12:45:59 balanced input [synapses_weights.py:  97] INFO     \t 10.0 +- 0.0 (n=1)\n",
      "\n",
      "05-07 12:45:59 balanced input [synapses_weights.py:  59] INFO     \t exc_syn: 398 (1)\t inh_syn: 398 (1)\n",
      "\n"
     ]
    },
    {
     "name": "stdout",
     "output_type": "stream",
     "text": [
      "\t1 \n",
      "InhDendDistalRatio:1 \t ExcDendDistalRatio:1\n",
      "\t44 \n",
      "ninhL:398 \t ninhB:0 \t nexcL:398 \t nexcB:0 \n",
      "\t43 \n",
      "398 distal inhibitory synapses of type GABAa[0]\n",
      "398 distal excitatory synapses of type ProbAMPANMDA3_RATIO[0]\n",
      "synapses loaded \n",
      "\t17 \n",
      "\t1 \n"
     ]
    },
    {
     "name": "stderr",
     "output_type": "stream",
     "text": [
      "05-07 12:46:49 balanced input [synapses_weights.py:  79] INFO     \t \t spikes 29.0\n",
      "05-07 12:46:49 balanced input [synapses_weights.py:  90] INFO     \t break from above 15\n",
      "05-07 12:46:49 balanced input [synapses_weights.py:  97] INFO     \t 29.0 +- 0.0 (n=1)\n",
      "\n",
      "05-07 12:46:49 balanced input [synapses_weights.py:  59] INFO     \t exc_syn: 501 (1)\t inh_syn: 398 (1)\n",
      "\n",
      "05-07 12:46:49 balanced input [synapses_weights.py:  64] INFO     \t 16 +- 0 (n=0)\n",
      "\n",
      "05-07 12:46:49 balanced input [synapses_weights.py:  59] INFO     \t exc_syn: 630 (1)\t inh_syn: 398 (1)\n",
      "\n",
      "05-07 12:46:49 balanced input [synapses_weights.py:  64] INFO     \t 16 +- 0 (n=0)\n",
      "\n",
      "05-07 12:46:49 balanced input [synapses_weights.py:  59] INFO     \t exc_syn: 794 (1)\t inh_syn: 398 (1)\n",
      "\n",
      "05-07 12:46:49 balanced input [synapses_weights.py:  64] INFO     \t 16 +- 0 (n=0)\n",
      "\n",
      "05-07 12:46:49 balanced input [synapses_weights.py:  59] INFO     \t exc_syn: 1000 (1)\t inh_syn: 398 (1)\n",
      "\n",
      "05-07 12:46:49 balanced input [synapses_weights.py:  64] INFO     \t 16 +- 0 (n=0)\n",
      "\n",
      "05-07 12:46:49 balanced input [synapses_weights.py:  59] INFO     \t exc_syn: 0 (1)\t inh_syn: 501 (1)\n",
      "\n"
     ]
    },
    {
     "name": "stdout",
     "output_type": "stream",
     "text": [
      "1 excitatory synapse\n",
      "\t1 \n",
      "InhDendDistalRatio:1 \t ExcDendDistalRatio:1\n",
      "\t44 \n",
      "ninhL:501 \t ninhB:0 \t nexcL:1 \t nexcB:0 \n",
      "\t41 \n",
      "501 distal inhibitory synapses of type GABAa[0]\n",
      "1 distal excitatory synapses of type ProbAMPANMDA3_RATIO[0]\n",
      "synapses loaded \n",
      "\t17 \n",
      "\t1 \n"
     ]
    },
    {
     "name": "stderr",
     "output_type": "stream",
     "text": [
      "05-07 12:47:06 balanced input [synapses_weights.py:  79] INFO     \t \t spikes 0.0\n",
      "05-07 12:47:06 balanced input [synapses_weights.py:  83] INFO     \t break from too many 0's\n",
      "05-07 12:47:06 balanced input [synapses_weights.py:  97] INFO     \t 0.0 +- 0.0 (n=1)\n",
      "\n",
      "05-07 12:47:06 balanced input [synapses_weights.py:  59] INFO     \t exc_syn: 10 (1)\t inh_syn: 501 (1)\n",
      "\n"
     ]
    },
    {
     "name": "stdout",
     "output_type": "stream",
     "text": [
      "\t1 \n",
      "InhDendDistalRatio:1 \t ExcDendDistalRatio:1\n",
      "\t44 \n",
      "ninhL:501 \t ninhB:0 \t nexcL:10 \t nexcB:0 \n",
      "\t42 \n",
      "501 distal inhibitory synapses of type GABAa[0]\n",
      "10 distal excitatory synapses of type ProbAMPANMDA3_RATIO[0]\n",
      "synapses loaded \n",
      "\t17 \n",
      "\t1 \n"
     ]
    },
    {
     "name": "stderr",
     "output_type": "stream",
     "text": [
      "05-07 12:47:25 balanced input [synapses_weights.py:  79] INFO     \t \t spikes 0.0\n",
      "05-07 12:47:25 balanced input [synapses_weights.py:  83] INFO     \t break from too many 0's\n",
      "05-07 12:47:25 balanced input [synapses_weights.py:  97] INFO     \t 0.0 +- 0.0 (n=1)\n",
      "\n",
      "05-07 12:47:25 balanced input [synapses_weights.py:  59] INFO     \t exc_syn: 21 (1)\t inh_syn: 501 (1)\n",
      "\n"
     ]
    },
    {
     "name": "stdout",
     "output_type": "stream",
     "text": [
      "\t1 \n",
      "InhDendDistalRatio:1 \t ExcDendDistalRatio:1\n",
      "\t44 \n",
      "ninhL:501 \t ninhB:0 \t nexcL:21 \t nexcB:0 \n",
      "\t42 \n",
      "501 distal inhibitory synapses of type GABAa[0]\n",
      "21 distal excitatory synapses of type ProbAMPANMDA3_RATIO[0]\n",
      "synapses loaded \n",
      "\t17 \n",
      "\t1 \n"
     ]
    },
    {
     "name": "stderr",
     "output_type": "stream",
     "text": [
      "05-07 12:47:45 balanced input [synapses_weights.py:  79] INFO     \t \t spikes 0.0\n",
      "05-07 12:47:45 balanced input [synapses_weights.py:  83] INFO     \t break from too many 0's\n",
      "05-07 12:47:45 balanced input [synapses_weights.py:  97] INFO     \t 0.0 +- 0.0 (n=1)\n",
      "\n",
      "05-07 12:47:45 balanced input [synapses_weights.py:  59] INFO     \t exc_syn: 46 (1)\t inh_syn: 501 (1)\n",
      "\n"
     ]
    },
    {
     "name": "stdout",
     "output_type": "stream",
     "text": [
      "\t1 \n",
      "InhDendDistalRatio:1 \t ExcDendDistalRatio:1\n",
      "\t44 \n",
      "ninhL:501 \t ninhB:0 \t nexcL:46 \t nexcB:0 \n",
      "\t42 \n",
      "501 distal inhibitory synapses of type GABAa[0]\n",
      "46 distal excitatory synapses of type ProbAMPANMDA3_RATIO[0]\n",
      "synapses loaded \n",
      "\t17 \n",
      "\t1 \n"
     ]
    },
    {
     "name": "stderr",
     "output_type": "stream",
     "text": [
      "05-07 12:48:09 balanced input [synapses_weights.py:  79] INFO     \t \t spikes 0.0\n",
      "05-07 12:48:09 balanced input [synapses_weights.py:  83] INFO     \t break from too many 0's\n",
      "05-07 12:48:09 balanced input [synapses_weights.py:  97] INFO     \t 0.0 +- 0.0 (n=1)\n",
      "\n",
      "05-07 12:48:09 balanced input [synapses_weights.py:  59] INFO     \t exc_syn: 100 (1)\t inh_syn: 501 (1)\n",
      "\n"
     ]
    },
    {
     "name": "stdout",
     "output_type": "stream",
     "text": [
      "\t1 \n",
      "InhDendDistalRatio:1 \t ExcDendDistalRatio:1\n",
      "\t44 \n",
      "ninhL:501 \t ninhB:0 \t nexcL:100 \t nexcB:0 \n",
      "\t43 \n",
      "501 distal inhibitory synapses of type GABAa[0]\n",
      "100 distal excitatory synapses of type ProbAMPANMDA3_RATIO[0]\n",
      "synapses loaded \n",
      "\t17 \n",
      "\t1 \n"
     ]
    },
    {
     "name": "stderr",
     "output_type": "stream",
     "text": [
      "05-07 12:48:40 balanced input [synapses_weights.py:  79] INFO     \t \t spikes 1.0\n",
      "05-07 12:48:40 balanced input [synapses_weights.py:  97] INFO     \t 1.0 +- 0.0 (n=1)\n",
      "\n",
      "05-07 12:48:40 balanced input [synapses_weights.py:  59] INFO     \t exc_syn: 125 (1)\t inh_syn: 501 (1)\n",
      "\n"
     ]
    },
    {
     "name": "stdout",
     "output_type": "stream",
     "text": [
      "\t1 \n",
      "InhDendDistalRatio:1 \t ExcDendDistalRatio:1\n",
      "\t44 \n",
      "ninhL:501 \t ninhB:0 \t nexcL:125 \t nexcB:0 \n",
      "\t43 \n",
      "501 distal inhibitory synapses of type GABAa[0]\n",
      "125 distal excitatory synapses of type ProbAMPANMDA3_RATIO[0]\n",
      "synapses loaded \n",
      "\t17 \n",
      "\t1 \n"
     ]
    },
    {
     "name": "stderr",
     "output_type": "stream",
     "text": [
      "05-07 12:49:13 balanced input [synapses_weights.py:  79] INFO     \t \t spikes 1.0\n",
      "05-07 12:49:13 balanced input [synapses_weights.py:  97] INFO     \t 1.0 +- 0.0 (n=1)\n",
      "\n",
      "05-07 12:49:13 balanced input [synapses_weights.py:  59] INFO     \t exc_syn: 158 (1)\t inh_syn: 501 (1)\n",
      "\n"
     ]
    },
    {
     "name": "stdout",
     "output_type": "stream",
     "text": [
      "\t1 \n",
      "InhDendDistalRatio:1 \t ExcDendDistalRatio:1\n",
      "\t44 \n",
      "ninhL:501 \t ninhB:0 \t nexcL:158 \t nexcB:0 \n",
      "\t43 \n",
      "501 distal inhibitory synapses of type GABAa[0]\n",
      "158 distal excitatory synapses of type ProbAMPANMDA3_RATIO[0]\n",
      "synapses loaded \n",
      "\t17 \n",
      "\t1 \n"
     ]
    },
    {
     "name": "stderr",
     "output_type": "stream",
     "text": [
      "05-07 12:49:47 balanced input [synapses_weights.py:  79] INFO     \t \t spikes 1.0\n",
      "05-07 12:49:47 balanced input [synapses_weights.py:  97] INFO     \t 1.0 +- 0.0 (n=1)\n",
      "\n",
      "05-07 12:49:47 balanced input [synapses_weights.py:  59] INFO     \t exc_syn: 199 (1)\t inh_syn: 501 (1)\n",
      "\n"
     ]
    },
    {
     "name": "stdout",
     "output_type": "stream",
     "text": [
      "\t1 \n",
      "InhDendDistalRatio:1 \t ExcDendDistalRatio:1\n",
      "\t44 \n",
      "ninhL:501 \t ninhB:0 \t nexcL:199 \t nexcB:0 \n",
      "\t43 \n",
      "501 distal inhibitory synapses of type GABAa[0]\n",
      "199 distal excitatory synapses of type ProbAMPANMDA3_RATIO[0]\n",
      "synapses loaded \n",
      "\t17 \n",
      "\t1 \n"
     ]
    },
    {
     "name": "stderr",
     "output_type": "stream",
     "text": [
      "05-07 12:50:25 balanced input [synapses_weights.py:  79] INFO     \t \t spikes 1.0\n",
      "05-07 12:50:25 balanced input [synapses_weights.py:  97] INFO     \t 1.0 +- 0.0 (n=1)\n",
      "\n",
      "05-07 12:50:25 balanced input [synapses_weights.py:  59] INFO     \t exc_syn: 251 (1)\t inh_syn: 501 (1)\n",
      "\n"
     ]
    },
    {
     "name": "stdout",
     "output_type": "stream",
     "text": [
      "\t1 \n",
      "InhDendDistalRatio:1 \t ExcDendDistalRatio:1\n",
      "\t44 \n",
      "ninhL:501 \t ninhB:0 \t nexcL:251 \t nexcB:0 \n",
      "\t43 \n",
      "501 distal inhibitory synapses of type GABAa[0]\n",
      "251 distal excitatory synapses of type ProbAMPANMDA3_RATIO[0]\n",
      "synapses loaded \n",
      "\t17 \n",
      "\t1 \n"
     ]
    },
    {
     "name": "stderr",
     "output_type": "stream",
     "text": [
      "05-07 12:51:04 balanced input [synapses_weights.py:  79] INFO     \t \t spikes 2.0\n",
      "05-07 12:51:04 balanced input [synapses_weights.py:  97] INFO     \t 2.0 +- 0.0 (n=1)\n",
      "\n",
      "05-07 12:51:04 balanced input [synapses_weights.py:  59] INFO     \t exc_syn: 316 (1)\t inh_syn: 501 (1)\n",
      "\n"
     ]
    },
    {
     "name": "stdout",
     "output_type": "stream",
     "text": [
      "\t1 \n",
      "InhDendDistalRatio:1 \t ExcDendDistalRatio:1\n",
      "\t44 \n",
      "ninhL:501 \t ninhB:0 \t nexcL:316 \t nexcB:0 \n",
      "\t43 \n",
      "501 distal inhibitory synapses of type GABAa[0]\n",
      "316 distal excitatory synapses of type ProbAMPANMDA3_RATIO[0]\n",
      "synapses loaded \n",
      "\t17 \n",
      "\t1 \n"
     ]
    },
    {
     "name": "stderr",
     "output_type": "stream",
     "text": [
      "05-07 12:51:50 balanced input [synapses_weights.py:  79] INFO     \t \t spikes 9.0\n",
      "05-07 12:51:50 balanced input [synapses_weights.py:  97] INFO     \t 9.0 +- 0.0 (n=1)\n",
      "\n",
      "05-07 12:51:50 balanced input [synapses_weights.py:  59] INFO     \t exc_syn: 398 (1)\t inh_syn: 501 (1)\n",
      "\n"
     ]
    },
    {
     "name": "stdout",
     "output_type": "stream",
     "text": [
      "\t1 \n",
      "InhDendDistalRatio:1 \t ExcDendDistalRatio:1\n",
      "\t44 \n",
      "ninhL:501 \t ninhB:0 \t nexcL:398 \t nexcB:0 \n",
      "\t43 \n",
      "501 distal inhibitory synapses of type GABAa[0]\n",
      "398 distal excitatory synapses of type ProbAMPANMDA3_RATIO[0]\n",
      "synapses loaded \n",
      "\t17 \n",
      "\t1 \n"
     ]
    },
    {
     "name": "stderr",
     "output_type": "stream",
     "text": [
      "05-07 12:52:56 balanced input [synapses_weights.py:  79] INFO     \t \t spikes 26.0\n",
      "05-07 12:52:56 balanced input [synapses_weights.py:  90] INFO     \t break from above 15\n",
      "05-07 12:52:56 balanced input [synapses_weights.py:  97] INFO     \t 26.0 +- 0.0 (n=1)\n",
      "\n",
      "05-07 12:52:56 balanced input [synapses_weights.py:  59] INFO     \t exc_syn: 501 (1)\t inh_syn: 501 (1)\n",
      "\n",
      "05-07 12:52:56 balanced input [synapses_weights.py:  64] INFO     \t 16 +- 0 (n=0)\n",
      "\n",
      "05-07 12:52:56 balanced input [synapses_weights.py:  59] INFO     \t exc_syn: 630 (1)\t inh_syn: 501 (1)\n",
      "\n",
      "05-07 12:52:56 balanced input [synapses_weights.py:  64] INFO     \t 16 +- 0 (n=0)\n",
      "\n",
      "05-07 12:52:56 balanced input [synapses_weights.py:  59] INFO     \t exc_syn: 794 (1)\t inh_syn: 501 (1)\n",
      "\n",
      "05-07 12:52:56 balanced input [synapses_weights.py:  64] INFO     \t 16 +- 0 (n=0)\n",
      "\n",
      "05-07 12:52:56 balanced input [synapses_weights.py:  59] INFO     \t exc_syn: 1000 (1)\t inh_syn: 501 (1)\n",
      "\n",
      "05-07 12:52:56 balanced input [synapses_weights.py:  64] INFO     \t 16 +- 0 (n=0)\n",
      "\n",
      "05-07 12:52:56 balanced input [synapses_weights.py:  59] INFO     \t exc_syn: 0 (1)\t inh_syn: 630 (1)\n",
      "\n"
     ]
    },
    {
     "name": "stdout",
     "output_type": "stream",
     "text": [
      "1 excitatory synapse\n",
      "\t1 \n",
      "InhDendDistalRatio:1 \t ExcDendDistalRatio:1\n",
      "\t44 \n",
      "ninhL:630 \t ninhB:0 \t nexcL:1 \t nexcB:0 \n",
      "\t41 \n",
      "630 distal inhibitory synapses of type GABAa[0]\n",
      "1 distal excitatory synapses of type ProbAMPANMDA3_RATIO[0]\n",
      "synapses loaded \n",
      "\t17 \n",
      "\t1 \n"
     ]
    },
    {
     "name": "stderr",
     "output_type": "stream",
     "text": [
      "05-07 12:53:18 balanced input [synapses_weights.py:  79] INFO     \t \t spikes 0.0\n",
      "05-07 12:53:18 balanced input [synapses_weights.py:  83] INFO     \t break from too many 0's\n",
      "05-07 12:53:18 balanced input [synapses_weights.py:  97] INFO     \t 0.0 +- 0.0 (n=1)\n",
      "\n",
      "05-07 12:53:18 balanced input [synapses_weights.py:  59] INFO     \t exc_syn: 10 (1)\t inh_syn: 630 (1)\n",
      "\n"
     ]
    },
    {
     "name": "stdout",
     "output_type": "stream",
     "text": [
      "\t1 \n",
      "InhDendDistalRatio:1 \t ExcDendDistalRatio:1\n",
      "\t44 \n",
      "ninhL:630 \t ninhB:0 \t nexcL:10 \t nexcB:0 \n",
      "\t42 \n",
      "630 distal inhibitory synapses of type GABAa[0]\n",
      "10 distal excitatory synapses of type ProbAMPANMDA3_RATIO[0]\n",
      "synapses loaded \n",
      "\t17 \n",
      "\t1 \n"
     ]
    },
    {
     "name": "stderr",
     "output_type": "stream",
     "text": [
      "05-07 12:53:41 balanced input [synapses_weights.py:  79] INFO     \t \t spikes 0.0\n",
      "05-07 12:53:41 balanced input [synapses_weights.py:  83] INFO     \t break from too many 0's\n",
      "05-07 12:53:41 balanced input [synapses_weights.py:  97] INFO     \t 0.0 +- 0.0 (n=1)\n",
      "\n",
      "05-07 12:53:41 balanced input [synapses_weights.py:  59] INFO     \t exc_syn: 21 (1)\t inh_syn: 630 (1)\n",
      "\n"
     ]
    },
    {
     "name": "stdout",
     "output_type": "stream",
     "text": [
      "\t1 \n",
      "InhDendDistalRatio:1 \t ExcDendDistalRatio:1\n",
      "\t44 \n",
      "ninhL:630 \t ninhB:0 \t nexcL:21 \t nexcB:0 \n",
      "\t42 \n",
      "630 distal inhibitory synapses of type GABAa[0]\n",
      "21 distal excitatory synapses of type ProbAMPANMDA3_RATIO[0]\n",
      "synapses loaded \n",
      "\t17 \n",
      "\t1 \n"
     ]
    },
    {
     "name": "stderr",
     "output_type": "stream",
     "text": [
      "05-07 12:54:04 balanced input [synapses_weights.py:  79] INFO     \t \t spikes 0.0\n",
      "05-07 12:54:04 balanced input [synapses_weights.py:  83] INFO     \t break from too many 0's\n",
      "05-07 12:54:04 balanced input [synapses_weights.py:  97] INFO     \t 0.0 +- 0.0 (n=1)\n",
      "\n",
      "05-07 12:54:04 balanced input [synapses_weights.py:  59] INFO     \t exc_syn: 46 (1)\t inh_syn: 630 (1)\n",
      "\n"
     ]
    },
    {
     "name": "stdout",
     "output_type": "stream",
     "text": [
      "\t1 \n",
      "InhDendDistalRatio:1 \t ExcDendDistalRatio:1\n",
      "\t44 \n",
      "ninhL:630 \t ninhB:0 \t nexcL:46 \t nexcB:0 \n",
      "\t42 \n",
      "630 distal inhibitory synapses of type GABAa[0]\n",
      "46 distal excitatory synapses of type ProbAMPANMDA3_RATIO[0]\n",
      "synapses loaded \n",
      "\t17 \n",
      "\t1 \n"
     ]
    },
    {
     "name": "stderr",
     "output_type": "stream",
     "text": [
      "05-07 12:54:31 balanced input [synapses_weights.py:  79] INFO     \t \t spikes 0.0\n",
      "05-07 12:54:31 balanced input [synapses_weights.py:  83] INFO     \t break from too many 0's\n",
      "05-07 12:54:31 balanced input [synapses_weights.py:  97] INFO     \t 0.0 +- 0.0 (n=1)\n",
      "\n",
      "05-07 12:54:31 balanced input [synapses_weights.py:  59] INFO     \t exc_syn: 100 (1)\t inh_syn: 630 (1)\n",
      "\n"
     ]
    },
    {
     "name": "stdout",
     "output_type": "stream",
     "text": [
      "\t1 \n",
      "InhDendDistalRatio:1 \t ExcDendDistalRatio:1\n",
      "\t44 \n",
      "ninhL:630 \t ninhB:0 \t nexcL:100 \t nexcB:0 \n",
      "\t43 \n",
      "630 distal inhibitory synapses of type GABAa[0]\n",
      "100 distal excitatory synapses of type ProbAMPANMDA3_RATIO[0]\n",
      "synapses loaded \n",
      "\t17 \n",
      "\t1 \n"
     ]
    },
    {
     "name": "stderr",
     "output_type": "stream",
     "text": [
      "05-07 12:55:05 balanced input [synapses_weights.py:  79] INFO     \t \t spikes 0.0\n",
      "05-07 12:55:05 balanced input [synapses_weights.py:  83] INFO     \t break from too many 0's\n",
      "05-07 12:55:05 balanced input [synapses_weights.py:  97] INFO     \t 0.0 +- 0.0 (n=1)\n",
      "\n",
      "05-07 12:55:05 balanced input [synapses_weights.py:  59] INFO     \t exc_syn: 125 (1)\t inh_syn: 630 (1)\n",
      "\n"
     ]
    },
    {
     "name": "stdout",
     "output_type": "stream",
     "text": [
      "\t1 \n",
      "InhDendDistalRatio:1 \t ExcDendDistalRatio:1\n",
      "\t44 \n",
      "ninhL:630 \t ninhB:0 \t nexcL:125 \t nexcB:0 \n",
      "\t43 \n",
      "630 distal inhibitory synapses of type GABAa[0]\n",
      "125 distal excitatory synapses of type ProbAMPANMDA3_RATIO[0]\n",
      "synapses loaded \n",
      "\t17 \n",
      "\t1 \n"
     ]
    },
    {
     "name": "stderr",
     "output_type": "stream",
     "text": [
      "05-07 12:55:43 balanced input [synapses_weights.py:  79] INFO     \t \t spikes 1.0\n",
      "05-07 12:55:43 balanced input [synapses_weights.py:  97] INFO     \t 1.0 +- 0.0 (n=1)\n",
      "\n",
      "05-07 12:55:43 balanced input [synapses_weights.py:  59] INFO     \t exc_syn: 158 (1)\t inh_syn: 630 (1)\n",
      "\n"
     ]
    },
    {
     "name": "stdout",
     "output_type": "stream",
     "text": [
      "\t1 \n",
      "InhDendDistalRatio:1 \t ExcDendDistalRatio:1\n",
      "\t44 \n",
      "ninhL:630 \t ninhB:0 \t nexcL:158 \t nexcB:0 \n",
      "\t43 \n",
      "630 distal inhibitory synapses of type GABAa[0]\n",
      "158 distal excitatory synapses of type ProbAMPANMDA3_RATIO[0]\n",
      "synapses loaded \n",
      "\t17 \n",
      "\t1 \n"
     ]
    },
    {
     "name": "stderr",
     "output_type": "stream",
     "text": [
      "05-07 12:56:23 balanced input [synapses_weights.py:  79] INFO     \t \t spikes 1.0\n",
      "05-07 12:56:23 balanced input [synapses_weights.py:  97] INFO     \t 1.0 +- 0.0 (n=1)\n",
      "\n",
      "05-07 12:56:23 balanced input [synapses_weights.py:  59] INFO     \t exc_syn: 199 (1)\t inh_syn: 630 (1)\n",
      "\n"
     ]
    },
    {
     "name": "stdout",
     "output_type": "stream",
     "text": [
      "\t1 \n",
      "InhDendDistalRatio:1 \t ExcDendDistalRatio:1\n",
      "\t44 \n",
      "ninhL:630 \t ninhB:0 \t nexcL:199 \t nexcB:0 \n",
      "\t43 \n",
      "630 distal inhibitory synapses of type GABAa[0]\n",
      "199 distal excitatory synapses of type ProbAMPANMDA3_RATIO[0]\n",
      "synapses loaded \n",
      "\t17 \n",
      "\t1 \n"
     ]
    },
    {
     "name": "stderr",
     "output_type": "stream",
     "text": [
      "05-07 12:57:04 balanced input [synapses_weights.py:  79] INFO     \t \t spikes 1.0\n",
      "05-07 12:57:04 balanced input [synapses_weights.py:  97] INFO     \t 1.0 +- 0.0 (n=1)\n",
      "\n",
      "05-07 12:57:04 balanced input [synapses_weights.py:  59] INFO     \t exc_syn: 251 (1)\t inh_syn: 630 (1)\n",
      "\n"
     ]
    },
    {
     "name": "stdout",
     "output_type": "stream",
     "text": [
      "\t1 \n",
      "InhDendDistalRatio:1 \t ExcDendDistalRatio:1\n",
      "\t44 \n",
      "ninhL:630 \t ninhB:0 \t nexcL:251 \t nexcB:0 \n",
      "\t43 \n",
      "630 distal inhibitory synapses of type GABAa[0]\n",
      "251 distal excitatory synapses of type ProbAMPANMDA3_RATIO[0]\n",
      "synapses loaded \n",
      "\t17 \n",
      "\t1 \n"
     ]
    },
    {
     "name": "stderr",
     "output_type": "stream",
     "text": [
      "05-07 12:57:49 balanced input [synapses_weights.py:  79] INFO     \t \t spikes 2.0\n",
      "05-07 12:57:49 balanced input [synapses_weights.py:  97] INFO     \t 2.0 +- 0.0 (n=1)\n",
      "\n",
      "05-07 12:57:49 balanced input [synapses_weights.py:  59] INFO     \t exc_syn: 316 (1)\t inh_syn: 630 (1)\n",
      "\n"
     ]
    },
    {
     "name": "stdout",
     "output_type": "stream",
     "text": [
      "\t1 \n",
      "InhDendDistalRatio:1 \t ExcDendDistalRatio:1\n",
      "\t44 \n",
      "ninhL:630 \t ninhB:0 \t nexcL:316 \t nexcB:0 \n",
      "\t43 \n",
      "630 distal inhibitory synapses of type GABAa[0]\n",
      "316 distal excitatory synapses of type ProbAMPANMDA3_RATIO[0]\n",
      "synapses loaded \n",
      "\t17 \n",
      "\t1 \n"
     ]
    },
    {
     "name": "stderr",
     "output_type": "stream",
     "text": [
      "05-07 12:58:40 balanced input [synapses_weights.py:  79] INFO     \t \t spikes 7.0\n",
      "05-07 12:58:40 balanced input [synapses_weights.py:  97] INFO     \t 7.0 +- 0.0 (n=1)\n",
      "\n",
      "05-07 12:58:40 balanced input [synapses_weights.py:  59] INFO     \t exc_syn: 398 (1)\t inh_syn: 630 (1)\n",
      "\n"
     ]
    },
    {
     "name": "stdout",
     "output_type": "stream",
     "text": [
      "\t1 \n",
      "InhDendDistalRatio:1 \t ExcDendDistalRatio:1\n",
      "\t44 \n",
      "ninhL:630 \t ninhB:0 \t nexcL:398 \t nexcB:0 \n",
      "\t43 \n",
      "630 distal inhibitory synapses of type GABAa[0]\n",
      "398 distal excitatory synapses of type ProbAMPANMDA3_RATIO[0]\n",
      "synapses loaded \n",
      "\t17 \n",
      "\t1 \n"
     ]
    },
    {
     "name": "stderr",
     "output_type": "stream",
     "text": [
      "05-07 12:59:47 balanced input [synapses_weights.py:  79] INFO     \t \t spikes 23.0\n",
      "05-07 12:59:47 balanced input [synapses_weights.py:  90] INFO     \t break from above 15\n",
      "05-07 12:59:47 balanced input [synapses_weights.py:  97] INFO     \t 23.0 +- 0.0 (n=1)\n",
      "\n",
      "05-07 12:59:47 balanced input [synapses_weights.py:  59] INFO     \t exc_syn: 501 (1)\t inh_syn: 630 (1)\n",
      "\n",
      "05-07 12:59:47 balanced input [synapses_weights.py:  64] INFO     \t 16 +- 0 (n=0)\n",
      "\n",
      "05-07 12:59:47 balanced input [synapses_weights.py:  59] INFO     \t exc_syn: 630 (1)\t inh_syn: 630 (1)\n",
      "\n",
      "05-07 12:59:47 balanced input [synapses_weights.py:  64] INFO     \t 16 +- 0 (n=0)\n",
      "\n",
      "05-07 12:59:47 balanced input [synapses_weights.py:  59] INFO     \t exc_syn: 794 (1)\t inh_syn: 630 (1)\n",
      "\n",
      "05-07 12:59:47 balanced input [synapses_weights.py:  64] INFO     \t 16 +- 0 (n=0)\n",
      "\n",
      "05-07 12:59:47 balanced input [synapses_weights.py:  59] INFO     \t exc_syn: 1000 (1)\t inh_syn: 630 (1)\n",
      "\n",
      "05-07 12:59:47 balanced input [synapses_weights.py:  64] INFO     \t 16 +- 0 (n=0)\n",
      "\n",
      "05-07 12:59:47 balanced input [synapses_weights.py:  59] INFO     \t exc_syn: 0 (1)\t inh_syn: 794 (1)\n",
      "\n"
     ]
    },
    {
     "name": "stdout",
     "output_type": "stream",
     "text": [
      "1 excitatory synapse\n",
      "\t1 \n",
      "InhDendDistalRatio:1 \t ExcDendDistalRatio:1\n",
      "\t44 \n",
      "ninhL:794 \t ninhB:0 \t nexcL:1 \t nexcB:0 \n",
      "\t41 \n",
      "794 distal inhibitory synapses of type GABAa[0]\n",
      "1 distal excitatory synapses of type ProbAMPANMDA3_RATIO[0]\n",
      "synapses loaded \n",
      "\t17 \n",
      "\t1 \n"
     ]
    },
    {
     "name": "stderr",
     "output_type": "stream",
     "text": [
      "05-07 13:00:13 balanced input [synapses_weights.py:  79] INFO     \t \t spikes 0.0\n",
      "05-07 13:00:13 balanced input [synapses_weights.py:  83] INFO     \t break from too many 0's\n",
      "05-07 13:00:13 balanced input [synapses_weights.py:  97] INFO     \t 0.0 +- 0.0 (n=1)\n",
      "\n",
      "05-07 13:00:13 balanced input [synapses_weights.py:  59] INFO     \t exc_syn: 10 (1)\t inh_syn: 794 (1)\n",
      "\n"
     ]
    },
    {
     "name": "stdout",
     "output_type": "stream",
     "text": [
      "\t1 \n",
      "InhDendDistalRatio:1 \t ExcDendDistalRatio:1\n",
      "\t44 \n",
      "ninhL:794 \t ninhB:0 \t nexcL:10 \t nexcB:0 \n",
      "\t42 \n",
      "794 distal inhibitory synapses of type GABAa[0]\n",
      "10 distal excitatory synapses of type ProbAMPANMDA3_RATIO[0]\n",
      "synapses loaded \n",
      "\t17 \n",
      "\t1 \n"
     ]
    },
    {
     "name": "stderr",
     "output_type": "stream",
     "text": [
      "05-07 13:00:41 balanced input [synapses_weights.py:  79] INFO     \t \t spikes 0.0\n",
      "05-07 13:00:41 balanced input [synapses_weights.py:  83] INFO     \t break from too many 0's\n",
      "05-07 13:00:41 balanced input [synapses_weights.py:  97] INFO     \t 0.0 +- 0.0 (n=1)\n",
      "\n",
      "05-07 13:00:41 balanced input [synapses_weights.py:  59] INFO     \t exc_syn: 21 (1)\t inh_syn: 794 (1)\n",
      "\n"
     ]
    },
    {
     "name": "stdout",
     "output_type": "stream",
     "text": [
      "\t1 \n",
      "InhDendDistalRatio:1 \t ExcDendDistalRatio:1\n",
      "\t44 \n",
      "ninhL:794 \t ninhB:0 \t nexcL:21 \t nexcB:0 \n",
      "\t42 \n",
      "794 distal inhibitory synapses of type GABAa[0]\n",
      "21 distal excitatory synapses of type ProbAMPANMDA3_RATIO[0]\n",
      "synapses loaded \n",
      "\t17 \n",
      "\t1 \n"
     ]
    },
    {
     "name": "stderr",
     "output_type": "stream",
     "text": [
      "05-07 13:01:11 balanced input [synapses_weights.py:  79] INFO     \t \t spikes 0.0\n",
      "05-07 13:01:11 balanced input [synapses_weights.py:  83] INFO     \t break from too many 0's\n",
      "05-07 13:01:11 balanced input [synapses_weights.py:  97] INFO     \t 0.0 +- 0.0 (n=1)\n",
      "\n",
      "05-07 13:01:11 balanced input [synapses_weights.py:  59] INFO     \t exc_syn: 46 (1)\t inh_syn: 794 (1)\n",
      "\n"
     ]
    },
    {
     "name": "stdout",
     "output_type": "stream",
     "text": [
      "\t1 \n",
      "InhDendDistalRatio:1 \t ExcDendDistalRatio:1\n",
      "\t44 \n",
      "ninhL:794 \t ninhB:0 \t nexcL:46 \t nexcB:0 \n",
      "\t42 \n",
      "794 distal inhibitory synapses of type GABAa[0]\n",
      "46 distal excitatory synapses of type ProbAMPANMDA3_RATIO[0]\n",
      "synapses loaded \n",
      "\t17 \n",
      "\t1 \n"
     ]
    },
    {
     "name": "stderr",
     "output_type": "stream",
     "text": [
      "05-07 13:01:45 balanced input [synapses_weights.py:  79] INFO     \t \t spikes 0.0\n",
      "05-07 13:01:45 balanced input [synapses_weights.py:  83] INFO     \t break from too many 0's\n",
      "05-07 13:01:45 balanced input [synapses_weights.py:  97] INFO     \t 0.0 +- 0.0 (n=1)\n",
      "\n",
      "05-07 13:01:45 balanced input [synapses_weights.py:  59] INFO     \t exc_syn: 100 (1)\t inh_syn: 794 (1)\n",
      "\n"
     ]
    },
    {
     "name": "stdout",
     "output_type": "stream",
     "text": [
      "\t1 \n",
      "InhDendDistalRatio:1 \t ExcDendDistalRatio:1\n",
      "\t44 \n",
      "ninhL:794 \t ninhB:0 \t nexcL:100 \t nexcB:0 \n",
      "\t43 \n",
      "794 distal inhibitory synapses of type GABAa[0]\n",
      "100 distal excitatory synapses of type ProbAMPANMDA3_RATIO[0]\n",
      "synapses loaded \n",
      "\t17 \n",
      "\t1 \n"
     ]
    },
    {
     "name": "stderr",
     "output_type": "stream",
     "text": [
      "05-07 13:02:29 balanced input [synapses_weights.py:  79] INFO     \t \t spikes 0.0\n",
      "05-07 13:02:29 balanced input [synapses_weights.py:  83] INFO     \t break from too many 0's\n",
      "05-07 13:02:29 balanced input [synapses_weights.py:  97] INFO     \t 0.0 +- 0.0 (n=1)\n",
      "\n",
      "05-07 13:02:29 balanced input [synapses_weights.py:  59] INFO     \t exc_syn: 125 (1)\t inh_syn: 794 (1)\n",
      "\n"
     ]
    },
    {
     "name": "stdout",
     "output_type": "stream",
     "text": [
      "\t1 \n",
      "InhDendDistalRatio:1 \t ExcDendDistalRatio:1\n",
      "\t44 \n",
      "ninhL:794 \t ninhB:0 \t nexcL:125 \t nexcB:0 \n",
      "\t43 \n",
      "794 distal inhibitory synapses of type GABAa[0]\n",
      "125 distal excitatory synapses of type ProbAMPANMDA3_RATIO[0]\n",
      "synapses loaded \n",
      "\t17 \n",
      "\t1 \n"
     ]
    },
    {
     "name": "stderr",
     "output_type": "stream",
     "text": [
      "05-07 13:03:31 balanced input [synapses_weights.py:  79] INFO     \t \t spikes 1.0\n",
      "05-07 13:03:31 balanced input [synapses_weights.py:  97] INFO     \t 1.0 +- 0.0 (n=1)\n",
      "\n",
      "05-07 13:03:31 balanced input [synapses_weights.py:  59] INFO     \t exc_syn: 158 (1)\t inh_syn: 794 (1)\n",
      "\n"
     ]
    },
    {
     "name": "stdout",
     "output_type": "stream",
     "text": [
      "\t1 \n",
      "InhDendDistalRatio:1 \t ExcDendDistalRatio:1\n",
      "\t44 \n",
      "ninhL:794 \t ninhB:0 \t nexcL:158 \t nexcB:0 \n",
      "\t43 \n",
      "794 distal inhibitory synapses of type GABAa[0]\n",
      "158 distal excitatory synapses of type ProbAMPANMDA3_RATIO[0]\n",
      "synapses loaded \n",
      "\t17 \n",
      "\t1 \n"
     ]
    },
    {
     "name": "stderr",
     "output_type": "stream",
     "text": [
      "05-07 13:04:23 balanced input [synapses_weights.py:  79] INFO     \t \t spikes 1.0\n",
      "05-07 13:04:23 balanced input [synapses_weights.py:  97] INFO     \t 1.0 +- 0.0 (n=1)\n",
      "\n",
      "05-07 13:04:23 balanced input [synapses_weights.py:  59] INFO     \t exc_syn: 199 (1)\t inh_syn: 794 (1)\n",
      "\n"
     ]
    },
    {
     "name": "stdout",
     "output_type": "stream",
     "text": [
      "\t1 \n",
      "InhDendDistalRatio:1 \t ExcDendDistalRatio:1\n",
      "\t44 \n",
      "ninhL:794 \t ninhB:0 \t nexcL:199 \t nexcB:0 \n",
      "\t43 \n",
      "794 distal inhibitory synapses of type GABAa[0]\n",
      "199 distal excitatory synapses of type ProbAMPANMDA3_RATIO[0]\n",
      "synapses loaded \n",
      "\t17 \n",
      "\t1 \n"
     ]
    },
    {
     "name": "stderr",
     "output_type": "stream",
     "text": [
      "05-07 13:05:17 balanced input [synapses_weights.py:  79] INFO     \t \t spikes 1.0\n",
      "05-07 13:05:17 balanced input [synapses_weights.py:  97] INFO     \t 1.0 +- 0.0 (n=1)\n",
      "\n",
      "05-07 13:05:17 balanced input [synapses_weights.py:  59] INFO     \t exc_syn: 251 (1)\t inh_syn: 794 (1)\n",
      "\n"
     ]
    },
    {
     "name": "stdout",
     "output_type": "stream",
     "text": [
      "\t1 \n",
      "InhDendDistalRatio:1 \t ExcDendDistalRatio:1\n",
      "\t44 \n",
      "ninhL:794 \t ninhB:0 \t nexcL:251 \t nexcB:0 \n",
      "\t43 \n",
      "794 distal inhibitory synapses of type GABAa[0]\n",
      "251 distal excitatory synapses of type ProbAMPANMDA3_RATIO[0]\n",
      "synapses loaded \n",
      "\t17 \n",
      "\t1 \n"
     ]
    },
    {
     "name": "stderr",
     "output_type": "stream",
     "text": [
      "05-07 13:06:13 balanced input [synapses_weights.py:  79] INFO     \t \t spikes 2.0\n",
      "05-07 13:06:13 balanced input [synapses_weights.py:  97] INFO     \t 2.0 +- 0.0 (n=1)\n",
      "\n",
      "05-07 13:06:13 balanced input [synapses_weights.py:  59] INFO     \t exc_syn: 316 (1)\t inh_syn: 794 (1)\n",
      "\n"
     ]
    },
    {
     "name": "stdout",
     "output_type": "stream",
     "text": [
      "\t1 \n",
      "InhDendDistalRatio:1 \t ExcDendDistalRatio:1\n",
      "\t44 \n",
      "ninhL:794 \t ninhB:0 \t nexcL:316 \t nexcB:0 \n",
      "\t43 \n",
      "794 distal inhibitory synapses of type GABAa[0]\n",
      "316 distal excitatory synapses of type ProbAMPANMDA3_RATIO[0]\n",
      "synapses loaded \n",
      "\t17 \n",
      "\t1 \n"
     ]
    },
    {
     "name": "stderr",
     "output_type": "stream",
     "text": [
      "05-07 13:07:16 balanced input [synapses_weights.py:  79] INFO     \t \t spikes 5.0\n",
      "05-07 13:07:16 balanced input [synapses_weights.py:  97] INFO     \t 5.0 +- 0.0 (n=1)\n",
      "\n",
      "05-07 13:07:16 balanced input [synapses_weights.py:  59] INFO     \t exc_syn: 398 (1)\t inh_syn: 794 (1)\n",
      "\n"
     ]
    },
    {
     "name": "stdout",
     "output_type": "stream",
     "text": [
      "\t1 \n",
      "InhDendDistalRatio:1 \t ExcDendDistalRatio:1\n",
      "\t44 \n",
      "ninhL:794 \t ninhB:0 \t nexcL:398 \t nexcB:0 \n",
      "\t43 \n",
      "794 distal inhibitory synapses of type GABAa[0]\n",
      "398 distal excitatory synapses of type ProbAMPANMDA3_RATIO[0]\n",
      "synapses loaded \n",
      "\t17 \n",
      "\t1 \n"
     ]
    },
    {
     "name": "stderr",
     "output_type": "stream",
     "text": [
      "05-07 13:08:39 balanced input [synapses_weights.py:  79] INFO     \t \t spikes 18.0\n",
      "05-07 13:08:39 balanced input [synapses_weights.py:  90] INFO     \t break from above 15\n",
      "05-07 13:08:39 balanced input [synapses_weights.py:  97] INFO     \t 18.0 +- 0.0 (n=1)\n",
      "\n",
      "05-07 13:08:39 balanced input [synapses_weights.py:  59] INFO     \t exc_syn: 501 (1)\t inh_syn: 794 (1)\n",
      "\n",
      "05-07 13:08:39 balanced input [synapses_weights.py:  64] INFO     \t 16 +- 0 (n=0)\n",
      "\n",
      "05-07 13:08:39 balanced input [synapses_weights.py:  59] INFO     \t exc_syn: 630 (1)\t inh_syn: 794 (1)\n",
      "\n",
      "05-07 13:08:39 balanced input [synapses_weights.py:  64] INFO     \t 16 +- 0 (n=0)\n",
      "\n",
      "05-07 13:08:39 balanced input [synapses_weights.py:  59] INFO     \t exc_syn: 794 (1)\t inh_syn: 794 (1)\n",
      "\n",
      "05-07 13:08:39 balanced input [synapses_weights.py:  64] INFO     \t 16 +- 0 (n=0)\n",
      "\n",
      "05-07 13:08:39 balanced input [synapses_weights.py:  59] INFO     \t exc_syn: 1000 (1)\t inh_syn: 794 (1)\n",
      "\n",
      "05-07 13:08:39 balanced input [synapses_weights.py:  64] INFO     \t 16 +- 0 (n=0)\n",
      "\n",
      "05-07 13:08:39 balanced input [synapses_weights.py:  59] INFO     \t exc_syn: 0 (1)\t inh_syn: 1000 (1)\n",
      "\n"
     ]
    },
    {
     "name": "stdout",
     "output_type": "stream",
     "text": [
      "1 excitatory synapse\n",
      "\t1 \n",
      "InhDendDistalRatio:1 \t ExcDendDistalRatio:1\n",
      "\t44 \n",
      "ninhL:1000 \t ninhB:0 \t nexcL:1 \t nexcB:0 \n",
      "\t42 \n",
      "1000 distal inhibitory synapses of type GABAa[0]\n",
      "1 distal excitatory synapses of type ProbAMPANMDA3_RATIO[0]\n",
      "synapses loaded \n",
      "\t17 \n",
      "\t1 \n"
     ]
    },
    {
     "name": "stderr",
     "output_type": "stream",
     "text": [
      "05-07 13:09:19 balanced input [synapses_weights.py:  79] INFO     \t \t spikes 0.0\n",
      "05-07 13:09:19 balanced input [synapses_weights.py:  83] INFO     \t break from too many 0's\n",
      "05-07 13:09:19 balanced input [synapses_weights.py:  97] INFO     \t 0.0 +- 0.0 (n=1)\n",
      "\n",
      "05-07 13:09:19 balanced input [synapses_weights.py:  59] INFO     \t exc_syn: 10 (1)\t inh_syn: 1000 (1)\n",
      "\n"
     ]
    },
    {
     "name": "stdout",
     "output_type": "stream",
     "text": [
      "\t1 \n",
      "InhDendDistalRatio:1 \t ExcDendDistalRatio:1\n",
      "\t44 \n",
      "ninhL:1000 \t ninhB:0 \t nexcL:10 \t nexcB:0 \n",
      "\t43 \n",
      "1000 distal inhibitory synapses of type GABAa[0]\n",
      "10 distal excitatory synapses of type ProbAMPANMDA3_RATIO[0]\n",
      "synapses loaded \n",
      "\t17 \n",
      "\t1 \n"
     ]
    },
    {
     "name": "stderr",
     "output_type": "stream",
     "text": [
      "05-07 13:10:03 balanced input [synapses_weights.py:  79] INFO     \t \t spikes 0.0\n",
      "05-07 13:10:03 balanced input [synapses_weights.py:  83] INFO     \t break from too many 0's\n",
      "05-07 13:10:03 balanced input [synapses_weights.py:  97] INFO     \t 0.0 +- 0.0 (n=1)\n",
      "\n",
      "05-07 13:10:03 balanced input [synapses_weights.py:  59] INFO     \t exc_syn: 21 (1)\t inh_syn: 1000 (1)\n",
      "\n"
     ]
    },
    {
     "name": "stdout",
     "output_type": "stream",
     "text": [
      "\t1 \n",
      "InhDendDistalRatio:1 \t ExcDendDistalRatio:1\n",
      "\t44 \n",
      "ninhL:1000 \t ninhB:0 \t nexcL:21 \t nexcB:0 \n",
      "\t43 \n",
      "1000 distal inhibitory synapses of type GABAa[0]\n",
      "21 distal excitatory synapses of type ProbAMPANMDA3_RATIO[0]\n",
      "synapses loaded \n",
      "\t17 \n",
      "\t1 \n"
     ]
    },
    {
     "name": "stderr",
     "output_type": "stream",
     "text": [
      "05-07 13:10:46 balanced input [synapses_weights.py:  79] INFO     \t \t spikes 0.0\n",
      "05-07 13:10:46 balanced input [synapses_weights.py:  83] INFO     \t break from too many 0's\n",
      "05-07 13:10:46 balanced input [synapses_weights.py:  97] INFO     \t 0.0 +- 0.0 (n=1)\n",
      "\n",
      "05-07 13:10:46 balanced input [synapses_weights.py:  59] INFO     \t exc_syn: 46 (1)\t inh_syn: 1000 (1)\n",
      "\n"
     ]
    },
    {
     "name": "stdout",
     "output_type": "stream",
     "text": [
      "\t1 \n",
      "InhDendDistalRatio:1 \t ExcDendDistalRatio:1\n",
      "\t44 \n",
      "ninhL:1000 \t ninhB:0 \t nexcL:46 \t nexcB:0 \n",
      "\t43 \n",
      "1000 distal inhibitory synapses of type GABAa[0]\n",
      "46 distal excitatory synapses of type ProbAMPANMDA3_RATIO[0]\n",
      "synapses loaded \n",
      "\t17 \n",
      "\t1 \n"
     ]
    },
    {
     "name": "stderr",
     "output_type": "stream",
     "text": [
      "05-07 13:11:35 balanced input [synapses_weights.py:  79] INFO     \t \t spikes 0.0\n",
      "05-07 13:11:35 balanced input [synapses_weights.py:  83] INFO     \t break from too many 0's\n",
      "05-07 13:11:35 balanced input [synapses_weights.py:  97] INFO     \t 0.0 +- 0.0 (n=1)\n",
      "\n",
      "05-07 13:11:35 balanced input [synapses_weights.py:  59] INFO     \t exc_syn: 100 (1)\t inh_syn: 1000 (1)\n",
      "\n"
     ]
    },
    {
     "name": "stdout",
     "output_type": "stream",
     "text": [
      "\t1 \n",
      "InhDendDistalRatio:1 \t ExcDendDistalRatio:1\n",
      "\t44 \n",
      "ninhL:1000 \t ninhB:0 \t nexcL:100 \t nexcB:0 \n",
      "\t44 \n",
      "1000 distal inhibitory synapses of type GABAa[0]\n",
      "100 distal excitatory synapses of type ProbAMPANMDA3_RATIO[0]\n",
      "synapses loaded \n",
      "\t17 \n",
      "\t1 \n"
     ]
    },
    {
     "name": "stderr",
     "output_type": "stream",
     "text": [
      "05-07 13:12:40 balanced input [synapses_weights.py:  79] INFO     \t \t spikes 0.0\n",
      "05-07 13:12:40 balanced input [synapses_weights.py:  83] INFO     \t break from too many 0's\n",
      "05-07 13:12:40 balanced input [synapses_weights.py:  97] INFO     \t 0.0 +- 0.0 (n=1)\n",
      "\n",
      "05-07 13:12:40 balanced input [synapses_weights.py:  59] INFO     \t exc_syn: 125 (1)\t inh_syn: 1000 (1)\n",
      "\n"
     ]
    },
    {
     "name": "stdout",
     "output_type": "stream",
     "text": [
      "\t1 \n",
      "InhDendDistalRatio:1 \t ExcDendDistalRatio:1\n",
      "\t44 \n",
      "ninhL:1000 \t ninhB:0 \t nexcL:125 \t nexcB:0 \n",
      "\t44 \n",
      "1000 distal inhibitory synapses of type GABAa[0]\n",
      "125 distal excitatory synapses of type ProbAMPANMDA3_RATIO[0]\n",
      "synapses loaded \n",
      "\t17 \n",
      "\t1 \n"
     ]
    },
    {
     "name": "stderr",
     "output_type": "stream",
     "text": [
      "05-07 13:13:47 balanced input [synapses_weights.py:  79] INFO     \t \t spikes 0.0\n",
      "05-07 13:13:47 balanced input [synapses_weights.py:  83] INFO     \t break from too many 0's\n",
      "05-07 13:13:47 balanced input [synapses_weights.py:  97] INFO     \t 0.0 +- 0.0 (n=1)\n",
      "\n",
      "05-07 13:13:47 balanced input [synapses_weights.py:  59] INFO     \t exc_syn: 158 (1)\t inh_syn: 1000 (1)\n",
      "\n"
     ]
    },
    {
     "name": "stdout",
     "output_type": "stream",
     "text": [
      "\t1 \n",
      "InhDendDistalRatio:1 \t ExcDendDistalRatio:1\n",
      "\t44 \n",
      "ninhL:1000 \t ninhB:0 \t nexcL:158 \t nexcB:0 \n",
      "\t44 \n",
      "1000 distal inhibitory synapses of type GABAa[0]\n",
      "158 distal excitatory synapses of type ProbAMPANMDA3_RATIO[0]\n",
      "synapses loaded \n",
      "\t17 \n",
      "\t1 \n"
     ]
    },
    {
     "name": "stderr",
     "output_type": "stream",
     "text": [
      "05-07 13:15:02 balanced input [synapses_weights.py:  79] INFO     \t \t spikes 1.0\n",
      "05-07 13:15:02 balanced input [synapses_weights.py:  97] INFO     \t 1.0 +- 0.0 (n=1)\n",
      "\n",
      "05-07 13:15:02 balanced input [synapses_weights.py:  59] INFO     \t exc_syn: 199 (1)\t inh_syn: 1000 (1)\n",
      "\n"
     ]
    },
    {
     "name": "stdout",
     "output_type": "stream",
     "text": [
      "\t1 \n",
      "InhDendDistalRatio:1 \t ExcDendDistalRatio:1\n",
      "\t44 \n",
      "ninhL:1000 \t ninhB:0 \t nexcL:199 \t nexcB:0 \n",
      "\t44 \n",
      "1000 distal inhibitory synapses of type GABAa[0]\n",
      "199 distal excitatory synapses of type ProbAMPANMDA3_RATIO[0]\n",
      "synapses loaded \n",
      "\t17 \n",
      "\t1 \n"
     ]
    },
    {
     "name": "stderr",
     "output_type": "stream",
     "text": [
      "05-07 13:16:09 balanced input [synapses_weights.py:  79] INFO     \t \t spikes 1.0\n",
      "05-07 13:16:09 balanced input [synapses_weights.py:  97] INFO     \t 1.0 +- 0.0 (n=1)\n",
      "\n",
      "05-07 13:16:09 balanced input [synapses_weights.py:  59] INFO     \t exc_syn: 251 (1)\t inh_syn: 1000 (1)\n",
      "\n"
     ]
    },
    {
     "name": "stdout",
     "output_type": "stream",
     "text": [
      "\t1 \n",
      "InhDendDistalRatio:1 \t ExcDendDistalRatio:1\n",
      "\t44 \n",
      "ninhL:1000 \t ninhB:0 \t nexcL:251 \t nexcB:0 \n",
      "\t44 \n",
      "1000 distal inhibitory synapses of type GABAa[0]\n",
      "251 distal excitatory synapses of type ProbAMPANMDA3_RATIO[0]\n",
      "synapses loaded \n",
      "\t17 \n",
      "\t1 \n"
     ]
    },
    {
     "name": "stderr",
     "output_type": "stream",
     "text": [
      "05-07 13:17:18 balanced input [synapses_weights.py:  79] INFO     \t \t spikes 2.0\n",
      "05-07 13:17:18 balanced input [synapses_weights.py:  97] INFO     \t 2.0 +- 0.0 (n=1)\n",
      "\n",
      "05-07 13:17:18 balanced input [synapses_weights.py:  59] INFO     \t exc_syn: 316 (1)\t inh_syn: 1000 (1)\n",
      "\n"
     ]
    },
    {
     "name": "stdout",
     "output_type": "stream",
     "text": [
      "\t1 \n",
      "InhDendDistalRatio:1 \t ExcDendDistalRatio:1\n",
      "\t44 \n",
      "ninhL:1000 \t ninhB:0 \t nexcL:316 \t nexcB:0 \n",
      "\t44 \n",
      "1000 distal inhibitory synapses of type GABAa[0]\n",
      "316 distal excitatory synapses of type ProbAMPANMDA3_RATIO[0]\n",
      "synapses loaded \n",
      "\t17 \n",
      "\t1 \n"
     ]
    },
    {
     "name": "stderr",
     "output_type": "stream",
     "text": [
      "05-07 13:18:35 balanced input [synapses_weights.py:  79] INFO     \t \t spikes 4.0\n",
      "05-07 13:18:35 balanced input [synapses_weights.py:  97] INFO     \t 4.0 +- 0.0 (n=1)\n",
      "\n",
      "05-07 13:18:35 balanced input [synapses_weights.py:  59] INFO     \t exc_syn: 398 (1)\t inh_syn: 1000 (1)\n",
      "\n"
     ]
    },
    {
     "name": "stdout",
     "output_type": "stream",
     "text": [
      "\t1 \n",
      "InhDendDistalRatio:1 \t ExcDendDistalRatio:1\n",
      "\t44 \n",
      "ninhL:1000 \t ninhB:0 \t nexcL:398 \t nexcB:0 \n",
      "\t44 \n",
      "1000 distal inhibitory synapses of type GABAa[0]\n",
      "398 distal excitatory synapses of type ProbAMPANMDA3_RATIO[0]\n",
      "synapses loaded \n",
      "\t17 \n",
      "\t1 \n"
     ]
    },
    {
     "name": "stderr",
     "output_type": "stream",
     "text": [
      "05-07 13:20:19 balanced input [synapses_weights.py:  79] INFO     \t \t spikes 15.0\n",
      "05-07 13:20:19 balanced input [synapses_weights.py:  97] INFO     \t 15.0 +- 0.0 (n=1)\n",
      "\n",
      "05-07 13:20:19 balanced input [synapses_weights.py:  59] INFO     \t exc_syn: 501 (1)\t inh_syn: 1000 (1)\n",
      "\n"
     ]
    },
    {
     "name": "stdout",
     "output_type": "stream",
     "text": [
      "\t1 \n",
      "InhDendDistalRatio:1 \t ExcDendDistalRatio:1\n",
      "\t44 \n",
      "ninhL:1000 \t ninhB:0 \t nexcL:501 \t nexcB:0 \n",
      "\t44 \n",
      "1000 distal inhibitory synapses of type GABAa[0]\n",
      "501 distal excitatory synapses of type ProbAMPANMDA3_RATIO[0]\n",
      "synapses loaded \n",
      "\t17 \n",
      "\t1 \n"
     ]
    },
    {
     "name": "stderr",
     "output_type": "stream",
     "text": [
      "05-07 13:22:32 balanced input [synapses_weights.py:  79] INFO     \t \t spikes 37.0\n",
      "05-07 13:22:32 balanced input [synapses_weights.py:  90] INFO     \t break from above 15\n",
      "05-07 13:22:32 balanced input [synapses_weights.py:  97] INFO     \t 37.0 +- 0.0 (n=1)\n",
      "\n",
      "05-07 13:22:32 balanced input [synapses_weights.py:  59] INFO     \t exc_syn: 630 (1)\t inh_syn: 1000 (1)\n",
      "\n",
      "05-07 13:22:32 balanced input [synapses_weights.py:  64] INFO     \t 16 +- 0 (n=0)\n",
      "\n",
      "05-07 13:22:32 balanced input [synapses_weights.py:  59] INFO     \t exc_syn: 794 (1)\t inh_syn: 1000 (1)\n",
      "\n",
      "05-07 13:22:32 balanced input [synapses_weights.py:  64] INFO     \t 16 +- 0 (n=0)\n",
      "\n",
      "05-07 13:22:32 balanced input [synapses_weights.py:  59] INFO     \t exc_syn: 1000 (1)\t inh_syn: 1000 (1)\n",
      "\n",
      "05-07 13:22:32 balanced input [synapses_weights.py:  64] INFO     \t 16 +- 0 (n=0)\n",
      "\n",
      "05-07 13:22:32 io heatmap [balanced_heatmap.py:  66] INFO     \t ====================results_balanced_heatmap\\proximal_KCC2.txt====================\n",
      "05-07 13:22:32 io heatmap [balanced_heatmap.py:  70] INFO     \t best weights = E:1, I:1\n"
     ]
    },
    {
     "name": "stdout",
     "output_type": "stream",
     "text": [
      "\t1 \n",
      "\t1 \n",
      "\t1 \n",
      "\t1 \n",
      "\t1 \n",
      "\t1 \n",
      "\t1 \n",
      "\t1 \n",
      "\t1 \n",
      "\t1 \n",
      "\t1 \n",
      "\t1 \n",
      "\t1 \n",
      "InhDendDistalRatio:0 \t ExcDendDistalRatio:1\n",
      "\t44 \n",
      "ninhL:0 \t ninhB:1000 \t nexcL:501 \t nexcB:0 \n",
      "\t44 \n",
      "1000 proximal inhibitory synapses of type GABAa[0]\n",
      "501 distal excitatory synapses of type ProbAMPANMDA3_RATIO[0]\n",
      "synapses loaded \n",
      "\t17 \n",
      "\t1 \n",
      "\t1 \n",
      "\t1 \n",
      "\t1 \n",
      "\t1 \n",
      "\t1 \n",
      "\t1 \n"
     ]
    },
    {
     "name": "stderr",
     "output_type": "stream",
     "text": [
      "05-07 13:22:32 nrnpy      [nrnpy.py  :  22] INFO     \t opened: proximal_KCC2.hoc \t reloaded=True\n"
     ]
    },
    {
     "name": "stdout",
     "output_type": "stream",
     "text": [
      "\t1 \n",
      "\t1 \n",
      "\t1 \n",
      "\t1 \n",
      "\t1 \n",
      "\t1 \n",
      "\t1 \n",
      "\t1 \n",
      "\t1 \n",
      "\t1 \n",
      "\t1 \n",
      "\t1 \n",
      "\t1 \n",
      "InhDendDistalRatio:0 \t ExcDendDistalRatio:1\n",
      "\t44 \n",
      "ninhL:0 \t ninhB:1000 \t nexcL:501 \t nexcB:0 \n",
      "\t44 \n",
      "1000 proximal inhibitory synapses of type GABAa[0]\n",
      "501 distal excitatory synapses of type ProbAMPANMDA3_RATIO[0]\n",
      "synapses loaded \n",
      "\t17 \n",
      "\t1 \n",
      "\t1 \n",
      "\t1 \n",
      "\t1 \n",
      "\t1 \n",
      "\t1 \n",
      "\t1 \n"
     ]
    },
    {
     "name": "stderr",
     "output_type": "stream",
     "text": [
      "05-07 13:22:32 nrnpy      [nrnpy.py  :  22] INFO     \t opened: proximal_KCC2.hoc \t reloaded=True\n",
      "05-07 13:22:32 balanced input [synapses_weights.py:  59] INFO     \t exc_syn: 0 (1)\t inh_syn: 0 (1)\n",
      "\n"
     ]
    },
    {
     "name": "stdout",
     "output_type": "stream",
     "text": [
      "1 excitatory synapse\n",
      "1 inhibitory synapse\n",
      "\t1 \n",
      "InhDendDistalRatio:0 \t ExcDendDistalRatio:1\n",
      "\t44 \n",
      "ninhL:0 \t ninhB:1 \t nexcL:1 \t nexcB:0 \n",
      "\t39 \n",
      "1 proximal inhibitory synapses of type GABAa[0]\n",
      "1 distal excitatory synapses of type ProbAMPANMDA3_RATIO[0]\n",
      "synapses loaded \n",
      "\t17 \n",
      "\t1 \n"
     ]
    },
    {
     "name": "stderr",
     "output_type": "stream",
     "text": [
      "05-07 13:22:33 balanced input [synapses_weights.py:  79] INFO     \t \t spikes 0.0\n",
      "05-07 13:22:33 balanced input [synapses_weights.py:  83] INFO     \t break from too many 0's\n",
      "05-07 13:22:33 balanced input [synapses_weights.py:  97] INFO     \t 0.0 +- 0.0 (n=1)\n",
      "\n",
      "05-07 13:22:33 balanced input [synapses_weights.py:  59] INFO     \t exc_syn: 10 (1)\t inh_syn: 0 (1)\n",
      "\n"
     ]
    },
    {
     "name": "stdout",
     "output_type": "stream",
     "text": [
      "1 inhibitory synapse\n",
      "\t1 \n",
      "InhDendDistalRatio:0 \t ExcDendDistalRatio:1\n",
      "\t44 \n",
      "ninhL:0 \t ninhB:1 \t nexcL:10 \t nexcB:0 \n",
      "\t40 \n",
      "1 proximal inhibitory synapses of type GABAa[0]\n",
      "10 distal excitatory synapses of type ProbAMPANMDA3_RATIO[0]\n",
      "synapses loaded \n",
      "\t17 \n",
      "\t1 \n"
     ]
    },
    {
     "name": "stderr",
     "output_type": "stream",
     "text": [
      "05-07 13:22:34 balanced input [synapses_weights.py:  79] INFO     \t \t spikes 0.0\n",
      "05-07 13:22:34 balanced input [synapses_weights.py:  83] INFO     \t break from too many 0's\n",
      "05-07 13:22:34 balanced input [synapses_weights.py:  97] INFO     \t 0.0 +- 0.0 (n=1)\n",
      "\n",
      "05-07 13:22:34 balanced input [synapses_weights.py:  59] INFO     \t exc_syn: 21 (1)\t inh_syn: 0 (1)\n",
      "\n"
     ]
    },
    {
     "name": "stdout",
     "output_type": "stream",
     "text": [
      "1 inhibitory synapse\n",
      "\t1 \n",
      "InhDendDistalRatio:0 \t ExcDendDistalRatio:1\n",
      "\t44 \n",
      "ninhL:0 \t ninhB:1 \t nexcL:21 \t nexcB:0 \n",
      "\t40 \n",
      "1 proximal inhibitory synapses of type GABAa[0]\n",
      "21 distal excitatory synapses of type ProbAMPANMDA3_RATIO[0]\n",
      "synapses loaded \n",
      "\t17 \n",
      "\t1 \n"
     ]
    },
    {
     "name": "stderr",
     "output_type": "stream",
     "text": [
      "05-07 13:22:36 balanced input [synapses_weights.py:  79] INFO     \t \t spikes 0.0\n",
      "05-07 13:22:36 balanced input [synapses_weights.py:  83] INFO     \t break from too many 0's\n",
      "05-07 13:22:36 balanced input [synapses_weights.py:  97] INFO     \t 0.0 +- 0.0 (n=1)\n",
      "\n",
      "05-07 13:22:36 balanced input [synapses_weights.py:  59] INFO     \t exc_syn: 46 (1)\t inh_syn: 0 (1)\n",
      "\n"
     ]
    },
    {
     "name": "stdout",
     "output_type": "stream",
     "text": [
      "1 inhibitory synapse\n",
      "\t1 \n",
      "InhDendDistalRatio:0 \t ExcDendDistalRatio:1\n",
      "\t44 \n",
      "ninhL:0 \t ninhB:1 \t nexcL:46 \t nexcB:0 \n",
      "\t40 \n",
      "1 proximal inhibitory synapses of type GABAa[0]\n",
      "46 distal excitatory synapses of type ProbAMPANMDA3_RATIO[0]\n",
      "synapses loaded \n",
      "\t17 \n",
      "\t1 \n"
     ]
    },
    {
     "name": "stderr",
     "output_type": "stream",
     "text": [
      "05-07 13:22:41 balanced input [synapses_weights.py:  79] INFO     \t \t spikes 0.0\n",
      "05-07 13:22:41 balanced input [synapses_weights.py:  83] INFO     \t break from too many 0's\n",
      "05-07 13:22:41 balanced input [synapses_weights.py:  97] INFO     \t 0.0 +- 0.0 (n=1)\n",
      "\n",
      "05-07 13:22:41 balanced input [synapses_weights.py:  59] INFO     \t exc_syn: 100 (1)\t inh_syn: 0 (1)\n",
      "\n"
     ]
    },
    {
     "name": "stdout",
     "output_type": "stream",
     "text": [
      "1 inhibitory synapse\n",
      "\t1 \n",
      "InhDendDistalRatio:0 \t ExcDendDistalRatio:1\n",
      "\t44 \n",
      "ninhL:0 \t ninhB:1 \t nexcL:100 \t nexcB:0 \n",
      "\t41 \n",
      "1 proximal inhibitory synapses of type GABAa[0]\n",
      "100 distal excitatory synapses of type ProbAMPANMDA3_RATIO[0]\n",
      "synapses loaded \n",
      "\t17 \n",
      "\t1 \n"
     ]
    },
    {
     "name": "stderr",
     "output_type": "stream",
     "text": [
      "05-07 13:22:47 balanced input [synapses_weights.py:  79] INFO     \t \t spikes 1.0\n",
      "05-07 13:22:47 balanced input [synapses_weights.py:  97] INFO     \t 1.0 +- 0.0 (n=1)\n",
      "\n",
      "05-07 13:22:47 balanced input [synapses_weights.py:  59] INFO     \t exc_syn: 125 (1)\t inh_syn: 0 (1)\n",
      "\n"
     ]
    },
    {
     "name": "stdout",
     "output_type": "stream",
     "text": [
      "1 inhibitory synapse\n",
      "\t1 \n",
      "InhDendDistalRatio:0 \t ExcDendDistalRatio:1\n",
      "\t44 \n",
      "ninhL:0 \t ninhB:1 \t nexcL:125 \t nexcB:0 \n",
      "\t41 \n",
      "1 proximal inhibitory synapses of type GABAa[0]\n",
      "125 distal excitatory synapses of type ProbAMPANMDA3_RATIO[0]\n",
      "synapses loaded \n",
      "\t17 \n",
      "\t1 \n"
     ]
    },
    {
     "name": "stderr",
     "output_type": "stream",
     "text": [
      "05-07 13:22:56 balanced input [synapses_weights.py:  79] INFO     \t \t spikes 1.0\n",
      "05-07 13:22:56 balanced input [synapses_weights.py:  97] INFO     \t 1.0 +- 0.0 (n=1)\n",
      "\n",
      "05-07 13:22:56 balanced input [synapses_weights.py:  59] INFO     \t exc_syn: 158 (1)\t inh_syn: 0 (1)\n",
      "\n"
     ]
    },
    {
     "name": "stdout",
     "output_type": "stream",
     "text": [
      "1 inhibitory synapse\n",
      "\t1 \n",
      "InhDendDistalRatio:0 \t ExcDendDistalRatio:1\n",
      "\t44 \n",
      "ninhL:0 \t ninhB:1 \t nexcL:158 \t nexcB:0 \n",
      "\t41 \n",
      "1 proximal inhibitory synapses of type GABAa[0]\n",
      "158 distal excitatory synapses of type ProbAMPANMDA3_RATIO[0]\n",
      "synapses loaded \n",
      "\t17 \n",
      "\t1 \n"
     ]
    },
    {
     "name": "stderr",
     "output_type": "stream",
     "text": [
      "05-07 13:23:04 balanced input [synapses_weights.py:  79] INFO     \t \t spikes 2.0\n",
      "05-07 13:23:04 balanced input [synapses_weights.py:  97] INFO     \t 2.0 +- 0.0 (n=1)\n",
      "\n",
      "05-07 13:23:04 balanced input [synapses_weights.py:  59] INFO     \t exc_syn: 199 (1)\t inh_syn: 0 (1)\n",
      "\n"
     ]
    },
    {
     "name": "stdout",
     "output_type": "stream",
     "text": [
      "1 inhibitory synapse\n",
      "\t1 \n",
      "InhDendDistalRatio:0 \t ExcDendDistalRatio:1\n",
      "\t44 \n",
      "ninhL:0 \t ninhB:1 \t nexcL:199 \t nexcB:0 \n",
      "\t41 \n",
      "1 proximal inhibitory synapses of type GABAa[0]\n",
      "199 distal excitatory synapses of type ProbAMPANMDA3_RATIO[0]\n",
      "synapses loaded \n",
      "\t17 \n",
      "\t1 \n"
     ]
    },
    {
     "name": "stderr",
     "output_type": "stream",
     "text": [
      "05-07 13:23:15 balanced input [synapses_weights.py:  79] INFO     \t \t spikes 4.0\n",
      "05-07 13:23:15 balanced input [synapses_weights.py:  97] INFO     \t 4.0 +- 0.0 (n=1)\n",
      "\n",
      "05-07 13:23:15 balanced input [synapses_weights.py:  59] INFO     \t exc_syn: 251 (1)\t inh_syn: 0 (1)\n",
      "\n"
     ]
    },
    {
     "name": "stdout",
     "output_type": "stream",
     "text": [
      "1 inhibitory synapse\n",
      "\t1 \n",
      "InhDendDistalRatio:0 \t ExcDendDistalRatio:1\n",
      "\t44 \n",
      "ninhL:0 \t ninhB:1 \t nexcL:251 \t nexcB:0 \n",
      "\t41 \n",
      "1 proximal inhibitory synapses of type GABAa[0]\n",
      "251 distal excitatory synapses of type ProbAMPANMDA3_RATIO[0]\n",
      "synapses loaded \n",
      "\t17 \n",
      "\t1 \n"
     ]
    },
    {
     "name": "stderr",
     "output_type": "stream",
     "text": [
      "05-07 13:23:32 balanced input [synapses_weights.py:  79] INFO     \t \t spikes 12.0\n",
      "05-07 13:23:32 balanced input [synapses_weights.py:  97] INFO     \t 12.0 +- 0.0 (n=1)\n",
      "\n",
      "05-07 13:23:32 balanced input [synapses_weights.py:  59] INFO     \t exc_syn: 316 (1)\t inh_syn: 0 (1)\n",
      "\n"
     ]
    },
    {
     "name": "stdout",
     "output_type": "stream",
     "text": [
      "1 inhibitory synapse\n",
      "\t1 \n",
      "InhDendDistalRatio:0 \t ExcDendDistalRatio:1\n",
      "\t44 \n",
      "ninhL:0 \t ninhB:1 \t nexcL:316 \t nexcB:0 \n",
      "\t41 \n",
      "1 proximal inhibitory synapses of type GABAa[0]\n",
      "316 distal excitatory synapses of type ProbAMPANMDA3_RATIO[0]\n",
      "synapses loaded \n",
      "\t17 \n",
      "\t1 \n"
     ]
    },
    {
     "name": "stderr",
     "output_type": "stream",
     "text": [
      "05-07 13:24:01 balanced input [synapses_weights.py:  79] INFO     \t \t spikes 28.0\n",
      "05-07 13:24:01 balanced input [synapses_weights.py:  90] INFO     \t break from above 15\n",
      "05-07 13:24:01 balanced input [synapses_weights.py:  97] INFO     \t 28.0 +- 0.0 (n=1)\n",
      "\n",
      "05-07 13:24:01 balanced input [synapses_weights.py:  59] INFO     \t exc_syn: 398 (1)\t inh_syn: 0 (1)\n",
      "\n",
      "05-07 13:24:01 balanced input [synapses_weights.py:  64] INFO     \t 16 +- 0 (n=0)\n",
      "\n",
      "05-07 13:24:01 balanced input [synapses_weights.py:  59] INFO     \t exc_syn: 501 (1)\t inh_syn: 0 (1)\n",
      "\n",
      "05-07 13:24:01 balanced input [synapses_weights.py:  64] INFO     \t 16 +- 0 (n=0)\n",
      "\n",
      "05-07 13:24:01 balanced input [synapses_weights.py:  59] INFO     \t exc_syn: 630 (1)\t inh_syn: 0 (1)\n",
      "\n",
      "05-07 13:24:01 balanced input [synapses_weights.py:  64] INFO     \t 16 +- 0 (n=0)\n",
      "\n",
      "05-07 13:24:01 balanced input [synapses_weights.py:  59] INFO     \t exc_syn: 794 (1)\t inh_syn: 0 (1)\n",
      "\n",
      "05-07 13:24:01 balanced input [synapses_weights.py:  64] INFO     \t 16 +- 0 (n=0)\n",
      "\n",
      "05-07 13:24:01 balanced input [synapses_weights.py:  59] INFO     \t exc_syn: 1000 (1)\t inh_syn: 0 (1)\n",
      "\n",
      "05-07 13:24:01 balanced input [synapses_weights.py:  64] INFO     \t 16 +- 0 (n=0)\n",
      "\n",
      "05-07 13:24:01 balanced input [synapses_weights.py:  59] INFO     \t exc_syn: 0 (1)\t inh_syn: 10 (1)\n",
      "\n"
     ]
    },
    {
     "name": "stdout",
     "output_type": "stream",
     "text": [
      "1 excitatory synapse\n",
      "\t1 \n",
      "InhDendDistalRatio:0 \t ExcDendDistalRatio:1\n",
      "\t44 \n",
      "ninhL:0 \t ninhB:10 \t nexcL:1 \t nexcB:0 \n",
      "\t40 \n",
      "10 proximal inhibitory synapses of type GABAa[0]\n",
      "1 distal excitatory synapses of type ProbAMPANMDA3_RATIO[0]\n",
      "synapses loaded \n",
      "\t17 \n",
      "\t1 \n"
     ]
    },
    {
     "name": "stderr",
     "output_type": "stream",
     "text": [
      "05-07 13:24:02 balanced input [synapses_weights.py:  79] INFO     \t \t spikes 0.0\n",
      "05-07 13:24:02 balanced input [synapses_weights.py:  83] INFO     \t break from too many 0's\n",
      "05-07 13:24:02 balanced input [synapses_weights.py:  97] INFO     \t 0.0 +- 0.0 (n=1)\n",
      "\n",
      "05-07 13:24:02 balanced input [synapses_weights.py:  59] INFO     \t exc_syn: 10 (1)\t inh_syn: 10 (1)\n",
      "\n"
     ]
    },
    {
     "name": "stdout",
     "output_type": "stream",
     "text": [
      "\t1 \n",
      "InhDendDistalRatio:0 \t ExcDendDistalRatio:1\n",
      "\t44 \n",
      "ninhL:0 \t ninhB:10 \t nexcL:10 \t nexcB:0 \n",
      "\t41 \n",
      "10 proximal inhibitory synapses of type GABAa[0]\n",
      "10 distal excitatory synapses of type ProbAMPANMDA3_RATIO[0]\n",
      "synapses loaded \n",
      "\t17 \n",
      "\t1 \n"
     ]
    },
    {
     "name": "stderr",
     "output_type": "stream",
     "text": [
      "05-07 13:24:03 balanced input [synapses_weights.py:  79] INFO     \t \t spikes 0.0\n",
      "05-07 13:24:03 balanced input [synapses_weights.py:  83] INFO     \t break from too many 0's\n",
      "05-07 13:24:03 balanced input [synapses_weights.py:  97] INFO     \t 0.0 +- 0.0 (n=1)\n",
      "\n",
      "05-07 13:24:03 balanced input [synapses_weights.py:  59] INFO     \t exc_syn: 21 (1)\t inh_syn: 10 (1)\n",
      "\n"
     ]
    },
    {
     "name": "stdout",
     "output_type": "stream",
     "text": [
      "\t1 \n",
      "InhDendDistalRatio:0 \t ExcDendDistalRatio:1\n",
      "\t44 \n",
      "ninhL:0 \t ninhB:10 \t nexcL:21 \t nexcB:0 \n",
      "\t41 \n",
      "10 proximal inhibitory synapses of type GABAa[0]\n",
      "21 distal excitatory synapses of type ProbAMPANMDA3_RATIO[0]\n",
      "synapses loaded \n",
      "\t17 \n",
      "\t1 \n"
     ]
    },
    {
     "name": "stderr",
     "output_type": "stream",
     "text": [
      "05-07 13:24:06 balanced input [synapses_weights.py:  79] INFO     \t \t spikes 0.0\n",
      "05-07 13:24:06 balanced input [synapses_weights.py:  83] INFO     \t break from too many 0's\n",
      "05-07 13:24:06 balanced input [synapses_weights.py:  97] INFO     \t 0.0 +- 0.0 (n=1)\n",
      "\n",
      "05-07 13:24:06 balanced input [synapses_weights.py:  59] INFO     \t exc_syn: 46 (1)\t inh_syn: 10 (1)\n",
      "\n"
     ]
    },
    {
     "name": "stdout",
     "output_type": "stream",
     "text": [
      "\t1 \n",
      "InhDendDistalRatio:0 \t ExcDendDistalRatio:1\n",
      "\t44 \n",
      "ninhL:0 \t ninhB:10 \t nexcL:46 \t nexcB:0 \n",
      "\t41 \n",
      "10 proximal inhibitory synapses of type GABAa[0]\n",
      "46 distal excitatory synapses of type ProbAMPANMDA3_RATIO[0]\n",
      "synapses loaded \n",
      "\t17 \n",
      "\t1 \n"
     ]
    },
    {
     "name": "stderr",
     "output_type": "stream",
     "text": [
      "05-07 13:24:09 balanced input [synapses_weights.py:  79] INFO     \t \t spikes 0.0\n",
      "05-07 13:24:09 balanced input [synapses_weights.py:  83] INFO     \t break from too many 0's\n",
      "05-07 13:24:09 balanced input [synapses_weights.py:  97] INFO     \t 0.0 +- 0.0 (n=1)\n",
      "\n",
      "05-07 13:24:09 balanced input [synapses_weights.py:  59] INFO     \t exc_syn: 100 (1)\t inh_syn: 10 (1)\n",
      "\n"
     ]
    },
    {
     "name": "stdout",
     "output_type": "stream",
     "text": [
      "\t1 \n",
      "InhDendDistalRatio:0 \t ExcDendDistalRatio:1\n",
      "\t44 \n",
      "ninhL:0 \t ninhB:10 \t nexcL:100 \t nexcB:0 \n",
      "\t42 \n",
      "10 proximal inhibitory synapses of type GABAa[0]\n",
      "100 distal excitatory synapses of type ProbAMPANMDA3_RATIO[0]\n",
      "synapses loaded \n",
      "\t17 \n",
      "\t1 \n"
     ]
    },
    {
     "name": "stderr",
     "output_type": "stream",
     "text": [
      "05-07 13:24:15 balanced input [synapses_weights.py:  79] INFO     \t \t spikes 1.0\n",
      "05-07 13:24:15 balanced input [synapses_weights.py:  97] INFO     \t 1.0 +- 0.0 (n=1)\n",
      "\n",
      "05-07 13:24:15 balanced input [synapses_weights.py:  59] INFO     \t exc_syn: 125 (1)\t inh_syn: 10 (1)\n",
      "\n"
     ]
    },
    {
     "name": "stdout",
     "output_type": "stream",
     "text": [
      "\t1 \n",
      "InhDendDistalRatio:0 \t ExcDendDistalRatio:1\n",
      "\t44 \n",
      "ninhL:0 \t ninhB:10 \t nexcL:125 \t nexcB:0 \n",
      "\t42 \n",
      "10 proximal inhibitory synapses of type GABAa[0]\n",
      "125 distal excitatory synapses of type ProbAMPANMDA3_RATIO[0]\n",
      "synapses loaded \n",
      "\t17 \n",
      "\t1 \n"
     ]
    },
    {
     "name": "stderr",
     "output_type": "stream",
     "text": [
      "05-07 13:24:21 balanced input [synapses_weights.py:  79] INFO     \t \t spikes 1.0\n",
      "05-07 13:24:21 balanced input [synapses_weights.py:  97] INFO     \t 1.0 +- 0.0 (n=1)\n",
      "\n",
      "05-07 13:24:21 balanced input [synapses_weights.py:  59] INFO     \t exc_syn: 158 (1)\t inh_syn: 10 (1)\n",
      "\n"
     ]
    },
    {
     "name": "stdout",
     "output_type": "stream",
     "text": [
      "\t1 \n",
      "InhDendDistalRatio:0 \t ExcDendDistalRatio:1\n",
      "\t44 \n",
      "ninhL:0 \t ninhB:10 \t nexcL:158 \t nexcB:0 \n",
      "\t42 \n",
      "10 proximal inhibitory synapses of type GABAa[0]\n",
      "158 distal excitatory synapses of type ProbAMPANMDA3_RATIO[0]\n",
      "synapses loaded \n",
      "\t17 \n",
      "\t1 \n"
     ]
    },
    {
     "name": "stderr",
     "output_type": "stream",
     "text": [
      "05-07 13:24:29 balanced input [synapses_weights.py:  79] INFO     \t \t spikes 1.0\n",
      "05-07 13:24:29 balanced input [synapses_weights.py:  97] INFO     \t 1.0 +- 0.0 (n=1)\n",
      "\n",
      "05-07 13:24:29 balanced input [synapses_weights.py:  59] INFO     \t exc_syn: 199 (1)\t inh_syn: 10 (1)\n",
      "\n"
     ]
    },
    {
     "name": "stdout",
     "output_type": "stream",
     "text": [
      "\t1 \n",
      "InhDendDistalRatio:0 \t ExcDendDistalRatio:1\n",
      "\t44 \n",
      "ninhL:0 \t ninhB:10 \t nexcL:199 \t nexcB:0 \n",
      "\t42 \n",
      "10 proximal inhibitory synapses of type GABAa[0]\n",
      "199 distal excitatory synapses of type ProbAMPANMDA3_RATIO[0]\n",
      "synapses loaded \n",
      "\t17 \n",
      "\t1 \n"
     ]
    },
    {
     "name": "stderr",
     "output_type": "stream",
     "text": [
      "05-07 13:24:40 balanced input [synapses_weights.py:  79] INFO     \t \t spikes 2.0\n",
      "05-07 13:24:40 balanced input [synapses_weights.py:  97] INFO     \t 2.0 +- 0.0 (n=1)\n",
      "\n",
      "05-07 13:24:40 balanced input [synapses_weights.py:  59] INFO     \t exc_syn: 251 (1)\t inh_syn: 10 (1)\n",
      "\n"
     ]
    },
    {
     "name": "stdout",
     "output_type": "stream",
     "text": [
      "\t1 \n",
      "InhDendDistalRatio:0 \t ExcDendDistalRatio:1\n",
      "\t44 \n",
      "ninhL:0 \t ninhB:10 \t nexcL:251 \t nexcB:0 \n",
      "\t42 \n",
      "10 proximal inhibitory synapses of type GABAa[0]\n",
      "251 distal excitatory synapses of type ProbAMPANMDA3_RATIO[0]\n",
      "synapses loaded \n",
      "\t17 \n",
      "\t1 \n"
     ]
    },
    {
     "name": "stderr",
     "output_type": "stream",
     "text": [
      "05-07 13:24:53 balanced input [synapses_weights.py:  79] INFO     \t \t spikes 5.0\n",
      "05-07 13:24:53 balanced input [synapses_weights.py:  97] INFO     \t 5.0 +- 0.0 (n=1)\n",
      "\n",
      "05-07 13:24:53 balanced input [synapses_weights.py:  59] INFO     \t exc_syn: 316 (1)\t inh_syn: 10 (1)\n",
      "\n"
     ]
    },
    {
     "name": "stdout",
     "output_type": "stream",
     "text": [
      "\t1 \n",
      "InhDendDistalRatio:0 \t ExcDendDistalRatio:1\n",
      "\t44 \n",
      "ninhL:0 \t ninhB:10 \t nexcL:316 \t nexcB:0 \n",
      "\t42 \n",
      "10 proximal inhibitory synapses of type GABAa[0]\n",
      "316 distal excitatory synapses of type ProbAMPANMDA3_RATIO[0]\n",
      "synapses loaded \n",
      "\t17 \n",
      "\t1 \n"
     ]
    },
    {
     "name": "stderr",
     "output_type": "stream",
     "text": [
      "05-07 13:25:18 balanced input [synapses_weights.py:  79] INFO     \t \t spikes 18.0\n",
      "05-07 13:25:18 balanced input [synapses_weights.py:  90] INFO     \t break from above 15\n",
      "05-07 13:25:18 balanced input [synapses_weights.py:  97] INFO     \t 18.0 +- 0.0 (n=1)\n",
      "\n",
      "05-07 13:25:18 balanced input [synapses_weights.py:  59] INFO     \t exc_syn: 398 (1)\t inh_syn: 10 (1)\n",
      "\n",
      "05-07 13:25:18 balanced input [synapses_weights.py:  64] INFO     \t 16 +- 0 (n=0)\n",
      "\n",
      "05-07 13:25:18 balanced input [synapses_weights.py:  59] INFO     \t exc_syn: 501 (1)\t inh_syn: 10 (1)\n",
      "\n",
      "05-07 13:25:18 balanced input [synapses_weights.py:  64] INFO     \t 16 +- 0 (n=0)\n",
      "\n",
      "05-07 13:25:18 balanced input [synapses_weights.py:  59] INFO     \t exc_syn: 630 (1)\t inh_syn: 10 (1)\n",
      "\n",
      "05-07 13:25:18 balanced input [synapses_weights.py:  64] INFO     \t 16 +- 0 (n=0)\n",
      "\n",
      "05-07 13:25:18 balanced input [synapses_weights.py:  59] INFO     \t exc_syn: 794 (1)\t inh_syn: 10 (1)\n",
      "\n",
      "05-07 13:25:18 balanced input [synapses_weights.py:  64] INFO     \t 16 +- 0 (n=0)\n",
      "\n",
      "05-07 13:25:18 balanced input [synapses_weights.py:  59] INFO     \t exc_syn: 1000 (1)\t inh_syn: 10 (1)\n",
      "\n",
      "05-07 13:25:18 balanced input [synapses_weights.py:  64] INFO     \t 16 +- 0 (n=0)\n",
      "\n",
      "05-07 13:25:18 balanced input [synapses_weights.py:  59] INFO     \t exc_syn: 0 (1)\t inh_syn: 21 (1)\n",
      "\n"
     ]
    },
    {
     "name": "stdout",
     "output_type": "stream",
     "text": [
      "1 excitatory synapse\n",
      "\t1 \n",
      "InhDendDistalRatio:0 \t ExcDendDistalRatio:1\n",
      "\t44 \n",
      "ninhL:0 \t ninhB:21 \t nexcL:1 \t nexcB:0 \n",
      "\t40 \n",
      "21 proximal inhibitory synapses of type GABAa[0]\n",
      "1 distal excitatory synapses of type ProbAMPANMDA3_RATIO[0]\n",
      "synapses loaded \n",
      "\t17 \n",
      "\t1 \n"
     ]
    },
    {
     "name": "stderr",
     "output_type": "stream",
     "text": [
      "05-07 13:25:19 balanced input [synapses_weights.py:  79] INFO     \t \t spikes 0.0\n",
      "05-07 13:25:19 balanced input [synapses_weights.py:  83] INFO     \t break from too many 0's\n",
      "05-07 13:25:19 balanced input [synapses_weights.py:  97] INFO     \t 0.0 +- 0.0 (n=1)\n",
      "\n",
      "05-07 13:25:19 balanced input [synapses_weights.py:  59] INFO     \t exc_syn: 10 (1)\t inh_syn: 21 (1)\n",
      "\n"
     ]
    },
    {
     "name": "stdout",
     "output_type": "stream",
     "text": [
      "\t1 \n",
      "InhDendDistalRatio:0 \t ExcDendDistalRatio:1\n",
      "\t44 \n",
      "ninhL:0 \t ninhB:21 \t nexcL:10 \t nexcB:0 \n",
      "\t41 \n",
      "21 proximal inhibitory synapses of type GABAa[0]\n",
      "10 distal excitatory synapses of type ProbAMPANMDA3_RATIO[0]\n",
      "synapses loaded \n",
      "\t17 \n",
      "\t1 \n"
     ]
    },
    {
     "name": "stderr",
     "output_type": "stream",
     "text": [
      "05-07 13:25:21 balanced input [synapses_weights.py:  79] INFO     \t \t spikes 0.0\n",
      "05-07 13:25:21 balanced input [synapses_weights.py:  83] INFO     \t break from too many 0's\n",
      "05-07 13:25:21 balanced input [synapses_weights.py:  97] INFO     \t 0.0 +- 0.0 (n=1)\n",
      "\n",
      "05-07 13:25:21 balanced input [synapses_weights.py:  59] INFO     \t exc_syn: 21 (1)\t inh_syn: 21 (1)\n",
      "\n"
     ]
    },
    {
     "name": "stdout",
     "output_type": "stream",
     "text": [
      "\t1 \n",
      "InhDendDistalRatio:0 \t ExcDendDistalRatio:1\n",
      "\t44 \n",
      "ninhL:0 \t ninhB:21 \t nexcL:21 \t nexcB:0 \n",
      "\t41 \n",
      "21 proximal inhibitory synapses of type GABAa[0]\n",
      "21 distal excitatory synapses of type ProbAMPANMDA3_RATIO[0]\n",
      "synapses loaded \n",
      "\t17 \n",
      "\t1 \n"
     ]
    },
    {
     "name": "stderr",
     "output_type": "stream",
     "text": [
      "05-07 13:25:23 balanced input [synapses_weights.py:  79] INFO     \t \t spikes 0.0\n",
      "05-07 13:25:23 balanced input [synapses_weights.py:  83] INFO     \t break from too many 0's\n",
      "05-07 13:25:23 balanced input [synapses_weights.py:  97] INFO     \t 0.0 +- 0.0 (n=1)\n",
      "\n",
      "05-07 13:25:23 balanced input [synapses_weights.py:  59] INFO     \t exc_syn: 46 (1)\t inh_syn: 21 (1)\n",
      "\n"
     ]
    },
    {
     "name": "stdout",
     "output_type": "stream",
     "text": [
      "\t1 \n",
      "InhDendDistalRatio:0 \t ExcDendDistalRatio:1\n",
      "\t44 \n",
      "ninhL:0 \t ninhB:21 \t nexcL:46 \t nexcB:0 \n",
      "\t41 \n",
      "21 proximal inhibitory synapses of type GABAa[0]\n",
      "46 distal excitatory synapses of type ProbAMPANMDA3_RATIO[0]\n",
      "synapses loaded \n",
      "\t17 \n",
      "\t1 \n"
     ]
    },
    {
     "name": "stderr",
     "output_type": "stream",
     "text": [
      "05-07 13:25:26 balanced input [synapses_weights.py:  79] INFO     \t \t spikes 0.0\n",
      "05-07 13:25:26 balanced input [synapses_weights.py:  83] INFO     \t break from too many 0's\n",
      "05-07 13:25:26 balanced input [synapses_weights.py:  97] INFO     \t 0.0 +- 0.0 (n=1)\n",
      "\n",
      "05-07 13:25:26 balanced input [synapses_weights.py:  59] INFO     \t exc_syn: 100 (1)\t inh_syn: 21 (1)\n",
      "\n"
     ]
    },
    {
     "name": "stdout",
     "output_type": "stream",
     "text": [
      "\t1 \n",
      "InhDendDistalRatio:0 \t ExcDendDistalRatio:1\n",
      "\t44 \n",
      "ninhL:0 \t ninhB:21 \t nexcL:100 \t nexcB:0 \n",
      "\t42 \n",
      "21 proximal inhibitory synapses of type GABAa[0]\n",
      "100 distal excitatory synapses of type ProbAMPANMDA3_RATIO[0]\n",
      "synapses loaded \n",
      "\t17 \n",
      "\t1 \n"
     ]
    },
    {
     "name": "stderr",
     "output_type": "stream",
     "text": [
      "05-07 13:25:32 balanced input [synapses_weights.py:  79] INFO     \t \t spikes 1.0\n",
      "05-07 13:25:32 balanced input [synapses_weights.py:  97] INFO     \t 1.0 +- 0.0 (n=1)\n",
      "\n",
      "05-07 13:25:32 balanced input [synapses_weights.py:  59] INFO     \t exc_syn: 125 (1)\t inh_syn: 21 (1)\n",
      "\n"
     ]
    },
    {
     "name": "stdout",
     "output_type": "stream",
     "text": [
      "\t1 \n",
      "InhDendDistalRatio:0 \t ExcDendDistalRatio:1\n",
      "\t44 \n",
      "ninhL:0 \t ninhB:21 \t nexcL:125 \t nexcB:0 \n",
      "\t42 \n",
      "21 proximal inhibitory synapses of type GABAa[0]\n",
      "125 distal excitatory synapses of type ProbAMPANMDA3_RATIO[0]\n",
      "synapses loaded \n",
      "\t17 \n",
      "\t1 \n"
     ]
    },
    {
     "name": "stderr",
     "output_type": "stream",
     "text": [
      "05-07 13:25:39 balanced input [synapses_weights.py:  79] INFO     \t \t spikes 1.0\n",
      "05-07 13:25:39 balanced input [synapses_weights.py:  97] INFO     \t 1.0 +- 0.0 (n=1)\n",
      "\n",
      "05-07 13:25:39 balanced input [synapses_weights.py:  59] INFO     \t exc_syn: 158 (1)\t inh_syn: 21 (1)\n",
      "\n"
     ]
    },
    {
     "name": "stdout",
     "output_type": "stream",
     "text": [
      "\t1 \n",
      "InhDendDistalRatio:0 \t ExcDendDistalRatio:1\n",
      "\t44 \n",
      "ninhL:0 \t ninhB:21 \t nexcL:158 \t nexcB:0 \n",
      "\t42 \n",
      "21 proximal inhibitory synapses of type GABAa[0]\n",
      "158 distal excitatory synapses of type ProbAMPANMDA3_RATIO[0]\n",
      "synapses loaded \n",
      "\t17 \n",
      "\t1 \n"
     ]
    },
    {
     "name": "stderr",
     "output_type": "stream",
     "text": [
      "05-07 13:25:46 balanced input [synapses_weights.py:  79] INFO     \t \t spikes 1.0\n",
      "05-07 13:25:46 balanced input [synapses_weights.py:  97] INFO     \t 1.0 +- 0.0 (n=1)\n",
      "\n",
      "05-07 13:25:46 balanced input [synapses_weights.py:  59] INFO     \t exc_syn: 199 (1)\t inh_syn: 21 (1)\n",
      "\n"
     ]
    },
    {
     "name": "stdout",
     "output_type": "stream",
     "text": [
      "\t1 \n",
      "InhDendDistalRatio:0 \t ExcDendDistalRatio:1\n",
      "\t44 \n",
      "ninhL:0 \t ninhB:21 \t nexcL:199 \t nexcB:0 \n",
      "\t42 \n",
      "21 proximal inhibitory synapses of type GABAa[0]\n",
      "199 distal excitatory synapses of type ProbAMPANMDA3_RATIO[0]\n",
      "synapses loaded \n",
      "\t17 \n",
      "\t1 \n"
     ]
    },
    {
     "name": "stderr",
     "output_type": "stream",
     "text": [
      "05-07 13:25:56 balanced input [synapses_weights.py:  79] INFO     \t \t spikes 2.0\n",
      "05-07 13:25:56 balanced input [synapses_weights.py:  97] INFO     \t 2.0 +- 0.0 (n=1)\n",
      "\n",
      "05-07 13:25:56 balanced input [synapses_weights.py:  59] INFO     \t exc_syn: 251 (1)\t inh_syn: 21 (1)\n",
      "\n"
     ]
    },
    {
     "name": "stdout",
     "output_type": "stream",
     "text": [
      "\t1 \n",
      "InhDendDistalRatio:0 \t ExcDendDistalRatio:1\n",
      "\t44 \n",
      "ninhL:0 \t ninhB:21 \t nexcL:251 \t nexcB:0 \n",
      "\t42 \n",
      "21 proximal inhibitory synapses of type GABAa[0]\n",
      "251 distal excitatory synapses of type ProbAMPANMDA3_RATIO[0]\n",
      "synapses loaded \n",
      "\t17 \n",
      "\t1 \n"
     ]
    },
    {
     "name": "stderr",
     "output_type": "stream",
     "text": [
      "05-07 13:26:10 balanced input [synapses_weights.py:  79] INFO     \t \t spikes 4.0\n",
      "05-07 13:26:10 balanced input [synapses_weights.py:  97] INFO     \t 4.0 +- 0.0 (n=1)\n",
      "\n",
      "05-07 13:26:10 balanced input [synapses_weights.py:  59] INFO     \t exc_syn: 316 (1)\t inh_syn: 21 (1)\n",
      "\n"
     ]
    },
    {
     "name": "stdout",
     "output_type": "stream",
     "text": [
      "\t1 \n",
      "InhDendDistalRatio:0 \t ExcDendDistalRatio:1\n",
      "\t44 \n",
      "ninhL:0 \t ninhB:21 \t nexcL:316 \t nexcB:0 \n",
      "\t42 \n",
      "21 proximal inhibitory synapses of type GABAa[0]\n",
      "316 distal excitatory synapses of type ProbAMPANMDA3_RATIO[0]\n",
      "synapses loaded \n",
      "\t17 \n",
      "\t1 \n"
     ]
    },
    {
     "name": "stderr",
     "output_type": "stream",
     "text": [
      "05-07 13:26:30 balanced input [synapses_weights.py:  79] INFO     \t \t spikes 14.0\n",
      "05-07 13:26:30 balanced input [synapses_weights.py:  97] INFO     \t 14.0 +- 0.0 (n=1)\n",
      "\n",
      "05-07 13:26:30 balanced input [synapses_weights.py:  59] INFO     \t exc_syn: 398 (1)\t inh_syn: 21 (1)\n",
      "\n"
     ]
    },
    {
     "name": "stdout",
     "output_type": "stream",
     "text": [
      "\t1 \n",
      "InhDendDistalRatio:0 \t ExcDendDistalRatio:1\n",
      "\t44 \n",
      "ninhL:0 \t ninhB:21 \t nexcL:398 \t nexcB:0 \n",
      "\t42 \n",
      "21 proximal inhibitory synapses of type GABAa[0]\n",
      "398 distal excitatory synapses of type ProbAMPANMDA3_RATIO[0]\n",
      "synapses loaded \n",
      "\t17 \n",
      "\t1 \n"
     ]
    },
    {
     "name": "stderr",
     "output_type": "stream",
     "text": [
      "05-07 13:27:07 balanced input [synapses_weights.py:  79] INFO     \t \t spikes 33.0\n",
      "05-07 13:27:07 balanced input [synapses_weights.py:  90] INFO     \t break from above 15\n",
      "05-07 13:27:07 balanced input [synapses_weights.py:  97] INFO     \t 33.0 +- 0.0 (n=1)\n",
      "\n",
      "05-07 13:27:07 balanced input [synapses_weights.py:  59] INFO     \t exc_syn: 501 (1)\t inh_syn: 21 (1)\n",
      "\n",
      "05-07 13:27:07 balanced input [synapses_weights.py:  64] INFO     \t 16 +- 0 (n=0)\n",
      "\n",
      "05-07 13:27:07 balanced input [synapses_weights.py:  59] INFO     \t exc_syn: 630 (1)\t inh_syn: 21 (1)\n",
      "\n",
      "05-07 13:27:07 balanced input [synapses_weights.py:  64] INFO     \t 16 +- 0 (n=0)\n",
      "\n",
      "05-07 13:27:07 balanced input [synapses_weights.py:  59] INFO     \t exc_syn: 794 (1)\t inh_syn: 21 (1)\n",
      "\n",
      "05-07 13:27:07 balanced input [synapses_weights.py:  64] INFO     \t 16 +- 0 (n=0)\n",
      "\n",
      "05-07 13:27:07 balanced input [synapses_weights.py:  59] INFO     \t exc_syn: 1000 (1)\t inh_syn: 21 (1)\n",
      "\n",
      "05-07 13:27:07 balanced input [synapses_weights.py:  64] INFO     \t 16 +- 0 (n=0)\n",
      "\n",
      "05-07 13:27:07 balanced input [synapses_weights.py:  59] INFO     \t exc_syn: 0 (1)\t inh_syn: 46 (1)\n",
      "\n"
     ]
    },
    {
     "name": "stdout",
     "output_type": "stream",
     "text": [
      "1 excitatory synapse\n",
      "\t1 \n",
      "InhDendDistalRatio:0 \t ExcDendDistalRatio:1\n",
      "\t44 \n",
      "ninhL:0 \t ninhB:46 \t nexcL:1 \t nexcB:0 \n",
      "\t40 \n",
      "46 proximal inhibitory synapses of type GABAa[0]\n",
      "1 distal excitatory synapses of type ProbAMPANMDA3_RATIO[0]\n",
      "synapses loaded \n",
      "\t17 \n",
      "\t1 \n"
     ]
    },
    {
     "name": "stderr",
     "output_type": "stream",
     "text": [
      "05-07 13:27:09 balanced input [synapses_weights.py:  79] INFO     \t \t spikes 0.0\n",
      "05-07 13:27:09 balanced input [synapses_weights.py:  83] INFO     \t break from too many 0's\n",
      "05-07 13:27:09 balanced input [synapses_weights.py:  97] INFO     \t 0.0 +- 0.0 (n=1)\n",
      "\n",
      "05-07 13:27:09 balanced input [synapses_weights.py:  59] INFO     \t exc_syn: 10 (1)\t inh_syn: 46 (1)\n",
      "\n"
     ]
    },
    {
     "name": "stdout",
     "output_type": "stream",
     "text": [
      "\t1 \n",
      "InhDendDistalRatio:0 \t ExcDendDistalRatio:1\n",
      "\t44 \n",
      "ninhL:0 \t ninhB:46 \t nexcL:10 \t nexcB:0 \n",
      "\t41 \n",
      "46 proximal inhibitory synapses of type GABAa[0]\n",
      "10 distal excitatory synapses of type ProbAMPANMDA3_RATIO[0]\n",
      "synapses loaded \n",
      "\t17 \n",
      "\t1 \n"
     ]
    },
    {
     "name": "stderr",
     "output_type": "stream",
     "text": [
      "05-07 13:27:12 balanced input [synapses_weights.py:  79] INFO     \t \t spikes 0.0\n",
      "05-07 13:27:12 balanced input [synapses_weights.py:  83] INFO     \t break from too many 0's\n",
      "05-07 13:27:12 balanced input [synapses_weights.py:  97] INFO     \t 0.0 +- 0.0 (n=1)\n",
      "\n",
      "05-07 13:27:12 balanced input [synapses_weights.py:  59] INFO     \t exc_syn: 21 (1)\t inh_syn: 46 (1)\n",
      "\n"
     ]
    },
    {
     "name": "stdout",
     "output_type": "stream",
     "text": [
      "\t1 \n",
      "InhDendDistalRatio:0 \t ExcDendDistalRatio:1\n",
      "\t44 \n",
      "ninhL:0 \t ninhB:46 \t nexcL:21 \t nexcB:0 \n",
      "\t41 \n",
      "46 proximal inhibitory synapses of type GABAa[0]\n",
      "21 distal excitatory synapses of type ProbAMPANMDA3_RATIO[0]\n",
      "synapses loaded \n",
      "\t17 \n",
      "\t1 \n"
     ]
    },
    {
     "name": "stderr",
     "output_type": "stream",
     "text": [
      "05-07 13:27:16 balanced input [synapses_weights.py:  79] INFO     \t \t spikes 0.0\n",
      "05-07 13:27:16 balanced input [synapses_weights.py:  83] INFO     \t break from too many 0's\n",
      "05-07 13:27:16 balanced input [synapses_weights.py:  97] INFO     \t 0.0 +- 0.0 (n=1)\n",
      "\n",
      "05-07 13:27:16 balanced input [synapses_weights.py:  59] INFO     \t exc_syn: 46 (1)\t inh_syn: 46 (1)\n",
      "\n"
     ]
    },
    {
     "name": "stdout",
     "output_type": "stream",
     "text": [
      "\t1 \n",
      "InhDendDistalRatio:0 \t ExcDendDistalRatio:1\n",
      "\t44 \n",
      "ninhL:0 \t ninhB:46 \t nexcL:46 \t nexcB:0 \n",
      "\t41 \n",
      "46 proximal inhibitory synapses of type GABAa[0]\n",
      "46 distal excitatory synapses of type ProbAMPANMDA3_RATIO[0]\n",
      "synapses loaded \n",
      "\t17 \n",
      "\t1 \n"
     ]
    },
    {
     "name": "stderr",
     "output_type": "stream",
     "text": [
      "05-07 13:27:19 balanced input [synapses_weights.py:  79] INFO     \t \t spikes 0.0\n",
      "05-07 13:27:19 balanced input [synapses_weights.py:  83] INFO     \t break from too many 0's\n",
      "05-07 13:27:19 balanced input [synapses_weights.py:  97] INFO     \t 0.0 +- 0.0 (n=1)\n",
      "\n",
      "05-07 13:27:19 balanced input [synapses_weights.py:  59] INFO     \t exc_syn: 100 (1)\t inh_syn: 46 (1)\n",
      "\n"
     ]
    },
    {
     "name": "stdout",
     "output_type": "stream",
     "text": [
      "\t1 \n",
      "InhDendDistalRatio:0 \t ExcDendDistalRatio:1\n",
      "\t44 \n",
      "ninhL:0 \t ninhB:46 \t nexcL:100 \t nexcB:0 \n",
      "\t42 \n",
      "46 proximal inhibitory synapses of type GABAa[0]\n",
      "100 distal excitatory synapses of type ProbAMPANMDA3_RATIO[0]\n",
      "synapses loaded \n",
      "\t17 \n",
      "\t1 \n"
     ]
    },
    {
     "name": "stderr",
     "output_type": "stream",
     "text": [
      "05-07 13:27:25 balanced input [synapses_weights.py:  79] INFO     \t \t spikes 1.0\n",
      "05-07 13:27:25 balanced input [synapses_weights.py:  97] INFO     \t 1.0 +- 0.0 (n=1)\n",
      "\n",
      "05-07 13:27:25 balanced input [synapses_weights.py:  59] INFO     \t exc_syn: 125 (1)\t inh_syn: 46 (1)\n",
      "\n"
     ]
    },
    {
     "name": "stdout",
     "output_type": "stream",
     "text": [
      "\t1 \n",
      "InhDendDistalRatio:0 \t ExcDendDistalRatio:1\n",
      "\t44 \n",
      "ninhL:0 \t ninhB:46 \t nexcL:125 \t nexcB:0 \n",
      "\t42 \n",
      "46 proximal inhibitory synapses of type GABAa[0]\n",
      "125 distal excitatory synapses of type ProbAMPANMDA3_RATIO[0]\n",
      "synapses loaded \n",
      "\t17 \n",
      "\t1 \n"
     ]
    },
    {
     "name": "stderr",
     "output_type": "stream",
     "text": [
      "05-07 13:27:34 balanced input [synapses_weights.py:  79] INFO     \t \t spikes 1.0\n",
      "05-07 13:27:34 balanced input [synapses_weights.py:  97] INFO     \t 1.0 +- 0.0 (n=1)\n",
      "\n",
      "05-07 13:27:34 balanced input [synapses_weights.py:  59] INFO     \t exc_syn: 158 (1)\t inh_syn: 46 (1)\n",
      "\n"
     ]
    },
    {
     "name": "stdout",
     "output_type": "stream",
     "text": [
      "\t1 \n",
      "InhDendDistalRatio:0 \t ExcDendDistalRatio:1\n",
      "\t44 \n",
      "ninhL:0 \t ninhB:46 \t nexcL:158 \t nexcB:0 \n",
      "\t42 \n",
      "46 proximal inhibitory synapses of type GABAa[0]\n",
      "158 distal excitatory synapses of type ProbAMPANMDA3_RATIO[0]\n",
      "synapses loaded \n",
      "\t17 \n",
      "\t1 \n"
     ]
    },
    {
     "name": "stderr",
     "output_type": "stream",
     "text": [
      "05-07 13:27:42 balanced input [synapses_weights.py:  79] INFO     \t \t spikes 1.0\n",
      "05-07 13:27:42 balanced input [synapses_weights.py:  97] INFO     \t 1.0 +- 0.0 (n=1)\n",
      "\n",
      "05-07 13:27:42 balanced input [synapses_weights.py:  59] INFO     \t exc_syn: 199 (1)\t inh_syn: 46 (1)\n",
      "\n"
     ]
    },
    {
     "name": "stdout",
     "output_type": "stream",
     "text": [
      "\t1 \n",
      "InhDendDistalRatio:0 \t ExcDendDistalRatio:1\n",
      "\t44 \n",
      "ninhL:0 \t ninhB:46 \t nexcL:199 \t nexcB:0 \n",
      "\t42 \n",
      "46 proximal inhibitory synapses of type GABAa[0]\n",
      "199 distal excitatory synapses of type ProbAMPANMDA3_RATIO[0]\n",
      "synapses loaded \n",
      "\t17 \n",
      "\t1 \n"
     ]
    },
    {
     "name": "stderr",
     "output_type": "stream",
     "text": [
      "05-07 13:27:53 balanced input [synapses_weights.py:  79] INFO     \t \t spikes 2.0\n",
      "05-07 13:27:53 balanced input [synapses_weights.py:  97] INFO     \t 2.0 +- 0.0 (n=1)\n",
      "\n",
      "05-07 13:27:53 balanced input [synapses_weights.py:  59] INFO     \t exc_syn: 251 (1)\t inh_syn: 46 (1)\n",
      "\n"
     ]
    },
    {
     "name": "stdout",
     "output_type": "stream",
     "text": [
      "\t1 \n",
      "InhDendDistalRatio:0 \t ExcDendDistalRatio:1\n",
      "\t44 \n",
      "ninhL:0 \t ninhB:46 \t nexcL:251 \t nexcB:0 \n",
      "\t42 \n",
      "46 proximal inhibitory synapses of type GABAa[0]\n",
      "251 distal excitatory synapses of type ProbAMPANMDA3_RATIO[0]\n",
      "synapses loaded \n",
      "\t17 \n",
      "\t1 \n"
     ]
    },
    {
     "name": "stderr",
     "output_type": "stream",
     "text": [
      "05-07 13:28:07 balanced input [synapses_weights.py:  79] INFO     \t \t spikes 3.0\n",
      "05-07 13:28:07 balanced input [synapses_weights.py:  97] INFO     \t 3.0 +- 0.0 (n=1)\n",
      "\n",
      "05-07 13:28:07 balanced input [synapses_weights.py:  59] INFO     \t exc_syn: 316 (1)\t inh_syn: 46 (1)\n",
      "\n"
     ]
    },
    {
     "name": "stdout",
     "output_type": "stream",
     "text": [
      "\t1 \n",
      "InhDendDistalRatio:0 \t ExcDendDistalRatio:1\n",
      "\t44 \n",
      "ninhL:0 \t ninhB:46 \t nexcL:316 \t nexcB:0 \n",
      "\t42 \n",
      "46 proximal inhibitory synapses of type GABAa[0]\n",
      "316 distal excitatory synapses of type ProbAMPANMDA3_RATIO[0]\n",
      "synapses loaded \n",
      "\t17 \n",
      "\t1 \n"
     ]
    },
    {
     "name": "stderr",
     "output_type": "stream",
     "text": [
      "05-07 13:28:27 balanced input [synapses_weights.py:  79] INFO     \t \t spikes 9.0\n",
      "05-07 13:28:27 balanced input [synapses_weights.py:  97] INFO     \t 9.0 +- 0.0 (n=1)\n",
      "\n",
      "05-07 13:28:27 balanced input [synapses_weights.py:  59] INFO     \t exc_syn: 398 (1)\t inh_syn: 46 (1)\n",
      "\n"
     ]
    },
    {
     "name": "stdout",
     "output_type": "stream",
     "text": [
      "\t1 \n",
      "InhDendDistalRatio:0 \t ExcDendDistalRatio:1\n",
      "\t44 \n",
      "ninhL:0 \t ninhB:46 \t nexcL:398 \t nexcB:0 \n",
      "\t42 \n",
      "46 proximal inhibitory synapses of type GABAa[0]\n",
      "398 distal excitatory synapses of type ProbAMPANMDA3_RATIO[0]\n",
      "synapses loaded \n",
      "\t17 \n",
      "\t1 \n"
     ]
    },
    {
     "name": "stderr",
     "output_type": "stream",
     "text": [
      "05-07 13:29:01 balanced input [synapses_weights.py:  79] INFO     \t \t spikes 23.0\n",
      "05-07 13:29:01 balanced input [synapses_weights.py:  90] INFO     \t break from above 15\n",
      "05-07 13:29:01 balanced input [synapses_weights.py:  97] INFO     \t 23.0 +- 0.0 (n=1)\n",
      "\n",
      "05-07 13:29:01 balanced input [synapses_weights.py:  59] INFO     \t exc_syn: 501 (1)\t inh_syn: 46 (1)\n",
      "\n",
      "05-07 13:29:01 balanced input [synapses_weights.py:  64] INFO     \t 16 +- 0 (n=0)\n",
      "\n",
      "05-07 13:29:01 balanced input [synapses_weights.py:  59] INFO     \t exc_syn: 630 (1)\t inh_syn: 46 (1)\n",
      "\n",
      "05-07 13:29:01 balanced input [synapses_weights.py:  64] INFO     \t 16 +- 0 (n=0)\n",
      "\n",
      "05-07 13:29:01 balanced input [synapses_weights.py:  59] INFO     \t exc_syn: 794 (1)\t inh_syn: 46 (1)\n",
      "\n",
      "05-07 13:29:01 balanced input [synapses_weights.py:  64] INFO     \t 16 +- 0 (n=0)\n",
      "\n",
      "05-07 13:29:01 balanced input [synapses_weights.py:  59] INFO     \t exc_syn: 1000 (1)\t inh_syn: 46 (1)\n",
      "\n",
      "05-07 13:29:01 balanced input [synapses_weights.py:  64] INFO     \t 16 +- 0 (n=0)\n",
      "\n",
      "05-07 13:29:01 balanced input [synapses_weights.py:  59] INFO     \t exc_syn: 0 (1)\t inh_syn: 100 (1)\n",
      "\n"
     ]
    },
    {
     "name": "stdout",
     "output_type": "stream",
     "text": [
      "1 excitatory synapse\n",
      "\t1 \n",
      "InhDendDistalRatio:0 \t ExcDendDistalRatio:1\n",
      "\t44 \n",
      "ninhL:0 \t ninhB:100 \t nexcL:1 \t nexcB:0 \n",
      "\t41 \n",
      "100 proximal inhibitory synapses of type GABAa[0]\n",
      "1 distal excitatory synapses of type ProbAMPANMDA3_RATIO[0]\n",
      "synapses loaded \n",
      "\t17 \n",
      "\t1 \n"
     ]
    },
    {
     "name": "stderr",
     "output_type": "stream",
     "text": [
      "05-07 13:29:06 balanced input [synapses_weights.py:  79] INFO     \t \t spikes 0.0\n",
      "05-07 13:29:06 balanced input [synapses_weights.py:  83] INFO     \t break from too many 0's\n",
      "05-07 13:29:06 balanced input [synapses_weights.py:  97] INFO     \t 0.0 +- 0.0 (n=1)\n",
      "\n",
      "05-07 13:29:06 balanced input [synapses_weights.py:  59] INFO     \t exc_syn: 10 (1)\t inh_syn: 100 (1)\n",
      "\n"
     ]
    },
    {
     "name": "stdout",
     "output_type": "stream",
     "text": [
      "\t1 \n",
      "InhDendDistalRatio:0 \t ExcDendDistalRatio:1\n",
      "\t44 \n",
      "ninhL:0 \t ninhB:100 \t nexcL:10 \t nexcB:0 \n",
      "\t42 \n",
      "100 proximal inhibitory synapses of type GABAa[0]\n",
      "10 distal excitatory synapses of type ProbAMPANMDA3_RATIO[0]\n",
      "synapses loaded \n",
      "\t17 \n",
      "\t1 \n"
     ]
    },
    {
     "name": "stderr",
     "output_type": "stream",
     "text": [
      "05-07 13:29:11 balanced input [synapses_weights.py:  79] INFO     \t \t spikes 0.0\n",
      "05-07 13:29:11 balanced input [synapses_weights.py:  83] INFO     \t break from too many 0's\n",
      "05-07 13:29:11 balanced input [synapses_weights.py:  97] INFO     \t 0.0 +- 0.0 (n=1)\n",
      "\n",
      "05-07 13:29:11 balanced input [synapses_weights.py:  59] INFO     \t exc_syn: 21 (1)\t inh_syn: 100 (1)\n",
      "\n"
     ]
    },
    {
     "name": "stdout",
     "output_type": "stream",
     "text": [
      "\t1 \n",
      "InhDendDistalRatio:0 \t ExcDendDistalRatio:1\n",
      "\t44 \n",
      "ninhL:0 \t ninhB:100 \t nexcL:21 \t nexcB:0 \n",
      "\t42 \n",
      "100 proximal inhibitory synapses of type GABAa[0]\n",
      "21 distal excitatory synapses of type ProbAMPANMDA3_RATIO[0]\n",
      "synapses loaded \n",
      "\t17 \n",
      "\t1 \n"
     ]
    },
    {
     "name": "stderr",
     "output_type": "stream",
     "text": [
      "05-07 13:29:17 balanced input [synapses_weights.py:  79] INFO     \t \t spikes 0.0\n",
      "05-07 13:29:17 balanced input [synapses_weights.py:  83] INFO     \t break from too many 0's\n",
      "05-07 13:29:17 balanced input [synapses_weights.py:  97] INFO     \t 0.0 +- 0.0 (n=1)\n",
      "\n",
      "05-07 13:29:17 balanced input [synapses_weights.py:  59] INFO     \t exc_syn: 46 (1)\t inh_syn: 100 (1)\n",
      "\n"
     ]
    },
    {
     "name": "stdout",
     "output_type": "stream",
     "text": [
      "\t1 \n",
      "InhDendDistalRatio:0 \t ExcDendDistalRatio:1\n",
      "\t44 \n",
      "ninhL:0 \t ninhB:100 \t nexcL:46 \t nexcB:0 \n",
      "\t42 \n",
      "100 proximal inhibitory synapses of type GABAa[0]\n",
      "46 distal excitatory synapses of type ProbAMPANMDA3_RATIO[0]\n",
      "synapses loaded \n",
      "\t17 \n",
      "\t1 \n"
     ]
    },
    {
     "name": "stderr",
     "output_type": "stream",
     "text": [
      "05-07 13:29:24 balanced input [synapses_weights.py:  79] INFO     \t \t spikes 0.0\n",
      "05-07 13:29:24 balanced input [synapses_weights.py:  83] INFO     \t break from too many 0's\n",
      "05-07 13:29:24 balanced input [synapses_weights.py:  97] INFO     \t 0.0 +- 0.0 (n=1)\n",
      "\n",
      "05-07 13:29:24 balanced input [synapses_weights.py:  59] INFO     \t exc_syn: 100 (1)\t inh_syn: 100 (1)\n",
      "\n"
     ]
    },
    {
     "name": "stdout",
     "output_type": "stream",
     "text": [
      "\t1 \n",
      "InhDendDistalRatio:0 \t ExcDendDistalRatio:1\n",
      "\t44 \n",
      "ninhL:0 \t ninhB:100 \t nexcL:100 \t nexcB:0 \n",
      "\t43 \n",
      "100 proximal inhibitory synapses of type GABAa[0]\n",
      "100 distal excitatory synapses of type ProbAMPANMDA3_RATIO[0]\n",
      "synapses loaded \n",
      "\t17 \n",
      "\t1 \n"
     ]
    },
    {
     "name": "stderr",
     "output_type": "stream",
     "text": [
      "05-07 13:29:31 balanced input [synapses_weights.py:  79] INFO     \t \t spikes 1.0\n",
      "05-07 13:29:31 balanced input [synapses_weights.py:  97] INFO     \t 1.0 +- 0.0 (n=1)\n",
      "\n",
      "05-07 13:29:31 balanced input [synapses_weights.py:  59] INFO     \t exc_syn: 125 (1)\t inh_syn: 100 (1)\n",
      "\n"
     ]
    },
    {
     "name": "stdout",
     "output_type": "stream",
     "text": [
      "\t1 \n",
      "InhDendDistalRatio:0 \t ExcDendDistalRatio:1\n",
      "\t44 \n",
      "ninhL:0 \t ninhB:100 \t nexcL:125 \t nexcB:0 \n",
      "\t43 \n",
      "100 proximal inhibitory synapses of type GABAa[0]\n",
      "125 distal excitatory synapses of type ProbAMPANMDA3_RATIO[0]\n",
      "synapses loaded \n",
      "\t17 \n",
      "\t1 \n"
     ]
    },
    {
     "name": "stderr",
     "output_type": "stream",
     "text": [
      "05-07 13:29:40 balanced input [synapses_weights.py:  79] INFO     \t \t spikes 1.0\n",
      "05-07 13:29:40 balanced input [synapses_weights.py:  97] INFO     \t 1.0 +- 0.0 (n=1)\n",
      "\n",
      "05-07 13:29:40 balanced input [synapses_weights.py:  59] INFO     \t exc_syn: 158 (1)\t inh_syn: 100 (1)\n",
      "\n"
     ]
    },
    {
     "name": "stdout",
     "output_type": "stream",
     "text": [
      "\t1 \n",
      "InhDendDistalRatio:0 \t ExcDendDistalRatio:1\n",
      "\t44 \n",
      "ninhL:0 \t ninhB:100 \t nexcL:158 \t nexcB:0 \n",
      "\t43 \n",
      "100 proximal inhibitory synapses of type GABAa[0]\n",
      "158 distal excitatory synapses of type ProbAMPANMDA3_RATIO[0]\n",
      "synapses loaded \n",
      "\t17 \n",
      "\t1 \n"
     ]
    },
    {
     "name": "stderr",
     "output_type": "stream",
     "text": [
      "05-07 13:29:51 balanced input [synapses_weights.py:  79] INFO     \t \t spikes 1.0\n",
      "05-07 13:29:51 balanced input [synapses_weights.py:  97] INFO     \t 1.0 +- 0.0 (n=1)\n",
      "\n",
      "05-07 13:29:51 balanced input [synapses_weights.py:  59] INFO     \t exc_syn: 199 (1)\t inh_syn: 100 (1)\n",
      "\n"
     ]
    },
    {
     "name": "stdout",
     "output_type": "stream",
     "text": [
      "\t1 \n",
      "InhDendDistalRatio:0 \t ExcDendDistalRatio:1\n",
      "\t44 \n",
      "ninhL:0 \t ninhB:100 \t nexcL:199 \t nexcB:0 \n",
      "\t43 \n",
      "100 proximal inhibitory synapses of type GABAa[0]\n",
      "199 distal excitatory synapses of type ProbAMPANMDA3_RATIO[0]\n",
      "synapses loaded \n",
      "\t17 \n",
      "\t1 \n"
     ]
    },
    {
     "name": "stderr",
     "output_type": "stream",
     "text": [
      "05-07 13:30:04 balanced input [synapses_weights.py:  79] INFO     \t \t spikes 1.0\n",
      "05-07 13:30:04 balanced input [synapses_weights.py:  97] INFO     \t 1.0 +- 0.0 (n=1)\n",
      "\n",
      "05-07 13:30:04 balanced input [synapses_weights.py:  59] INFO     \t exc_syn: 251 (1)\t inh_syn: 100 (1)\n",
      "\n"
     ]
    },
    {
     "name": "stdout",
     "output_type": "stream",
     "text": [
      "\t1 \n",
      "InhDendDistalRatio:0 \t ExcDendDistalRatio:1\n",
      "\t44 \n",
      "ninhL:0 \t ninhB:100 \t nexcL:251 \t nexcB:0 \n",
      "\t43 \n",
      "100 proximal inhibitory synapses of type GABAa[0]\n",
      "251 distal excitatory synapses of type ProbAMPANMDA3_RATIO[0]\n",
      "synapses loaded \n",
      "\t17 \n",
      "\t1 \n"
     ]
    },
    {
     "name": "stderr",
     "output_type": "stream",
     "text": [
      "05-07 13:30:19 balanced input [synapses_weights.py:  79] INFO     \t \t spikes 2.0\n",
      "05-07 13:30:19 balanced input [synapses_weights.py:  97] INFO     \t 2.0 +- 0.0 (n=1)\n",
      "\n",
      "05-07 13:30:19 balanced input [synapses_weights.py:  59] INFO     \t exc_syn: 316 (1)\t inh_syn: 100 (1)\n",
      "\n"
     ]
    },
    {
     "name": "stdout",
     "output_type": "stream",
     "text": [
      "\t1 \n",
      "InhDendDistalRatio:0 \t ExcDendDistalRatio:1\n",
      "\t44 \n",
      "ninhL:0 \t ninhB:100 \t nexcL:316 \t nexcB:0 \n",
      "\t43 \n",
      "100 proximal inhibitory synapses of type GABAa[0]\n",
      "316 distal excitatory synapses of type ProbAMPANMDA3_RATIO[0]\n",
      "synapses loaded \n",
      "\t17 \n",
      "\t1 \n"
     ]
    },
    {
     "name": "stderr",
     "output_type": "stream",
     "text": [
      "05-07 13:30:38 balanced input [synapses_weights.py:  79] INFO     \t \t spikes 3.0\n",
      "05-07 13:30:38 balanced input [synapses_weights.py:  97] INFO     \t 3.0 +- 0.0 (n=1)\n",
      "\n",
      "05-07 13:30:38 balanced input [synapses_weights.py:  59] INFO     \t exc_syn: 398 (1)\t inh_syn: 100 (1)\n",
      "\n"
     ]
    },
    {
     "name": "stdout",
     "output_type": "stream",
     "text": [
      "\t1 \n",
      "InhDendDistalRatio:0 \t ExcDendDistalRatio:1\n",
      "\t44 \n",
      "ninhL:0 \t ninhB:100 \t nexcL:398 \t nexcB:0 \n",
      "\t43 \n",
      "100 proximal inhibitory synapses of type GABAa[0]\n",
      "398 distal excitatory synapses of type ProbAMPANMDA3_RATIO[0]\n",
      "synapses loaded \n",
      "\t17 \n",
      "\t1 \n"
     ]
    },
    {
     "name": "stderr",
     "output_type": "stream",
     "text": [
      "05-07 13:31:04 balanced input [synapses_weights.py:  79] INFO     \t \t spikes 9.0\n",
      "05-07 13:31:04 balanced input [synapses_weights.py:  97] INFO     \t 9.0 +- 0.0 (n=1)\n",
      "\n",
      "05-07 13:31:04 balanced input [synapses_weights.py:  59] INFO     \t exc_syn: 501 (1)\t inh_syn: 100 (1)\n",
      "\n"
     ]
    },
    {
     "name": "stdout",
     "output_type": "stream",
     "text": [
      "\t1 \n",
      "InhDendDistalRatio:0 \t ExcDendDistalRatio:1\n",
      "\t44 \n",
      "ninhL:0 \t ninhB:100 \t nexcL:501 \t nexcB:0 \n",
      "\t43 \n",
      "100 proximal inhibitory synapses of type GABAa[0]\n",
      "501 distal excitatory synapses of type ProbAMPANMDA3_RATIO[0]\n",
      "synapses loaded \n",
      "\t17 \n",
      "\t1 \n"
     ]
    },
    {
     "name": "stderr",
     "output_type": "stream",
     "text": [
      "05-07 13:31:43 balanced input [synapses_weights.py:  79] INFO     \t \t spikes 19.0\n",
      "05-07 13:31:43 balanced input [synapses_weights.py:  90] INFO     \t break from above 15\n",
      "05-07 13:31:43 balanced input [synapses_weights.py:  97] INFO     \t 19.0 +- 0.0 (n=1)\n",
      "\n",
      "05-07 13:31:43 balanced input [synapses_weights.py:  59] INFO     \t exc_syn: 630 (1)\t inh_syn: 100 (1)\n",
      "\n",
      "05-07 13:31:43 balanced input [synapses_weights.py:  64] INFO     \t 16 +- 0 (n=0)\n",
      "\n",
      "05-07 13:31:43 balanced input [synapses_weights.py:  59] INFO     \t exc_syn: 794 (1)\t inh_syn: 100 (1)\n",
      "\n",
      "05-07 13:31:43 balanced input [synapses_weights.py:  64] INFO     \t 16 +- 0 (n=0)\n",
      "\n",
      "05-07 13:31:43 balanced input [synapses_weights.py:  59] INFO     \t exc_syn: 1000 (1)\t inh_syn: 100 (1)\n",
      "\n",
      "05-07 13:31:43 balanced input [synapses_weights.py:  64] INFO     \t 16 +- 0 (n=0)\n",
      "\n",
      "05-07 13:31:43 balanced input [synapses_weights.py:  59] INFO     \t exc_syn: 0 (1)\t inh_syn: 125 (1)\n",
      "\n"
     ]
    },
    {
     "name": "stdout",
     "output_type": "stream",
     "text": [
      "1 excitatory synapse\n",
      "\t1 \n",
      "InhDendDistalRatio:0 \t ExcDendDistalRatio:1\n",
      "\t44 \n",
      "ninhL:0 \t ninhB:125 \t nexcL:1 \t nexcB:0 \n",
      "\t41 \n",
      "125 proximal inhibitory synapses of type GABAa[0]\n",
      "1 distal excitatory synapses of type ProbAMPANMDA3_RATIO[0]\n",
      "synapses loaded \n",
      "\t17 \n",
      "\t1 \n"
     ]
    },
    {
     "name": "stderr",
     "output_type": "stream",
     "text": [
      "05-07 13:31:49 balanced input [synapses_weights.py:  79] INFO     \t \t spikes 0.0\n",
      "05-07 13:31:49 balanced input [synapses_weights.py:  83] INFO     \t break from too many 0's\n",
      "05-07 13:31:49 balanced input [synapses_weights.py:  97] INFO     \t 0.0 +- 0.0 (n=1)\n",
      "\n",
      "05-07 13:31:49 balanced input [synapses_weights.py:  59] INFO     \t exc_syn: 10 (1)\t inh_syn: 125 (1)\n",
      "\n"
     ]
    },
    {
     "name": "stdout",
     "output_type": "stream",
     "text": [
      "\t1 \n",
      "InhDendDistalRatio:0 \t ExcDendDistalRatio:1\n",
      "\t44 \n",
      "ninhL:0 \t ninhB:125 \t nexcL:10 \t nexcB:0 \n",
      "\t42 \n",
      "125 proximal inhibitory synapses of type GABAa[0]\n",
      "10 distal excitatory synapses of type ProbAMPANMDA3_RATIO[0]\n",
      "synapses loaded \n",
      "\t17 \n",
      "\t1 \n"
     ]
    },
    {
     "name": "stderr",
     "output_type": "stream",
     "text": [
      "05-07 13:31:55 balanced input [synapses_weights.py:  79] INFO     \t \t spikes 0.0\n",
      "05-07 13:31:55 balanced input [synapses_weights.py:  83] INFO     \t break from too many 0's\n",
      "05-07 13:31:55 balanced input [synapses_weights.py:  97] INFO     \t 0.0 +- 0.0 (n=1)\n",
      "\n",
      "05-07 13:31:55 balanced input [synapses_weights.py:  59] INFO     \t exc_syn: 21 (1)\t inh_syn: 125 (1)\n",
      "\n"
     ]
    },
    {
     "name": "stdout",
     "output_type": "stream",
     "text": [
      "\t1 \n",
      "InhDendDistalRatio:0 \t ExcDendDistalRatio:1\n",
      "\t44 \n",
      "ninhL:0 \t ninhB:125 \t nexcL:21 \t nexcB:0 \n",
      "\t42 \n",
      "125 proximal inhibitory synapses of type GABAa[0]\n",
      "21 distal excitatory synapses of type ProbAMPANMDA3_RATIO[0]\n",
      "synapses loaded \n",
      "\t17 \n",
      "\t1 \n"
     ]
    },
    {
     "name": "stderr",
     "output_type": "stream",
     "text": [
      "05-07 13:32:03 balanced input [synapses_weights.py:  79] INFO     \t \t spikes 0.0\n",
      "05-07 13:32:03 balanced input [synapses_weights.py:  83] INFO     \t break from too many 0's\n",
      "05-07 13:32:03 balanced input [synapses_weights.py:  97] INFO     \t 0.0 +- 0.0 (n=1)\n",
      "\n",
      "05-07 13:32:03 balanced input [synapses_weights.py:  59] INFO     \t exc_syn: 46 (1)\t inh_syn: 125 (1)\n",
      "\n"
     ]
    },
    {
     "name": "stdout",
     "output_type": "stream",
     "text": [
      "\t1 \n",
      "InhDendDistalRatio:0 \t ExcDendDistalRatio:1\n",
      "\t44 \n",
      "ninhL:0 \t ninhB:125 \t nexcL:46 \t nexcB:0 \n",
      "\t42 \n",
      "125 proximal inhibitory synapses of type GABAa[0]\n",
      "46 distal excitatory synapses of type ProbAMPANMDA3_RATIO[0]\n",
      "synapses loaded \n",
      "\t17 \n",
      "\t1 \n"
     ]
    },
    {
     "name": "stderr",
     "output_type": "stream",
     "text": [
      "05-07 13:32:11 balanced input [synapses_weights.py:  79] INFO     \t \t spikes 0.0\n",
      "05-07 13:32:11 balanced input [synapses_weights.py:  83] INFO     \t break from too many 0's\n",
      "05-07 13:32:11 balanced input [synapses_weights.py:  97] INFO     \t 0.0 +- 0.0 (n=1)\n",
      "\n",
      "05-07 13:32:11 balanced input [synapses_weights.py:  59] INFO     \t exc_syn: 100 (1)\t inh_syn: 125 (1)\n",
      "\n"
     ]
    },
    {
     "name": "stdout",
     "output_type": "stream",
     "text": [
      "\t1 \n",
      "InhDendDistalRatio:0 \t ExcDendDistalRatio:1\n",
      "\t44 \n",
      "ninhL:0 \t ninhB:125 \t nexcL:100 \t nexcB:0 \n",
      "\t43 \n",
      "125 proximal inhibitory synapses of type GABAa[0]\n",
      "100 distal excitatory synapses of type ProbAMPANMDA3_RATIO[0]\n",
      "synapses loaded \n",
      "\t17 \n",
      "\t1 \n"
     ]
    },
    {
     "name": "stderr",
     "output_type": "stream",
     "text": [
      "05-07 13:32:21 balanced input [synapses_weights.py:  79] INFO     \t \t spikes 1.0\n",
      "05-07 13:32:21 balanced input [synapses_weights.py:  97] INFO     \t 1.0 +- 0.0 (n=1)\n",
      "\n",
      "05-07 13:32:21 balanced input [synapses_weights.py:  59] INFO     \t exc_syn: 125 (1)\t inh_syn: 125 (1)\n",
      "\n"
     ]
    },
    {
     "name": "stdout",
     "output_type": "stream",
     "text": [
      "\t1 \n",
      "InhDendDistalRatio:0 \t ExcDendDistalRatio:1\n",
      "\t44 \n",
      "ninhL:0 \t ninhB:125 \t nexcL:125 \t nexcB:0 \n",
      "\t43 \n",
      "125 proximal inhibitory synapses of type GABAa[0]\n",
      "125 distal excitatory synapses of type ProbAMPANMDA3_RATIO[0]\n",
      "synapses loaded \n",
      "\t17 \n",
      "\t1 \n"
     ]
    },
    {
     "name": "stderr",
     "output_type": "stream",
     "text": [
      "05-07 13:32:32 balanced input [synapses_weights.py:  79] INFO     \t \t spikes 1.0\n",
      "05-07 13:32:32 balanced input [synapses_weights.py:  97] INFO     \t 1.0 +- 0.0 (n=1)\n",
      "\n",
      "05-07 13:32:32 balanced input [synapses_weights.py:  59] INFO     \t exc_syn: 158 (1)\t inh_syn: 125 (1)\n",
      "\n"
     ]
    },
    {
     "name": "stdout",
     "output_type": "stream",
     "text": [
      "\t1 \n",
      "InhDendDistalRatio:0 \t ExcDendDistalRatio:1\n",
      "\t44 \n",
      "ninhL:0 \t ninhB:125 \t nexcL:158 \t nexcB:0 \n",
      "\t43 \n",
      "125 proximal inhibitory synapses of type GABAa[0]\n",
      "158 distal excitatory synapses of type ProbAMPANMDA3_RATIO[0]\n",
      "synapses loaded \n",
      "\t17 \n",
      "\t1 \n"
     ]
    },
    {
     "name": "stderr",
     "output_type": "stream",
     "text": [
      "05-07 13:32:44 balanced input [synapses_weights.py:  79] INFO     \t \t spikes 1.0\n",
      "05-07 13:32:44 balanced input [synapses_weights.py:  97] INFO     \t 1.0 +- 0.0 (n=1)\n",
      "\n",
      "05-07 13:32:44 balanced input [synapses_weights.py:  59] INFO     \t exc_syn: 199 (1)\t inh_syn: 125 (1)\n",
      "\n"
     ]
    },
    {
     "name": "stdout",
     "output_type": "stream",
     "text": [
      "\t1 \n",
      "InhDendDistalRatio:0 \t ExcDendDistalRatio:1\n",
      "\t44 \n",
      "ninhL:0 \t ninhB:125 \t nexcL:199 \t nexcB:0 \n",
      "\t43 \n",
      "125 proximal inhibitory synapses of type GABAa[0]\n",
      "199 distal excitatory synapses of type ProbAMPANMDA3_RATIO[0]\n",
      "synapses loaded \n",
      "\t17 \n",
      "\t1 \n"
     ]
    },
    {
     "name": "stderr",
     "output_type": "stream",
     "text": [
      "05-07 13:32:58 balanced input [synapses_weights.py:  79] INFO     \t \t spikes 1.0\n",
      "05-07 13:32:58 balanced input [synapses_weights.py:  97] INFO     \t 1.0 +- 0.0 (n=1)\n",
      "\n",
      "05-07 13:32:58 balanced input [synapses_weights.py:  59] INFO     \t exc_syn: 251 (1)\t inh_syn: 125 (1)\n",
      "\n"
     ]
    },
    {
     "name": "stdout",
     "output_type": "stream",
     "text": [
      "\t1 \n",
      "InhDendDistalRatio:0 \t ExcDendDistalRatio:1\n",
      "\t44 \n",
      "ninhL:0 \t ninhB:125 \t nexcL:251 \t nexcB:0 \n",
      "\t43 \n",
      "125 proximal inhibitory synapses of type GABAa[0]\n",
      "251 distal excitatory synapses of type ProbAMPANMDA3_RATIO[0]\n",
      "synapses loaded \n",
      "\t17 \n",
      "\t1 \n"
     ]
    },
    {
     "name": "stderr",
     "output_type": "stream",
     "text": [
      "05-07 13:33:13 balanced input [synapses_weights.py:  79] INFO     \t \t spikes 2.0\n",
      "05-07 13:33:13 balanced input [synapses_weights.py:  97] INFO     \t 2.0 +- 0.0 (n=1)\n",
      "\n",
      "05-07 13:33:13 balanced input [synapses_weights.py:  59] INFO     \t exc_syn: 316 (1)\t inh_syn: 125 (1)\n",
      "\n"
     ]
    },
    {
     "name": "stdout",
     "output_type": "stream",
     "text": [
      "\t1 \n",
      "InhDendDistalRatio:0 \t ExcDendDistalRatio:1\n",
      "\t44 \n",
      "ninhL:0 \t ninhB:125 \t nexcL:316 \t nexcB:0 \n",
      "\t43 \n",
      "125 proximal inhibitory synapses of type GABAa[0]\n",
      "316 distal excitatory synapses of type ProbAMPANMDA3_RATIO[0]\n",
      "synapses loaded \n",
      "\t17 \n",
      "\t1 \n"
     ]
    },
    {
     "name": "stderr",
     "output_type": "stream",
     "text": [
      "05-07 13:33:31 balanced input [synapses_weights.py:  79] INFO     \t \t spikes 2.0\n",
      "05-07 13:33:31 balanced input [synapses_weights.py:  97] INFO     \t 2.0 +- 0.0 (n=1)\n",
      "\n",
      "05-07 13:33:31 balanced input [synapses_weights.py:  59] INFO     \t exc_syn: 398 (1)\t inh_syn: 125 (1)\n",
      "\n"
     ]
    },
    {
     "name": "stdout",
     "output_type": "stream",
     "text": [
      "\t1 \n",
      "InhDendDistalRatio:0 \t ExcDendDistalRatio:1\n",
      "\t44 \n",
      "ninhL:0 \t ninhB:125 \t nexcL:398 \t nexcB:0 \n",
      "\t43 \n",
      "125 proximal inhibitory synapses of type GABAa[0]\n",
      "398 distal excitatory synapses of type ProbAMPANMDA3_RATIO[0]\n",
      "synapses loaded \n",
      "\t17 \n",
      "\t1 \n"
     ]
    },
    {
     "name": "stderr",
     "output_type": "stream",
     "text": [
      "05-07 13:33:56 balanced input [synapses_weights.py:  79] INFO     \t \t spikes 5.0\n",
      "05-07 13:33:56 balanced input [synapses_weights.py:  97] INFO     \t 5.0 +- 0.0 (n=1)\n",
      "\n",
      "05-07 13:33:56 balanced input [synapses_weights.py:  59] INFO     \t exc_syn: 501 (1)\t inh_syn: 125 (1)\n",
      "\n"
     ]
    },
    {
     "name": "stdout",
     "output_type": "stream",
     "text": [
      "\t1 \n",
      "InhDendDistalRatio:0 \t ExcDendDistalRatio:1\n",
      "\t44 \n",
      "ninhL:0 \t ninhB:125 \t nexcL:501 \t nexcB:0 \n",
      "\t43 \n",
      "125 proximal inhibitory synapses of type GABAa[0]\n",
      "501 distal excitatory synapses of type ProbAMPANMDA3_RATIO[0]\n",
      "synapses loaded \n",
      "\t17 \n",
      "\t1 \n"
     ]
    },
    {
     "name": "stderr",
     "output_type": "stream",
     "text": [
      "05-07 13:34:31 balanced input [synapses_weights.py:  79] INFO     \t \t spikes 13.0\n",
      "05-07 13:34:31 balanced input [synapses_weights.py:  97] INFO     \t 13.0 +- 0.0 (n=1)\n",
      "\n",
      "05-07 13:34:31 balanced input [synapses_weights.py:  59] INFO     \t exc_syn: 630 (1)\t inh_syn: 125 (1)\n",
      "\n"
     ]
    },
    {
     "name": "stdout",
     "output_type": "stream",
     "text": [
      "\t1 \n",
      "InhDendDistalRatio:0 \t ExcDendDistalRatio:1\n",
      "\t44 \n",
      "ninhL:0 \t ninhB:125 \t nexcL:630 \t nexcB:0 \n",
      "\t43 \n",
      "125 proximal inhibitory synapses of type GABAa[0]\n",
      "630 distal excitatory synapses of type ProbAMPANMDA3_RATIO[0]\n",
      "synapses loaded \n",
      "\t17 \n",
      "\t1 \n"
     ]
    },
    {
     "name": "stderr",
     "output_type": "stream",
     "text": [
      "05-07 13:35:23 balanced input [synapses_weights.py:  79] INFO     \t \t spikes 26.0\n",
      "05-07 13:35:23 balanced input [synapses_weights.py:  90] INFO     \t break from above 15\n",
      "05-07 13:35:23 balanced input [synapses_weights.py:  97] INFO     \t 26.0 +- 0.0 (n=1)\n",
      "\n",
      "05-07 13:35:23 balanced input [synapses_weights.py:  59] INFO     \t exc_syn: 794 (1)\t inh_syn: 125 (1)\n",
      "\n",
      "05-07 13:35:23 balanced input [synapses_weights.py:  64] INFO     \t 16 +- 0 (n=0)\n",
      "\n",
      "05-07 13:35:23 balanced input [synapses_weights.py:  59] INFO     \t exc_syn: 1000 (1)\t inh_syn: 125 (1)\n",
      "\n",
      "05-07 13:35:23 balanced input [synapses_weights.py:  64] INFO     \t 16 +- 0 (n=0)\n",
      "\n",
      "05-07 13:35:23 balanced input [synapses_weights.py:  59] INFO     \t exc_syn: 0 (1)\t inh_syn: 158 (1)\n",
      "\n"
     ]
    },
    {
     "name": "stdout",
     "output_type": "stream",
     "text": [
      "1 excitatory synapse\n",
      "\t1 \n",
      "InhDendDistalRatio:0 \t ExcDendDistalRatio:1\n",
      "\t44 \n",
      "ninhL:0 \t ninhB:158 \t nexcL:1 \t nexcB:0 \n",
      "\t41 \n",
      "158 proximal inhibitory synapses of type GABAa[0]\n",
      "1 distal excitatory synapses of type ProbAMPANMDA3_RATIO[0]\n",
      "synapses loaded \n",
      "\t17 \n",
      "\t1 \n"
     ]
    },
    {
     "name": "stderr",
     "output_type": "stream",
     "text": [
      "05-07 13:35:29 balanced input [synapses_weights.py:  79] INFO     \t \t spikes 0.0\n",
      "05-07 13:35:29 balanced input [synapses_weights.py:  83] INFO     \t break from too many 0's\n",
      "05-07 13:35:29 balanced input [synapses_weights.py:  97] INFO     \t 0.0 +- 0.0 (n=1)\n",
      "\n",
      "05-07 13:35:29 balanced input [synapses_weights.py:  59] INFO     \t exc_syn: 10 (1)\t inh_syn: 158 (1)\n",
      "\n"
     ]
    },
    {
     "name": "stdout",
     "output_type": "stream",
     "text": [
      "\t1 \n",
      "InhDendDistalRatio:0 \t ExcDendDistalRatio:1\n",
      "\t44 \n",
      "ninhL:0 \t ninhB:158 \t nexcL:10 \t nexcB:0 \n",
      "\t42 \n",
      "158 proximal inhibitory synapses of type GABAa[0]\n",
      "10 distal excitatory synapses of type ProbAMPANMDA3_RATIO[0]\n",
      "synapses loaded \n",
      "\t17 \n",
      "\t1 \n"
     ]
    },
    {
     "name": "stderr",
     "output_type": "stream",
     "text": [
      "05-07 13:35:36 balanced input [synapses_weights.py:  79] INFO     \t \t spikes 0.0\n",
      "05-07 13:35:36 balanced input [synapses_weights.py:  83] INFO     \t break from too many 0's\n",
      "05-07 13:35:36 balanced input [synapses_weights.py:  97] INFO     \t 0.0 +- 0.0 (n=1)\n",
      "\n",
      "05-07 13:35:36 balanced input [synapses_weights.py:  59] INFO     \t exc_syn: 21 (1)\t inh_syn: 158 (1)\n",
      "\n"
     ]
    },
    {
     "name": "stdout",
     "output_type": "stream",
     "text": [
      "\t1 \n",
      "InhDendDistalRatio:0 \t ExcDendDistalRatio:1\n",
      "\t44 \n",
      "ninhL:0 \t ninhB:158 \t nexcL:21 \t nexcB:0 \n",
      "\t42 \n",
      "158 proximal inhibitory synapses of type GABAa[0]\n",
      "21 distal excitatory synapses of type ProbAMPANMDA3_RATIO[0]\n",
      "synapses loaded \n",
      "\t17 \n",
      "\t1 \n"
     ]
    },
    {
     "name": "stderr",
     "output_type": "stream",
     "text": [
      "05-07 13:35:44 balanced input [synapses_weights.py:  79] INFO     \t \t spikes 0.0\n",
      "05-07 13:35:44 balanced input [synapses_weights.py:  83] INFO     \t break from too many 0's\n",
      "05-07 13:35:44 balanced input [synapses_weights.py:  97] INFO     \t 0.0 +- 0.0 (n=1)\n",
      "\n",
      "05-07 13:35:44 balanced input [synapses_weights.py:  59] INFO     \t exc_syn: 46 (1)\t inh_syn: 158 (1)\n",
      "\n"
     ]
    },
    {
     "name": "stdout",
     "output_type": "stream",
     "text": [
      "\t1 \n",
      "InhDendDistalRatio:0 \t ExcDendDistalRatio:1\n",
      "\t44 \n",
      "ninhL:0 \t ninhB:158 \t nexcL:46 \t nexcB:0 \n",
      "\t42 \n",
      "158 proximal inhibitory synapses of type GABAa[0]\n",
      "46 distal excitatory synapses of type ProbAMPANMDA3_RATIO[0]\n",
      "synapses loaded \n",
      "\t17 \n",
      "\t1 \n"
     ]
    },
    {
     "name": "stderr",
     "output_type": "stream",
     "text": [
      "05-07 13:35:52 balanced input [synapses_weights.py:  79] INFO     \t \t spikes 0.0\n",
      "05-07 13:35:52 balanced input [synapses_weights.py:  83] INFO     \t break from too many 0's\n",
      "05-07 13:35:52 balanced input [synapses_weights.py:  97] INFO     \t 0.0 +- 0.0 (n=1)\n",
      "\n",
      "05-07 13:35:52 balanced input [synapses_weights.py:  59] INFO     \t exc_syn: 100 (1)\t inh_syn: 158 (1)\n",
      "\n"
     ]
    },
    {
     "name": "stdout",
     "output_type": "stream",
     "text": [
      "\t1 \n",
      "InhDendDistalRatio:0 \t ExcDendDistalRatio:1\n",
      "\t44 \n",
      "ninhL:0 \t ninhB:158 \t nexcL:100 \t nexcB:0 \n",
      "\t43 \n",
      "158 proximal inhibitory synapses of type GABAa[0]\n",
      "100 distal excitatory synapses of type ProbAMPANMDA3_RATIO[0]\n",
      "synapses loaded \n",
      "\t17 \n",
      "\t1 \n"
     ]
    },
    {
     "name": "stderr",
     "output_type": "stream",
     "text": [
      "05-07 13:36:02 balanced input [synapses_weights.py:  79] INFO     \t \t spikes 0.0\n",
      "05-07 13:36:02 balanced input [synapses_weights.py:  83] INFO     \t break from too many 0's\n",
      "05-07 13:36:02 balanced input [synapses_weights.py:  97] INFO     \t 0.0 +- 0.0 (n=1)\n",
      "\n",
      "05-07 13:36:02 balanced input [synapses_weights.py:  59] INFO     \t exc_syn: 125 (1)\t inh_syn: 158 (1)\n",
      "\n"
     ]
    },
    {
     "name": "stdout",
     "output_type": "stream",
     "text": [
      "\t1 \n",
      "InhDendDistalRatio:0 \t ExcDendDistalRatio:1\n",
      "\t44 \n",
      "ninhL:0 \t ninhB:158 \t nexcL:125 \t nexcB:0 \n",
      "\t43 \n",
      "158 proximal inhibitory synapses of type GABAa[0]\n",
      "125 distal excitatory synapses of type ProbAMPANMDA3_RATIO[0]\n",
      "synapses loaded \n",
      "\t17 \n",
      "\t1 \n"
     ]
    },
    {
     "name": "stderr",
     "output_type": "stream",
     "text": [
      "05-07 13:36:13 balanced input [synapses_weights.py:  79] INFO     \t \t spikes 1.0\n",
      "05-07 13:36:13 balanced input [synapses_weights.py:  97] INFO     \t 1.0 +- 0.0 (n=1)\n",
      "\n",
      "05-07 13:36:13 balanced input [synapses_weights.py:  59] INFO     \t exc_syn: 158 (1)\t inh_syn: 158 (1)\n",
      "\n"
     ]
    },
    {
     "name": "stdout",
     "output_type": "stream",
     "text": [
      "\t1 \n",
      "InhDendDistalRatio:0 \t ExcDendDistalRatio:1\n",
      "\t44 \n",
      "ninhL:0 \t ninhB:158 \t nexcL:158 \t nexcB:0 \n",
      "\t43 \n",
      "158 proximal inhibitory synapses of type GABAa[0]\n",
      "158 distal excitatory synapses of type ProbAMPANMDA3_RATIO[0]\n",
      "synapses loaded \n",
      "\t17 \n",
      "\t1 \n"
     ]
    },
    {
     "name": "stderr",
     "output_type": "stream",
     "text": [
      "05-07 13:36:24 balanced input [synapses_weights.py:  79] INFO     \t \t spikes 1.0\n",
      "05-07 13:36:24 balanced input [synapses_weights.py:  97] INFO     \t 1.0 +- 0.0 (n=1)\n",
      "\n",
      "05-07 13:36:24 balanced input [synapses_weights.py:  59] INFO     \t exc_syn: 199 (1)\t inh_syn: 158 (1)\n",
      "\n"
     ]
    },
    {
     "name": "stdout",
     "output_type": "stream",
     "text": [
      "\t1 \n",
      "InhDendDistalRatio:0 \t ExcDendDistalRatio:1\n",
      "\t44 \n",
      "ninhL:0 \t ninhB:158 \t nexcL:199 \t nexcB:0 \n",
      "\t43 \n",
      "158 proximal inhibitory synapses of type GABAa[0]\n",
      "199 distal excitatory synapses of type ProbAMPANMDA3_RATIO[0]\n",
      "synapses loaded \n",
      "\t17 \n",
      "\t1 \n"
     ]
    },
    {
     "name": "stderr",
     "output_type": "stream",
     "text": [
      "05-07 13:36:36 balanced input [synapses_weights.py:  79] INFO     \t \t spikes 1.0\n",
      "05-07 13:36:36 balanced input [synapses_weights.py:  97] INFO     \t 1.0 +- 0.0 (n=1)\n",
      "\n",
      "05-07 13:36:36 balanced input [synapses_weights.py:  59] INFO     \t exc_syn: 251 (1)\t inh_syn: 158 (1)\n",
      "\n"
     ]
    },
    {
     "name": "stdout",
     "output_type": "stream",
     "text": [
      "\t1 \n",
      "InhDendDistalRatio:0 \t ExcDendDistalRatio:1\n",
      "\t44 \n",
      "ninhL:0 \t ninhB:158 \t nexcL:251 \t nexcB:0 \n",
      "\t43 \n",
      "158 proximal inhibitory synapses of type GABAa[0]\n",
      "251 distal excitatory synapses of type ProbAMPANMDA3_RATIO[0]\n",
      "synapses loaded \n",
      "\t17 \n",
      "\t1 \n"
     ]
    },
    {
     "name": "stderr",
     "output_type": "stream",
     "text": [
      "05-07 13:36:51 balanced input [synapses_weights.py:  79] INFO     \t \t spikes 1.0\n",
      "05-07 13:36:51 balanced input [synapses_weights.py:  97] INFO     \t 1.0 +- 0.0 (n=1)\n",
      "\n",
      "05-07 13:36:51 balanced input [synapses_weights.py:  59] INFO     \t exc_syn: 316 (1)\t inh_syn: 158 (1)\n",
      "\n"
     ]
    },
    {
     "name": "stdout",
     "output_type": "stream",
     "text": [
      "\t1 \n",
      "InhDendDistalRatio:0 \t ExcDendDistalRatio:1\n",
      "\t44 \n",
      "ninhL:0 \t ninhB:158 \t nexcL:316 \t nexcB:0 \n",
      "\t43 \n",
      "158 proximal inhibitory synapses of type GABAa[0]\n",
      "316 distal excitatory synapses of type ProbAMPANMDA3_RATIO[0]\n",
      "synapses loaded \n",
      "\t17 \n",
      "\t1 \n"
     ]
    },
    {
     "name": "stderr",
     "output_type": "stream",
     "text": [
      "05-07 13:37:12 balanced input [synapses_weights.py:  79] INFO     \t \t spikes 2.0\n",
      "05-07 13:37:12 balanced input [synapses_weights.py:  97] INFO     \t 2.0 +- 0.0 (n=1)\n",
      "\n",
      "05-07 13:37:12 balanced input [synapses_weights.py:  59] INFO     \t exc_syn: 398 (1)\t inh_syn: 158 (1)\n",
      "\n"
     ]
    },
    {
     "name": "stdout",
     "output_type": "stream",
     "text": [
      "\t1 \n",
      "InhDendDistalRatio:0 \t ExcDendDistalRatio:1\n",
      "\t44 \n",
      "ninhL:0 \t ninhB:158 \t nexcL:398 \t nexcB:0 \n",
      "\t43 \n",
      "158 proximal inhibitory synapses of type GABAa[0]\n",
      "398 distal excitatory synapses of type ProbAMPANMDA3_RATIO[0]\n",
      "synapses loaded \n",
      "\t17 \n",
      "\t1 \n"
     ]
    },
    {
     "name": "stderr",
     "output_type": "stream",
     "text": [
      "05-07 13:37:36 balanced input [synapses_weights.py:  79] INFO     \t \t spikes 3.0\n",
      "05-07 13:37:36 balanced input [synapses_weights.py:  97] INFO     \t 3.0 +- 0.0 (n=1)\n",
      "\n",
      "05-07 13:37:36 balanced input [synapses_weights.py:  59] INFO     \t exc_syn: 501 (1)\t inh_syn: 158 (1)\n",
      "\n"
     ]
    },
    {
     "name": "stdout",
     "output_type": "stream",
     "text": [
      "\t1 \n",
      "InhDendDistalRatio:0 \t ExcDendDistalRatio:1\n",
      "\t44 \n",
      "ninhL:0 \t ninhB:158 \t nexcL:501 \t nexcB:0 \n",
      "\t43 \n",
      "158 proximal inhibitory synapses of type GABAa[0]\n",
      "501 distal excitatory synapses of type ProbAMPANMDA3_RATIO[0]\n",
      "synapses loaded \n",
      "\t17 \n",
      "\t1 \n"
     ]
    },
    {
     "name": "stderr",
     "output_type": "stream",
     "text": [
      "05-07 13:38:09 balanced input [synapses_weights.py:  79] INFO     \t \t spikes 8.0\n",
      "05-07 13:38:09 balanced input [synapses_weights.py:  97] INFO     \t 8.0 +- 0.0 (n=1)\n",
      "\n",
      "05-07 13:38:09 balanced input [synapses_weights.py:  59] INFO     \t exc_syn: 630 (1)\t inh_syn: 158 (1)\n",
      "\n"
     ]
    },
    {
     "name": "stdout",
     "output_type": "stream",
     "text": [
      "\t1 \n",
      "InhDendDistalRatio:0 \t ExcDendDistalRatio:1\n",
      "\t44 \n",
      "ninhL:0 \t ninhB:158 \t nexcL:630 \t nexcB:0 \n",
      "\t43 \n",
      "158 proximal inhibitory synapses of type GABAa[0]\n",
      "630 distal excitatory synapses of type ProbAMPANMDA3_RATIO[0]\n",
      "synapses loaded \n",
      "\t17 \n",
      "\t1 \n"
     ]
    },
    {
     "name": "stderr",
     "output_type": "stream",
     "text": [
      "05-07 13:39:00 balanced input [synapses_weights.py:  79] INFO     \t \t spikes 17.0\n",
      "05-07 13:39:00 balanced input [synapses_weights.py:  90] INFO     \t break from above 15\n",
      "05-07 13:39:00 balanced input [synapses_weights.py:  97] INFO     \t 17.0 +- 0.0 (n=1)\n",
      "\n",
      "05-07 13:39:00 balanced input [synapses_weights.py:  59] INFO     \t exc_syn: 794 (1)\t inh_syn: 158 (1)\n",
      "\n",
      "05-07 13:39:00 balanced input [synapses_weights.py:  64] INFO     \t 16 +- 0 (n=0)\n",
      "\n",
      "05-07 13:39:00 balanced input [synapses_weights.py:  59] INFO     \t exc_syn: 1000 (1)\t inh_syn: 158 (1)\n",
      "\n",
      "05-07 13:39:00 balanced input [synapses_weights.py:  64] INFO     \t 16 +- 0 (n=0)\n",
      "\n",
      "05-07 13:39:00 balanced input [synapses_weights.py:  59] INFO     \t exc_syn: 0 (1)\t inh_syn: 199 (1)\n",
      "\n"
     ]
    },
    {
     "name": "stdout",
     "output_type": "stream",
     "text": [
      "1 excitatory synapse\n",
      "\t1 \n",
      "InhDendDistalRatio:0 \t ExcDendDistalRatio:1\n",
      "\t44 \n",
      "ninhL:0 \t ninhB:199 \t nexcL:1 \t nexcB:0 \n",
      "\t41 \n",
      "199 proximal inhibitory synapses of type GABAa[0]\n",
      "1 distal excitatory synapses of type ProbAMPANMDA3_RATIO[0]\n",
      "synapses loaded \n",
      "\t17 \n",
      "\t1 \n"
     ]
    },
    {
     "name": "stderr",
     "output_type": "stream",
     "text": [
      "05-07 13:39:07 balanced input [synapses_weights.py:  79] INFO     \t \t spikes 0.0\n",
      "05-07 13:39:07 balanced input [synapses_weights.py:  83] INFO     \t break from too many 0's\n",
      "05-07 13:39:07 balanced input [synapses_weights.py:  97] INFO     \t 0.0 +- 0.0 (n=1)\n",
      "\n",
      "05-07 13:39:07 balanced input [synapses_weights.py:  59] INFO     \t exc_syn: 10 (1)\t inh_syn: 199 (1)\n",
      "\n"
     ]
    },
    {
     "name": "stdout",
     "output_type": "stream",
     "text": [
      "\t1 \n",
      "InhDendDistalRatio:0 \t ExcDendDistalRatio:1\n",
      "\t44 \n",
      "ninhL:0 \t ninhB:199 \t nexcL:10 \t nexcB:0 \n",
      "\t42 \n",
      "199 proximal inhibitory synapses of type GABAa[0]\n",
      "10 distal excitatory synapses of type ProbAMPANMDA3_RATIO[0]\n",
      "synapses loaded \n",
      "\t17 \n",
      "\t1 \n"
     ]
    },
    {
     "name": "stderr",
     "output_type": "stream",
     "text": [
      "05-07 13:39:17 balanced input [synapses_weights.py:  79] INFO     \t \t spikes 0.0\n",
      "05-07 13:39:17 balanced input [synapses_weights.py:  83] INFO     \t break from too many 0's\n",
      "05-07 13:39:17 balanced input [synapses_weights.py:  97] INFO     \t 0.0 +- 0.0 (n=1)\n",
      "\n",
      "05-07 13:39:17 balanced input [synapses_weights.py:  59] INFO     \t exc_syn: 21 (1)\t inh_syn: 199 (1)\n",
      "\n"
     ]
    },
    {
     "name": "stdout",
     "output_type": "stream",
     "text": [
      "\t1 \n",
      "InhDendDistalRatio:0 \t ExcDendDistalRatio:1\n",
      "\t44 \n",
      "ninhL:0 \t ninhB:199 \t nexcL:21 \t nexcB:0 \n",
      "\t42 \n",
      "199 proximal inhibitory synapses of type GABAa[0]\n",
      "21 distal excitatory synapses of type ProbAMPANMDA3_RATIO[0]\n",
      "synapses loaded \n",
      "\t17 \n",
      "\t1 \n"
     ]
    },
    {
     "name": "stderr",
     "output_type": "stream",
     "text": [
      "05-07 13:39:27 balanced input [synapses_weights.py:  79] INFO     \t \t spikes 0.0\n",
      "05-07 13:39:27 balanced input [synapses_weights.py:  83] INFO     \t break from too many 0's\n",
      "05-07 13:39:27 balanced input [synapses_weights.py:  97] INFO     \t 0.0 +- 0.0 (n=1)\n",
      "\n",
      "05-07 13:39:27 balanced input [synapses_weights.py:  59] INFO     \t exc_syn: 46 (1)\t inh_syn: 199 (1)\n",
      "\n"
     ]
    },
    {
     "name": "stdout",
     "output_type": "stream",
     "text": [
      "\t1 \n",
      "InhDendDistalRatio:0 \t ExcDendDistalRatio:1\n",
      "\t44 \n",
      "ninhL:0 \t ninhB:199 \t nexcL:46 \t nexcB:0 \n",
      "\t42 \n",
      "199 proximal inhibitory synapses of type GABAa[0]\n",
      "46 distal excitatory synapses of type ProbAMPANMDA3_RATIO[0]\n",
      "synapses loaded \n",
      "\t17 \n",
      "\t1 \n"
     ]
    },
    {
     "name": "stderr",
     "output_type": "stream",
     "text": [
      "05-07 13:39:39 balanced input [synapses_weights.py:  79] INFO     \t \t spikes 0.0\n",
      "05-07 13:39:39 balanced input [synapses_weights.py:  83] INFO     \t break from too many 0's\n",
      "05-07 13:39:39 balanced input [synapses_weights.py:  97] INFO     \t 0.0 +- 0.0 (n=1)\n",
      "\n",
      "05-07 13:39:39 balanced input [synapses_weights.py:  59] INFO     \t exc_syn: 100 (1)\t inh_syn: 199 (1)\n",
      "\n"
     ]
    },
    {
     "name": "stdout",
     "output_type": "stream",
     "text": [
      "\t1 \n",
      "InhDendDistalRatio:0 \t ExcDendDistalRatio:1\n",
      "\t44 \n",
      "ninhL:0 \t ninhB:199 \t nexcL:100 \t nexcB:0 \n",
      "\t43 \n",
      "199 proximal inhibitory synapses of type GABAa[0]\n",
      "100 distal excitatory synapses of type ProbAMPANMDA3_RATIO[0]\n",
      "synapses loaded \n",
      "\t17 \n",
      "\t1 \n"
     ]
    },
    {
     "name": "stderr",
     "output_type": "stream",
     "text": [
      "05-07 13:39:52 balanced input [synapses_weights.py:  79] INFO     \t \t spikes 0.0\n",
      "05-07 13:39:52 balanced input [synapses_weights.py:  83] INFO     \t break from too many 0's\n",
      "05-07 13:39:52 balanced input [synapses_weights.py:  97] INFO     \t 0.0 +- 0.0 (n=1)\n",
      "\n",
      "05-07 13:39:52 balanced input [synapses_weights.py:  59] INFO     \t exc_syn: 125 (1)\t inh_syn: 199 (1)\n",
      "\n"
     ]
    },
    {
     "name": "stdout",
     "output_type": "stream",
     "text": [
      "\t1 \n",
      "InhDendDistalRatio:0 \t ExcDendDistalRatio:1\n",
      "\t44 \n",
      "ninhL:0 \t ninhB:199 \t nexcL:125 \t nexcB:0 \n",
      "\t43 \n",
      "199 proximal inhibitory synapses of type GABAa[0]\n",
      "125 distal excitatory synapses of type ProbAMPANMDA3_RATIO[0]\n",
      "synapses loaded \n",
      "\t17 \n",
      "\t1 \n"
     ]
    },
    {
     "name": "stderr",
     "output_type": "stream",
     "text": [
      "05-07 13:40:05 balanced input [synapses_weights.py:  79] INFO     \t \t spikes 1.0\n",
      "05-07 13:40:05 balanced input [synapses_weights.py:  97] INFO     \t 1.0 +- 0.0 (n=1)\n",
      "\n",
      "05-07 13:40:05 balanced input [synapses_weights.py:  59] INFO     \t exc_syn: 158 (1)\t inh_syn: 199 (1)\n",
      "\n"
     ]
    },
    {
     "name": "stdout",
     "output_type": "stream",
     "text": [
      "\t1 \n",
      "InhDendDistalRatio:0 \t ExcDendDistalRatio:1\n",
      "\t44 \n",
      "ninhL:0 \t ninhB:199 \t nexcL:158 \t nexcB:0 \n",
      "\t43 \n",
      "199 proximal inhibitory synapses of type GABAa[0]\n",
      "158 distal excitatory synapses of type ProbAMPANMDA3_RATIO[0]\n",
      "synapses loaded \n",
      "\t17 \n",
      "\t1 \n"
     ]
    },
    {
     "name": "stderr",
     "output_type": "stream",
     "text": [
      "05-07 13:40:19 balanced input [synapses_weights.py:  79] INFO     \t \t spikes 1.0\n",
      "05-07 13:40:19 balanced input [synapses_weights.py:  97] INFO     \t 1.0 +- 0.0 (n=1)\n",
      "\n",
      "05-07 13:40:19 balanced input [synapses_weights.py:  59] INFO     \t exc_syn: 199 (1)\t inh_syn: 199 (1)\n",
      "\n"
     ]
    },
    {
     "name": "stdout",
     "output_type": "stream",
     "text": [
      "\t1 \n",
      "InhDendDistalRatio:0 \t ExcDendDistalRatio:1\n",
      "\t44 \n",
      "ninhL:0 \t ninhB:199 \t nexcL:199 \t nexcB:0 \n",
      "\t43 \n",
      "199 proximal inhibitory synapses of type GABAa[0]\n",
      "199 distal excitatory synapses of type ProbAMPANMDA3_RATIO[0]\n",
      "synapses loaded \n",
      "\t17 \n",
      "\t1 \n"
     ]
    },
    {
     "name": "stderr",
     "output_type": "stream",
     "text": [
      "05-07 13:40:34 balanced input [synapses_weights.py:  79] INFO     \t \t spikes 1.0\n",
      "05-07 13:40:34 balanced input [synapses_weights.py:  97] INFO     \t 1.0 +- 0.0 (n=1)\n",
      "\n",
      "05-07 13:40:34 balanced input [synapses_weights.py:  59] INFO     \t exc_syn: 251 (1)\t inh_syn: 199 (1)\n",
      "\n"
     ]
    },
    {
     "name": "stdout",
     "output_type": "stream",
     "text": [
      "\t1 \n",
      "InhDendDistalRatio:0 \t ExcDendDistalRatio:1\n",
      "\t44 \n",
      "ninhL:0 \t ninhB:199 \t nexcL:251 \t nexcB:0 \n",
      "\t43 \n",
      "199 proximal inhibitory synapses of type GABAa[0]\n",
      "251 distal excitatory synapses of type ProbAMPANMDA3_RATIO[0]\n",
      "synapses loaded \n",
      "\t17 \n",
      "\t1 \n"
     ]
    },
    {
     "name": "stderr",
     "output_type": "stream",
     "text": [
      "05-07 13:40:52 balanced input [synapses_weights.py:  79] INFO     \t \t spikes 1.0\n",
      "05-07 13:40:52 balanced input [synapses_weights.py:  97] INFO     \t 1.0 +- 0.0 (n=1)\n",
      "\n",
      "05-07 13:40:52 balanced input [synapses_weights.py:  59] INFO     \t exc_syn: 316 (1)\t inh_syn: 199 (1)\n",
      "\n"
     ]
    },
    {
     "name": "stdout",
     "output_type": "stream",
     "text": [
      "\t1 \n",
      "InhDendDistalRatio:0 \t ExcDendDistalRatio:1\n",
      "\t44 \n",
      "ninhL:0 \t ninhB:199 \t nexcL:316 \t nexcB:0 \n",
      "\t43 \n",
      "199 proximal inhibitory synapses of type GABAa[0]\n",
      "316 distal excitatory synapses of type ProbAMPANMDA3_RATIO[0]\n",
      "synapses loaded \n",
      "\t17 \n",
      "\t1 \n"
     ]
    },
    {
     "name": "stderr",
     "output_type": "stream",
     "text": [
      "05-07 13:41:12 balanced input [synapses_weights.py:  79] INFO     \t \t spikes 1.0\n",
      "05-07 13:41:12 balanced input [synapses_weights.py:  97] INFO     \t 1.0 +- 0.0 (n=1)\n",
      "\n",
      "05-07 13:41:12 balanced input [synapses_weights.py:  59] INFO     \t exc_syn: 398 (1)\t inh_syn: 199 (1)\n",
      "\n"
     ]
    },
    {
     "name": "stdout",
     "output_type": "stream",
     "text": [
      "\t1 \n",
      "InhDendDistalRatio:0 \t ExcDendDistalRatio:1\n",
      "\t44 \n",
      "ninhL:0 \t ninhB:199 \t nexcL:398 \t nexcB:0 \n",
      "\t43 \n",
      "199 proximal inhibitory synapses of type GABAa[0]\n",
      "398 distal excitatory synapses of type ProbAMPANMDA3_RATIO[0]\n",
      "synapses loaded \n",
      "\t17 \n",
      "\t1 \n"
     ]
    },
    {
     "name": "stderr",
     "output_type": "stream",
     "text": [
      "05-07 13:41:35 balanced input [synapses_weights.py:  79] INFO     \t \t spikes 2.0\n",
      "05-07 13:41:35 balanced input [synapses_weights.py:  97] INFO     \t 2.0 +- 0.0 (n=1)\n",
      "\n",
      "05-07 13:41:35 balanced input [synapses_weights.py:  59] INFO     \t exc_syn: 501 (1)\t inh_syn: 199 (1)\n",
      "\n"
     ]
    },
    {
     "name": "stdout",
     "output_type": "stream",
     "text": [
      "\t1 \n",
      "InhDendDistalRatio:0 \t ExcDendDistalRatio:1\n",
      "\t44 \n",
      "ninhL:0 \t ninhB:199 \t nexcL:501 \t nexcB:0 \n",
      "\t43 \n",
      "199 proximal inhibitory synapses of type GABAa[0]\n",
      "501 distal excitatory synapses of type ProbAMPANMDA3_RATIO[0]\n",
      "synapses loaded \n",
      "\t17 \n",
      "\t1 \n"
     ]
    },
    {
     "name": "stderr",
     "output_type": "stream",
     "text": [
      "05-07 13:42:09 balanced input [synapses_weights.py:  79] INFO     \t \t spikes 5.0\n",
      "05-07 13:42:09 balanced input [synapses_weights.py:  97] INFO     \t 5.0 +- 0.0 (n=1)\n",
      "\n",
      "05-07 13:42:09 balanced input [synapses_weights.py:  59] INFO     \t exc_syn: 630 (1)\t inh_syn: 199 (1)\n",
      "\n"
     ]
    },
    {
     "name": "stdout",
     "output_type": "stream",
     "text": [
      "\t1 \n",
      "InhDendDistalRatio:0 \t ExcDendDistalRatio:1\n",
      "\t44 \n",
      "ninhL:0 \t ninhB:199 \t nexcL:630 \t nexcB:0 \n",
      "\t43 \n",
      "199 proximal inhibitory synapses of type GABAa[0]\n",
      "630 distal excitatory synapses of type ProbAMPANMDA3_RATIO[0]\n",
      "synapses loaded \n",
      "\t17 \n",
      "\t1 \n"
     ]
    },
    {
     "name": "stderr",
     "output_type": "stream",
     "text": [
      "05-07 13:42:53 balanced input [synapses_weights.py:  79] INFO     \t \t spikes 11.0\n",
      "05-07 13:42:53 balanced input [synapses_weights.py:  97] INFO     \t 11.0 +- 0.0 (n=1)\n",
      "\n",
      "05-07 13:42:53 balanced input [synapses_weights.py:  59] INFO     \t exc_syn: 794 (1)\t inh_syn: 199 (1)\n",
      "\n"
     ]
    },
    {
     "name": "stdout",
     "output_type": "stream",
     "text": [
      "\t1 \n",
      "InhDendDistalRatio:0 \t ExcDendDistalRatio:1\n",
      "\t44 \n",
      "ninhL:0 \t ninhB:199 \t nexcL:794 \t nexcB:0 \n",
      "\t43 \n",
      "199 proximal inhibitory synapses of type GABAa[0]\n",
      "794 distal excitatory synapses of type ProbAMPANMDA3_RATIO[0]\n",
      "synapses loaded \n",
      "\t17 \n",
      "\t1 \n"
     ]
    },
    {
     "name": "stderr",
     "output_type": "stream",
     "text": [
      "05-07 13:44:01 balanced input [synapses_weights.py:  79] INFO     \t \t spikes 21.0\n",
      "05-07 13:44:01 balanced input [synapses_weights.py:  90] INFO     \t break from above 15\n",
      "05-07 13:44:01 balanced input [synapses_weights.py:  97] INFO     \t 21.0 +- 0.0 (n=1)\n",
      "\n",
      "05-07 13:44:01 balanced input [synapses_weights.py:  59] INFO     \t exc_syn: 1000 (1)\t inh_syn: 199 (1)\n",
      "\n",
      "05-07 13:44:01 balanced input [synapses_weights.py:  64] INFO     \t 16 +- 0 (n=0)\n",
      "\n",
      "05-07 13:44:01 balanced input [synapses_weights.py:  59] INFO     \t exc_syn: 0 (1)\t inh_syn: 251 (1)\n",
      "\n"
     ]
    },
    {
     "name": "stdout",
     "output_type": "stream",
     "text": [
      "1 excitatory synapse\n",
      "\t1 \n",
      "InhDendDistalRatio:0 \t ExcDendDistalRatio:1\n",
      "\t44 \n",
      "ninhL:0 \t ninhB:251 \t nexcL:1 \t nexcB:0 \n",
      "\t41 \n",
      "251 proximal inhibitory synapses of type GABAa[0]\n",
      "1 distal excitatory synapses of type ProbAMPANMDA3_RATIO[0]\n",
      "synapses loaded \n",
      "\t17 \n",
      "\t1 \n"
     ]
    },
    {
     "name": "stderr",
     "output_type": "stream",
     "text": [
      "05-07 13:44:11 balanced input [synapses_weights.py:  79] INFO     \t \t spikes 0.0\n",
      "05-07 13:44:11 balanced input [synapses_weights.py:  83] INFO     \t break from too many 0's\n",
      "05-07 13:44:11 balanced input [synapses_weights.py:  97] INFO     \t 0.0 +- 0.0 (n=1)\n",
      "\n",
      "05-07 13:44:11 balanced input [synapses_weights.py:  59] INFO     \t exc_syn: 10 (1)\t inh_syn: 251 (1)\n",
      "\n"
     ]
    },
    {
     "name": "stdout",
     "output_type": "stream",
     "text": [
      "\t1 \n",
      "InhDendDistalRatio:0 \t ExcDendDistalRatio:1\n",
      "\t44 \n",
      "ninhL:0 \t ninhB:251 \t nexcL:10 \t nexcB:0 \n",
      "\t42 \n",
      "251 proximal inhibitory synapses of type GABAa[0]\n",
      "10 distal excitatory synapses of type ProbAMPANMDA3_RATIO[0]\n",
      "synapses loaded \n",
      "\t17 \n",
      "\t1 \n"
     ]
    },
    {
     "name": "stderr",
     "output_type": "stream",
     "text": [
      "05-07 13:44:22 balanced input [synapses_weights.py:  79] INFO     \t \t spikes 0.0\n",
      "05-07 13:44:22 balanced input [synapses_weights.py:  83] INFO     \t break from too many 0's\n",
      "05-07 13:44:22 balanced input [synapses_weights.py:  97] INFO     \t 0.0 +- 0.0 (n=1)\n",
      "\n",
      "05-07 13:44:22 balanced input [synapses_weights.py:  59] INFO     \t exc_syn: 21 (1)\t inh_syn: 251 (1)\n",
      "\n"
     ]
    },
    {
     "name": "stdout",
     "output_type": "stream",
     "text": [
      "\t1 \n",
      "InhDendDistalRatio:0 \t ExcDendDistalRatio:1\n",
      "\t44 \n",
      "ninhL:0 \t ninhB:251 \t nexcL:21 \t nexcB:0 \n",
      "\t42 \n",
      "251 proximal inhibitory synapses of type GABAa[0]\n",
      "21 distal excitatory synapses of type ProbAMPANMDA3_RATIO[0]\n",
      "synapses loaded \n",
      "\t17 \n",
      "\t1 \n"
     ]
    },
    {
     "name": "stderr",
     "output_type": "stream",
     "text": [
      "05-07 13:44:34 balanced input [synapses_weights.py:  79] INFO     \t \t spikes 0.0\n",
      "05-07 13:44:34 balanced input [synapses_weights.py:  83] INFO     \t break from too many 0's\n",
      "05-07 13:44:34 balanced input [synapses_weights.py:  97] INFO     \t 0.0 +- 0.0 (n=1)\n",
      "\n",
      "05-07 13:44:34 balanced input [synapses_weights.py:  59] INFO     \t exc_syn: 46 (1)\t inh_syn: 251 (1)\n",
      "\n"
     ]
    },
    {
     "name": "stdout",
     "output_type": "stream",
     "text": [
      "\t1 \n",
      "InhDendDistalRatio:0 \t ExcDendDistalRatio:1\n",
      "\t44 \n",
      "ninhL:0 \t ninhB:251 \t nexcL:46 \t nexcB:0 \n",
      "\t42 \n",
      "251 proximal inhibitory synapses of type GABAa[0]\n",
      "46 distal excitatory synapses of type ProbAMPANMDA3_RATIO[0]\n",
      "synapses loaded \n",
      "\t17 \n",
      "\t1 \n"
     ]
    },
    {
     "name": "stderr",
     "output_type": "stream",
     "text": [
      "05-07 13:44:47 balanced input [synapses_weights.py:  79] INFO     \t \t spikes 0.0\n",
      "05-07 13:44:47 balanced input [synapses_weights.py:  83] INFO     \t break from too many 0's\n",
      "05-07 13:44:47 balanced input [synapses_weights.py:  97] INFO     \t 0.0 +- 0.0 (n=1)\n",
      "\n",
      "05-07 13:44:47 balanced input [synapses_weights.py:  59] INFO     \t exc_syn: 100 (1)\t inh_syn: 251 (1)\n",
      "\n"
     ]
    },
    {
     "name": "stdout",
     "output_type": "stream",
     "text": [
      "\t1 \n",
      "InhDendDistalRatio:0 \t ExcDendDistalRatio:1\n",
      "\t44 \n",
      "ninhL:0 \t ninhB:251 \t nexcL:100 \t nexcB:0 \n",
      "\t43 \n",
      "251 proximal inhibitory synapses of type GABAa[0]\n",
      "100 distal excitatory synapses of type ProbAMPANMDA3_RATIO[0]\n",
      "synapses loaded \n",
      "\t17 \n",
      "\t1 \n"
     ]
    },
    {
     "name": "stderr",
     "output_type": "stream",
     "text": [
      "05-07 13:45:02 balanced input [synapses_weights.py:  79] INFO     \t \t spikes 0.0\n",
      "05-07 13:45:02 balanced input [synapses_weights.py:  83] INFO     \t break from too many 0's\n",
      "05-07 13:45:02 balanced input [synapses_weights.py:  97] INFO     \t 0.0 +- 0.0 (n=1)\n",
      "\n",
      "05-07 13:45:02 balanced input [synapses_weights.py:  59] INFO     \t exc_syn: 125 (1)\t inh_syn: 251 (1)\n",
      "\n"
     ]
    },
    {
     "name": "stdout",
     "output_type": "stream",
     "text": [
      "\t1 \n",
      "InhDendDistalRatio:0 \t ExcDendDistalRatio:1\n",
      "\t44 \n",
      "ninhL:0 \t ninhB:251 \t nexcL:125 \t nexcB:0 \n",
      "\t43 \n",
      "251 proximal inhibitory synapses of type GABAa[0]\n",
      "125 distal excitatory synapses of type ProbAMPANMDA3_RATIO[0]\n",
      "synapses loaded \n",
      "\t17 \n",
      "\t1 \n"
     ]
    },
    {
     "name": "stderr",
     "output_type": "stream",
     "text": [
      "05-07 13:45:18 balanced input [synapses_weights.py:  79] INFO     \t \t spikes 0.0\n",
      "05-07 13:45:18 balanced input [synapses_weights.py:  83] INFO     \t break from too many 0's\n",
      "05-07 13:45:18 balanced input [synapses_weights.py:  97] INFO     \t 0.0 +- 0.0 (n=1)\n",
      "\n",
      "05-07 13:45:18 balanced input [synapses_weights.py:  59] INFO     \t exc_syn: 158 (1)\t inh_syn: 251 (1)\n",
      "\n"
     ]
    },
    {
     "name": "stdout",
     "output_type": "stream",
     "text": [
      "\t1 \n",
      "InhDendDistalRatio:0 \t ExcDendDistalRatio:1\n",
      "\t44 \n",
      "ninhL:0 \t ninhB:251 \t nexcL:158 \t nexcB:0 \n",
      "\t43 \n",
      "251 proximal inhibitory synapses of type GABAa[0]\n",
      "158 distal excitatory synapses of type ProbAMPANMDA3_RATIO[0]\n",
      "synapses loaded \n",
      "\t17 \n",
      "\t1 \n"
     ]
    },
    {
     "name": "stderr",
     "output_type": "stream",
     "text": [
      "05-07 13:45:34 balanced input [synapses_weights.py:  79] INFO     \t \t spikes 1.0\n",
      "05-07 13:45:34 balanced input [synapses_weights.py:  97] INFO     \t 1.0 +- 0.0 (n=1)\n",
      "\n",
      "05-07 13:45:34 balanced input [synapses_weights.py:  59] INFO     \t exc_syn: 199 (1)\t inh_syn: 251 (1)\n",
      "\n"
     ]
    },
    {
     "name": "stdout",
     "output_type": "stream",
     "text": [
      "\t1 \n",
      "InhDendDistalRatio:0 \t ExcDendDistalRatio:1\n",
      "\t44 \n",
      "ninhL:0 \t ninhB:251 \t nexcL:199 \t nexcB:0 \n",
      "\t43 \n",
      "251 proximal inhibitory synapses of type GABAa[0]\n",
      "199 distal excitatory synapses of type ProbAMPANMDA3_RATIO[0]\n",
      "synapses loaded \n",
      "\t17 \n",
      "\t1 \n"
     ]
    },
    {
     "name": "stderr",
     "output_type": "stream",
     "text": [
      "05-07 13:45:53 balanced input [synapses_weights.py:  79] INFO     \t \t spikes 1.0\n",
      "05-07 13:45:53 balanced input [synapses_weights.py:  97] INFO     \t 1.0 +- 0.0 (n=1)\n",
      "\n",
      "05-07 13:45:53 balanced input [synapses_weights.py:  59] INFO     \t exc_syn: 251 (1)\t inh_syn: 251 (1)\n",
      "\n"
     ]
    },
    {
     "name": "stdout",
     "output_type": "stream",
     "text": [
      "\t1 \n",
      "InhDendDistalRatio:0 \t ExcDendDistalRatio:1\n",
      "\t44 \n",
      "ninhL:0 \t ninhB:251 \t nexcL:251 \t nexcB:0 \n",
      "\t43 \n",
      "251 proximal inhibitory synapses of type GABAa[0]\n",
      "251 distal excitatory synapses of type ProbAMPANMDA3_RATIO[0]\n",
      "synapses loaded \n",
      "\t17 \n",
      "\t1 \n"
     ]
    },
    {
     "name": "stderr",
     "output_type": "stream",
     "text": [
      "05-07 13:46:14 balanced input [synapses_weights.py:  79] INFO     \t \t spikes 1.0\n",
      "05-07 13:46:14 balanced input [synapses_weights.py:  97] INFO     \t 1.0 +- 0.0 (n=1)\n",
      "\n",
      "05-07 13:46:14 balanced input [synapses_weights.py:  59] INFO     \t exc_syn: 316 (1)\t inh_syn: 251 (1)\n",
      "\n"
     ]
    },
    {
     "name": "stdout",
     "output_type": "stream",
     "text": [
      "\t1 \n",
      "InhDendDistalRatio:0 \t ExcDendDistalRatio:1\n",
      "\t44 \n",
      "ninhL:0 \t ninhB:251 \t nexcL:316 \t nexcB:0 \n",
      "\t43 \n",
      "251 proximal inhibitory synapses of type GABAa[0]\n",
      "316 distal excitatory synapses of type ProbAMPANMDA3_RATIO[0]\n",
      "synapses loaded \n",
      "\t17 \n",
      "\t1 \n"
     ]
    },
    {
     "name": "stderr",
     "output_type": "stream",
     "text": [
      "05-07 13:46:38 balanced input [synapses_weights.py:  79] INFO     \t \t spikes 1.0\n",
      "05-07 13:46:38 balanced input [synapses_weights.py:  97] INFO     \t 1.0 +- 0.0 (n=1)\n",
      "\n",
      "05-07 13:46:38 balanced input [synapses_weights.py:  59] INFO     \t exc_syn: 398 (1)\t inh_syn: 251 (1)\n",
      "\n"
     ]
    },
    {
     "name": "stdout",
     "output_type": "stream",
     "text": [
      "\t1 \n",
      "InhDendDistalRatio:0 \t ExcDendDistalRatio:1\n",
      "\t44 \n",
      "ninhL:0 \t ninhB:251 \t nexcL:398 \t nexcB:0 \n",
      "\t43 \n",
      "251 proximal inhibitory synapses of type GABAa[0]\n",
      "398 distal excitatory synapses of type ProbAMPANMDA3_RATIO[0]\n",
      "synapses loaded \n",
      "\t17 \n",
      "\t1 \n"
     ]
    },
    {
     "name": "stderr",
     "output_type": "stream",
     "text": [
      "05-07 13:47:07 balanced input [synapses_weights.py:  79] INFO     \t \t spikes 1.0\n",
      "05-07 13:47:07 balanced input [synapses_weights.py:  97] INFO     \t 1.0 +- 0.0 (n=1)\n",
      "\n",
      "05-07 13:47:07 balanced input [synapses_weights.py:  59] INFO     \t exc_syn: 501 (1)\t inh_syn: 251 (1)\n",
      "\n"
     ]
    },
    {
     "name": "stdout",
     "output_type": "stream",
     "text": [
      "\t1 \n",
      "InhDendDistalRatio:0 \t ExcDendDistalRatio:1\n",
      "\t44 \n",
      "ninhL:0 \t ninhB:251 \t nexcL:501 \t nexcB:0 \n",
      "\t43 \n",
      "251 proximal inhibitory synapses of type GABAa[0]\n",
      "501 distal excitatory synapses of type ProbAMPANMDA3_RATIO[0]\n",
      "synapses loaded \n",
      "\t17 \n",
      "\t1 \n"
     ]
    },
    {
     "name": "stderr",
     "output_type": "stream",
     "text": [
      "05-07 13:47:42 balanced input [synapses_weights.py:  79] INFO     \t \t spikes 2.0\n",
      "05-07 13:47:42 balanced input [synapses_weights.py:  97] INFO     \t 2.0 +- 0.0 (n=1)\n",
      "\n",
      "05-07 13:47:42 balanced input [synapses_weights.py:  59] INFO     \t exc_syn: 630 (1)\t inh_syn: 251 (1)\n",
      "\n"
     ]
    },
    {
     "name": "stdout",
     "output_type": "stream",
     "text": [
      "\t1 \n",
      "InhDendDistalRatio:0 \t ExcDendDistalRatio:1\n",
      "\t44 \n",
      "ninhL:0 \t ninhB:251 \t nexcL:630 \t nexcB:0 \n",
      "\t43 \n",
      "251 proximal inhibitory synapses of type GABAa[0]\n",
      "630 distal excitatory synapses of type ProbAMPANMDA3_RATIO[0]\n",
      "synapses loaded \n",
      "\t17 \n",
      "\t1 \n"
     ]
    },
    {
     "name": "stderr",
     "output_type": "stream",
     "text": [
      "05-07 13:48:27 balanced input [synapses_weights.py:  79] INFO     \t \t spikes 5.0\n",
      "05-07 13:48:27 balanced input [synapses_weights.py:  97] INFO     \t 5.0 +- 0.0 (n=1)\n",
      "\n",
      "05-07 13:48:27 balanced input [synapses_weights.py:  59] INFO     \t exc_syn: 794 (1)\t inh_syn: 251 (1)\n",
      "\n"
     ]
    },
    {
     "name": "stdout",
     "output_type": "stream",
     "text": [
      "\t1 \n",
      "InhDendDistalRatio:0 \t ExcDendDistalRatio:1\n",
      "\t44 \n",
      "ninhL:0 \t ninhB:251 \t nexcL:794 \t nexcB:0 \n",
      "\t43 \n",
      "251 proximal inhibitory synapses of type GABAa[0]\n",
      "794 distal excitatory synapses of type ProbAMPANMDA3_RATIO[0]\n",
      "synapses loaded \n",
      "\t17 \n",
      "\t1 \n"
     ]
    },
    {
     "name": "stderr",
     "output_type": "stream",
     "text": [
      "05-07 13:49:31 balanced input [synapses_weights.py:  79] INFO     \t \t spikes 12.0\n",
      "05-07 13:49:31 balanced input [synapses_weights.py:  97] INFO     \t 12.0 +- 0.0 (n=1)\n",
      "\n",
      "05-07 13:49:31 balanced input [synapses_weights.py:  59] INFO     \t exc_syn: 1000 (1)\t inh_syn: 251 (1)\n",
      "\n"
     ]
    },
    {
     "name": "stdout",
     "output_type": "stream",
     "text": [
      "\t1 \n",
      "InhDendDistalRatio:0 \t ExcDendDistalRatio:1\n",
      "\t44 \n",
      "ninhL:0 \t ninhB:251 \t nexcL:1000 \t nexcB:0 \n",
      "\t44 \n",
      "251 proximal inhibitory synapses of type GABAa[0]\n",
      "1000 distal excitatory synapses of type ProbAMPANMDA3_RATIO[0]\n",
      "synapses loaded \n",
      "\t17 \n",
      "\t1 \n"
     ]
    },
    {
     "name": "stderr",
     "output_type": "stream",
     "text": [
      "05-07 13:51:19 balanced input [synapses_weights.py:  79] INFO     \t \t spikes 23.0\n",
      "05-07 13:51:19 balanced input [synapses_weights.py:  90] INFO     \t break from above 15\n",
      "05-07 13:51:19 balanced input [synapses_weights.py:  97] INFO     \t 23.0 +- 0.0 (n=1)\n",
      "\n",
      "05-07 13:51:19 balanced input [synapses_weights.py:  59] INFO     \t exc_syn: 0 (1)\t inh_syn: 316 (1)\n",
      "\n"
     ]
    },
    {
     "name": "stdout",
     "output_type": "stream",
     "text": [
      "1 excitatory synapse\n",
      "\t1 \n",
      "InhDendDistalRatio:0 \t ExcDendDistalRatio:1\n",
      "\t44 \n",
      "ninhL:0 \t ninhB:316 \t nexcL:1 \t nexcB:0 \n",
      "\t41 \n",
      "316 proximal inhibitory synapses of type GABAa[0]\n",
      "1 distal excitatory synapses of type ProbAMPANMDA3_RATIO[0]\n",
      "synapses loaded \n",
      "\t17 \n",
      "\t1 \n"
     ]
    },
    {
     "name": "stderr",
     "output_type": "stream",
     "text": [
      "05-07 13:51:33 balanced input [synapses_weights.py:  79] INFO     \t \t spikes 0.0\n",
      "05-07 13:51:33 balanced input [synapses_weights.py:  83] INFO     \t break from too many 0's\n",
      "05-07 13:51:33 balanced input [synapses_weights.py:  97] INFO     \t 0.0 +- 0.0 (n=1)\n",
      "\n",
      "05-07 13:51:33 balanced input [synapses_weights.py:  59] INFO     \t exc_syn: 10 (1)\t inh_syn: 316 (1)\n",
      "\n"
     ]
    },
    {
     "name": "stdout",
     "output_type": "stream",
     "text": [
      "\t1 \n",
      "InhDendDistalRatio:0 \t ExcDendDistalRatio:1\n",
      "\t44 \n",
      "ninhL:0 \t ninhB:316 \t nexcL:10 \t nexcB:0 \n",
      "\t42 \n",
      "316 proximal inhibitory synapses of type GABAa[0]\n",
      "10 distal excitatory synapses of type ProbAMPANMDA3_RATIO[0]\n",
      "synapses loaded \n",
      "\t17 \n",
      "\t1 \n"
     ]
    },
    {
     "name": "stderr",
     "output_type": "stream",
     "text": [
      "05-07 13:51:52 balanced input [synapses_weights.py:  79] INFO     \t \t spikes 0.0\n",
      "05-07 13:51:52 balanced input [synapses_weights.py:  83] INFO     \t break from too many 0's\n",
      "05-07 13:51:52 balanced input [synapses_weights.py:  97] INFO     \t 0.0 +- 0.0 (n=1)\n",
      "\n",
      "05-07 13:51:52 balanced input [synapses_weights.py:  59] INFO     \t exc_syn: 21 (1)\t inh_syn: 316 (1)\n",
      "\n"
     ]
    },
    {
     "name": "stdout",
     "output_type": "stream",
     "text": [
      "\t1 \n",
      "InhDendDistalRatio:0 \t ExcDendDistalRatio:1\n",
      "\t44 \n",
      "ninhL:0 \t ninhB:316 \t nexcL:21 \t nexcB:0 \n",
      "\t42 \n",
      "316 proximal inhibitory synapses of type GABAa[0]\n",
      "21 distal excitatory synapses of type ProbAMPANMDA3_RATIO[0]\n",
      "synapses loaded \n",
      "\t17 \n",
      "\t1 \n"
     ]
    },
    {
     "name": "stderr",
     "output_type": "stream",
     "text": [
      "05-07 13:52:12 balanced input [synapses_weights.py:  79] INFO     \t \t spikes 0.0\n",
      "05-07 13:52:12 balanced input [synapses_weights.py:  83] INFO     \t break from too many 0's\n",
      "05-07 13:52:12 balanced input [synapses_weights.py:  97] INFO     \t 0.0 +- 0.0 (n=1)\n",
      "\n",
      "05-07 13:52:12 balanced input [synapses_weights.py:  59] INFO     \t exc_syn: 46 (1)\t inh_syn: 316 (1)\n",
      "\n"
     ]
    },
    {
     "name": "stdout",
     "output_type": "stream",
     "text": [
      "\t1 \n",
      "InhDendDistalRatio:0 \t ExcDendDistalRatio:1\n",
      "\t44 \n",
      "ninhL:0 \t ninhB:316 \t nexcL:46 \t nexcB:0 \n",
      "\t42 \n",
      "316 proximal inhibitory synapses of type GABAa[0]\n",
      "46 distal excitatory synapses of type ProbAMPANMDA3_RATIO[0]\n",
      "synapses loaded \n",
      "\t17 \n",
      "\t1 \n"
     ]
    },
    {
     "name": "stderr",
     "output_type": "stream",
     "text": [
      "05-07 13:52:30 balanced input [synapses_weights.py:  79] INFO     \t \t spikes 0.0\n",
      "05-07 13:52:30 balanced input [synapses_weights.py:  83] INFO     \t break from too many 0's\n",
      "05-07 13:52:30 balanced input [synapses_weights.py:  97] INFO     \t 0.0 +- 0.0 (n=1)\n",
      "\n",
      "05-07 13:52:30 balanced input [synapses_weights.py:  59] INFO     \t exc_syn: 100 (1)\t inh_syn: 316 (1)\n",
      "\n"
     ]
    },
    {
     "name": "stdout",
     "output_type": "stream",
     "text": [
      "\t1 \n",
      "InhDendDistalRatio:0 \t ExcDendDistalRatio:1\n",
      "\t44 \n",
      "ninhL:0 \t ninhB:316 \t nexcL:100 \t nexcB:0 \n",
      "\t43 \n",
      "316 proximal inhibitory synapses of type GABAa[0]\n",
      "100 distal excitatory synapses of type ProbAMPANMDA3_RATIO[0]\n",
      "synapses loaded \n",
      "\t17 \n",
      "\t1 \n"
     ]
    },
    {
     "name": "stderr",
     "output_type": "stream",
     "text": [
      "05-07 13:52:50 balanced input [synapses_weights.py:  79] INFO     \t \t spikes 0.0\n",
      "05-07 13:52:50 balanced input [synapses_weights.py:  83] INFO     \t break from too many 0's\n",
      "05-07 13:52:50 balanced input [synapses_weights.py:  97] INFO     \t 0.0 +- 0.0 (n=1)\n",
      "\n",
      "05-07 13:52:50 balanced input [synapses_weights.py:  59] INFO     \t exc_syn: 125 (1)\t inh_syn: 316 (1)\n",
      "\n"
     ]
    },
    {
     "name": "stdout",
     "output_type": "stream",
     "text": [
      "\t1 \n",
      "InhDendDistalRatio:0 \t ExcDendDistalRatio:1\n",
      "\t44 \n",
      "ninhL:0 \t ninhB:316 \t nexcL:125 \t nexcB:0 \n",
      "\t43 \n",
      "316 proximal inhibitory synapses of type GABAa[0]\n",
      "125 distal excitatory synapses of type ProbAMPANMDA3_RATIO[0]\n",
      "synapses loaded \n",
      "\t17 \n",
      "\t1 \n"
     ]
    },
    {
     "name": "stderr",
     "output_type": "stream",
     "text": [
      "05-07 13:53:09 balanced input [synapses_weights.py:  79] INFO     \t \t spikes 0.0\n",
      "05-07 13:53:09 balanced input [synapses_weights.py:  83] INFO     \t break from too many 0's\n",
      "05-07 13:53:09 balanced input [synapses_weights.py:  97] INFO     \t 0.0 +- 0.0 (n=1)\n",
      "\n",
      "05-07 13:53:09 balanced input [synapses_weights.py:  59] INFO     \t exc_syn: 158 (1)\t inh_syn: 316 (1)\n",
      "\n"
     ]
    },
    {
     "name": "stdout",
     "output_type": "stream",
     "text": [
      "\t1 \n",
      "InhDendDistalRatio:0 \t ExcDendDistalRatio:1\n",
      "\t44 \n",
      "ninhL:0 \t ninhB:316 \t nexcL:158 \t nexcB:0 \n",
      "\t43 \n",
      "316 proximal inhibitory synapses of type GABAa[0]\n",
      "158 distal excitatory synapses of type ProbAMPANMDA3_RATIO[0]\n",
      "synapses loaded \n",
      "\t17 \n",
      "\t1 \n"
     ]
    },
    {
     "name": "stderr",
     "output_type": "stream",
     "text": [
      "05-07 13:53:30 balanced input [synapses_weights.py:  79] INFO     \t \t spikes 0.0\n",
      "05-07 13:53:30 balanced input [synapses_weights.py:  83] INFO     \t break from too many 0's\n",
      "05-07 13:53:30 balanced input [synapses_weights.py:  97] INFO     \t 0.0 +- 0.0 (n=1)\n",
      "\n",
      "05-07 13:53:30 balanced input [synapses_weights.py:  59] INFO     \t exc_syn: 199 (1)\t inh_syn: 316 (1)\n",
      "\n"
     ]
    },
    {
     "name": "stdout",
     "output_type": "stream",
     "text": [
      "\t1 \n",
      "InhDendDistalRatio:0 \t ExcDendDistalRatio:1\n",
      "\t44 \n",
      "ninhL:0 \t ninhB:316 \t nexcL:199 \t nexcB:0 \n",
      "\t43 \n",
      "316 proximal inhibitory synapses of type GABAa[0]\n",
      "199 distal excitatory synapses of type ProbAMPANMDA3_RATIO[0]\n",
      "synapses loaded \n",
      "\t17 \n",
      "\t1 \n"
     ]
    },
    {
     "name": "stderr",
     "output_type": "stream",
     "text": [
      "05-07 13:53:52 balanced input [synapses_weights.py:  79] INFO     \t \t spikes 1.0\n",
      "05-07 13:53:52 balanced input [synapses_weights.py:  97] INFO     \t 1.0 +- 0.0 (n=1)\n",
      "\n",
      "05-07 13:53:52 balanced input [synapses_weights.py:  59] INFO     \t exc_syn: 251 (1)\t inh_syn: 316 (1)\n",
      "\n"
     ]
    },
    {
     "name": "stdout",
     "output_type": "stream",
     "text": [
      "\t1 \n",
      "InhDendDistalRatio:0 \t ExcDendDistalRatio:1\n",
      "\t44 \n",
      "ninhL:0 \t ninhB:316 \t nexcL:251 \t nexcB:0 \n",
      "\t43 \n",
      "316 proximal inhibitory synapses of type GABAa[0]\n",
      "251 distal excitatory synapses of type ProbAMPANMDA3_RATIO[0]\n",
      "synapses loaded \n",
      "\t17 \n",
      "\t1 \n"
     ]
    },
    {
     "name": "stderr",
     "output_type": "stream",
     "text": [
      "05-07 13:54:19 balanced input [synapses_weights.py:  79] INFO     \t \t spikes 1.0\n",
      "05-07 13:54:19 balanced input [synapses_weights.py:  97] INFO     \t 1.0 +- 0.0 (n=1)\n",
      "\n",
      "05-07 13:54:19 balanced input [synapses_weights.py:  59] INFO     \t exc_syn: 316 (1)\t inh_syn: 316 (1)\n",
      "\n"
     ]
    },
    {
     "name": "stdout",
     "output_type": "stream",
     "text": [
      "\t1 \n",
      "InhDendDistalRatio:0 \t ExcDendDistalRatio:1\n",
      "\t44 \n",
      "ninhL:0 \t ninhB:316 \t nexcL:316 \t nexcB:0 \n",
      "\t43 \n",
      "316 proximal inhibitory synapses of type GABAa[0]\n",
      "316 distal excitatory synapses of type ProbAMPANMDA3_RATIO[0]\n",
      "synapses loaded \n",
      "\t17 \n",
      "\t1 \n"
     ]
    },
    {
     "name": "stderr",
     "output_type": "stream",
     "text": [
      "05-07 13:54:44 balanced input [synapses_weights.py:  79] INFO     \t \t spikes 1.0\n",
      "05-07 13:54:44 balanced input [synapses_weights.py:  97] INFO     \t 1.0 +- 0.0 (n=1)\n",
      "\n",
      "05-07 13:54:44 balanced input [synapses_weights.py:  59] INFO     \t exc_syn: 398 (1)\t inh_syn: 316 (1)\n",
      "\n"
     ]
    },
    {
     "name": "stdout",
     "output_type": "stream",
     "text": [
      "\t1 \n",
      "InhDendDistalRatio:0 \t ExcDendDistalRatio:1\n",
      "\t44 \n",
      "ninhL:0 \t ninhB:316 \t nexcL:398 \t nexcB:0 \n",
      "\t43 \n",
      "316 proximal inhibitory synapses of type GABAa[0]\n",
      "398 distal excitatory synapses of type ProbAMPANMDA3_RATIO[0]\n",
      "synapses loaded \n",
      "\t17 \n",
      "\t1 \n"
     ]
    },
    {
     "name": "stderr",
     "output_type": "stream",
     "text": [
      "05-07 13:55:14 balanced input [synapses_weights.py:  79] INFO     \t \t spikes 1.0\n",
      "05-07 13:55:14 balanced input [synapses_weights.py:  97] INFO     \t 1.0 +- 0.0 (n=1)\n",
      "\n",
      "05-07 13:55:14 balanced input [synapses_weights.py:  59] INFO     \t exc_syn: 501 (1)\t inh_syn: 316 (1)\n",
      "\n"
     ]
    },
    {
     "name": "stdout",
     "output_type": "stream",
     "text": [
      "\t1 \n",
      "InhDendDistalRatio:0 \t ExcDendDistalRatio:1\n",
      "\t44 \n",
      "ninhL:0 \t ninhB:316 \t nexcL:501 \t nexcB:0 \n",
      "\t43 \n",
      "316 proximal inhibitory synapses of type GABAa[0]\n",
      "501 distal excitatory synapses of type ProbAMPANMDA3_RATIO[0]\n",
      "synapses loaded \n",
      "\t17 \n",
      "\t1 \n"
     ]
    },
    {
     "name": "stderr",
     "output_type": "stream",
     "text": [
      "05-07 13:55:57 balanced input [synapses_weights.py:  79] INFO     \t \t spikes 2.0\n",
      "05-07 13:55:57 balanced input [synapses_weights.py:  97] INFO     \t 2.0 +- 0.0 (n=1)\n",
      "\n",
      "05-07 13:55:57 balanced input [synapses_weights.py:  59] INFO     \t exc_syn: 630 (1)\t inh_syn: 316 (1)\n",
      "\n"
     ]
    },
    {
     "name": "stdout",
     "output_type": "stream",
     "text": [
      "\t1 \n",
      "InhDendDistalRatio:0 \t ExcDendDistalRatio:1\n",
      "\t44 \n",
      "ninhL:0 \t ninhB:316 \t nexcL:630 \t nexcB:0 \n",
      "\t43 \n",
      "316 proximal inhibitory synapses of type GABAa[0]\n",
      "630 distal excitatory synapses of type ProbAMPANMDA3_RATIO[0]\n",
      "synapses loaded \n",
      "\t17 \n",
      "\t1 \n"
     ]
    },
    {
     "name": "stderr",
     "output_type": "stream",
     "text": [
      "05-07 13:56:44 balanced input [synapses_weights.py:  79] INFO     \t \t spikes 2.0\n",
      "05-07 13:56:44 balanced input [synapses_weights.py:  97] INFO     \t 2.0 +- 0.0 (n=1)\n",
      "\n",
      "05-07 13:56:44 balanced input [synapses_weights.py:  59] INFO     \t exc_syn: 794 (1)\t inh_syn: 316 (1)\n",
      "\n"
     ]
    },
    {
     "name": "stdout",
     "output_type": "stream",
     "text": [
      "\t1 \n",
      "InhDendDistalRatio:0 \t ExcDendDistalRatio:1\n",
      "\t44 \n",
      "ninhL:0 \t ninhB:316 \t nexcL:794 \t nexcB:0 \n",
      "\t43 \n",
      "316 proximal inhibitory synapses of type GABAa[0]\n",
      "794 distal excitatory synapses of type ProbAMPANMDA3_RATIO[0]\n",
      "synapses loaded \n",
      "\t17 \n",
      "\t1 \n"
     ]
    },
    {
     "name": "stderr",
     "output_type": "stream",
     "text": [
      "05-07 13:57:46 balanced input [synapses_weights.py:  79] INFO     \t \t spikes 6.0\n",
      "05-07 13:57:46 balanced input [synapses_weights.py:  97] INFO     \t 6.0 +- 0.0 (n=1)\n",
      "\n",
      "05-07 13:57:46 balanced input [synapses_weights.py:  59] INFO     \t exc_syn: 1000 (1)\t inh_syn: 316 (1)\n",
      "\n"
     ]
    },
    {
     "name": "stdout",
     "output_type": "stream",
     "text": [
      "\t1 \n",
      "InhDendDistalRatio:0 \t ExcDendDistalRatio:1\n",
      "\t44 \n",
      "ninhL:0 \t ninhB:316 \t nexcL:1000 \t nexcB:0 \n",
      "\t44 \n",
      "316 proximal inhibitory synapses of type GABAa[0]\n",
      "1000 distal excitatory synapses of type ProbAMPANMDA3_RATIO[0]\n",
      "synapses loaded \n",
      "\t17 \n",
      "\t1 \n"
     ]
    },
    {
     "name": "stderr",
     "output_type": "stream",
     "text": [
      "05-07 13:59:01 balanced input [synapses_weights.py:  79] INFO     \t \t spikes 12.0\n",
      "05-07 13:59:01 balanced input [synapses_weights.py:  97] INFO     \t 12.0 +- 0.0 (n=1)\n",
      "\n",
      "05-07 13:59:01 balanced input [synapses_weights.py:  59] INFO     \t exc_syn: 0 (1)\t inh_syn: 398 (1)\n",
      "\n"
     ]
    },
    {
     "name": "stdout",
     "output_type": "stream",
     "text": [
      "1 excitatory synapse\n",
      "\t1 \n",
      "InhDendDistalRatio:0 \t ExcDendDistalRatio:1\n",
      "\t44 \n",
      "ninhL:0 \t ninhB:398 \t nexcL:1 \t nexcB:0 \n",
      "\t41 \n",
      "398 proximal inhibitory synapses of type GABAa[0]\n",
      "1 distal excitatory synapses of type ProbAMPANMDA3_RATIO[0]\n",
      "synapses loaded \n",
      "\t17 \n",
      "\t1 \n"
     ]
    },
    {
     "name": "stderr",
     "output_type": "stream",
     "text": [
      "05-07 13:59:15 balanced input [synapses_weights.py:  79] INFO     \t \t spikes 0.0\n",
      "05-07 13:59:15 balanced input [synapses_weights.py:  83] INFO     \t break from too many 0's\n",
      "05-07 13:59:15 balanced input [synapses_weights.py:  97] INFO     \t 0.0 +- 0.0 (n=1)\n",
      "\n",
      "05-07 13:59:15 balanced input [synapses_weights.py:  59] INFO     \t exc_syn: 10 (1)\t inh_syn: 398 (1)\n",
      "\n"
     ]
    },
    {
     "name": "stdout",
     "output_type": "stream",
     "text": [
      "\t1 \n",
      "InhDendDistalRatio:0 \t ExcDendDistalRatio:1\n",
      "\t44 \n",
      "ninhL:0 \t ninhB:398 \t nexcL:10 \t nexcB:0 \n",
      "\t42 \n",
      "398 proximal inhibitory synapses of type GABAa[0]\n",
      "10 distal excitatory synapses of type ProbAMPANMDA3_RATIO[0]\n",
      "synapses loaded \n",
      "\t17 \n",
      "\t1 \n"
     ]
    },
    {
     "name": "stderr",
     "output_type": "stream",
     "text": [
      "05-07 13:59:30 balanced input [synapses_weights.py:  79] INFO     \t \t spikes 0.0\n",
      "05-07 13:59:30 balanced input [synapses_weights.py:  83] INFO     \t break from too many 0's\n",
      "05-07 13:59:30 balanced input [synapses_weights.py:  97] INFO     \t 0.0 +- 0.0 (n=1)\n",
      "\n",
      "05-07 13:59:30 balanced input [synapses_weights.py:  59] INFO     \t exc_syn: 21 (1)\t inh_syn: 398 (1)\n",
      "\n"
     ]
    },
    {
     "name": "stdout",
     "output_type": "stream",
     "text": [
      "\t1 \n",
      "InhDendDistalRatio:0 \t ExcDendDistalRatio:1\n",
      "\t44 \n",
      "ninhL:0 \t ninhB:398 \t nexcL:21 \t nexcB:0 \n",
      "\t42 \n",
      "398 proximal inhibitory synapses of type GABAa[0]\n",
      "21 distal excitatory synapses of type ProbAMPANMDA3_RATIO[0]\n",
      "synapses loaded \n",
      "\t17 \n",
      "\t1 \n"
     ]
    },
    {
     "name": "stderr",
     "output_type": "stream",
     "text": [
      "05-07 13:59:46 balanced input [synapses_weights.py:  79] INFO     \t \t spikes 0.0\n",
      "05-07 13:59:46 balanced input [synapses_weights.py:  83] INFO     \t break from too many 0's\n",
      "05-07 13:59:46 balanced input [synapses_weights.py:  97] INFO     \t 0.0 +- 0.0 (n=1)\n",
      "\n",
      "05-07 13:59:46 balanced input [synapses_weights.py:  59] INFO     \t exc_syn: 46 (1)\t inh_syn: 398 (1)\n",
      "\n"
     ]
    },
    {
     "name": "stdout",
     "output_type": "stream",
     "text": [
      "\t1 \n",
      "InhDendDistalRatio:0 \t ExcDendDistalRatio:1\n",
      "\t44 \n",
      "ninhL:0 \t ninhB:398 \t nexcL:46 \t nexcB:0 \n",
      "\t42 \n",
      "398 proximal inhibitory synapses of type GABAa[0]\n",
      "46 distal excitatory synapses of type ProbAMPANMDA3_RATIO[0]\n",
      "synapses loaded \n",
      "\t17 \n",
      "\t1 \n"
     ]
    },
    {
     "name": "stderr",
     "output_type": "stream",
     "text": [
      "05-07 14:00:04 balanced input [synapses_weights.py:  79] INFO     \t \t spikes 0.0\n",
      "05-07 14:00:04 balanced input [synapses_weights.py:  83] INFO     \t break from too many 0's\n",
      "05-07 14:00:04 balanced input [synapses_weights.py:  97] INFO     \t 0.0 +- 0.0 (n=1)\n",
      "\n",
      "05-07 14:00:04 balanced input [synapses_weights.py:  59] INFO     \t exc_syn: 100 (1)\t inh_syn: 398 (1)\n",
      "\n"
     ]
    },
    {
     "name": "stdout",
     "output_type": "stream",
     "text": [
      "\t1 \n",
      "InhDendDistalRatio:0 \t ExcDendDistalRatio:1\n",
      "\t44 \n",
      "ninhL:0 \t ninhB:398 \t nexcL:100 \t nexcB:0 \n",
      "\t43 \n",
      "398 proximal inhibitory synapses of type GABAa[0]\n",
      "100 distal excitatory synapses of type ProbAMPANMDA3_RATIO[0]\n",
      "synapses loaded \n",
      "\t17 \n",
      "\t1 \n"
     ]
    },
    {
     "name": "stderr",
     "output_type": "stream",
     "text": [
      "05-07 14:00:25 balanced input [synapses_weights.py:  79] INFO     \t \t spikes 0.0\n",
      "05-07 14:00:25 balanced input [synapses_weights.py:  83] INFO     \t break from too many 0's\n",
      "05-07 14:00:25 balanced input [synapses_weights.py:  97] INFO     \t 0.0 +- 0.0 (n=1)\n",
      "\n",
      "05-07 14:00:25 balanced input [synapses_weights.py:  59] INFO     \t exc_syn: 125 (1)\t inh_syn: 398 (1)\n",
      "\n"
     ]
    },
    {
     "name": "stdout",
     "output_type": "stream",
     "text": [
      "\t1 \n",
      "InhDendDistalRatio:0 \t ExcDendDistalRatio:1\n",
      "\t44 \n",
      "ninhL:0 \t ninhB:398 \t nexcL:125 \t nexcB:0 \n",
      "\t43 \n",
      "398 proximal inhibitory synapses of type GABAa[0]\n",
      "125 distal excitatory synapses of type ProbAMPANMDA3_RATIO[0]\n",
      "synapses loaded \n",
      "\t17 \n",
      "\t1 \n"
     ]
    },
    {
     "name": "stderr",
     "output_type": "stream",
     "text": [
      "05-07 14:00:48 balanced input [synapses_weights.py:  79] INFO     \t \t spikes 0.0\n",
      "05-07 14:00:48 balanced input [synapses_weights.py:  83] INFO     \t break from too many 0's\n",
      "05-07 14:00:48 balanced input [synapses_weights.py:  97] INFO     \t 0.0 +- 0.0 (n=1)\n",
      "\n",
      "05-07 14:00:48 balanced input [synapses_weights.py:  59] INFO     \t exc_syn: 158 (1)\t inh_syn: 398 (1)\n",
      "\n"
     ]
    },
    {
     "name": "stdout",
     "output_type": "stream",
     "text": [
      "\t1 \n",
      "InhDendDistalRatio:0 \t ExcDendDistalRatio:1\n",
      "\t44 \n",
      "ninhL:0 \t ninhB:398 \t nexcL:158 \t nexcB:0 \n",
      "\t43 \n",
      "398 proximal inhibitory synapses of type GABAa[0]\n",
      "158 distal excitatory synapses of type ProbAMPANMDA3_RATIO[0]\n",
      "synapses loaded \n",
      "\t17 \n",
      "\t1 \n"
     ]
    },
    {
     "name": "stderr",
     "output_type": "stream",
     "text": [
      "05-07 14:01:13 balanced input [synapses_weights.py:  79] INFO     \t \t spikes 0.0\n",
      "05-07 14:01:13 balanced input [synapses_weights.py:  83] INFO     \t break from too many 0's\n",
      "05-07 14:01:13 balanced input [synapses_weights.py:  97] INFO     \t 0.0 +- 0.0 (n=1)\n",
      "\n",
      "05-07 14:01:13 balanced input [synapses_weights.py:  59] INFO     \t exc_syn: 199 (1)\t inh_syn: 398 (1)\n",
      "\n"
     ]
    },
    {
     "name": "stdout",
     "output_type": "stream",
     "text": [
      "\t1 \n",
      "InhDendDistalRatio:0 \t ExcDendDistalRatio:1\n",
      "\t44 \n",
      "ninhL:0 \t ninhB:398 \t nexcL:199 \t nexcB:0 \n",
      "\t43 \n",
      "398 proximal inhibitory synapses of type GABAa[0]\n",
      "199 distal excitatory synapses of type ProbAMPANMDA3_RATIO[0]\n",
      "synapses loaded \n",
      "\t17 \n",
      "\t1 \n"
     ]
    },
    {
     "name": "stderr",
     "output_type": "stream",
     "text": [
      "05-07 14:01:39 balanced input [synapses_weights.py:  79] INFO     \t \t spikes 0.0\n",
      "05-07 14:01:39 balanced input [synapses_weights.py:  83] INFO     \t break from too many 0's\n",
      "05-07 14:01:39 balanced input [synapses_weights.py:  97] INFO     \t 0.0 +- 0.0 (n=1)\n",
      "\n",
      "05-07 14:01:39 balanced input [synapses_weights.py:  59] INFO     \t exc_syn: 251 (1)\t inh_syn: 398 (1)\n",
      "\n"
     ]
    },
    {
     "name": "stdout",
     "output_type": "stream",
     "text": [
      "\t1 \n",
      "InhDendDistalRatio:0 \t ExcDendDistalRatio:1\n",
      "\t44 \n",
      "ninhL:0 \t ninhB:398 \t nexcL:251 \t nexcB:0 \n",
      "\t43 \n",
      "398 proximal inhibitory synapses of type GABAa[0]\n",
      "251 distal excitatory synapses of type ProbAMPANMDA3_RATIO[0]\n",
      "synapses loaded \n",
      "\t17 \n",
      "\t1 \n"
     ]
    },
    {
     "name": "stderr",
     "output_type": "stream",
     "text": [
      "05-07 14:02:08 balanced input [synapses_weights.py:  79] INFO     \t \t spikes 1.0\n",
      "05-07 14:02:08 balanced input [synapses_weights.py:  97] INFO     \t 1.0 +- 0.0 (n=1)\n",
      "\n",
      "05-07 14:02:08 balanced input [synapses_weights.py:  59] INFO     \t exc_syn: 316 (1)\t inh_syn: 398 (1)\n",
      "\n"
     ]
    },
    {
     "name": "stdout",
     "output_type": "stream",
     "text": [
      "\t1 \n",
      "InhDendDistalRatio:0 \t ExcDendDistalRatio:1\n",
      "\t44 \n",
      "ninhL:0 \t ninhB:398 \t nexcL:316 \t nexcB:0 \n",
      "\t43 \n",
      "398 proximal inhibitory synapses of type GABAa[0]\n",
      "316 distal excitatory synapses of type ProbAMPANMDA3_RATIO[0]\n",
      "synapses loaded \n",
      "\t17 \n",
      "\t1 \n"
     ]
    },
    {
     "name": "stderr",
     "output_type": "stream",
     "text": [
      "05-07 14:02:41 balanced input [synapses_weights.py:  79] INFO     \t \t spikes 1.0\n",
      "05-07 14:02:41 balanced input [synapses_weights.py:  97] INFO     \t 1.0 +- 0.0 (n=1)\n",
      "\n",
      "05-07 14:02:41 balanced input [synapses_weights.py:  59] INFO     \t exc_syn: 398 (1)\t inh_syn: 398 (1)\n",
      "\n"
     ]
    },
    {
     "name": "stdout",
     "output_type": "stream",
     "text": [
      "\t1 \n",
      "InhDendDistalRatio:0 \t ExcDendDistalRatio:1\n",
      "\t44 \n",
      "ninhL:0 \t ninhB:398 \t nexcL:398 \t nexcB:0 \n",
      "\t43 \n",
      "398 proximal inhibitory synapses of type GABAa[0]\n",
      "398 distal excitatory synapses of type ProbAMPANMDA3_RATIO[0]\n",
      "synapses loaded \n",
      "\t17 \n",
      "\t1 \n"
     ]
    },
    {
     "name": "stderr",
     "output_type": "stream",
     "text": [
      "05-07 14:03:17 balanced input [synapses_weights.py:  79] INFO     \t \t spikes 1.0\n",
      "05-07 14:03:17 balanced input [synapses_weights.py:  97] INFO     \t 1.0 +- 0.0 (n=1)\n",
      "\n",
      "05-07 14:03:17 balanced input [synapses_weights.py:  59] INFO     \t exc_syn: 501 (1)\t inh_syn: 398 (1)\n",
      "\n"
     ]
    },
    {
     "name": "stdout",
     "output_type": "stream",
     "text": [
      "\t1 \n",
      "InhDendDistalRatio:0 \t ExcDendDistalRatio:1\n",
      "\t44 \n",
      "ninhL:0 \t ninhB:398 \t nexcL:501 \t nexcB:0 \n",
      "\t43 \n",
      "398 proximal inhibitory synapses of type GABAa[0]\n",
      "501 distal excitatory synapses of type ProbAMPANMDA3_RATIO[0]\n",
      "synapses loaded \n",
      "\t17 \n",
      "\t1 \n"
     ]
    },
    {
     "name": "stderr",
     "output_type": "stream",
     "text": [
      "05-07 14:03:59 balanced input [synapses_weights.py:  79] INFO     \t \t spikes 1.0\n",
      "05-07 14:03:59 balanced input [synapses_weights.py:  97] INFO     \t 1.0 +- 0.0 (n=1)\n",
      "\n",
      "05-07 14:03:59 balanced input [synapses_weights.py:  59] INFO     \t exc_syn: 630 (1)\t inh_syn: 398 (1)\n",
      "\n"
     ]
    },
    {
     "name": "stdout",
     "output_type": "stream",
     "text": [
      "\t1 \n",
      "InhDendDistalRatio:0 \t ExcDendDistalRatio:1\n",
      "\t44 \n",
      "ninhL:0 \t ninhB:398 \t nexcL:630 \t nexcB:0 \n",
      "\t43 \n",
      "398 proximal inhibitory synapses of type GABAa[0]\n",
      "630 distal excitatory synapses of type ProbAMPANMDA3_RATIO[0]\n",
      "synapses loaded \n",
      "\t17 \n",
      "\t1 \n"
     ]
    },
    {
     "name": "stderr",
     "output_type": "stream",
     "text": [
      "05-07 14:05:02 balanced input [synapses_weights.py:  79] INFO     \t \t spikes 2.0\n",
      "05-07 14:05:02 balanced input [synapses_weights.py:  97] INFO     \t 2.0 +- 0.0 (n=1)\n",
      "\n",
      "05-07 14:05:02 balanced input [synapses_weights.py:  59] INFO     \t exc_syn: 794 (1)\t inh_syn: 398 (1)\n",
      "\n"
     ]
    },
    {
     "name": "stdout",
     "output_type": "stream",
     "text": [
      "\t1 \n",
      "InhDendDistalRatio:0 \t ExcDendDistalRatio:1\n",
      "\t44 \n",
      "ninhL:0 \t ninhB:398 \t nexcL:794 \t nexcB:0 \n",
      "\t43 \n",
      "398 proximal inhibitory synapses of type GABAa[0]\n",
      "794 distal excitatory synapses of type ProbAMPANMDA3_RATIO[0]\n",
      "synapses loaded \n",
      "\t17 \n",
      "\t1 \n"
     ]
    },
    {
     "name": "stderr",
     "output_type": "stream",
     "text": [
      "05-07 14:06:20 balanced input [synapses_weights.py:  79] INFO     \t \t spikes 3.0\n",
      "05-07 14:06:20 balanced input [synapses_weights.py:  97] INFO     \t 3.0 +- 0.0 (n=1)\n",
      "\n",
      "05-07 14:06:20 balanced input [synapses_weights.py:  59] INFO     \t exc_syn: 1000 (1)\t inh_syn: 398 (1)\n",
      "\n"
     ]
    },
    {
     "name": "stdout",
     "output_type": "stream",
     "text": [
      "\t1 \n",
      "InhDendDistalRatio:0 \t ExcDendDistalRatio:1\n",
      "\t44 \n",
      "ninhL:0 \t ninhB:398 \t nexcL:1000 \t nexcB:0 \n",
      "\t44 \n",
      "398 proximal inhibitory synapses of type GABAa[0]\n",
      "1000 distal excitatory synapses of type ProbAMPANMDA3_RATIO[0]\n",
      "synapses loaded \n",
      "\t17 \n",
      "\t1 \n"
     ]
    },
    {
     "name": "stderr",
     "output_type": "stream",
     "text": [
      "05-07 14:07:42 balanced input [synapses_weights.py:  79] INFO     \t \t spikes 6.0\n",
      "05-07 14:07:42 balanced input [synapses_weights.py:  97] INFO     \t 6.0 +- 0.0 (n=1)\n",
      "\n",
      "05-07 14:07:42 balanced input [synapses_weights.py:  59] INFO     \t exc_syn: 0 (1)\t inh_syn: 501 (1)\n",
      "\n"
     ]
    },
    {
     "name": "stdout",
     "output_type": "stream",
     "text": [
      "1 excitatory synapse\n",
      "\t1 \n",
      "InhDendDistalRatio:0 \t ExcDendDistalRatio:1\n",
      "\t44 \n",
      "ninhL:0 \t ninhB:501 \t nexcL:1 \t nexcB:0 \n",
      "\t41 \n",
      "501 proximal inhibitory synapses of type GABAa[0]\n",
      "1 distal excitatory synapses of type ProbAMPANMDA3_RATIO[0]\n",
      "synapses loaded \n",
      "\t17 \n",
      "\t1 \n"
     ]
    },
    {
     "name": "stderr",
     "output_type": "stream",
     "text": [
      "05-07 14:08:01 balanced input [synapses_weights.py:  79] INFO     \t \t spikes 0.0\n",
      "05-07 14:08:01 balanced input [synapses_weights.py:  83] INFO     \t break from too many 0's\n",
      "05-07 14:08:01 balanced input [synapses_weights.py:  97] INFO     \t 0.0 +- 0.0 (n=1)\n",
      "\n",
      "05-07 14:08:01 balanced input [synapses_weights.py:  59] INFO     \t exc_syn: 10 (1)\t inh_syn: 501 (1)\n",
      "\n"
     ]
    },
    {
     "name": "stdout",
     "output_type": "stream",
     "text": [
      "\t1 \n",
      "InhDendDistalRatio:0 \t ExcDendDistalRatio:1\n",
      "\t44 \n",
      "ninhL:0 \t ninhB:501 \t nexcL:10 \t nexcB:0 \n",
      "\t42 \n",
      "501 proximal inhibitory synapses of type GABAa[0]\n",
      "10 distal excitatory synapses of type ProbAMPANMDA3_RATIO[0]\n",
      "synapses loaded \n",
      "\t17 \n",
      "\t1 \n"
     ]
    },
    {
     "name": "stderr",
     "output_type": "stream",
     "text": [
      "05-07 14:08:22 balanced input [synapses_weights.py:  79] INFO     \t \t spikes 0.0\n",
      "05-07 14:08:22 balanced input [synapses_weights.py:  83] INFO     \t break from too many 0's\n",
      "05-07 14:08:22 balanced input [synapses_weights.py:  97] INFO     \t 0.0 +- 0.0 (n=1)\n",
      "\n",
      "05-07 14:08:22 balanced input [synapses_weights.py:  59] INFO     \t exc_syn: 21 (1)\t inh_syn: 501 (1)\n",
      "\n"
     ]
    },
    {
     "name": "stdout",
     "output_type": "stream",
     "text": [
      "\t1 \n",
      "InhDendDistalRatio:0 \t ExcDendDistalRatio:1\n",
      "\t44 \n",
      "ninhL:0 \t ninhB:501 \t nexcL:21 \t nexcB:0 \n",
      "\t42 \n",
      "501 proximal inhibitory synapses of type GABAa[0]\n",
      "21 distal excitatory synapses of type ProbAMPANMDA3_RATIO[0]\n",
      "synapses loaded \n",
      "\t17 \n",
      "\t1 \n"
     ]
    },
    {
     "name": "stderr",
     "output_type": "stream",
     "text": [
      "05-07 14:08:42 balanced input [synapses_weights.py:  79] INFO     \t \t spikes 0.0\n",
      "05-07 14:08:42 balanced input [synapses_weights.py:  83] INFO     \t break from too many 0's\n",
      "05-07 14:08:42 balanced input [synapses_weights.py:  97] INFO     \t 0.0 +- 0.0 (n=1)\n",
      "\n",
      "05-07 14:08:42 balanced input [synapses_weights.py:  59] INFO     \t exc_syn: 46 (1)\t inh_syn: 501 (1)\n",
      "\n"
     ]
    },
    {
     "name": "stdout",
     "output_type": "stream",
     "text": [
      "\t1 \n",
      "InhDendDistalRatio:0 \t ExcDendDistalRatio:1\n",
      "\t44 \n",
      "ninhL:0 \t ninhB:501 \t nexcL:46 \t nexcB:0 \n",
      "\t42 \n",
      "501 proximal inhibitory synapses of type GABAa[0]\n",
      "46 distal excitatory synapses of type ProbAMPANMDA3_RATIO[0]\n",
      "synapses loaded \n",
      "\t17 \n",
      "\t1 \n"
     ]
    },
    {
     "name": "stderr",
     "output_type": "stream",
     "text": [
      "05-07 14:09:08 balanced input [synapses_weights.py:  79] INFO     \t \t spikes 0.0\n",
      "05-07 14:09:08 balanced input [synapses_weights.py:  83] INFO     \t break from too many 0's\n",
      "05-07 14:09:08 balanced input [synapses_weights.py:  97] INFO     \t 0.0 +- 0.0 (n=1)\n",
      "\n",
      "05-07 14:09:08 balanced input [synapses_weights.py:  59] INFO     \t exc_syn: 100 (1)\t inh_syn: 501 (1)\n",
      "\n"
     ]
    },
    {
     "name": "stdout",
     "output_type": "stream",
     "text": [
      "\t1 \n",
      "InhDendDistalRatio:0 \t ExcDendDistalRatio:1\n",
      "\t44 \n",
      "ninhL:0 \t ninhB:501 \t nexcL:100 \t nexcB:0 \n",
      "\t43 \n",
      "501 proximal inhibitory synapses of type GABAa[0]\n",
      "100 distal excitatory synapses of type ProbAMPANMDA3_RATIO[0]\n",
      "synapses loaded \n",
      "\t17 \n",
      "\t1 \n"
     ]
    },
    {
     "name": "stderr",
     "output_type": "stream",
     "text": [
      "05-07 14:09:34 balanced input [synapses_weights.py:  79] INFO     \t \t spikes 0.0\n",
      "05-07 14:09:34 balanced input [synapses_weights.py:  83] INFO     \t break from too many 0's\n",
      "05-07 14:09:34 balanced input [synapses_weights.py:  97] INFO     \t 0.0 +- 0.0 (n=1)\n",
      "\n",
      "05-07 14:09:34 balanced input [synapses_weights.py:  59] INFO     \t exc_syn: 125 (1)\t inh_syn: 501 (1)\n",
      "\n"
     ]
    },
    {
     "name": "stdout",
     "output_type": "stream",
     "text": [
      "\t1 \n",
      "InhDendDistalRatio:0 \t ExcDendDistalRatio:1\n",
      "\t44 \n",
      "ninhL:0 \t ninhB:501 \t nexcL:125 \t nexcB:0 \n",
      "\t43 \n",
      "501 proximal inhibitory synapses of type GABAa[0]\n",
      "125 distal excitatory synapses of type ProbAMPANMDA3_RATIO[0]\n",
      "synapses loaded \n",
      "\t17 \n",
      "\t1 \n"
     ]
    },
    {
     "name": "stderr",
     "output_type": "stream",
     "text": [
      "05-07 14:10:01 balanced input [synapses_weights.py:  79] INFO     \t \t spikes 0.0\n",
      "05-07 14:10:01 balanced input [synapses_weights.py:  83] INFO     \t break from too many 0's\n",
      "05-07 14:10:01 balanced input [synapses_weights.py:  97] INFO     \t 0.0 +- 0.0 (n=1)\n",
      "\n",
      "05-07 14:10:01 balanced input [synapses_weights.py:  59] INFO     \t exc_syn: 158 (1)\t inh_syn: 501 (1)\n",
      "\n"
     ]
    },
    {
     "name": "stdout",
     "output_type": "stream",
     "text": [
      "\t1 \n",
      "InhDendDistalRatio:0 \t ExcDendDistalRatio:1\n",
      "\t44 \n",
      "ninhL:0 \t ninhB:501 \t nexcL:158 \t nexcB:0 \n",
      "\t43 \n",
      "501 proximal inhibitory synapses of type GABAa[0]\n",
      "158 distal excitatory synapses of type ProbAMPANMDA3_RATIO[0]\n",
      "synapses loaded \n",
      "\t17 \n",
      "\t1 \n"
     ]
    },
    {
     "name": "stderr",
     "output_type": "stream",
     "text": [
      "05-07 14:10:33 balanced input [synapses_weights.py:  79] INFO     \t \t spikes 0.0\n",
      "05-07 14:10:33 balanced input [synapses_weights.py:  83] INFO     \t break from too many 0's\n",
      "05-07 14:10:33 balanced input [synapses_weights.py:  97] INFO     \t 0.0 +- 0.0 (n=1)\n",
      "\n",
      "05-07 14:10:33 balanced input [synapses_weights.py:  59] INFO     \t exc_syn: 199 (1)\t inh_syn: 501 (1)\n",
      "\n"
     ]
    },
    {
     "name": "stdout",
     "output_type": "stream",
     "text": [
      "\t1 \n",
      "InhDendDistalRatio:0 \t ExcDendDistalRatio:1\n",
      "\t44 \n",
      "ninhL:0 \t ninhB:501 \t nexcL:199 \t nexcB:0 \n",
      "\t43 \n",
      "501 proximal inhibitory synapses of type GABAa[0]\n",
      "199 distal excitatory synapses of type ProbAMPANMDA3_RATIO[0]\n",
      "synapses loaded \n",
      "\t17 \n",
      "\t1 \n"
     ]
    },
    {
     "name": "stderr",
     "output_type": "stream",
     "text": [
      "05-07 14:11:05 balanced input [synapses_weights.py:  79] INFO     \t \t spikes 0.0\n",
      "05-07 14:11:05 balanced input [synapses_weights.py:  83] INFO     \t break from too many 0's\n",
      "05-07 14:11:05 balanced input [synapses_weights.py:  97] INFO     \t 0.0 +- 0.0 (n=1)\n",
      "\n",
      "05-07 14:11:05 balanced input [synapses_weights.py:  59] INFO     \t exc_syn: 251 (1)\t inh_syn: 501 (1)\n",
      "\n"
     ]
    },
    {
     "name": "stdout",
     "output_type": "stream",
     "text": [
      "\t1 \n",
      "InhDendDistalRatio:0 \t ExcDendDistalRatio:1\n",
      "\t44 \n",
      "ninhL:0 \t ninhB:501 \t nexcL:251 \t nexcB:0 \n",
      "\t43 \n",
      "501 proximal inhibitory synapses of type GABAa[0]\n",
      "251 distal excitatory synapses of type ProbAMPANMDA3_RATIO[0]\n",
      "synapses loaded \n",
      "\t17 \n",
      "\t1 \n"
     ]
    },
    {
     "name": "stderr",
     "output_type": "stream",
     "text": [
      "05-07 14:11:42 balanced input [synapses_weights.py:  79] INFO     \t \t spikes 0.0\n",
      "05-07 14:11:42 balanced input [synapses_weights.py:  83] INFO     \t break from too many 0's\n",
      "05-07 14:11:42 balanced input [synapses_weights.py:  97] INFO     \t 0.0 +- 0.0 (n=1)\n",
      "\n",
      "05-07 14:11:42 balanced input [synapses_weights.py:  59] INFO     \t exc_syn: 316 (1)\t inh_syn: 501 (1)\n",
      "\n"
     ]
    },
    {
     "name": "stdout",
     "output_type": "stream",
     "text": [
      "\t1 \n",
      "InhDendDistalRatio:0 \t ExcDendDistalRatio:1\n",
      "\t44 \n",
      "ninhL:0 \t ninhB:501 \t nexcL:316 \t nexcB:0 \n",
      "\t43 \n",
      "501 proximal inhibitory synapses of type GABAa[0]\n",
      "316 distal excitatory synapses of type ProbAMPANMDA3_RATIO[0]\n",
      "synapses loaded \n",
      "\t17 \n",
      "\t1 \n"
     ]
    },
    {
     "name": "stderr",
     "output_type": "stream",
     "text": [
      "05-07 14:12:24 balanced input [synapses_weights.py:  79] INFO     \t \t spikes 1.0\n",
      "05-07 14:12:24 balanced input [synapses_weights.py:  97] INFO     \t 1.0 +- 0.0 (n=1)\n",
      "\n",
      "05-07 14:12:24 balanced input [synapses_weights.py:  59] INFO     \t exc_syn: 398 (1)\t inh_syn: 501 (1)\n",
      "\n"
     ]
    },
    {
     "name": "stdout",
     "output_type": "stream",
     "text": [
      "\t1 \n",
      "InhDendDistalRatio:0 \t ExcDendDistalRatio:1\n",
      "\t44 \n",
      "ninhL:0 \t ninhB:501 \t nexcL:398 \t nexcB:0 \n",
      "\t43 \n",
      "501 proximal inhibitory synapses of type GABAa[0]\n",
      "398 distal excitatory synapses of type ProbAMPANMDA3_RATIO[0]\n",
      "synapses loaded \n",
      "\t17 \n",
      "\t1 \n"
     ]
    },
    {
     "name": "stderr",
     "output_type": "stream",
     "text": [
      "05-07 14:13:10 balanced input [synapses_weights.py:  79] INFO     \t \t spikes 1.0\n",
      "05-07 14:13:10 balanced input [synapses_weights.py:  97] INFO     \t 1.0 +- 0.0 (n=1)\n",
      "\n",
      "05-07 14:13:10 balanced input [synapses_weights.py:  59] INFO     \t exc_syn: 501 (1)\t inh_syn: 501 (1)\n",
      "\n"
     ]
    },
    {
     "name": "stdout",
     "output_type": "stream",
     "text": [
      "\t1 \n",
      "InhDendDistalRatio:0 \t ExcDendDistalRatio:1\n",
      "\t44 \n",
      "ninhL:0 \t ninhB:501 \t nexcL:501 \t nexcB:0 \n",
      "\t43 \n",
      "501 proximal inhibitory synapses of type GABAa[0]\n",
      "501 distal excitatory synapses of type ProbAMPANMDA3_RATIO[0]\n",
      "synapses loaded \n",
      "\t17 \n",
      "\t1 \n"
     ]
    },
    {
     "name": "stderr",
     "output_type": "stream",
     "text": [
      "05-07 14:14:01 balanced input [synapses_weights.py:  79] INFO     \t \t spikes 1.0\n",
      "05-07 14:14:01 balanced input [synapses_weights.py:  97] INFO     \t 1.0 +- 0.0 (n=1)\n",
      "\n",
      "05-07 14:14:01 balanced input [synapses_weights.py:  59] INFO     \t exc_syn: 630 (1)\t inh_syn: 501 (1)\n",
      "\n"
     ]
    },
    {
     "name": "stdout",
     "output_type": "stream",
     "text": [
      "\t1 \n",
      "InhDendDistalRatio:0 \t ExcDendDistalRatio:1\n",
      "\t44 \n",
      "ninhL:0 \t ninhB:501 \t nexcL:630 \t nexcB:0 \n",
      "\t43 \n",
      "501 proximal inhibitory synapses of type GABAa[0]\n",
      "630 distal excitatory synapses of type ProbAMPANMDA3_RATIO[0]\n",
      "synapses loaded \n",
      "\t17 \n",
      "\t1 \n"
     ]
    },
    {
     "name": "stderr",
     "output_type": "stream",
     "text": [
      "05-07 14:14:53 balanced input [synapses_weights.py:  79] INFO     \t \t spikes 1.0\n",
      "05-07 14:14:53 balanced input [synapses_weights.py:  97] INFO     \t 1.0 +- 0.0 (n=1)\n",
      "\n",
      "05-07 14:14:53 balanced input [synapses_weights.py:  59] INFO     \t exc_syn: 794 (1)\t inh_syn: 501 (1)\n",
      "\n"
     ]
    },
    {
     "name": "stdout",
     "output_type": "stream",
     "text": [
      "\t1 \n",
      "InhDendDistalRatio:0 \t ExcDendDistalRatio:1\n",
      "\t44 \n",
      "ninhL:0 \t ninhB:501 \t nexcL:794 \t nexcB:0 \n",
      "\t43 \n",
      "501 proximal inhibitory synapses of type GABAa[0]\n",
      "794 distal excitatory synapses of type ProbAMPANMDA3_RATIO[0]\n",
      "synapses loaded \n",
      "\t17 \n",
      "\t1 \n"
     ]
    },
    {
     "name": "stderr",
     "output_type": "stream",
     "text": [
      "05-07 14:16:03 balanced input [synapses_weights.py:  79] INFO     \t \t spikes 1.0\n",
      "05-07 14:16:03 balanced input [synapses_weights.py:  97] INFO     \t 1.0 +- 0.0 (n=1)\n",
      "\n",
      "05-07 14:16:03 balanced input [synapses_weights.py:  59] INFO     \t exc_syn: 1000 (1)\t inh_syn: 501 (1)\n",
      "\n"
     ]
    },
    {
     "name": "stdout",
     "output_type": "stream",
     "text": [
      "\t1 \n",
      "InhDendDistalRatio:0 \t ExcDendDistalRatio:1\n",
      "\t44 \n",
      "ninhL:0 \t ninhB:501 \t nexcL:1000 \t nexcB:0 \n",
      "\t44 \n",
      "501 proximal inhibitory synapses of type GABAa[0]\n",
      "1000 distal excitatory synapses of type ProbAMPANMDA3_RATIO[0]\n",
      "synapses loaded \n",
      "\t17 \n",
      "\t1 \n"
     ]
    },
    {
     "name": "stderr",
     "output_type": "stream",
     "text": [
      "05-07 14:17:33 balanced input [synapses_weights.py:  79] INFO     \t \t spikes 3.0\n",
      "05-07 14:17:33 balanced input [synapses_weights.py:  97] INFO     \t 3.0 +- 0.0 (n=1)\n",
      "\n",
      "05-07 14:17:33 balanced input [synapses_weights.py:  59] INFO     \t exc_syn: 0 (1)\t inh_syn: 630 (1)\n",
      "\n"
     ]
    },
    {
     "name": "stdout",
     "output_type": "stream",
     "text": [
      "1 excitatory synapse\n",
      "\t1 \n",
      "InhDendDistalRatio:0 \t ExcDendDistalRatio:1\n",
      "\t44 \n",
      "ninhL:0 \t ninhB:630 \t nexcL:1 \t nexcB:0 \n",
      "\t41 \n",
      "630 proximal inhibitory synapses of type GABAa[0]\n",
      "1 distal excitatory synapses of type ProbAMPANMDA3_RATIO[0]\n",
      "synapses loaded \n",
      "\t17 \n",
      "\t1 \n"
     ]
    },
    {
     "name": "stderr",
     "output_type": "stream",
     "text": [
      "05-07 14:17:57 balanced input [synapses_weights.py:  79] INFO     \t \t spikes 0.0\n",
      "05-07 14:17:57 balanced input [synapses_weights.py:  83] INFO     \t break from too many 0's\n",
      "05-07 14:17:57 balanced input [synapses_weights.py:  97] INFO     \t 0.0 +- 0.0 (n=1)\n",
      "\n",
      "05-07 14:17:57 balanced input [synapses_weights.py:  59] INFO     \t exc_syn: 10 (1)\t inh_syn: 630 (1)\n",
      "\n"
     ]
    },
    {
     "name": "stdout",
     "output_type": "stream",
     "text": [
      "\t1 \n",
      "InhDendDistalRatio:0 \t ExcDendDistalRatio:1\n",
      "\t44 \n",
      "ninhL:0 \t ninhB:630 \t nexcL:10 \t nexcB:0 \n",
      "\t42 \n",
      "630 proximal inhibitory synapses of type GABAa[0]\n",
      "10 distal excitatory synapses of type ProbAMPANMDA3_RATIO[0]\n",
      "synapses loaded \n",
      "\t17 \n",
      "\t1 \n"
     ]
    },
    {
     "name": "stderr",
     "output_type": "stream",
     "text": [
      "05-07 14:18:23 balanced input [synapses_weights.py:  79] INFO     \t \t spikes 0.0\n",
      "05-07 14:18:23 balanced input [synapses_weights.py:  83] INFO     \t break from too many 0's\n",
      "05-07 14:18:23 balanced input [synapses_weights.py:  97] INFO     \t 0.0 +- 0.0 (n=1)\n",
      "\n",
      "05-07 14:18:23 balanced input [synapses_weights.py:  59] INFO     \t exc_syn: 21 (1)\t inh_syn: 630 (1)\n",
      "\n"
     ]
    },
    {
     "name": "stdout",
     "output_type": "stream",
     "text": [
      "\t1 \n",
      "InhDendDistalRatio:0 \t ExcDendDistalRatio:1\n",
      "\t44 \n",
      "ninhL:0 \t ninhB:630 \t nexcL:21 \t nexcB:0 \n",
      "\t42 \n",
      "630 proximal inhibitory synapses of type GABAa[0]\n",
      "21 distal excitatory synapses of type ProbAMPANMDA3_RATIO[0]\n",
      "synapses loaded \n",
      "\t17 \n",
      "\t1 \n"
     ]
    },
    {
     "name": "stderr",
     "output_type": "stream",
     "text": [
      "05-07 14:18:54 balanced input [synapses_weights.py:  79] INFO     \t \t spikes 0.0\n",
      "05-07 14:18:54 balanced input [synapses_weights.py:  83] INFO     \t break from too many 0's\n",
      "05-07 14:18:54 balanced input [synapses_weights.py:  97] INFO     \t 0.0 +- 0.0 (n=1)\n",
      "\n",
      "05-07 14:18:54 balanced input [synapses_weights.py:  59] INFO     \t exc_syn: 46 (1)\t inh_syn: 630 (1)\n",
      "\n"
     ]
    },
    {
     "name": "stdout",
     "output_type": "stream",
     "text": [
      "\t1 \n",
      "InhDendDistalRatio:0 \t ExcDendDistalRatio:1\n",
      "\t44 \n",
      "ninhL:0 \t ninhB:630 \t nexcL:46 \t nexcB:0 \n",
      "\t42 \n",
      "630 proximal inhibitory synapses of type GABAa[0]\n",
      "46 distal excitatory synapses of type ProbAMPANMDA3_RATIO[0]\n",
      "synapses loaded \n",
      "\t17 \n",
      "\t1 \n"
     ]
    },
    {
     "name": "stderr",
     "output_type": "stream",
     "text": [
      "05-07 14:19:25 balanced input [synapses_weights.py:  79] INFO     \t \t spikes 0.0\n",
      "05-07 14:19:25 balanced input [synapses_weights.py:  83] INFO     \t break from too many 0's\n",
      "05-07 14:19:25 balanced input [synapses_weights.py:  97] INFO     \t 0.0 +- 0.0 (n=1)\n",
      "\n",
      "05-07 14:19:25 balanced input [synapses_weights.py:  59] INFO     \t exc_syn: 100 (1)\t inh_syn: 630 (1)\n",
      "\n"
     ]
    },
    {
     "name": "stdout",
     "output_type": "stream",
     "text": [
      "\t1 \n",
      "InhDendDistalRatio:0 \t ExcDendDistalRatio:1\n",
      "\t44 \n",
      "ninhL:0 \t ninhB:630 \t nexcL:100 \t nexcB:0 \n",
      "\t43 \n",
      "630 proximal inhibitory synapses of type GABAa[0]\n",
      "100 distal excitatory synapses of type ProbAMPANMDA3_RATIO[0]\n",
      "synapses loaded \n",
      "\t17 \n",
      "\t1 \n"
     ]
    },
    {
     "name": "stderr",
     "output_type": "stream",
     "text": [
      "05-07 14:20:00 balanced input [synapses_weights.py:  79] INFO     \t \t spikes 0.0\n",
      "05-07 14:20:00 balanced input [synapses_weights.py:  83] INFO     \t break from too many 0's\n",
      "05-07 14:20:00 balanced input [synapses_weights.py:  97] INFO     \t 0.0 +- 0.0 (n=1)\n",
      "\n",
      "05-07 14:20:00 balanced input [synapses_weights.py:  59] INFO     \t exc_syn: 125 (1)\t inh_syn: 630 (1)\n",
      "\n"
     ]
    },
    {
     "name": "stdout",
     "output_type": "stream",
     "text": [
      "\t1 \n",
      "InhDendDistalRatio:0 \t ExcDendDistalRatio:1\n",
      "\t44 \n",
      "ninhL:0 \t ninhB:630 \t nexcL:125 \t nexcB:0 \n",
      "\t43 \n",
      "630 proximal inhibitory synapses of type GABAa[0]\n",
      "125 distal excitatory synapses of type ProbAMPANMDA3_RATIO[0]\n",
      "synapses loaded \n",
      "\t17 \n",
      "\t1 \n"
     ]
    },
    {
     "name": "stderr",
     "output_type": "stream",
     "text": [
      "05-07 14:20:34 balanced input [synapses_weights.py:  79] INFO     \t \t spikes 0.0\n",
      "05-07 14:20:34 balanced input [synapses_weights.py:  83] INFO     \t break from too many 0's\n",
      "05-07 14:20:34 balanced input [synapses_weights.py:  97] INFO     \t 0.0 +- 0.0 (n=1)\n",
      "\n",
      "05-07 14:20:34 balanced input [synapses_weights.py:  59] INFO     \t exc_syn: 158 (1)\t inh_syn: 630 (1)\n",
      "\n"
     ]
    },
    {
     "name": "stdout",
     "output_type": "stream",
     "text": [
      "\t1 \n",
      "InhDendDistalRatio:0 \t ExcDendDistalRatio:1\n",
      "\t44 \n",
      "ninhL:0 \t ninhB:630 \t nexcL:158 \t nexcB:0 \n",
      "\t43 \n",
      "630 proximal inhibitory synapses of type GABAa[0]\n",
      "158 distal excitatory synapses of type ProbAMPANMDA3_RATIO[0]\n",
      "synapses loaded \n",
      "\t17 \n",
      "\t1 \n"
     ]
    },
    {
     "name": "stderr",
     "output_type": "stream",
     "text": [
      "05-07 14:21:12 balanced input [synapses_weights.py:  79] INFO     \t \t spikes 0.0\n",
      "05-07 14:21:12 balanced input [synapses_weights.py:  83] INFO     \t break from too many 0's\n",
      "05-07 14:21:12 balanced input [synapses_weights.py:  97] INFO     \t 0.0 +- 0.0 (n=1)\n",
      "\n",
      "05-07 14:21:12 balanced input [synapses_weights.py:  59] INFO     \t exc_syn: 199 (1)\t inh_syn: 630 (1)\n",
      "\n"
     ]
    },
    {
     "name": "stdout",
     "output_type": "stream",
     "text": [
      "\t1 \n",
      "InhDendDistalRatio:0 \t ExcDendDistalRatio:1\n",
      "\t44 \n",
      "ninhL:0 \t ninhB:630 \t nexcL:199 \t nexcB:0 \n",
      "\t43 \n",
      "630 proximal inhibitory synapses of type GABAa[0]\n",
      "199 distal excitatory synapses of type ProbAMPANMDA3_RATIO[0]\n",
      "synapses loaded \n",
      "\t17 \n",
      "\t1 \n"
     ]
    },
    {
     "name": "stderr",
     "output_type": "stream",
     "text": [
      "05-07 14:21:58 balanced input [synapses_weights.py:  79] INFO     \t \t spikes 0.0\n",
      "05-07 14:21:58 balanced input [synapses_weights.py:  83] INFO     \t break from too many 0's\n",
      "05-07 14:21:58 balanced input [synapses_weights.py:  97] INFO     \t 0.0 +- 0.0 (n=1)\n",
      "\n",
      "05-07 14:21:58 balanced input [synapses_weights.py:  59] INFO     \t exc_syn: 251 (1)\t inh_syn: 630 (1)\n",
      "\n"
     ]
    },
    {
     "name": "stdout",
     "output_type": "stream",
     "text": [
      "\t1 \n",
      "InhDendDistalRatio:0 \t ExcDendDistalRatio:1\n",
      "\t44 \n",
      "ninhL:0 \t ninhB:630 \t nexcL:251 \t nexcB:0 \n",
      "\t43 \n",
      "630 proximal inhibitory synapses of type GABAa[0]\n",
      "251 distal excitatory synapses of type ProbAMPANMDA3_RATIO[0]\n",
      "synapses loaded \n",
      "\t17 \n",
      "\t1 \n"
     ]
    },
    {
     "name": "stderr",
     "output_type": "stream",
     "text": [
      "05-07 14:22:44 balanced input [synapses_weights.py:  79] INFO     \t \t spikes 0.0\n",
      "05-07 14:22:44 balanced input [synapses_weights.py:  83] INFO     \t break from too many 0's\n",
      "05-07 14:22:44 balanced input [synapses_weights.py:  97] INFO     \t 0.0 +- 0.0 (n=1)\n",
      "\n",
      "05-07 14:22:44 balanced input [synapses_weights.py:  59] INFO     \t exc_syn: 316 (1)\t inh_syn: 630 (1)\n",
      "\n"
     ]
    },
    {
     "name": "stdout",
     "output_type": "stream",
     "text": [
      "\t1 \n",
      "InhDendDistalRatio:0 \t ExcDendDistalRatio:1\n",
      "\t44 \n",
      "ninhL:0 \t ninhB:630 \t nexcL:316 \t nexcB:0 \n",
      "\t43 \n",
      "630 proximal inhibitory synapses of type GABAa[0]\n",
      "316 distal excitatory synapses of type ProbAMPANMDA3_RATIO[0]\n",
      "synapses loaded \n",
      "\t17 \n",
      "\t1 \n"
     ]
    },
    {
     "name": "stderr",
     "output_type": "stream",
     "text": [
      "05-07 14:23:30 balanced input [synapses_weights.py:  79] INFO     \t \t spikes 0.0\n",
      "05-07 14:23:30 balanced input [synapses_weights.py:  83] INFO     \t break from too many 0's\n",
      "05-07 14:23:30 balanced input [synapses_weights.py:  97] INFO     \t 0.0 +- 0.0 (n=1)\n",
      "\n",
      "05-07 14:23:30 balanced input [synapses_weights.py:  59] INFO     \t exc_syn: 398 (1)\t inh_syn: 630 (1)\n",
      "\n"
     ]
    },
    {
     "name": "stdout",
     "output_type": "stream",
     "text": [
      "\t1 \n",
      "InhDendDistalRatio:0 \t ExcDendDistalRatio:1\n",
      "\t44 \n",
      "ninhL:0 \t ninhB:630 \t nexcL:398 \t nexcB:0 \n",
      "\t43 \n",
      "630 proximal inhibitory synapses of type GABAa[0]\n",
      "398 distal excitatory synapses of type ProbAMPANMDA3_RATIO[0]\n",
      "synapses loaded \n",
      "\t17 \n",
      "\t1 \n"
     ]
    },
    {
     "name": "stderr",
     "output_type": "stream",
     "text": [
      "05-07 14:24:21 balanced input [synapses_weights.py:  79] INFO     \t \t spikes 1.0\n",
      "05-07 14:24:21 balanced input [synapses_weights.py:  97] INFO     \t 1.0 +- 0.0 (n=1)\n",
      "\n",
      "05-07 14:24:21 balanced input [synapses_weights.py:  59] INFO     \t exc_syn: 501 (1)\t inh_syn: 630 (1)\n",
      "\n"
     ]
    },
    {
     "name": "stdout",
     "output_type": "stream",
     "text": [
      "\t1 \n",
      "InhDendDistalRatio:0 \t ExcDendDistalRatio:1\n",
      "\t44 \n",
      "ninhL:0 \t ninhB:630 \t nexcL:501 \t nexcB:0 \n",
      "\t43 \n",
      "630 proximal inhibitory synapses of type GABAa[0]\n",
      "501 distal excitatory synapses of type ProbAMPANMDA3_RATIO[0]\n",
      "synapses loaded \n",
      "\t17 \n",
      "\t1 \n"
     ]
    },
    {
     "name": "stderr",
     "output_type": "stream",
     "text": [
      "05-07 14:25:17 balanced input [synapses_weights.py:  79] INFO     \t \t spikes 1.0\n",
      "05-07 14:25:17 balanced input [synapses_weights.py:  97] INFO     \t 1.0 +- 0.0 (n=1)\n",
      "\n",
      "05-07 14:25:17 balanced input [synapses_weights.py:  59] INFO     \t exc_syn: 630 (1)\t inh_syn: 630 (1)\n",
      "\n"
     ]
    },
    {
     "name": "stdout",
     "output_type": "stream",
     "text": [
      "\t1 \n",
      "InhDendDistalRatio:0 \t ExcDendDistalRatio:1\n",
      "\t44 \n",
      "ninhL:0 \t ninhB:630 \t nexcL:630 \t nexcB:0 \n",
      "\t43 \n",
      "630 proximal inhibitory synapses of type GABAa[0]\n",
      "630 distal excitatory synapses of type ProbAMPANMDA3_RATIO[0]\n",
      "synapses loaded \n",
      "\t17 \n",
      "\t1 \n"
     ]
    },
    {
     "name": "stderr",
     "output_type": "stream",
     "text": [
      "05-07 14:26:22 balanced input [synapses_weights.py:  79] INFO     \t \t spikes 1.0\n",
      "05-07 14:26:22 balanced input [synapses_weights.py:  97] INFO     \t 1.0 +- 0.0 (n=1)\n",
      "\n",
      "05-07 14:26:22 balanced input [synapses_weights.py:  59] INFO     \t exc_syn: 794 (1)\t inh_syn: 630 (1)\n",
      "\n"
     ]
    },
    {
     "name": "stdout",
     "output_type": "stream",
     "text": [
      "\t1 \n",
      "InhDendDistalRatio:0 \t ExcDendDistalRatio:1\n",
      "\t44 \n",
      "ninhL:0 \t ninhB:630 \t nexcL:794 \t nexcB:0 \n",
      "\t43 \n",
      "630 proximal inhibitory synapses of type GABAa[0]\n",
      "794 distal excitatory synapses of type ProbAMPANMDA3_RATIO[0]\n",
      "synapses loaded \n",
      "\t17 \n",
      "\t1 \n"
     ]
    },
    {
     "name": "stderr",
     "output_type": "stream",
     "text": [
      "05-07 14:27:43 balanced input [synapses_weights.py:  79] INFO     \t \t spikes 1.0\n",
      "05-07 14:27:43 balanced input [synapses_weights.py:  97] INFO     \t 1.0 +- 0.0 (n=1)\n",
      "\n",
      "05-07 14:27:43 balanced input [synapses_weights.py:  59] INFO     \t exc_syn: 1000 (1)\t inh_syn: 630 (1)\n",
      "\n"
     ]
    },
    {
     "name": "stdout",
     "output_type": "stream",
     "text": [
      "\t1 \n",
      "InhDendDistalRatio:0 \t ExcDendDistalRatio:1\n",
      "\t44 \n",
      "ninhL:0 \t ninhB:630 \t nexcL:1000 \t nexcB:0 \n",
      "\t44 \n",
      "630 proximal inhibitory synapses of type GABAa[0]\n",
      "1000 distal excitatory synapses of type ProbAMPANMDA3_RATIO[0]\n",
      "synapses loaded \n",
      "\t17 \n",
      "\t1 \n"
     ]
    },
    {
     "name": "stderr",
     "output_type": "stream",
     "text": [
      "05-07 14:29:22 balanced input [synapses_weights.py:  79] INFO     \t \t spikes 1.0\n",
      "05-07 14:29:22 balanced input [synapses_weights.py:  97] INFO     \t 1.0 +- 0.0 (n=1)\n",
      "\n",
      "05-07 14:29:22 balanced input [synapses_weights.py:  59] INFO     \t exc_syn: 0 (1)\t inh_syn: 794 (1)\n",
      "\n"
     ]
    },
    {
     "name": "stdout",
     "output_type": "stream",
     "text": [
      "1 excitatory synapse\n",
      "\t1 \n",
      "InhDendDistalRatio:0 \t ExcDendDistalRatio:1\n",
      "\t44 \n",
      "ninhL:0 \t ninhB:794 \t nexcL:1 \t nexcB:0 \n",
      "\t41 \n",
      "794 proximal inhibitory synapses of type GABAa[0]\n",
      "1 distal excitatory synapses of type ProbAMPANMDA3_RATIO[0]\n",
      "synapses loaded \n",
      "\t17 \n",
      "\t1 \n"
     ]
    },
    {
     "name": "stderr",
     "output_type": "stream",
     "text": [
      "05-07 14:29:57 balanced input [synapses_weights.py:  79] INFO     \t \t spikes 0.0\n",
      "05-07 14:29:57 balanced input [synapses_weights.py:  83] INFO     \t break from too many 0's\n",
      "05-07 14:29:57 balanced input [synapses_weights.py:  97] INFO     \t 0.0 +- 0.0 (n=1)\n",
      "\n",
      "05-07 14:29:57 balanced input [synapses_weights.py:  59] INFO     \t exc_syn: 10 (1)\t inh_syn: 794 (1)\n",
      "\n"
     ]
    },
    {
     "name": "stdout",
     "output_type": "stream",
     "text": [
      "\t1 \n",
      "InhDendDistalRatio:0 \t ExcDendDistalRatio:1\n",
      "\t44 \n",
      "ninhL:0 \t ninhB:794 \t nexcL:10 \t nexcB:0 \n",
      "\t42 \n",
      "794 proximal inhibitory synapses of type GABAa[0]\n",
      "10 distal excitatory synapses of type ProbAMPANMDA3_RATIO[0]\n",
      "synapses loaded \n",
      "\t17 \n",
      "\t1 \n"
     ]
    },
    {
     "name": "stderr",
     "output_type": "stream",
     "text": [
      "05-07 14:30:34 balanced input [synapses_weights.py:  79] INFO     \t \t spikes 0.0\n",
      "05-07 14:30:34 balanced input [synapses_weights.py:  83] INFO     \t break from too many 0's\n",
      "05-07 14:30:34 balanced input [synapses_weights.py:  97] INFO     \t 0.0 +- 0.0 (n=1)\n",
      "\n",
      "05-07 14:30:34 balanced input [synapses_weights.py:  59] INFO     \t exc_syn: 21 (1)\t inh_syn: 794 (1)\n",
      "\n"
     ]
    },
    {
     "name": "stdout",
     "output_type": "stream",
     "text": [
      "\t1 \n",
      "InhDendDistalRatio:0 \t ExcDendDistalRatio:1\n",
      "\t44 \n",
      "ninhL:0 \t ninhB:794 \t nexcL:21 \t nexcB:0 \n",
      "\t42 \n",
      "794 proximal inhibitory synapses of type GABAa[0]\n",
      "21 distal excitatory synapses of type ProbAMPANMDA3_RATIO[0]\n",
      "synapses loaded \n",
      "\t17 \n",
      "\t1 \n"
     ]
    },
    {
     "name": "stderr",
     "output_type": "stream",
     "text": [
      "05-07 14:31:17 balanced input [synapses_weights.py:  79] INFO     \t \t spikes 0.0\n",
      "05-07 14:31:17 balanced input [synapses_weights.py:  83] INFO     \t break from too many 0's\n",
      "05-07 14:31:17 balanced input [synapses_weights.py:  97] INFO     \t 0.0 +- 0.0 (n=1)\n",
      "\n",
      "05-07 14:31:17 balanced input [synapses_weights.py:  59] INFO     \t exc_syn: 46 (1)\t inh_syn: 794 (1)\n",
      "\n"
     ]
    },
    {
     "name": "stdout",
     "output_type": "stream",
     "text": [
      "\t1 \n",
      "InhDendDistalRatio:0 \t ExcDendDistalRatio:1\n",
      "\t44 \n",
      "ninhL:0 \t ninhB:794 \t nexcL:46 \t nexcB:0 \n",
      "\t42 \n",
      "794 proximal inhibitory synapses of type GABAa[0]\n",
      "46 distal excitatory synapses of type ProbAMPANMDA3_RATIO[0]\n",
      "synapses loaded \n",
      "\t17 \n",
      "\t1 \n"
     ]
    },
    {
     "name": "stderr",
     "output_type": "stream",
     "text": [
      "05-07 14:32:00 balanced input [synapses_weights.py:  79] INFO     \t \t spikes 0.0\n",
      "05-07 14:32:00 balanced input [synapses_weights.py:  83] INFO     \t break from too many 0's\n",
      "05-07 14:32:00 balanced input [synapses_weights.py:  97] INFO     \t 0.0 +- 0.0 (n=1)\n",
      "\n",
      "05-07 14:32:00 balanced input [synapses_weights.py:  59] INFO     \t exc_syn: 100 (1)\t inh_syn: 794 (1)\n",
      "\n"
     ]
    },
    {
     "name": "stdout",
     "output_type": "stream",
     "text": [
      "\t1 \n",
      "InhDendDistalRatio:0 \t ExcDendDistalRatio:1\n",
      "\t44 \n",
      "ninhL:0 \t ninhB:794 \t nexcL:100 \t nexcB:0 \n",
      "\t43 \n",
      "794 proximal inhibitory synapses of type GABAa[0]\n",
      "100 distal excitatory synapses of type ProbAMPANMDA3_RATIO[0]\n",
      "synapses loaded \n",
      "\t17 \n",
      "\t1 \n"
     ]
    },
    {
     "name": "stderr",
     "output_type": "stream",
     "text": [
      "05-07 14:32:46 balanced input [synapses_weights.py:  79] INFO     \t \t spikes 0.0\n",
      "05-07 14:32:46 balanced input [synapses_weights.py:  83] INFO     \t break from too many 0's\n",
      "05-07 14:32:46 balanced input [synapses_weights.py:  97] INFO     \t 0.0 +- 0.0 (n=1)\n",
      "\n",
      "05-07 14:32:46 balanced input [synapses_weights.py:  59] INFO     \t exc_syn: 125 (1)\t inh_syn: 794 (1)\n",
      "\n"
     ]
    },
    {
     "name": "stdout",
     "output_type": "stream",
     "text": [
      "\t1 \n",
      "InhDendDistalRatio:0 \t ExcDendDistalRatio:1\n",
      "\t44 \n",
      "ninhL:0 \t ninhB:794 \t nexcL:125 \t nexcB:0 \n",
      "\t43 \n",
      "794 proximal inhibitory synapses of type GABAa[0]\n",
      "125 distal excitatory synapses of type ProbAMPANMDA3_RATIO[0]\n",
      "synapses loaded \n",
      "\t17 \n",
      "\t1 \n"
     ]
    },
    {
     "name": "stderr",
     "output_type": "stream",
     "text": [
      "05-07 14:33:30 balanced input [synapses_weights.py:  79] INFO     \t \t spikes 0.0\n",
      "05-07 14:33:30 balanced input [synapses_weights.py:  83] INFO     \t break from too many 0's\n",
      "05-07 14:33:30 balanced input [synapses_weights.py:  97] INFO     \t 0.0 +- 0.0 (n=1)\n",
      "\n",
      "05-07 14:33:30 balanced input [synapses_weights.py:  59] INFO     \t exc_syn: 158 (1)\t inh_syn: 794 (1)\n",
      "\n"
     ]
    },
    {
     "name": "stdout",
     "output_type": "stream",
     "text": [
      "\t1 \n",
      "InhDendDistalRatio:0 \t ExcDendDistalRatio:1\n",
      "\t44 \n",
      "ninhL:0 \t ninhB:794 \t nexcL:158 \t nexcB:0 \n",
      "\t43 \n",
      "794 proximal inhibitory synapses of type GABAa[0]\n",
      "158 distal excitatory synapses of type ProbAMPANMDA3_RATIO[0]\n",
      "synapses loaded \n",
      "\t17 \n",
      "\t1 \n"
     ]
    },
    {
     "name": "stderr",
     "output_type": "stream",
     "text": [
      "05-07 14:34:21 balanced input [synapses_weights.py:  79] INFO     \t \t spikes 0.0\n",
      "05-07 14:34:21 balanced input [synapses_weights.py:  83] INFO     \t break from too many 0's\n",
      "05-07 14:34:21 balanced input [synapses_weights.py:  97] INFO     \t 0.0 +- 0.0 (n=1)\n",
      "\n",
      "05-07 14:34:22 balanced input [synapses_weights.py:  59] INFO     \t exc_syn: 199 (1)\t inh_syn: 794 (1)\n",
      "\n"
     ]
    },
    {
     "name": "stdout",
     "output_type": "stream",
     "text": [
      "\t1 \n",
      "InhDendDistalRatio:0 \t ExcDendDistalRatio:1\n",
      "\t44 \n",
      "ninhL:0 \t ninhB:794 \t nexcL:199 \t nexcB:0 \n",
      "\t43 \n",
      "794 proximal inhibitory synapses of type GABAa[0]\n",
      "199 distal excitatory synapses of type ProbAMPANMDA3_RATIO[0]\n",
      "synapses loaded \n",
      "\t17 \n",
      "\t1 \n"
     ]
    },
    {
     "name": "stderr",
     "output_type": "stream",
     "text": [
      "05-07 14:35:10 balanced input [synapses_weights.py:  79] INFO     \t \t spikes 0.0\n",
      "05-07 14:35:10 balanced input [synapses_weights.py:  83] INFO     \t break from too many 0's\n",
      "05-07 14:35:10 balanced input [synapses_weights.py:  97] INFO     \t 0.0 +- 0.0 (n=1)\n",
      "\n",
      "05-07 14:35:10 balanced input [synapses_weights.py:  59] INFO     \t exc_syn: 251 (1)\t inh_syn: 794 (1)\n",
      "\n"
     ]
    },
    {
     "name": "stdout",
     "output_type": "stream",
     "text": [
      "\t1 \n",
      "InhDendDistalRatio:0 \t ExcDendDistalRatio:1\n",
      "\t44 \n",
      "ninhL:0 \t ninhB:794 \t nexcL:251 \t nexcB:0 \n",
      "\t43 \n",
      "794 proximal inhibitory synapses of type GABAa[0]\n",
      "251 distal excitatory synapses of type ProbAMPANMDA3_RATIO[0]\n",
      "synapses loaded \n",
      "\t17 \n",
      "\t1 \n"
     ]
    },
    {
     "name": "stderr",
     "output_type": "stream",
     "text": [
      "05-07 14:36:04 balanced input [synapses_weights.py:  79] INFO     \t \t spikes 0.0\n",
      "05-07 14:36:04 balanced input [synapses_weights.py:  83] INFO     \t break from too many 0's\n",
      "05-07 14:36:04 balanced input [synapses_weights.py:  97] INFO     \t 0.0 +- 0.0 (n=1)\n",
      "\n",
      "05-07 14:36:04 balanced input [synapses_weights.py:  59] INFO     \t exc_syn: 316 (1)\t inh_syn: 794 (1)\n",
      "\n"
     ]
    },
    {
     "name": "stdout",
     "output_type": "stream",
     "text": [
      "\t1 \n",
      "InhDendDistalRatio:0 \t ExcDendDistalRatio:1\n",
      "\t44 \n",
      "ninhL:0 \t ninhB:794 \t nexcL:316 \t nexcB:0 \n",
      "\t43 \n",
      "794 proximal inhibitory synapses of type GABAa[0]\n",
      "316 distal excitatory synapses of type ProbAMPANMDA3_RATIO[0]\n",
      "synapses loaded \n",
      "\t17 \n",
      "\t1 \n"
     ]
    },
    {
     "name": "stderr",
     "output_type": "stream",
     "text": [
      "05-07 14:36:59 balanced input [synapses_weights.py:  79] INFO     \t \t spikes 0.0\n",
      "05-07 14:36:59 balanced input [synapses_weights.py:  83] INFO     \t break from too many 0's\n",
      "05-07 14:36:59 balanced input [synapses_weights.py:  97] INFO     \t 0.0 +- 0.0 (n=1)\n",
      "\n",
      "05-07 14:36:59 balanced input [synapses_weights.py:  59] INFO     \t exc_syn: 398 (1)\t inh_syn: 794 (1)\n",
      "\n"
     ]
    },
    {
     "name": "stdout",
     "output_type": "stream",
     "text": [
      "\t1 \n",
      "InhDendDistalRatio:0 \t ExcDendDistalRatio:1\n",
      "\t44 \n",
      "ninhL:0 \t ninhB:794 \t nexcL:398 \t nexcB:0 \n",
      "\t43 \n",
      "794 proximal inhibitory synapses of type GABAa[0]\n",
      "398 distal excitatory synapses of type ProbAMPANMDA3_RATIO[0]\n",
      "synapses loaded \n",
      "\t17 \n",
      "\t1 \n"
     ]
    },
    {
     "name": "stderr",
     "output_type": "stream",
     "text": [
      "05-07 14:38:09 balanced input [synapses_weights.py:  79] INFO     \t \t spikes 0.0\n",
      "05-07 14:38:09 balanced input [synapses_weights.py:  83] INFO     \t break from too many 0's\n",
      "05-07 14:38:09 balanced input [synapses_weights.py:  97] INFO     \t 0.0 +- 0.0 (n=1)\n",
      "\n",
      "05-07 14:38:09 balanced input [synapses_weights.py:  59] INFO     \t exc_syn: 501 (1)\t inh_syn: 794 (1)\n",
      "\n"
     ]
    },
    {
     "name": "stdout",
     "output_type": "stream",
     "text": [
      "\t1 \n",
      "InhDendDistalRatio:0 \t ExcDendDistalRatio:1\n",
      "\t44 \n",
      "ninhL:0 \t ninhB:794 \t nexcL:501 \t nexcB:0 \n",
      "\t43 \n",
      "794 proximal inhibitory synapses of type GABAa[0]\n",
      "501 distal excitatory synapses of type ProbAMPANMDA3_RATIO[0]\n",
      "synapses loaded \n",
      "\t17 \n",
      "\t1 \n"
     ]
    },
    {
     "name": "stderr",
     "output_type": "stream",
     "text": [
      "05-07 14:39:22 balanced input [synapses_weights.py:  79] INFO     \t \t spikes 1.0\n",
      "05-07 14:39:22 balanced input [synapses_weights.py:  97] INFO     \t 1.0 +- 0.0 (n=1)\n",
      "\n",
      "05-07 14:39:22 balanced input [synapses_weights.py:  59] INFO     \t exc_syn: 630 (1)\t inh_syn: 794 (1)\n",
      "\n"
     ]
    },
    {
     "name": "stdout",
     "output_type": "stream",
     "text": [
      "\t1 \n",
      "InhDendDistalRatio:0 \t ExcDendDistalRatio:1\n",
      "\t44 \n",
      "ninhL:0 \t ninhB:794 \t nexcL:630 \t nexcB:0 \n",
      "\t43 \n",
      "794 proximal inhibitory synapses of type GABAa[0]\n",
      "630 distal excitatory synapses of type ProbAMPANMDA3_RATIO[0]\n",
      "synapses loaded \n",
      "\t17 \n",
      "\t1 \n"
     ]
    },
    {
     "name": "stderr",
     "output_type": "stream",
     "text": [
      "05-07 14:40:42 balanced input [synapses_weights.py:  79] INFO     \t \t spikes 1.0\n",
      "05-07 14:40:42 balanced input [synapses_weights.py:  97] INFO     \t 1.0 +- 0.0 (n=1)\n",
      "\n",
      "05-07 14:40:42 balanced input [synapses_weights.py:  59] INFO     \t exc_syn: 794 (1)\t inh_syn: 794 (1)\n",
      "\n"
     ]
    },
    {
     "name": "stdout",
     "output_type": "stream",
     "text": [
      "\t1 \n",
      "InhDendDistalRatio:0 \t ExcDendDistalRatio:1\n",
      "\t44 \n",
      "ninhL:0 \t ninhB:794 \t nexcL:794 \t nexcB:0 \n",
      "\t43 \n",
      "794 proximal inhibitory synapses of type GABAa[0]\n",
      "794 distal excitatory synapses of type ProbAMPANMDA3_RATIO[0]\n",
      "synapses loaded \n",
      "\t17 \n",
      "\t1 \n"
     ]
    },
    {
     "name": "stderr",
     "output_type": "stream",
     "text": [
      "05-07 14:42:09 balanced input [synapses_weights.py:  79] INFO     \t \t spikes 1.0\n",
      "05-07 14:42:09 balanced input [synapses_weights.py:  97] INFO     \t 1.0 +- 0.0 (n=1)\n",
      "\n",
      "05-07 14:42:09 balanced input [synapses_weights.py:  59] INFO     \t exc_syn: 1000 (1)\t inh_syn: 794 (1)\n",
      "\n"
     ]
    },
    {
     "name": "stdout",
     "output_type": "stream",
     "text": [
      "\t1 \n",
      "InhDendDistalRatio:0 \t ExcDendDistalRatio:1\n",
      "\t44 \n",
      "ninhL:0 \t ninhB:794 \t nexcL:1000 \t nexcB:0 \n",
      "\t44 \n",
      "794 proximal inhibitory synapses of type GABAa[0]\n",
      "1000 distal excitatory synapses of type ProbAMPANMDA3_RATIO[0]\n",
      "synapses loaded \n",
      "\t17 \n",
      "\t1 \n"
     ]
    },
    {
     "name": "stderr",
     "output_type": "stream",
     "text": [
      "05-07 14:44:00 balanced input [synapses_weights.py:  79] INFO     \t \t spikes 1.0\n",
      "05-07 14:44:00 balanced input [synapses_weights.py:  97] INFO     \t 1.0 +- 0.0 (n=1)\n",
      "\n",
      "05-07 14:44:00 balanced input [synapses_weights.py:  59] INFO     \t exc_syn: 0 (1)\t inh_syn: 1000 (1)\n",
      "\n"
     ]
    },
    {
     "name": "stdout",
     "output_type": "stream",
     "text": [
      "1 excitatory synapse\n",
      "\t1 \n",
      "InhDendDistalRatio:0 \t ExcDendDistalRatio:1\n",
      "\t44 \n",
      "ninhL:0 \t ninhB:1000 \t nexcL:1 \t nexcB:0 \n",
      "\t42 \n",
      "1000 proximal inhibitory synapses of type GABAa[0]\n",
      "1 distal excitatory synapses of type ProbAMPANMDA3_RATIO[0]\n",
      "synapses loaded \n",
      "\t17 \n",
      "\t1 \n"
     ]
    },
    {
     "name": "stderr",
     "output_type": "stream",
     "text": [
      "05-07 14:44:47 balanced input [synapses_weights.py:  79] INFO     \t \t spikes 0.0\n",
      "05-07 14:44:47 balanced input [synapses_weights.py:  83] INFO     \t break from too many 0's\n",
      "05-07 14:44:47 balanced input [synapses_weights.py:  97] INFO     \t 0.0 +- 0.0 (n=1)\n",
      "\n",
      "05-07 14:44:47 balanced input [synapses_weights.py:  59] INFO     \t exc_syn: 10 (1)\t inh_syn: 1000 (1)\n",
      "\n"
     ]
    },
    {
     "name": "stdout",
     "output_type": "stream",
     "text": [
      "\t1 \n",
      "InhDendDistalRatio:0 \t ExcDendDistalRatio:1\n",
      "\t44 \n",
      "ninhL:0 \t ninhB:1000 \t nexcL:10 \t nexcB:0 \n",
      "\t43 \n",
      "1000 proximal inhibitory synapses of type GABAa[0]\n",
      "10 distal excitatory synapses of type ProbAMPANMDA3_RATIO[0]\n",
      "synapses loaded \n",
      "\t17 \n",
      "\t1 \n"
     ]
    },
    {
     "name": "stderr",
     "output_type": "stream",
     "text": [
      "05-07 14:45:34 balanced input [synapses_weights.py:  79] INFO     \t \t spikes 0.0\n",
      "05-07 14:45:34 balanced input [synapses_weights.py:  83] INFO     \t break from too many 0's\n",
      "05-07 14:45:34 balanced input [synapses_weights.py:  97] INFO     \t 0.0 +- 0.0 (n=1)\n",
      "\n",
      "05-07 14:45:34 balanced input [synapses_weights.py:  59] INFO     \t exc_syn: 21 (1)\t inh_syn: 1000 (1)\n",
      "\n"
     ]
    },
    {
     "name": "stdout",
     "output_type": "stream",
     "text": [
      "\t1 \n",
      "InhDendDistalRatio:0 \t ExcDendDistalRatio:1\n",
      "\t44 \n",
      "ninhL:0 \t ninhB:1000 \t nexcL:21 \t nexcB:0 \n",
      "\t43 \n",
      "1000 proximal inhibitory synapses of type GABAa[0]\n",
      "21 distal excitatory synapses of type ProbAMPANMDA3_RATIO[0]\n",
      "synapses loaded \n",
      "\t17 \n",
      "\t1 \n"
     ]
    },
    {
     "name": "stderr",
     "output_type": "stream",
     "text": [
      "05-07 14:46:25 balanced input [synapses_weights.py:  79] INFO     \t \t spikes 0.0\n",
      "05-07 14:46:25 balanced input [synapses_weights.py:  83] INFO     \t break from too many 0's\n",
      "05-07 14:46:25 balanced input [synapses_weights.py:  97] INFO     \t 0.0 +- 0.0 (n=1)\n",
      "\n",
      "05-07 14:46:25 balanced input [synapses_weights.py:  59] INFO     \t exc_syn: 46 (1)\t inh_syn: 1000 (1)\n",
      "\n"
     ]
    },
    {
     "name": "stdout",
     "output_type": "stream",
     "text": [
      "\t1 \n",
      "InhDendDistalRatio:0 \t ExcDendDistalRatio:1\n",
      "\t44 \n",
      "ninhL:0 \t ninhB:1000 \t nexcL:46 \t nexcB:0 \n",
      "\t43 \n",
      "1000 proximal inhibitory synapses of type GABAa[0]\n",
      "46 distal excitatory synapses of type ProbAMPANMDA3_RATIO[0]\n",
      "synapses loaded \n",
      "\t17 \n",
      "\t1 \n"
     ]
    },
    {
     "name": "stderr",
     "output_type": "stream",
     "text": [
      "05-07 14:47:17 balanced input [synapses_weights.py:  79] INFO     \t \t spikes 0.0\n",
      "05-07 14:47:17 balanced input [synapses_weights.py:  83] INFO     \t break from too many 0's\n",
      "05-07 14:47:17 balanced input [synapses_weights.py:  97] INFO     \t 0.0 +- 0.0 (n=1)\n",
      "\n",
      "05-07 14:47:17 balanced input [synapses_weights.py:  59] INFO     \t exc_syn: 100 (1)\t inh_syn: 1000 (1)\n",
      "\n"
     ]
    },
    {
     "name": "stdout",
     "output_type": "stream",
     "text": [
      "\t1 \n",
      "InhDendDistalRatio:0 \t ExcDendDistalRatio:1\n",
      "\t44 \n",
      "ninhL:0 \t ninhB:1000 \t nexcL:100 \t nexcB:0 \n",
      "\t44 \n",
      "1000 proximal inhibitory synapses of type GABAa[0]\n",
      "100 distal excitatory synapses of type ProbAMPANMDA3_RATIO[0]\n",
      "synapses loaded \n",
      "\t17 \n",
      "\t1 \n"
     ]
    },
    {
     "name": "stderr",
     "output_type": "stream",
     "text": [
      "05-07 14:48:16 balanced input [synapses_weights.py:  79] INFO     \t \t spikes 0.0\n",
      "05-07 14:48:16 balanced input [synapses_weights.py:  83] INFO     \t break from too many 0's\n",
      "05-07 14:48:16 balanced input [synapses_weights.py:  97] INFO     \t 0.0 +- 0.0 (n=1)\n",
      "\n",
      "05-07 14:48:16 balanced input [synapses_weights.py:  59] INFO     \t exc_syn: 125 (1)\t inh_syn: 1000 (1)\n",
      "\n"
     ]
    },
    {
     "name": "stdout",
     "output_type": "stream",
     "text": [
      "\t1 \n",
      "InhDendDistalRatio:0 \t ExcDendDistalRatio:1\n",
      "\t44 \n",
      "ninhL:0 \t ninhB:1000 \t nexcL:125 \t nexcB:0 \n",
      "\t44 \n",
      "1000 proximal inhibitory synapses of type GABAa[0]\n",
      "125 distal excitatory synapses of type ProbAMPANMDA3_RATIO[0]\n",
      "synapses loaded \n",
      "\t17 \n",
      "\t1 \n"
     ]
    },
    {
     "name": "stderr",
     "output_type": "stream",
     "text": [
      "05-07 14:49:21 balanced input [synapses_weights.py:  79] INFO     \t \t spikes 0.0\n",
      "05-07 14:49:21 balanced input [synapses_weights.py:  83] INFO     \t break from too many 0's\n",
      "05-07 14:49:21 balanced input [synapses_weights.py:  97] INFO     \t 0.0 +- 0.0 (n=1)\n",
      "\n",
      "05-07 14:49:21 balanced input [synapses_weights.py:  59] INFO     \t exc_syn: 158 (1)\t inh_syn: 1000 (1)\n",
      "\n"
     ]
    },
    {
     "name": "stdout",
     "output_type": "stream",
     "text": [
      "\t1 \n",
      "InhDendDistalRatio:0 \t ExcDendDistalRatio:1\n",
      "\t44 \n",
      "ninhL:0 \t ninhB:1000 \t nexcL:158 \t nexcB:0 \n",
      "\t44 \n",
      "1000 proximal inhibitory synapses of type GABAa[0]\n",
      "158 distal excitatory synapses of type ProbAMPANMDA3_RATIO[0]\n",
      "synapses loaded \n",
      "\t17 \n",
      "\t1 \n"
     ]
    },
    {
     "name": "stderr",
     "output_type": "stream",
     "text": [
      "05-07 14:50:25 balanced input [synapses_weights.py:  79] INFO     \t \t spikes 0.0\n",
      "05-07 14:50:25 balanced input [synapses_weights.py:  83] INFO     \t break from too many 0's\n",
      "05-07 14:50:25 balanced input [synapses_weights.py:  97] INFO     \t 0.0 +- 0.0 (n=1)\n",
      "\n",
      "05-07 14:50:25 balanced input [synapses_weights.py:  59] INFO     \t exc_syn: 199 (1)\t inh_syn: 1000 (1)\n",
      "\n"
     ]
    },
    {
     "name": "stdout",
     "output_type": "stream",
     "text": [
      "\t1 \n",
      "InhDendDistalRatio:0 \t ExcDendDistalRatio:1\n",
      "\t44 \n",
      "ninhL:0 \t ninhB:1000 \t nexcL:199 \t nexcB:0 \n",
      "\t44 \n",
      "1000 proximal inhibitory synapses of type GABAa[0]\n",
      "199 distal excitatory synapses of type ProbAMPANMDA3_RATIO[0]\n",
      "synapses loaded \n",
      "\t17 \n",
      "\t1 \n"
     ]
    },
    {
     "name": "stderr",
     "output_type": "stream",
     "text": [
      "05-07 14:51:28 balanced input [synapses_weights.py:  79] INFO     \t \t spikes 0.0\n",
      "05-07 14:51:28 balanced input [synapses_weights.py:  83] INFO     \t break from too many 0's\n",
      "05-07 14:51:28 balanced input [synapses_weights.py:  97] INFO     \t 0.0 +- 0.0 (n=1)\n",
      "\n",
      "05-07 14:51:28 balanced input [synapses_weights.py:  59] INFO     \t exc_syn: 251 (1)\t inh_syn: 1000 (1)\n",
      "\n"
     ]
    },
    {
     "name": "stdout",
     "output_type": "stream",
     "text": [
      "\t1 \n",
      "InhDendDistalRatio:0 \t ExcDendDistalRatio:1\n",
      "\t44 \n",
      "ninhL:0 \t ninhB:1000 \t nexcL:251 \t nexcB:0 \n",
      "\t44 \n",
      "1000 proximal inhibitory synapses of type GABAa[0]\n",
      "251 distal excitatory synapses of type ProbAMPANMDA3_RATIO[0]\n",
      "synapses loaded \n",
      "\t17 \n",
      "\t1 \n"
     ]
    },
    {
     "name": "stderr",
     "output_type": "stream",
     "text": [
      "05-07 14:52:34 balanced input [synapses_weights.py:  79] INFO     \t \t spikes 0.0\n",
      "05-07 14:52:34 balanced input [synapses_weights.py:  83] INFO     \t break from too many 0's\n",
      "05-07 14:52:34 balanced input [synapses_weights.py:  97] INFO     \t 0.0 +- 0.0 (n=1)\n",
      "\n",
      "05-07 14:52:34 balanced input [synapses_weights.py:  59] INFO     \t exc_syn: 316 (1)\t inh_syn: 1000 (1)\n",
      "\n"
     ]
    },
    {
     "name": "stdout",
     "output_type": "stream",
     "text": [
      "\t1 \n",
      "InhDendDistalRatio:0 \t ExcDendDistalRatio:1\n",
      "\t44 \n",
      "ninhL:0 \t ninhB:1000 \t nexcL:316 \t nexcB:0 \n",
      "\t44 \n",
      "1000 proximal inhibitory synapses of type GABAa[0]\n",
      "316 distal excitatory synapses of type ProbAMPANMDA3_RATIO[0]\n",
      "synapses loaded \n",
      "\t17 \n",
      "\t1 \n"
     ]
    },
    {
     "name": "stderr",
     "output_type": "stream",
     "text": [
      "05-07 14:53:47 balanced input [synapses_weights.py:  79] INFO     \t \t spikes 0.0\n",
      "05-07 14:53:47 balanced input [synapses_weights.py:  83] INFO     \t break from too many 0's\n",
      "05-07 14:53:47 balanced input [synapses_weights.py:  97] INFO     \t 0.0 +- 0.0 (n=1)\n",
      "\n",
      "05-07 14:53:47 balanced input [synapses_weights.py:  59] INFO     \t exc_syn: 398 (1)\t inh_syn: 1000 (1)\n",
      "\n"
     ]
    },
    {
     "name": "stdout",
     "output_type": "stream",
     "text": [
      "\t1 \n",
      "InhDendDistalRatio:0 \t ExcDendDistalRatio:1\n",
      "\t44 \n",
      "ninhL:0 \t ninhB:1000 \t nexcL:398 \t nexcB:0 \n",
      "\t44 \n",
      "1000 proximal inhibitory synapses of type GABAa[0]\n",
      "398 distal excitatory synapses of type ProbAMPANMDA3_RATIO[0]\n",
      "synapses loaded \n",
      "\t17 \n",
      "\t1 \n"
     ]
    },
    {
     "name": "stderr",
     "output_type": "stream",
     "text": [
      "05-07 14:55:10 balanced input [synapses_weights.py:  79] INFO     \t \t spikes 0.0\n",
      "05-07 14:55:10 balanced input [synapses_weights.py:  83] INFO     \t break from too many 0's\n",
      "05-07 14:55:10 balanced input [synapses_weights.py:  97] INFO     \t 0.0 +- 0.0 (n=1)\n",
      "\n",
      "05-07 14:55:10 balanced input [synapses_weights.py:  59] INFO     \t exc_syn: 501 (1)\t inh_syn: 1000 (1)\n",
      "\n"
     ]
    },
    {
     "name": "stdout",
     "output_type": "stream",
     "text": [
      "\t1 \n",
      "InhDendDistalRatio:0 \t ExcDendDistalRatio:1\n",
      "\t44 \n",
      "ninhL:0 \t ninhB:1000 \t nexcL:501 \t nexcB:0 \n",
      "\t44 \n",
      "1000 proximal inhibitory synapses of type GABAa[0]\n",
      "501 distal excitatory synapses of type ProbAMPANMDA3_RATIO[0]\n",
      "synapses loaded \n",
      "\t17 \n",
      "\t1 \n"
     ]
    },
    {
     "name": "stderr",
     "output_type": "stream",
     "text": [
      "05-07 14:56:34 balanced input [synapses_weights.py:  79] INFO     \t \t spikes 0.0\n",
      "05-07 14:56:34 balanced input [synapses_weights.py:  83] INFO     \t break from too many 0's\n",
      "05-07 14:56:34 balanced input [synapses_weights.py:  97] INFO     \t 0.0 +- 0.0 (n=1)\n",
      "\n",
      "05-07 14:56:34 balanced input [synapses_weights.py:  59] INFO     \t exc_syn: 630 (1)\t inh_syn: 1000 (1)\n",
      "\n"
     ]
    },
    {
     "name": "stdout",
     "output_type": "stream",
     "text": [
      "\t1 \n",
      "InhDendDistalRatio:0 \t ExcDendDistalRatio:1\n",
      "\t44 \n",
      "ninhL:0 \t ninhB:1000 \t nexcL:630 \t nexcB:0 \n",
      "\t44 \n",
      "1000 proximal inhibitory synapses of type GABAa[0]\n",
      "630 distal excitatory synapses of type ProbAMPANMDA3_RATIO[0]\n",
      "synapses loaded \n",
      "\t17 \n",
      "\t1 \n"
     ]
    },
    {
     "name": "stderr",
     "output_type": "stream",
     "text": [
      "05-07 14:58:14 balanced input [synapses_weights.py:  79] INFO     \t \t spikes 1.0\n",
      "05-07 14:58:14 balanced input [synapses_weights.py:  97] INFO     \t 1.0 +- 0.0 (n=1)\n",
      "\n",
      "05-07 14:58:14 balanced input [synapses_weights.py:  59] INFO     \t exc_syn: 794 (1)\t inh_syn: 1000 (1)\n",
      "\n"
     ]
    },
    {
     "name": "stdout",
     "output_type": "stream",
     "text": [
      "\t1 \n",
      "InhDendDistalRatio:0 \t ExcDendDistalRatio:1\n",
      "\t44 \n",
      "ninhL:0 \t ninhB:1000 \t nexcL:794 \t nexcB:0 \n",
      "\t44 \n",
      "1000 proximal inhibitory synapses of type GABAa[0]\n",
      "794 distal excitatory synapses of type ProbAMPANMDA3_RATIO[0]\n",
      "synapses loaded \n",
      "\t17 \n",
      "\t1 \n"
     ]
    },
    {
     "name": "stderr",
     "output_type": "stream",
     "text": [
      "05-07 15:00:03 balanced input [synapses_weights.py:  79] INFO     \t \t spikes 1.0\n",
      "05-07 15:00:03 balanced input [synapses_weights.py:  97] INFO     \t 1.0 +- 0.0 (n=1)\n",
      "\n",
      "05-07 15:00:03 balanced input [synapses_weights.py:  59] INFO     \t exc_syn: 1000 (1)\t inh_syn: 1000 (1)\n",
      "\n"
     ]
    },
    {
     "name": "stdout",
     "output_type": "stream",
     "text": [
      "\t1 \n",
      "InhDendDistalRatio:0 \t ExcDendDistalRatio:1\n",
      "\t44 \n",
      "ninhL:0 \t ninhB:1000 \t nexcL:1000 \t nexcB:0 \n",
      "\t45 \n",
      "1000 proximal inhibitory synapses of type GABAa[0]\n",
      "1000 distal excitatory synapses of type ProbAMPANMDA3_RATIO[0]\n",
      "synapses loaded \n",
      "\t17 \n",
      "\t1 \n"
     ]
    },
    {
     "name": "stderr",
     "output_type": "stream",
     "text": [
      "05-07 15:02:08 balanced input [synapses_weights.py:  79] INFO     \t \t spikes 1.0\n",
      "05-07 15:02:08 balanced input [synapses_weights.py:  97] INFO     \t 1.0 +- 0.0 (n=1)\n",
      "\n"
     ]
    }
   ],
   "source": [
    "result_files = run_NEURON(exc_syn_list=exc_syn_list, inh_syn_list=inh_syn_list, num_runs=2, max_num_runs=5)"
   ]
  },
  {
   "cell_type": "code",
   "execution_count": 8,
   "metadata": {},
   "outputs": [
    {
     "name": "stderr",
     "output_type": "stream",
     "text": [
      "05-07 15:02:08 io heatmap [balanced_heatmap.py:  83] INFO     \t results_balanced_heatmap\\distal_KCC2.txt\n",
      "05-07 15:02:08 file_io    [file_io.py: 125] INFO     \t ei_strength={(1, 1): {(0, 0): (0.0, 0.0, 1.0), (10, 0): (0.0, 0.0, 1.0), (21, 0): (0.0, 0.0, 1.0), (46, 0): (0.0, 0.0, 1.0), (100, 0): (1.0, 0.0, 1.0), (125, 0): (1.0, 0.0, 1.0), (158, 0): (2.0, 0.0, 1.0), (199, 0): (4.0, 0.0, 1.0), (251, 0): (13.0, 0.0, 1.0), (316, 0): (30.0, 0.0, 1.0), (398, 0): (16.0, 0.0, 0.0), (501, 0): (16.0, 0.0, 0.0), (630, 0): (16.0, 0.0, 0.0), (794, 0): (16.0, 0.0, 0.0), (1000, 0): (16.0, 0.0, 0.0), (0, 10): (0.0, 0.0, 1.0), (10, 10): (0.0, 0.0, 1.0), (21, 10): (0.0, 0.0, 1.0), (46, 10): (0.0, 0.0, 1.0), (100, 10): (1.0, 0.0, 1.0), (125, 10): (1.0, 0.0, 1.0), (158, 10): (2.0, 0.0, 1.0), (199, 10): (4.0, 0.0, 1.0), (251, 10): (12.0, 0.0, 1.0), (316, 10): (29.0, 0.0, 1.0), (398, 10): (16.0, 0.0, 0.0), (501, 10): (16.0, 0.0, 0.0), (630, 10): (16.0, 0.0, 0.0), (794, 10): (16.0, 0.0, 0.0), (1000, 10): (16.0, 0.0, 0.0), (0, 21): (0.0, 0.0, 1.0), (10, 21): (0.0, 0.0, 1.0), (21, 21): (0.0, 0.0, 1.0), (46, 21): (0.0, 0.0, 1.0), (100, 21): (1.0, 0.0, 1.0), (125, 21): (1.0, 0.0, 1.0), (158, 21): (2.0, 0.0, 1.0), (199, 21): (3.0, 0.0, 1.0), (251, 21): (10.0, 0.0, 1.0), (316, 21): (28.0, 0.0, 1.0), (398, 21): (16.0, 0.0, 0.0), (501, 21): (16.0, 0.0, 0.0), (630, 21): (16.0, 0.0, 0.0), (794, 21): (16.0, 0.0, 0.0), (1000, 21): (16.0, 0.0, 0.0), (0, 46): (0.0, 0.0, 1.0), (10, 46): (0.0, 0.0, 1.0), (21, 46): (0.0, 0.0, 1.0), (46, 46): (0.0, 0.0, 1.0), (100, 46): (1.0, 0.0, 1.0), (125, 46): (1.0, 0.0, 1.0), (158, 46): (1.0, 0.0, 1.0), (199, 46): (3.0, 0.0, 1.0), (251, 46): (8.0, 0.0, 1.0), (316, 46): (26.0, 0.0, 1.0), (398, 46): (16.0, 0.0, 0.0), (501, 46): (16.0, 0.0, 0.0), (630, 46): (16.0, 0.0, 0.0), (794, 46): (16.0, 0.0, 0.0), (1000, 46): (16.0, 0.0, 0.0), (0, 100): (0.0, 0.0, 1.0), (10, 100): (0.0, 0.0, 1.0), (21, 100): (0.0, 0.0, 1.0), (46, 100): (0.0, 0.0, 1.0), (100, 100): (1.0, 0.0, 1.0), (125, 100): (1.0, 0.0, 1.0), (158, 100): (1.0, 0.0, 1.0), (199, 100): (2.0, 0.0, 1.0), (251, 100): (6.0, 0.0, 1.0), (316, 100): (21.0, 0.0, 1.0), (398, 100): (16.0, 0.0, 0.0), (501, 100): (16.0, 0.0, 0.0), (630, 100): (16.0, 0.0, 0.0), (794, 100): (16.0, 0.0, 0.0), (1000, 100): (16.0, 0.0, 0.0), (0, 125): (0.0, 0.0, 1.0), (10, 125): (0.0, 0.0, 1.0), (21, 125): (0.0, 0.0, 1.0), (46, 125): (0.0, 0.0, 1.0), (100, 125): (1.0, 0.0, 1.0), (125, 125): (1.0, 0.0, 1.0), (158, 125): (1.0, 0.0, 1.0), (199, 125): (2.0, 0.0, 1.0), (251, 125): (5.0, 0.0, 1.0), (316, 125): (19.0, 0.0, 1.0), (398, 125): (16.0, 0.0, 0.0), (501, 125): (16.0, 0.0, 0.0), (630, 125): (16.0, 0.0, 0.0), (794, 125): (16.0, 0.0, 0.0), (1000, 125): (16.0, 0.0, 0.0), (0, 158): (0.0, 0.0, 1.0), (10, 158): (0.0, 0.0, 1.0), (21, 158): (0.0, 0.0, 1.0), (46, 158): (0.0, 0.0, 1.0), (100, 158): (1.0, 0.0, 1.0), (125, 158): (1.0, 0.0, 1.0), (158, 158): (1.0, 0.0, 1.0), (199, 158): (2.0, 0.0, 1.0), (251, 158): (4.0, 0.0, 1.0), (316, 158): (17.0, 0.0, 1.0), (398, 158): (16.0, 0.0, 0.0), (501, 158): (16.0, 0.0, 0.0), (630, 158): (16.0, 0.0, 0.0), (794, 158): (16.0, 0.0, 0.0), (1000, 158): (16.0, 0.0, 0.0), (0, 199): (0.0, 0.0, 1.0), (10, 199): (0.0, 0.0, 1.0), (21, 199): (0.0, 0.0, 1.0), (46, 199): (0.0, 0.0, 1.0), (100, 199): (1.0, 0.0, 1.0), (125, 199): (1.0, 0.0, 1.0), (158, 199): (1.0, 0.0, 1.0), (199, 199): (2.0, 0.0, 1.0), (251, 199): (4.0, 0.0, 1.0), (316, 199): (16.0, 0.0, 1.0), (398, 199): (16.0, 0.0, 0.0), (501, 199): (16.0, 0.0, 0.0), (630, 199): (16.0, 0.0, 0.0), (794, 199): (16.0, 0.0, 0.0), (1000, 199): (16.0, 0.0, 0.0), (0, 251): (0.0, 0.0, 1.0), (10, 251): (0.0, 0.0, 1.0), (21, 251): (0.0, 0.0, 1.0), (46, 251): (0.0, 0.0, 1.0), (100, 251): (1.0, 0.0, 1.0), (125, 251): (1.0, 0.0, 1.0), (158, 251): (1.0, 0.0, 1.0), (199, 251): (2.0, 0.0, 1.0), (251, 251): (4.0, 0.0, 1.0), (316, 251): (13.0, 0.0, 1.0), (398, 251): (35.0, 0.0, 1.0), (501, 251): (16.0, 0.0, 0.0), (630, 251): (16.0, 0.0, 0.0), (794, 251): (16.0, 0.0, 0.0), (1000, 251): (16.0, 0.0, 0.0), (0, 316): (0.0, 0.0, 1.0), (10, 316): (0.0, 0.0, 1.0), (21, 316): (0.0, 0.0, 1.0), (46, 316): (0.0, 0.0, 1.0), (100, 316): (1.0, 0.0, 1.0), (125, 316): (1.0, 0.0, 1.0), (158, 316): (1.0, 0.0, 1.0), (199, 316): (2.0, 0.0, 1.0), (251, 316): (3.0, 0.0, 1.0), (316, 316): (12.0, 0.0, 1.0), (398, 316): (32.0, 0.0, 1.0), (501, 316): (16.0, 0.0, 0.0), (630, 316): (16.0, 0.0, 0.0), (794, 316): (16.0, 0.0, 0.0), (1000, 316): (16.0, 0.0, 0.0), (0, 398): (0.0, 0.0, 1.0), (10, 398): (0.0, 0.0, 1.0), (21, 398): (0.0, 0.0, 1.0), (46, 398): (0.0, 0.0, 1.0), (100, 398): (1.0, 0.0, 1.0), (125, 398): (1.0, 0.0, 1.0), (158, 398): (1.0, 0.0, 1.0), (199, 398): (1.0, 0.0, 1.0), (251, 398): (3.0, 0.0, 1.0), (316, 398): (10.0, 0.0, 1.0), (398, 398): (29.0, 0.0, 1.0), (501, 398): (16.0, 0.0, 0.0), (630, 398): (16.0, 0.0, 0.0), (794, 398): (16.0, 0.0, 0.0), (1000, 398): (16.0, 0.0, 0.0), (0, 501): (0.0, 0.0, 1.0), (10, 501): (0.0, 0.0, 1.0), (21, 501): (0.0, 0.0, 1.0), (46, 501): (0.0, 0.0, 1.0), (100, 501): (1.0, 0.0, 1.0), (125, 501): (1.0, 0.0, 1.0), (158, 501): (1.0, 0.0, 1.0), (199, 501): (1.0, 0.0, 1.0), (251, 501): (2.0, 0.0, 1.0), (316, 501): (9.0, 0.0, 1.0), (398, 501): (26.0, 0.0, 1.0), (501, 501): (16.0, 0.0, 0.0), (630, 501): (16.0, 0.0, 0.0), (794, 501): (16.0, 0.0, 0.0), (1000, 501): (16.0, 0.0, 0.0), (0, 630): (0.0, 0.0, 1.0), (10, 630): (0.0, 0.0, 1.0), (21, 630): (0.0, 0.0, 1.0), (46, 630): (0.0, 0.0, 1.0), (100, 630): (0.0, 0.0, 1.0), (125, 630): (1.0, 0.0, 1.0), (158, 630): (1.0, 0.0, 1.0), (199, 630): (1.0, 0.0, 1.0), (251, 630): (2.0, 0.0, 1.0), (316, 630): (7.0, 0.0, 1.0), (398, 630): (23.0, 0.0, 1.0), (501, 630): (16.0, 0.0, 0.0), (630, 630): (16.0, 0.0, 0.0), (794, 630): (16.0, 0.0, 0.0), (1000, 630): (16.0, 0.0, 0.0), (0, 794): (0.0, 0.0, 1.0), (10, 794): (0.0, 0.0, 1.0), (21, 794): (0.0, 0.0, 1.0), (46, 794): (0.0, 0.0, 1.0), (100, 794): (0.0, 0.0, 1.0), (125, 794): (1.0, 0.0, 1.0), (158, 794): (1.0, 0.0, 1.0), (199, 794): (1.0, 0.0, 1.0), (251, 794): (2.0, 0.0, 1.0), (316, 794): (5.0, 0.0, 1.0), (398, 794): (18.0, 0.0, 1.0), (501, 794): (16.0, 0.0, 0.0), (630, 794): (16.0, 0.0, 0.0), (794, 794): (16.0, 0.0, 0.0), (1000, 794): (16.0, 0.0, 0.0), (0, 1000): (0.0, 0.0, 1.0), (10, 1000): (0.0, 0.0, 1.0), (21, 1000): (0.0, 0.0, 1.0), (46, 1000): (0.0, 0.0, 1.0), (100, 1000): (0.0, 0.0, 1.0), (125, 1000): (0.0, 0.0, 1.0), (158, 1000): (1.0, 0.0, 1.0), (199, 1000): (1.0, 0.0, 1.0), (251, 1000): (2.0, 0.0, 1.0), (316, 1000): (4.0, 0.0, 1.0), (398, 1000): (15.0, 0.0, 1.0), (501, 1000): (37.0, 0.0, 1.0), (630, 1000): (16.0, 0.0, 0.0), (794, 1000): (16.0, 0.0, 0.0), (1000, 1000): (16.0, 0.0, 0.0)}}\n",
      "05-07 15:02:08 balanced input vis [vis.py    :  25] INFO     \t weights = (1, 1)\n",
      "05-07 15:02:10 balanced input vis [vis.py    :  71] INFO     \t ('exc', 'inh'), ('spike', 'stddev')\n",
      "05-07 15:02:10 balanced input vis [vis.py    :  77] INFO     \t (251, 125), (5.0, 0.0, 1.0)\n",
      "05-07 15:02:10 balanced input vis [vis.py    :  77] INFO     \t (316, 794), (5.0, 0.0, 1.0)\n",
      "05-07 15:02:10 balanced input vis [vis.py    :  81] INFO     \t [('offset:', 0.0), ('excitation', 251), ('inhibition', 125)]\n",
      "05-07 15:02:10 balanced input vis [vis.py    :  84] INFO     \t (199,0) = 1.0\n",
      "05-07 15:02:10 balanced input vis [vis.py    :  84] INFO     \t (199,10) = 1.0\n",
      "05-07 15:02:10 balanced input vis [vis.py    :  84] INFO     \t (199,21) = 2.0\n",
      "05-07 15:02:10 balanced input vis [vis.py    :  84] INFO     \t (199,46) = 2.0\n",
      "05-07 15:02:10 balanced input vis [vis.py    :  84] INFO     \t (251,100) = 1.0\n",
      "05-07 15:02:10 balanced input vis [vis.py    :  84] INFO     \t (251,125) = 0.0\n",
      "05-07 15:02:10 balanced input vis [vis.py    :  84] INFO     \t (251,158) = 1.0\n",
      "05-07 15:02:10 balanced input vis [vis.py    :  84] INFO     \t (251,199) = 1.0\n",
      "05-07 15:02:10 balanced input vis [vis.py    :  84] INFO     \t (251,251) = 1.0\n",
      "05-07 15:02:10 balanced input vis [vis.py    :  84] INFO     \t (251,316) = 2.0\n",
      "05-07 15:02:10 balanced input vis [vis.py    :  84] INFO     \t (251,398) = 2.0\n",
      "05-07 15:02:10 balanced input vis [vis.py    :  84] INFO     \t (251,501) = 3.0\n",
      "05-07 15:02:10 balanced input vis [vis.py    :  84] INFO     \t (316,630) = 2.0\n",
      "05-07 15:02:10 balanced input vis [vis.py    :  84] INFO     \t (316,794) = 0.0\n",
      "05-07 15:02:10 balanced input vis [vis.py    :  84] INFO     \t (316,1000) = 1.0\n",
      "05-07 15:02:10 io heatmap [balanced_heatmap.py:  83] INFO     \t results_balanced_heatmap\\proximal_KCC2.txt\n",
      "05-07 15:02:10 file_io    [file_io.py: 125] INFO     \t ei_strength={(1, 1): {(0, 0): (0.0, 0.0, 1.0), (10, 0): (0.0, 0.0, 1.0), (21, 0): (0.0, 0.0, 1.0), (46, 0): (0.0, 0.0, 1.0), (100, 0): (1.0, 0.0, 1.0), (125, 0): (1.0, 0.0, 1.0), (158, 0): (2.0, 0.0, 1.0), (199, 0): (4.0, 0.0, 1.0), (251, 0): (12.0, 0.0, 1.0), (316, 0): (28.0, 0.0, 1.0), (398, 0): (16.0, 0.0, 0.0), (501, 0): (16.0, 0.0, 0.0), (630, 0): (16.0, 0.0, 0.0), (794, 0): (16.0, 0.0, 0.0), (1000, 0): (16.0, 0.0, 0.0), (0, 10): (0.0, 0.0, 1.0), (10, 10): (0.0, 0.0, 1.0), (21, 10): (0.0, 0.0, 1.0), (46, 10): (0.0, 0.0, 1.0), (100, 10): (1.0, 0.0, 1.0), (125, 10): (1.0, 0.0, 1.0), (158, 10): (1.0, 0.0, 1.0), (199, 10): (2.0, 0.0, 1.0), (251, 10): (5.0, 0.0, 1.0), (316, 10): (18.0, 0.0, 1.0), (398, 10): (16.0, 0.0, 0.0), (501, 10): (16.0, 0.0, 0.0), (630, 10): (16.0, 0.0, 0.0), (794, 10): (16.0, 0.0, 0.0), (1000, 10): (16.0, 0.0, 0.0), (0, 21): (0.0, 0.0, 1.0), (10, 21): (0.0, 0.0, 1.0), (21, 21): (0.0, 0.0, 1.0), (46, 21): (0.0, 0.0, 1.0), (100, 21): (1.0, 0.0, 1.0), (125, 21): (1.0, 0.0, 1.0), (158, 21): (1.0, 0.0, 1.0), (199, 21): (2.0, 0.0, 1.0), (251, 21): (4.0, 0.0, 1.0), (316, 21): (14.0, 0.0, 1.0), (398, 21): (33.0, 0.0, 1.0), (501, 21): (16.0, 0.0, 0.0), (630, 21): (16.0, 0.0, 0.0), (794, 21): (16.0, 0.0, 0.0), (1000, 21): (16.0, 0.0, 0.0), (0, 46): (0.0, 0.0, 1.0), (10, 46): (0.0, 0.0, 1.0), (21, 46): (0.0, 0.0, 1.0), (46, 46): (0.0, 0.0, 1.0), (100, 46): (1.0, 0.0, 1.0), (125, 46): (1.0, 0.0, 1.0), (158, 46): (1.0, 0.0, 1.0), (199, 46): (2.0, 0.0, 1.0), (251, 46): (3.0, 0.0, 1.0), (316, 46): (9.0, 0.0, 1.0), (398, 46): (23.0, 0.0, 1.0), (501, 46): (16.0, 0.0, 0.0), (630, 46): (16.0, 0.0, 0.0), (794, 46): (16.0, 0.0, 0.0), (1000, 46): (16.0, 0.0, 0.0), (0, 100): (0.0, 0.0, 1.0), (10, 100): (0.0, 0.0, 1.0), (21, 100): (0.0, 0.0, 1.0), (46, 100): (0.0, 0.0, 1.0), (100, 100): (1.0, 0.0, 1.0), (125, 100): (1.0, 0.0, 1.0), (158, 100): (1.0, 0.0, 1.0), (199, 100): (1.0, 0.0, 1.0), (251, 100): (2.0, 0.0, 1.0), (316, 100): (3.0, 0.0, 1.0), (398, 100): (9.0, 0.0, 1.0), (501, 100): (19.0, 0.0, 1.0), (630, 100): (16.0, 0.0, 0.0), (794, 100): (16.0, 0.0, 0.0), (1000, 100): (16.0, 0.0, 0.0), (0, 125): (0.0, 0.0, 1.0), (10, 125): (0.0, 0.0, 1.0), (21, 125): (0.0, 0.0, 1.0), (46, 125): (0.0, 0.0, 1.0), (100, 125): (1.0, 0.0, 1.0), (125, 125): (1.0, 0.0, 1.0), (158, 125): (1.0, 0.0, 1.0), (199, 125): (1.0, 0.0, 1.0), (251, 125): (2.0, 0.0, 1.0), (316, 125): (2.0, 0.0, 1.0), (398, 125): (5.0, 0.0, 1.0), (501, 125): (13.0, 0.0, 1.0), (630, 125): (26.0, 0.0, 1.0), (794, 125): (16.0, 0.0, 0.0), (1000, 125): (16.0, 0.0, 0.0), (0, 158): (0.0, 0.0, 1.0), (10, 158): (0.0, 0.0, 1.0), (21, 158): (0.0, 0.0, 1.0), (46, 158): (0.0, 0.0, 1.0), (100, 158): (0.0, 0.0, 1.0), (125, 158): (1.0, 0.0, 1.0), (158, 158): (1.0, 0.0, 1.0), (199, 158): (1.0, 0.0, 1.0), (251, 158): (1.0, 0.0, 1.0), (316, 158): (2.0, 0.0, 1.0), (398, 158): (3.0, 0.0, 1.0), (501, 158): (8.0, 0.0, 1.0), (630, 158): (17.0, 0.0, 1.0), (794, 158): (16.0, 0.0, 0.0), (1000, 158): (16.0, 0.0, 0.0), (0, 199): (0.0, 0.0, 1.0), (10, 199): (0.0, 0.0, 1.0), (21, 199): (0.0, 0.0, 1.0), (46, 199): (0.0, 0.0, 1.0), (100, 199): (0.0, 0.0, 1.0), (125, 199): (1.0, 0.0, 1.0), (158, 199): (1.0, 0.0, 1.0), (199, 199): (1.0, 0.0, 1.0), (251, 199): (1.0, 0.0, 1.0), (316, 199): (1.0, 0.0, 1.0), (398, 199): (2.0, 0.0, 1.0), (501, 199): (5.0, 0.0, 1.0), (630, 199): (11.0, 0.0, 1.0), (794, 199): (21.0, 0.0, 1.0), (1000, 199): (16.0, 0.0, 0.0), (0, 251): (0.0, 0.0, 1.0), (10, 251): (0.0, 0.0, 1.0), (21, 251): (0.0, 0.0, 1.0), (46, 251): (0.0, 0.0, 1.0), (100, 251): (0.0, 0.0, 1.0), (125, 251): (0.0, 0.0, 1.0), (158, 251): (1.0, 0.0, 1.0), (199, 251): (1.0, 0.0, 1.0), (251, 251): (1.0, 0.0, 1.0), (316, 251): (1.0, 0.0, 1.0), (398, 251): (1.0, 0.0, 1.0), (501, 251): (2.0, 0.0, 1.0), (630, 251): (5.0, 0.0, 1.0), (794, 251): (12.0, 0.0, 1.0), (1000, 251): (23.0, 0.0, 1.0), (0, 316): (0.0, 0.0, 1.0), (10, 316): (0.0, 0.0, 1.0), (21, 316): (0.0, 0.0, 1.0), (46, 316): (0.0, 0.0, 1.0), (100, 316): (0.0, 0.0, 1.0), (125, 316): (0.0, 0.0, 1.0), (158, 316): (0.0, 0.0, 1.0), (199, 316): (1.0, 0.0, 1.0), (251, 316): (1.0, 0.0, 1.0), (316, 316): (1.0, 0.0, 1.0), (398, 316): (1.0, 0.0, 1.0), (501, 316): (2.0, 0.0, 1.0), (630, 316): (2.0, 0.0, 1.0), (794, 316): (6.0, 0.0, 1.0), (1000, 316): (12.0, 0.0, 1.0), (0, 398): (0.0, 0.0, 1.0), (10, 398): (0.0, 0.0, 1.0), (21, 398): (0.0, 0.0, 1.0), (46, 398): (0.0, 0.0, 1.0), (100, 398): (0.0, 0.0, 1.0), (125, 398): (0.0, 0.0, 1.0), (158, 398): (0.0, 0.0, 1.0), (199, 398): (0.0, 0.0, 1.0), (251, 398): (1.0, 0.0, 1.0), (316, 398): (1.0, 0.0, 1.0), (398, 398): (1.0, 0.0, 1.0), (501, 398): (1.0, 0.0, 1.0), (630, 398): (2.0, 0.0, 1.0), (794, 398): (3.0, 0.0, 1.0), (1000, 398): (6.0, 0.0, 1.0), (0, 501): (0.0, 0.0, 1.0), (10, 501): (0.0, 0.0, 1.0), (21, 501): (0.0, 0.0, 1.0), (46, 501): (0.0, 0.0, 1.0), (100, 501): (0.0, 0.0, 1.0), (125, 501): (0.0, 0.0, 1.0), (158, 501): (0.0, 0.0, 1.0), (199, 501): (0.0, 0.0, 1.0), (251, 501): (0.0, 0.0, 1.0), (316, 501): (1.0, 0.0, 1.0), (398, 501): (1.0, 0.0, 1.0), (501, 501): (1.0, 0.0, 1.0), (630, 501): (1.0, 0.0, 1.0), (794, 501): (1.0, 0.0, 1.0), (1000, 501): (3.0, 0.0, 1.0), (0, 630): (0.0, 0.0, 1.0), (10, 630): (0.0, 0.0, 1.0), (21, 630): (0.0, 0.0, 1.0), (46, 630): (0.0, 0.0, 1.0), (100, 630): (0.0, 0.0, 1.0), (125, 630): (0.0, 0.0, 1.0), (158, 630): (0.0, 0.0, 1.0), (199, 630): (0.0, 0.0, 1.0), (251, 630): (0.0, 0.0, 1.0), (316, 630): (0.0, 0.0, 1.0), (398, 630): (1.0, 0.0, 1.0), (501, 630): (1.0, 0.0, 1.0), (630, 630): (1.0, 0.0, 1.0), (794, 630): (1.0, 0.0, 1.0), (1000, 630): (1.0, 0.0, 1.0), (0, 794): (0.0, 0.0, 1.0), (10, 794): (0.0, 0.0, 1.0), (21, 794): (0.0, 0.0, 1.0), (46, 794): (0.0, 0.0, 1.0), (100, 794): (0.0, 0.0, 1.0), (125, 794): (0.0, 0.0, 1.0), (158, 794): (0.0, 0.0, 1.0), (199, 794): (0.0, 0.0, 1.0), (251, 794): (0.0, 0.0, 1.0), (316, 794): (0.0, 0.0, 1.0), (398, 794): (0.0, 0.0, 1.0), (501, 794): (1.0, 0.0, 1.0), (630, 794): (1.0, 0.0, 1.0), (794, 794): (1.0, 0.0, 1.0), (1000, 794): (1.0, 0.0, 1.0), (0, 1000): (0.0, 0.0, 1.0), (10, 1000): (0.0, 0.0, 1.0), (21, 1000): (0.0, 0.0, 1.0), (46, 1000): (0.0, 0.0, 1.0), (100, 1000): (0.0, 0.0, 1.0), (125, 1000): (0.0, 0.0, 1.0), (158, 1000): (0.0, 0.0, 1.0), (199, 1000): (0.0, 0.0, 1.0), (251, 1000): (0.0, 0.0, 1.0), (316, 1000): (0.0, 0.0, 1.0), (398, 1000): (0.0, 0.0, 1.0), (501, 1000): (0.0, 0.0, 1.0), (630, 1000): (1.0, 0.0, 1.0), (794, 1000): (1.0, 0.0, 1.0), (1000, 1000): (1.0, 0.0, 1.0)}}\n",
      "05-07 15:02:10 balanced input vis [vis.py    :  25] INFO     \t weights = (1, 1)\n",
      "05-07 15:02:11 balanced input vis [vis.py    :  71] INFO     \t ('exc', 'inh'), ('spike', 'stddev')\n",
      "05-07 15:02:11 balanced input vis [vis.py    :  77] INFO     \t (251, 10), (5.0, 0.0, 1.0)\n",
      "05-07 15:02:11 balanced input vis [vis.py    :  77] INFO     \t (398, 125), (5.0, 0.0, 1.0)\n",
      "05-07 15:02:11 balanced input vis [vis.py    :  77] INFO     \t (501, 199), (5.0, 0.0, 1.0)\n",
      "05-07 15:02:11 balanced input vis [vis.py    :  77] INFO     \t (630, 251), (5.0, 0.0, 1.0)\n",
      "05-07 15:02:11 balanced input vis [vis.py    :  81] INFO     \t [('offset:', 0.0), ('excitation', 251), ('inhibition', 10)]\n",
      "05-07 15:02:11 balanced input vis [vis.py    :  84] INFO     \t (199,0) = 1.0\n",
      "05-07 15:02:11 balanced input vis [vis.py    :  84] INFO     \t (251,10) = 0.0\n",
      "05-07 15:02:11 balanced input vis [vis.py    :  84] INFO     \t (251,21) = 1.0\n",
      "05-07 15:02:11 balanced input vis [vis.py    :  84] INFO     \t (251,46) = 2.0\n",
      "05-07 15:02:11 balanced input vis [vis.py    :  84] INFO     \t (316,100) = 2.0\n",
      "05-07 15:02:11 balanced input vis [vis.py    :  84] INFO     \t (398,125) = 0.0\n",
      "05-07 15:02:11 balanced input vis [vis.py    :  84] INFO     \t (398,158) = 2.0\n",
      "05-07 15:02:11 balanced input vis [vis.py    :  84] INFO     \t (501,199) = 0.0\n",
      "05-07 15:02:11 balanced input vis [vis.py    :  84] INFO     \t (630,251) = 0.0\n",
      "05-07 15:02:11 balanced input vis [vis.py    :  84] INFO     \t (794,316) = 1.0\n",
      "05-07 15:02:11 balanced input vis [vis.py    :  84] INFO     \t (1000,398) = 1.0\n",
      "05-07 15:02:11 balanced input vis [vis.py    :  84] INFO     \t (1000,501) = 2.0\n",
      "05-07 15:02:11 balanced input vis [vis.py    :  84] INFO     \t (398,630) = 4.0\n",
      "05-07 15:02:11 balanced input vis [vis.py    :  84] INFO     \t (501,794) = 4.0\n",
      "05-07 15:02:11 balanced input vis [vis.py    :  84] INFO     \t (630,1000) = 4.0\n"
     ]
    },
    {
     "data": {
      "image/png": "[encoded data removed]",
      "text/plain": [
       "<Figure size 1600x700 with 4 Axes>"
      ]
     },
     "metadata": {
      "needs_background": "light"
     },
     "output_type": "display_data"
    },
    {
     "data": {
      "image/png": "[encoded data removed]",
      "text/plain": [
       "<Figure size 1600x700 with 4 Axes>"
      ]
     },
     "metadata": {
      "needs_background": "light"
     },
     "output_type": "display_data"
    }
   ],
   "source": [
    "run_analysis(result_files)"
   ]
  },
  {
   "cell_type": "markdown",
   "metadata": {},
   "source": [
    "![](results_balanced_heatmap/distal_KCC2_detail.png)\n",
    "![](results_balanced_heatmap/proximal_KCC2_detail.png)"
   ]
  },
  {
   "cell_type": "markdown",
   "metadata": {},
   "source": [
    "## Heatmaps for $[Cl^-]_i$ at different input frequencies (Figure 2C, 2F)"
   ]
  },
  {
   "cell_type": "code",
   "execution_count": null,
   "metadata": {},
   "outputs": [],
   "source": [
    "figure_cli_heatmaps(distal, proximal, show_fr=True, savefig=True)\n",
    ";"
   ]
  },
  {
   "cell_type": "markdown",
   "metadata": {},
   "source": []
  },
  {
   "cell_type": "markdown",
   "metadata": {},
   "source": [
    "### Voltage traces for 5 Hz balanced input (Dynamic $Cl^-$)"
   ]
  },
  {
   "cell_type": "code",
   "execution_count": null,
   "metadata": {},
   "outputs": [],
   "source": [
    "figure_v_traces(inh_region=\"distal\", synapse_numbers=distal, \n",
    "                hz={'in': 5, 'ex': 5}, show_cli=True)\n",
    "figure_v_traces(inh_region=\"proximal\", synapse_numbers=proximal, \n",
    "                hz={'in': 5, 'ex': 5}, show_cli=True)"
   ]
  },
  {
   "cell_type": "code",
   "execution_count": null,
   "metadata": {},
   "outputs": [],
   "source": []
  },
  {
   "cell_type": "markdown",
   "metadata": {},
   "source": [
    "# Figure 3 "
   ]
  },
  {
   "cell_type": "markdown",
   "metadata": {},
   "source": [
    "## Figure 3 voltage traces"
   ]
  },
  {
   "cell_type": "markdown",
   "metadata": {},
   "source": [
    "### Voltage traces for 20 Hz balanced input (Dynamic $Cl^-$)"
   ]
  },
  {
   "cell_type": "code",
   "execution_count": null,
   "metadata": {},
   "outputs": [],
   "source": [
    "# 20 Hz balanced input\n",
    "figure_v_traces(inh_region=\"distal\", synapse_numbers=distal_balanced_synapses,\n",
    "                hz={'in': 20, 'ex': 20}, show_cli=True)\n",
    "figure_v_traces(inh_region=\"proximal\", synapse_numbers=proximal_balanced_synapses,\n",
    "                hz={'in': 20, 'ex': 20}, show_cli=True)"
   ]
  },
  {
   "cell_type": "markdown",
   "metadata": {},
   "source": [
    "### Voltage traces for 20 Hz balanced input (Static $Cl^-$)"
   ]
  },
  {
   "cell_type": "code",
   "execution_count": null,
   "metadata": {},
   "outputs": [],
   "source": [
    "# examples for static chloride\n",
    "figure_v_traces(inh_region=\"distal\", KCC2=False, synapse_numbers=distal_balanced_synapses,\n",
    "                hz={'in': 20, 'ex': 20})\n",
    "figure_v_traces(inh_region=\"proximal\", KCC2=False, synapse_numbers=proximal_balanced_synapses,\n",
    "                hz={'in': 20, 'ex': 20})"
   ]
  },
  {
   "cell_type": "markdown",
   "metadata": {},
   "source": [
    "# Figure 5"
   ]
  },
  {
   "cell_type": "code",
   "execution_count": null,
   "metadata": {},
   "outputs": [],
   "source": [
    "ifr_windowsize = 0.02  # in seconds\n",
    "time_points = [int(ifr_windowsize*1000), 100, 500, 1000, 10000]\n",
    "save_formats = ['png', 'eps']\n",
    "common_args = dict(file_name=\"distal\",\n",
    "                   plot=False,\n",
    "                   ifr_windowsize=ifr_windowsize,\n",
    "                   synapse_type=1,  # 1 for persistent\n",
    "                   synapse_numbers=(100, 100),\n",
    "                   diam={'ldend': 1},\n",
    "                   trials=1,\n",
    "                   save=True)\n",
    "static_runs, kcc2_runs = run_dynamic(0, 20, 0, 20, mid='half', fr_diff=10, **common_args)\n",
    "static_runs_keys = static_runs.keys()\n",
    "static_runs_keys = []\n",
    "for static_name in static_runs_keys:\n",
    "    file_name = \"{save_location}traces_{result_name}.{format}\".format(save_location=save_location,\n",
    "                                                                      result_name=static_name, format=\"eps\")\n",
    "    if os.path.exists(file_name):\n",
    "        continue\n",
    "    static_run = static_runs[static_name]\n",
    "    underscore = static_name.find(\"_\")\n",
    "    kcc2_run = kcc2_runs[static_name[:underscore] + \"_KCC2\" + static_name[underscore:]]\n",
    "    f, axes = plot_compare_dcl(static_name, (static_run, kcc2_run),\n",
    "                               ifr_windowsize=ifr_windowsize, combine=False, time_points=time_points)\n",
    "    f.savefig(file_name)\n",
    "\n",
    "f, axes = io_curve([static_runs, kcc2_runs], ifr_windowsize=ifr_windowsize, combine=True, heatmap=True, fill=True,\n",
    "                   time_points=time_points, show_cli=True,\n",
    "                   save_args=dict(fig_name=\"dynamic\", formats=save_formats))"
   ]
  },
  {
   "cell_type": "markdown",
   "metadata": {},
   "source": [
    "## Figure 5 voltage trace\n",
    "- distal inhibition\n",
    "- persistent synapses (synapse type 1)"
   ]
  },
  {
   "cell_type": "code",
   "execution_count": null,
   "metadata": {},
   "outputs": [],
   "source": [
    "# trace for fig 5 heatmap\n",
    "vm, cli = figure_v_traces(inh_region=\"distal\", KCC2=True, show_cli=True, synapse_type=1,\n",
    "                          synapse_numbers=[(100, 100)]*10, hz={'in': 4, 'ex': 12},\n",
    "                          mean=False)\n"
   ]
  },
  {
   "cell_type": "markdown",
   "metadata": {},
   "source": [
    "# Figure 3, 4, & 6 were done as follows:\n",
    "1. run `python protocols.py <argument> <protocol>...`\n",
    "    \n",
    "    where `<argument>` is one of\n",
    "    - `balanced` **for Figure 3**\n",
    "    \n",
    "    - `synapses` **for Figure 4**\n",
    "    \n",
    "    - `persistence` **for Figure 6A** \n",
    "        \n",
    "        if `<protocol>` is provided, it can be any of\n",
    "        - `pkcc2_homo` - **Figure 6D**\n",
    "        - `duration` - **Figure 6D**\n",
    "        - `dynamic_K` - **Figure 6D**\n",
    "        - `pas` - **Figure 6D**\n",
    "        - `diam`    - **Figure 6C**\n",
    "        - `pkcc2`   - **Figure 6B**\n",
    "        - `pcl` - *from earlier version - untested*\n",
    "        - `cli` - *from earlier version - untested*\n",
    "        \n",
    "    \n",
    "1. analysis using `ioAnalysis.m` (sorry)\n",
    "    \n",
    "    see `ioAnalysis` function for more details\n",
    "    \n",
    "**Figure 3A & B** input-output curves can also be plotted using python with the `balanced_iocurves.py` file"
   ]
  },
  {
   "cell_type": "code",
   "execution_count": null,
   "metadata": {},
   "outputs": [],
   "source": []
  }
 ],
 "metadata": {
  "kernelspec": {
   "display_name": "chloride-dynamics-io-neuron",
   "language": "python",
   "name": "chloride-dynamics-io-neuron"
  },
  "language_info": {
   "codemirror_mode": {
    "name": "ipython",
    "version": 3
   },
   "file_extension": ".py",
   "mimetype": "text/x-python",
   "name": "python",
   "nbconvert_exporter": "python",
   "pygments_lexer": "ipython3",
   "version": "3.6.10"
  }
 },
 "nbformat": 4,
 "nbformat_minor": 2
}
